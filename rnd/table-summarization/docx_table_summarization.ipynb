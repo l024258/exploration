{
 "cells": [
  {
   "cell_type": "code",
   "execution_count": null,
   "id": "b4eddd56",
   "metadata": {
    "tags": []
   },
   "outputs": [],
   "source": [
    "%%capture\n",
    "!pip install python-docx beautifulsoup4"
   ]
  },
  {
   "cell_type": "code",
   "execution_count": 1,
   "id": "85018efc",
   "metadata": {
    "tags": []
   },
   "outputs": [],
   "source": [
    "import json"
   ]
  },
  {
   "cell_type": "code",
   "execution_count": 3,
   "id": "e2629c8a",
   "metadata": {},
   "outputs": [],
   "source": [
    "os.environ[\"AZURE_OPENAI_API_KEY\"] = config('OPENAI_API_KEY')\n",
    "os.environ[\"AZURE_OPENAI_ENDPOINT\"] = config('AZURE_ENDPOINT')"
   ]
  },
  {
   "cell_type": "code",
   "execution_count": 4,
   "id": "0360338d",
   "metadata": {},
   "outputs": [],
   "source": [
    "from openai import AzureOpenAI\n",
    "client = AzureOpenAI(\n",
    "    api_version=config('AZURE_CHAT_OPENAI_API_VERSION'),\n",
    ")"
   ]
  },
  {
   "cell_type": "code",
   "execution_count": null,
   "id": "f1f7aabd-9d01-45b3-aa01-7b9f349cb13e",
   "metadata": {
    "tags": []
   },
   "outputs": [],
   "source": [
    "## Alternate Approach\n",
    "import webcolors\n",
    "\n",
    "def closest_colour(requested_colour):\n",
    "    min_colours = {}\n",
    "    for key, name in webcolors.CSS3_HEX_TO_NAMES.items():\n",
    "        r_c, g_c, b_c = webcolors.hex_to_rgb(key)\n",
    "        rd = (r_c - requested_colour[0]) ** 2\n",
    "        gd = (g_c - requested_colour[1]) ** 2\n",
    "        bd = (b_c - requested_colour[2]) ** 2\n",
    "        min_colours[(rd + gd + bd)] = name\n",
    "    return min_colours[min(min_colours.keys())]\n",
    "\n",
    "def get_colour_name(requested_colour):\n",
    "    requested_colour = webcolors.hex_to_rgb(\"#\"+requested_colour)\n",
    "    try:\n",
    "        closest_name = actual_name = webcolors.rgb_to_name(requested_colour)\n",
    "    except ValueError:\n",
    "        closest_name = closest_colour(requested_colour)\n",
    "        actual_name = None\n",
    "    if actual_name:\n",
    "        return actual_name\n",
    "    else:\n",
    "        return closest_name\n",
    "\n",
    "colour_name = get_colour_name(\"EEEEEE\")\n",
    "\n",
    "print(\"Colour name:\", colour_name)"
   ]
  },
  {
   "cell_type": "code",
   "execution_count": 5,
   "id": "681c32e4-4b72-4b1e-ac2b-2d3016e1d2c2",
   "metadata": {
    "tags": []
   },
   "outputs": [],
   "source": [
    "from docx import Document\n",
    "import webcolors\n",
    "from docx.oxml.ns import qn\n",
    "\n",
    "def closest_color(hex_color):\n",
    "    \"\"\" Function to find the closest color name for a given hex color \"\"\"\n",
    "    hex_color = '#'+hex_color\n",
    "    try:\n",
    "        color_name = webcolors.hex_to_name(hex_color)\n",
    "    except ValueError:\n",
    "        try:\n",
    "            closest_hex = webcolors.hex_to_rgb(hex_color)\n",
    "            color_name = webcolors.rgb_to_name(closest_hex)\n",
    "        except ValueError:\n",
    "            color_name = hex_color  # If no close match is found, return the hex color\n",
    "    return color_name\n",
    "\n",
    "def get_cell_color(cell):\n",
    "    \"\"\" Function to extract the color information of a specified cell \"\"\"\n",
    "    shading = cell._element.xpath('.//w:shd')\n",
    "    return shading[0].get(qn('w:fill')) if shading else None\n",
    "\n",
    "def read_docx(file_path):\n",
    "    doc = Document(file_path)\n",
    "    text = ''\n",
    "    tables = []\n",
    "    for para in doc.paragraphs:\n",
    "        text += ' ' + para.text\n",
    "\n",
    "    for table in doc.tables:\n",
    "        table_text = ''\n",
    "        for row in table.rows:\n",
    "            for cell in row.cells:\n",
    "                hex_color = get_cell_color(cell)\n",
    "                color_name = closest_color(hex_color) if hex_color else \"\"\n",
    "                if color_name == 'white':\n",
    "                    table_text += ' | ' + cell.text.replace('\\n', ' ')\n",
    "                else:\n",
    "                    table_text += ' | ' + cell.text.replace('\\n', ' ') + ' {'+color_name+'} '\n",
    "            table_text += '|\\n'\n",
    "        tables.append(table_text)\n",
    "    return text, tables"
   ]
  },
  {
   "cell_type": "code",
   "execution_count": 6,
   "id": "3ae45dd7-4e41-4664-bc54-79648a286ccf",
   "metadata": {
    "tags": []
   },
   "outputs": [],
   "source": [
    "file_path = './new_data/NLP_ORs_example_results_1.0.docx'"
   ]
  },
  {
   "cell_type": "code",
   "execution_count": 7,
   "id": "7aa898ee-aadb-406a-8e44-d44660829605",
   "metadata": {
    "tags": []
   },
   "outputs": [],
   "source": [
    "_, tables = read_docx(file_path)"
   ]
  },
  {
   "cell_type": "code",
   "execution_count": 8,
   "id": "5a3fe15b-1962-4ce1-a27e-56a74a3507a8",
   "metadata": {
    "tags": []
   },
   "outputs": [
    {
     "name": "stdout",
     "output_type": "stream",
     "text": [
      " | Treatment {#EEEEEE}  | Median {#EEEEEE}  | 95% CrI lower limit {#EEEEEE}  | 95% CrI upper limit {#EEEEEE} |\n",
      " | Placebo  | \t0.09526 | \t0.03717 | \t0.22097|\n",
      " | Lasmiditan_100_Oral  | \t0.22197 | \t0.09079 | \t0.44483|\n",
      " | Lasmiditan_200_Oral  | \t0.27306 | \t0.11644 | \t0.51285|\n",
      " | Sumatriptan_50_Oral  | \t0.24744 | \t0.10570 | \t0.47468|\n",
      " | Sumatriptan_100_Oral  | \t0.28356 | \t0.12522 | \t0.51939|\n",
      " | Rizatriptan_10_Oral  | \t0.37855 | \t0.17904 | \t0.62595|\n",
      " | Eletriptan_40_Oral  | \t0.34408 | \t0.15942 | \t0.58879|\n",
      " | Eletriptan_80_Oral  | \t0.40424 | \t0.19605 | \t0.65059|\n",
      " | Acetaminophen_1000_Oral  | \t0.17631 | \t0.06866 | \t0.38223|\n",
      " | Aspirin_1000_Oral  | \t0.22621 | \t0.09267 | \t0.45219|\n",
      " | Ibuprofen_400_Oral  | \t0.19699 | \t0.07705 | \t0.41654|\n",
      "\n",
      "The table summarises the treatment, median, and 95% credible interval (CrI) lower and upper limits for various oral medications used in the clinical study. The cell color in HEX code {#EEEEEE} indicates that the cells are not significant and do not require any further attention.\n",
      "\n",
      "Looking at the table, it can be observed that the median values for the medications vary, with the highest median value of 0.40424 seen for Eletriptan_80_Oral and the lowest median value of 0.09526 seen for Placebo. The 95% CrI lower and upper limits also vary across the medications, with the widest interval seen for Rizatriptan_10_Oral (0.17904 to 0.62595) and the narrowest interval seen for Acetaminophen_1000_Oral (0.06866 to 0.38223).\n",
      "\n",
      "There are no significant findings based on the cell color in this table.\n",
      " | Column vs. Row {#EEEEEE}  | Placebo {#EEEEEE}  | Lasmiditan_100_Oral {#EEEEEE}  | Lasmiditan_200_Oral {#EEEEEE} |\n",
      " | Placebo  |  | 2.71 (2.00, 3.63) {#C5E0B3}  | 3.57 (2.65, 4.76) {#C5E0B3} |\n",
      " | Lasmiditan_100_Oral  | 0.37 (0.28, 0.50) {#C5E0B3}  |  | 1.32 (0.96, 1.81)|\n",
      " | Lasmiditan_200_Oral | 0.28 (0.21, 0.38) {#C5E0B3}  | 0.76 (0.55, 1.04) | |\n",
      " | Sumatriptan_50_Oral  | 0.32 (0.26, 0.39) {#FCA8A8}  | 0.86 (0.60, 1.25) | 1.14 (0.79, 1.64)|\n",
      " | Sumatriptan_100_Oral  | 0.27 (0.23, 0.31) {#FCA8A8}  | 0.72 (0.51, 1.01) | 0.95 (0.68, 1.33)|\n",
      " | Rizatriptan_10_Oral  | 0.17 (0.14, 0.21) {#FCA8A8}  | 0.47 (0.33, 0.66) {#FCA8A8}  | 0.62 (0.43, 0.88) {#FCA8A8} |\n",
      " | Eletriptan_40_Oral  | 0.20 (0.17, 0.24) {#FCA8A8}  | 0.54 (0.39, 0.76) {#FCA8A8}  | 0.72 (0.51, 1.01)|\n",
      " | Eletriptan_80_Oral  | 0.16 (0.13, 0.19) {#FCA8A8}  | 0.42 (0.29, 0.60) {#FCA8A8}  | 0.55 (0.39, 0.80) {#FCA8A8} |\n",
      " | Acetaminophen_1000_Oral  | 0.49 (0.34, 0.72) {#FCA8A8}  | 1.33 (0.82, 2.14) | 1.76 (1.08, 2.82) {#C5E0B3} |\n",
      " | Aspirin_1000_Oral  | 0.36 (0.26, 0.49) {#FCA8A8}  | 0.97 (0.63, 1.50) | 1.28 (0.83, 1.97)|\n",
      " | Ibuprofen_400_Oral  | 0.43 (0.29, 0.64) {#FCA8A8}  | 1.16 (0.71, 1.91) | 1.53 (0.93, 2.51)|\n",
      "\n",
      "The table summarises the results of a clinical study comparing the efficacy of different oral medications for the treatment of acute migraine attacks. The rows represent the different medications being tested, while the columns represent the different treatment groups (placebo, lasmiditan_100_oral, lasmiditan_200_oral, and various other oral medications).\n",
      "\n",
      "The cells in the table contain two types of information: the mean change in headache severity from baseline (expressed as odds ratios with 95% confidence intervals in parentheses), and the corresponding cell color in HEX code. The color coding is used to highlight statistically significant differences in efficacy between treatment groups, with the shade of green (#C5E0B3) indicating superiority of lasmiditan_100_oral or lasmiditan_200_oral over placebo, and the shade of red (#FCA8A8) indicating inferiority of the other oral medications compared to placebo.\n",
      "\n",
      "The results show that both doses of lasmiditan_oral (100 and 200 mg) were significantly more effective than placebo in reducing headache severity. Among the other oral medications tested, only acetaminophen_1000_oral showed superiority over placebo, but only at the highest dose (1.76 odds ratio). The remaining oral medications (sumatriptan_50_oral, sumatriptan_100_oral, rizatriptan_10_oral, eletriptan_40_oral, eletriptan_80_oral, aspirin_1000_oral, and ibuprofen_400_oral) were not significantly different from placebo in terms of efficacy.\n"
     ]
    }
   ],
   "source": [
    "for table in tables:\n",
    "    print(table)\n",
    "    response = client.chat.completions.create(\n",
    "        model=deployment_name,\n",
    "        max_tokens = 1024,\n",
    "        n=1,\n",
    "        stop=None,\n",
    "        temperature = 0.5,\n",
    "        top_p = 1,\n",
    "        messages=[\n",
    "            {\"role\": \"system\", \"content\": \" You are an assistant and your job is to summarise and give insights from tables with cell color (in HEX) inside {} in clinical study reports.\\\n",
    "             Insructions:\\\n",
    "             - Only answer questions related to the table.\\\n",
    "             - If you are unsure about an answer, do not make false assumptions.\\\n",
    "             - Give a row-wise explanation in table in paragraphs.\\\n",
    "             - Decode color name from HEX value and use color name insted of the HEX value in the explanation.\\\n",
    "             - Give additional insights based on colored cells. \\\n",
    "             - Do not give overall inference\"},\n",
    "            {\"role\": \"user\", \"content\": 'Here is the table:'+table+'Also start the answer as the table summarises...'}\n",
    "\n",
    "        ]\n",
    "    )\n",
    "    print(response.choices[0].message.content, '\\n')\n",
    "    # print(response['choices'][0]['message']['content'], '\\n')"
   ]
  },
  {
   "cell_type": "code",
   "execution_count": 10,
   "id": "e8b9a33f-c985-4c0a-a185-72139c1d7fc5",
   "metadata": {
    "tags": []
   },
   "outputs": [],
   "source": [
    "captions = [\n",
    "    \"Median event rate with 95% CrI – Pain free at 2 hours (random effects model adjusted for baseline risk).\\n\",\n",
    "    \"Relative Treatment Effect of Pairwise Comparisons Expressed as Posterior Median ORs (with 95 % Credible Intervals) - Pain free at 2 hours (random effects model adjusted for baseline risk).\\n\"\n",
    "]\n",
    "\n",
    "after_txt = [\n",
    "    \"CrI: Credible interval. The results presented in this table are a subset of the NMA performed with the full list of treatments.\\n\",\n",
    "    \"The results presented in this table are a subset of the NMA performed with the full list of treatments.\\n\"\n",
    "]"
   ]
  },
  {
   "cell_type": "code",
   "execution_count": 13,
   "id": "6d7ce0f4-ec3e-4d12-bba4-280c1ca40da5",
   "metadata": {
    "tags": []
   },
   "outputs": [
    {
     "name": "stdout",
     "output_type": "stream",
     "text": [
      "Median event rate with 95% CrI – Pain free at 2 hours (random effects model adjusted for baseline risk).\n",
      " | Treatment {#EEEEEE}  | Median {#EEEEEE}  | 95% CrI lower limit {#EEEEEE}  | 95% CrI upper limit {#EEEEEE} |\n",
      " | Placebo  | \t0.09526 | \t0.03717 | \t0.22097|\n",
      " | Lasmiditan_100_Oral  | \t0.22197 | \t0.09079 | \t0.44483|\n",
      " | Lasmiditan_200_Oral  | \t0.27306 | \t0.11644 | \t0.51285|\n",
      " | Sumatriptan_50_Oral  | \t0.24744 | \t0.10570 | \t0.47468|\n",
      " | Sumatriptan_100_Oral  | \t0.28356 | \t0.12522 | \t0.51939|\n",
      " | Rizatriptan_10_Oral  | \t0.37855 | \t0.17904 | \t0.62595|\n",
      " | Eletriptan_40_Oral  | \t0.34408 | \t0.15942 | \t0.58879|\n",
      " | Eletriptan_80_Oral  | \t0.40424 | \t0.19605 | \t0.65059|\n",
      " | Acetaminophen_1000_Oral  | \t0.17631 | \t0.06866 | \t0.38223|\n",
      " | Aspirin_1000_Oral  | \t0.22621 | \t0.09267 | \t0.45219|\n",
      " | Ibuprofen_400_Oral  | \t0.19699 | \t0.07705 | \t0.41654|\n",
      "CrI: Credible interval. The results presented in this table are a subset of the NMA performed with the full list of treatments.\n",
      "\n",
      "The table summarises the treatment, median, and 95% credible interval (CrI) lower and upper limits for various oral medications used in the clinical study. The cell color {#EEEEEE} indicates that the background color of all cells in the table is light grey.\n",
      "\n",
      "The first column of the table lists the different treatments, including Placebo, Lasmiditan_100_Oral, Lasmiditan_200_Oral, Sumatriptan_50_Oral, Sumatriptan_100_Oral, Rizatriptan_10_Oral, Eletriptan_40_Oral, Eletriptan_80_Oral, Acetaminophen_1000_Oral, Aspirin_1000_Oral, and Ibuprofen_400_Oral.\n",
      "\n",
      "The second column displays the median values for each treatment. The median values range from 0.09526 for Placebo to 0.40424 for Eletriptan_80_Oral.\n",
      "\n",
      "The third column shows the lower limit of the 95% CrI for each treatment. The 95% CrI lower limits range from 0.03717 for Placebo to 0.19605 for Eletriptan_80_Oral.\n",
      "\n",
      "The fourth column displays the upper limit of the 95% CrI for each treatment. The 95% CrI upper limits range from 0.22097 for Placebo to 0.65059 for Eletriptan_80_Oral.\n",
      "\n",
      "Overall, the table provides information on the median and 95% CrI for various oral medications used in the clinical study. The color {#EEEEEE} is used to highlight all cells in the table. \n",
      "\n",
      "Relative Treatment Effect of Pairwise Comparisons Expressed as Posterior Median ORs (with 95 % Credible Intervals) - Pain free at 2 hours (random effects model adjusted for baseline risk).\n",
      " | Column vs. Row {#EEEEEE}  | Placebo {#EEEEEE}  | Lasmiditan_100_Oral {#EEEEEE}  | Lasmiditan_200_Oral {#EEEEEE} |\n",
      " | Placebo  |  | 2.71 (2.00, 3.63) {#C5E0B3}  | 3.57 (2.65, 4.76) {#C5E0B3} |\n",
      " | Lasmiditan_100_Oral  | 0.37 (0.28, 0.50) {#C5E0B3}  |  | 1.32 (0.96, 1.81)|\n",
      " | Lasmiditan_200_Oral | 0.28 (0.21, 0.38) {#C5E0B3}  | 0.76 (0.55, 1.04) | |\n",
      " | Sumatriptan_50_Oral  | 0.32 (0.26, 0.39) {#FCA8A8}  | 0.86 (0.60, 1.25) | 1.14 (0.79, 1.64)|\n",
      " | Sumatriptan_100_Oral  | 0.27 (0.23, 0.31) {#FCA8A8}  | 0.72 (0.51, 1.01) | 0.95 (0.68, 1.33)|\n",
      " | Rizatriptan_10_Oral  | 0.17 (0.14, 0.21) {#FCA8A8}  | 0.47 (0.33, 0.66) {#FCA8A8}  | 0.62 (0.43, 0.88) {#FCA8A8} |\n",
      " | Eletriptan_40_Oral  | 0.20 (0.17, 0.24) {#FCA8A8}  | 0.54 (0.39, 0.76) {#FCA8A8}  | 0.72 (0.51, 1.01)|\n",
      " | Eletriptan_80_Oral  | 0.16 (0.13, 0.19) {#FCA8A8}  | 0.42 (0.29, 0.60) {#FCA8A8}  | 0.55 (0.39, 0.80) {#FCA8A8} |\n",
      " | Acetaminophen_1000_Oral  | 0.49 (0.34, 0.72) {#FCA8A8}  | 1.33 (0.82, 2.14) | 1.76 (1.08, 2.82) {#C5E0B3} |\n",
      " | Aspirin_1000_Oral  | 0.36 (0.26, 0.49) {#FCA8A8}  | 0.97 (0.63, 1.50) | 1.28 (0.83, 1.97)|\n",
      " | Ibuprofen_400_Oral  | 0.43 (0.29, 0.64) {#FCA8A8}  | 1.16 (0.71, 1.91) | 1.53 (0.93, 2.51)|\n",
      "The results presented in this table are a subset of the NMA performed with the full list of treatments.\n",
      "\n",
      "The table summarises the results of a clinical study comparing the efficacy of different oral medications in treating migraines. The rows represent the different medications, while the columns represent the different dosages. The cells in the table contain the estimated treatment effect compared to placebo, expressed as odds ratios and their corresponding 95% confidence intervals. The color {#C5E0B3} is used to represent odds ratios that are statistically significant, while {#FCA8A8} is used for those that are not statistically significant. \n",
      "\n",
      "The results show that both dosages of Lasmiditan_Oral were significantly more effective than placebo in treating migraines, with odds ratios of 2.71 and 3.57 for the 100mg and 200mg dosages, respectively. Sumatriptan_50_Oral, Sumatriptan_100_Oral, Rizatriptan_10_Oral, Eletriptan_40_Oral, Eletriptan_80_Oral, Acetaminophen_1000_Oral, Aspirin_1000_Oral, and Ibuprofen_400_Oral were also tested, but only Eletriptan_40_Oral and Acetaminophen_1000_Oral showed a significant effect compared to placebo. \n",
      "\n",
      "Notably, all medications showed a lower odds ratio compared to placebo in the higher dosage groups, except for Acetaminophen_1000_Oral, which showed a higher odds ratio in the 200mg dosage group. \n",
      "\n"
     ]
    }
   ],
   "source": [
    "for caption, table, txt in zip(captions, tables, after_txt):\n",
    "    print(caption+table+txt)\n",
    "    response = client.chat.completions.create(\n",
    "        model=deployment_name,\n",
    "        max_tokens = 1024,\n",
    "        n=1,\n",
    "        stop=None,\n",
    "        temperature = 0.5,\n",
    "        top_p = 1,\n",
    "        messages=[\n",
    "            {\"role\": \"system\", \"content\": \" You are an assistant and your job is to summarise and give insights from tables with cell color (in HEX) inside {} in clinical study reports.\\\n",
    "             Insructions:\\\n",
    "             - Only answer questions related to the table.\\\n",
    "             - If you are unsure about an answer, do not make false assumptions.\\\n",
    "             - Give a row-wise explanation in table in paragraphs.\\\n",
    "             - Decode color name from HEX value. Use use color name insted of the HEX value in the explanation.\\\n",
    "             - Give explanation based on colored cells.\\\n",
    "             - Do not give overall inference\"},\n",
    "            {\"role\": \"user\", \"content\": 'Here is the table:'+table+'Also start the answer as the table summarises...'}\n",
    "\n",
    "        ]\n",
    "    )\n",
    "    print(response.choices[0].message.content, '\\n')"
   ]
  },
  {
   "cell_type": "code",
   "execution_count": null,
   "id": "35b2fb77-d03f-4b75-b2b2-2f28d4bcbd93",
   "metadata": {},
   "outputs": [],
   "source": []
  }
 ],
 "metadata": {
  "kernelspec": {
   "display_name": "env",
   "language": "python",
   "name": "python3"
  },
  "language_info": {
   "codemirror_mode": {
    "name": "ipython",
    "version": 3
   },
   "file_extension": ".py",
   "mimetype": "text/x-python",
   "name": "python",
   "nbconvert_exporter": "python",
   "pygments_lexer": "ipython3",
   "version": "3.8.10"
  }
 },
 "nbformat": 4,
 "nbformat_minor": 5
}
