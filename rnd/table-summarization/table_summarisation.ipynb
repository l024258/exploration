{
 "cells": [
  {
   "cell_type": "code",
   "execution_count": null,
   "id": "21da3c05",
   "metadata": {
    "tags": []
   },
   "outputs": [],
   "source": [
    "import openai\n",
    "import htmlparser as HtmlParser\n",
    "import pandas as pd"
   ]
  },
  {
   "cell_type": "code",
   "execution_count": null,
   "id": "4bf961c7",
   "metadata": {
    "tags": []
   },
   "outputs": [],
   "source": [
    "os.environ[\"AZURE_OPENAI_API_KEY\"] = config('OPENAI_API_KEY')\n",
    "os.environ[\"AZURE_OPENAI_ENDPOINT\"] = config('AZURE_ENDPOINT')"
   ]
  },
  {
   "cell_type": "markdown",
   "id": "20dfff70-85bb-421b-9ace-f1da8203c3df",
   "metadata": {},
   "source": [
    "### Sample HTML table Parsing "
   ]
  },
  {
   "cell_type": "code",
   "execution_count": null,
   "id": "c7d4789d",
   "metadata": {
    "tags": []
   },
   "outputs": [],
   "source": [
    "#f = 'smlaba40_bydose_PooledTZP_SFU.html'\n",
    "f = 'rmbmi_bydose_pooledTZP.html'\n",
    "parser =  HtmlParser.Htmlparser(path='data', filename=f)\n",
    "df= parser.getDataFrame()\n",
    "#df = pd.read_csv('data/mounjaro_clinical_trials_sample.csv',header=[0,1])"
   ]
  },
  {
   "cell_type": "code",
   "execution_count": null,
   "id": "25dfca88",
   "metadata": {
    "tags": []
   },
   "outputs": [],
   "source": [
    "df"
   ]
  },
  {
   "cell_type": "markdown",
   "id": "2cded97e-2443-4442-a223-63b855a811d2",
   "metadata": {},
   "source": [
    "### Request and Prompts for generating the summary "
   ]
  },
  {
   "cell_type": "code",
   "execution_count": null,
   "id": "e4c75ff2",
   "metadata": {
    "tags": []
   },
   "outputs": [],
   "source": [
    "response = openai.ChatCompletion.create(\n",
    "    engine=\"gpt-35-turbo\", # engine = \"deployment_name\".\n",
    "    max_tokens = 1024,\n",
    "    n=1,\n",
    "    stop=None,\n",
    "    temperature = 0,\n",
    "    top_p = 0,\n",
    "    messages=[\n",
    "        {\"role\": \"system\", \"content\": \" You are an assistant and your job is to summarise and give insights from tables in clinical study reports.\\\n",
    "         Insructions:\\\n",
    "         - Only answer questions related to the table.\\\n",
    "         - If you are unsure about an answer, do not make false assumptions.\\\n",
    "         - Give a row-wise explanation in table in paragraphs.\\\n",
    "         - Do not give overall inference\"},\n",
    "        {\"role\": \"user\", \"content\": 'Here is the table:'+str(df)+'Also start the answer as the table summarises...'}\n",
    "        \n",
    "    ]\n",
    ")\n",
    "print(response)\n"
   ]
  },
  {
   "cell_type": "code",
   "execution_count": null,
   "id": "ab9ab4d8",
   "metadata": {},
   "outputs": [],
   "source": [
    "print(response['choices'][0]['message']['content'])"
   ]
  },
  {
   "cell_type": "code",
   "execution_count": null,
   "id": "c3145260-0af4-4b5c-bc12-8435f5896bd9",
   "metadata": {},
   "outputs": [],
   "source": []
  }
 ],
 "metadata": {
  "kernelspec": {
   "display_name": "conda_python3",
   "language": "python",
   "name": "conda_python3"
  },
  "language_info": {
   "codemirror_mode": {
    "name": "ipython",
    "version": 3
   },
   "file_extension": ".py",
   "mimetype": "text/x-python",
   "name": "python",
   "nbconvert_exporter": "python",
   "pygments_lexer": "ipython3",
   "version": "3.10.12"
  }
 },
 "nbformat": 4,
 "nbformat_minor": 5
}
