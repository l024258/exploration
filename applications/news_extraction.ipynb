{
 "cells": [
  {
   "cell_type": "code",
   "execution_count": 1,
   "metadata": {},
   "outputs": [
    {
     "name": "stdout",
     "output_type": "stream",
     "text": [
      "/Users/L024258/lilly_work/github-copilot/exploration/applications/..\n"
     ]
    }
   ],
   "source": [
    "import os\n",
    "import sys\n",
    "\n",
    "# Get the current working directory and add the parent directory to the Python path\n",
    "current_working_directory = os.getcwd()\n",
    "print(os.path.join(current_working_directory, \"..\"))\n",
    "sys.path.append(os.path.join(current_working_directory, \"..\"))"
   ]
  },
  {
   "cell_type": "code",
   "execution_count": 2,
   "metadata": {},
   "outputs": [],
   "source": [
    "from decouple import AutoConfig\n",
    "config = AutoConfig(search_path='./../.env')\n",
    "\n",
    "os.environ[\"AZURE_OPENAI_API_KEY\"] = config('AZURE_OPENAI_API_KEY')\n",
    "os.environ[\"AZURE_OPENAI_ENDPOINT\"] = config('AZURE_ENDPOINT')"
   ]
  },
  {
   "cell_type": "code",
   "execution_count": 3,
   "metadata": {},
   "outputs": [
    {
     "name": "stderr",
     "output_type": "stream",
     "text": [
      "USER_AGENT environment variable not set, consider setting it to identify your requests.\n"
     ]
    },
    {
     "name": "stdout",
     "output_type": "stream",
     "text": [
      "7\n"
     ]
    }
   ],
   "source": [
    "from langchain_community.document_loaders import WebBaseLoader\n",
    "import bs4\n",
    "\n",
    "urls = ('http://www.moneycontrol.com/news/business/', \n",
    "        'http://www.moneycontrol.com/news/business/markets/',\n",
    "        'http://www.moneycontrol.com/news/business/stocks/',\n",
    "        'http://www.moneycontrol.com/news/business/economy/',\n",
    "        'http://www.moneycontrol.com/news/business/companies/',\n",
    "        'http://www.moneycontrol.com/news/business/economy/',\n",
    "        'http://www.moneycontrol.com/news/business/ipo/',)\n",
    "tag = ('li',)\n",
    "tag_classes = ('clearfix',)\n",
    "\n",
    "# Load, chunk and index the contents of the blog.\n",
    "loader = WebBaseLoader(\n",
    "    web_paths=urls,\n",
    "    bs_kwargs=dict(\n",
    "        parse_only=bs4.SoupStrainer(tag,\n",
    "            class_=tag_classes\n",
    "        )\n",
    "    ),\n",
    ")\n",
    "\n",
    "docs = loader.load()\n",
    "doc = docs[0]\n",
    "print(len(docs))"
   ]
  },
  {
   "cell_type": "code",
   "execution_count": 4,
   "metadata": {},
   "outputs": [
    {
     "name": "stdout",
     "output_type": "stream",
     "text": [
      "  \n",
      "  Singapore sees opportunities in India's growing economy Lee highlighted the importance of the Comprehensive Economic Cooperation Agreement (CECA), a nearly two-decade-old Singapore-India free trade agreement that has helped foster extensive trade, investment, and travel links between the two countries. \n",
      " \n",
      "  Daily Voice: Here's why private banks, IT, energy could benefit in 2025 According to Jitendra Sriram of Baroda BNP Paribas Mutual Fund, the Budget may be little bit of a non-event given the shorter time gap between the post electoral final budget of 2024 and the Budget scheduled for February 2025. Already the policy thrust areas are known, he said. \n",
      " \n",
      "  Five IPOs gear up to debut on Dalal Street next week despite the bearish mood A total of eight companies will make their debut on the bourses next week including three from the mainboard segment. \n",
      " \n",
      "  Stock broker Rikhav Securities' IPO to open on January 15: Check details here Rikhav Securities IPO | The IPO consists of fresh issue of 83.28 lakh shares worth Rs 71.62 crore, and an offer-for-sale of 20 lakh shares worth Rs 17.2 crore by public shareholders. \n",
      " \n",
      "  Italy’s steelmaker gets offers from Baku Steel, Jindal, Bedrock Italy’s Industry Minister Adolfo Urso said the interest 'confirms we are on the right track to relaunch' Italy’s steel sector. 'This is the decisive phase,' \n",
      " \n",
      "  Arvind Kejriwal claims BJP to name Ramesh Bidhuri as CM candidate; Amit Shah dismisses, questions credibility Union Home Minister Amit Shah accused the AAP leader of spreading canard for political mileage \n",
      " \n",
      "  Vidya Wires files draft IPO papers to raise Rs 320 crore via fresh issue, plans to set up new unit Vidya Wires IPO | The initial share sale is a mix of fresh issuance of equity shares worth Rs 320 crore, and an offer-for-sale of 1 crore shares by promoters. \n",
      " \n",
      "  Neville Noronha to step down as Avenue Supermarts MD-CEO, Unilever's Anshul Asawa to take over The company also said that Neville will support Anshul for a smooth transition over the next year as the latter joins the company in March, 2025 \n",
      " \n",
      "  Executive search firm EMA Partners India to launch IPO on January 17 for funding expansion EMA Partners India IPO | The company plans to raise Rs 76.01 crore via initial share sale which comprises of fresh issue up to 53.34 lakh shares, and an offer-for-sale of 7.96 lakh shares. \n",
      " \n",
      "  DMart Q3 results: Net profit up nearly 5% at Rs 724 crore; Revenue up 17.6% Its consolidated revenue grew 17.6 percent at Rs 15,973 cr vs Rs 13,572 in the corresponding quarter. \n",
      " \n",
      "  Xiaomi Pad 7 launched in India: 5 things to know Xiaomi has launched its newest tablet, the Pad 7, in India. It comes with an 11.2-inch 3K display featuring a 144Hz refresh rate and is powered by the Snapdragon 7+ Gen 3 chipset. The tablet offers up to 12GB of RAM and packs an 8,850 mAh battery.\n",
      "\n",
      "\n",
      "\n",
      "\n",
      "\n",
      "Xiaomi has launched its newest tablet, the Pad 7, in India. It comes with an 11.2-inch 3K display featuring a 144Hz refresh rate and is powered by the Snapdragon 7+ Gen 3 chipset. The tablet offers up to 12GB of RAM and packs an 8,850 mAh battery. \n",
      " \n",
      "  Persisting financial crimes could severely damage the credibility of the listed markets, says Saurabh Mukherjea Mukherjea advocated for a tax-exempt unified retirement solution—a single, integrated product combining mutual funds, insurance policies, and equities—to enable a larger segment of India’s population to build the necessary corpus for a secure retirement. \n",
      " \n",
      "  iPhone 17 Pro, iPhone 17 Pro Max likely to come with three 48-megapixel cameras The tipster, Digital Chat Station, states that the iPhone 17 Pro models will feature tetra prism camera, which means they will be the first phones to feature a camera module consisting of 48-megapixel camera lenses. \n",
      " \n",
      "  India's debt market needs to get its mojo back, says Mihir Vora of TRUST Mutual Fund \"In the US, the bond market is three to four times the size of the loan market, while in India, it’s the reverse. In the US, corporate bond turnover is about 2x annually, whereas in India, it’s only 0.3x,\" said Mihir Vora, noting the need to bring back vibrancy in India's bond market. \n",
      " \n",
      "  India, China refiners seek alternatives on concerns over fresh Russia oil sanctions This week, two Indian state refiners bought up to 6 million barrels of Oman and Abu Dhabi’s Murban crude for prompt loading in February \n",
      " \n",
      "  Maya and Leah Tata join SRTII board, marking next-gen entry into Tata Trusts The two sisters will replace outgoing trustees Arnaz Kotwal and Freddy Talati, who stepped down to make way for their appointments. \n",
      " \n",
      "  Perplexity AI CEO Aravind Srinivas announces hiring plans to expand operations in India The role requires the candidate to be based in India, work in a startup environment, and travel to meet strategic partners and institutions, the company's cofounder and CEO Aravind Srinivas announced on LinkedIn. \n",
      " \n",
      "  Broader indices sink most in over 2 months; 170+ smallcaps plunge 10-23% Foreign Institutional Investors (FIIs) offloaded equities worth Rs 16,854.25 crore during the week, while Domestic Institutional Investors (DIIs) bought equities worth Rs 21,682.76 crore. \n",
      " \n",
      "  PM Modi greets people on anniversary of Ram temple ceremony In a post on X, he described the temple as a great heritage of Indian culture and spirituality, saying it was built following centuries of sacrifices, struggle and devotion \n",
      " \n",
      "  Personal loan: Tips for securing a personal loan with Rs 40,000 salary Earning ₹40,000 per month? Discover how much personal loan you can qualify for and explore flexible options with competitive interest rates. \n",
      " \n",
      "  Is Now the Best Time to Buy your Dream Home? | Housing Market Insights &amp; Rate Cuts Explained Will lower rates make home loans more affordable, or are there risks to consider? In this episode of Realty Returns we discussed with Niranjan Hiranandani, Chairman-Hiranandani Group and Naredco &amp; Ravi Shankar Singh, Managing Director, Residential Transaction Services, Colliers India how upcoming changes could affect the housing market, what buyers need to know, and how to make the best decision in uncertain times. \n",
      "Stay tuned for expert insights and tips to navigate the property market in 2025! \n",
      " \n",
      "  Indian economy likely to be 'a little weaker' in 2025: IMF MD Georgieva said she expects the Indian economy to be a little weaker in 2025. However, she did not explain it any further. The World Economy Outlook update week will have more details about it. \n",
      " \n",
      "  Market snaps 2-week gaining streak, registered biggest weekly fall in 2 months Foreign Institutional Investors remained net sellers throughout the week, as they offloaded equities worth Rs 16,854.25 crore in this week \n",
      " \n",
      "  ‘I would have beaten Trump,’ says outgoing US President Biden Biden, 82, decided to withdraw from the US Presidential race against Trump after his disastrous performance at the presidential debate in Atlanta in June \n",
      " \n",
      "  Moneycontrol Pro Weekender | Budget 2025-26 must Trump-proof the economy The problem is not that growth is slowing from the immediate post-pandemic period, which is understandable, but that it's well below the average GDP growth rate between 2013-14 and 2028-19 \n",
      "\n"
     ]
    }
   ],
   "source": [
    "print(doc.page_content)"
   ]
  },
  {
   "cell_type": "code",
   "execution_count": 5,
   "metadata": {},
   "outputs": [],
   "source": [
    "from pydantic import BaseModel, Field\n",
    "class Overview(BaseModel):\n",
    "    \"\"\"Overview of a section of text.\"\"\"\n",
    "    summary: str = Field(description=\"Provide a detailed summary of the content.\")\n",
    "    highlights: str = Field(description=\"Provide the highlights of the content.\")\n",
    "    keywords: str = Field(description=\"Provide keywords related to the content.\")"
   ]
  },
  {
   "cell_type": "code",
   "execution_count": 6,
   "metadata": {},
   "outputs": [],
   "source": [
    "from langchain.prompts import ChatPromptTemplate\n",
    "prompt = ChatPromptTemplate.from_messages([\n",
    "    (\"system\", \"Extract the relevant information, if not explicitly provided do not guess. Extract partial info\"),\n",
    "    (\"human\", \"{input}\")\n",
    "])"
   ]
  },
  {
   "cell_type": "code",
   "execution_count": 7,
   "metadata": {},
   "outputs": [],
   "source": [
    "from langchain_openai import AzureChatOpenAI\n",
    "model = AzureChatOpenAI(\n",
    "                openai_api_version=config('AZURE_CHAT_OPENAI_API_VERSION'),\n",
    "                azure_deployment=config('AZURE_GPT4o_mini_CHAT_OPENAI_DEPLOYMENT'),\n",
    "                temperature=0,\n",
    "                max_tokens=4096\n",
    "            )"
   ]
  },
  {
   "cell_type": "code",
   "execution_count": 8,
   "metadata": {},
   "outputs": [
    {
     "name": "stderr",
     "output_type": "stream",
     "text": [
      "/var/folders/q0/sfx4jy8s5bx23xxtplmtrj5c0000gp/T/ipykernel_32229/1165731906.py:5: LangChainDeprecationWarning: The function `convert_pydantic_to_openai_function` was deprecated in LangChain 0.1.16 and will be removed in 1.0. Use langchain_core.utils.function_calling.convert_to_openai_function() instead.\n",
      "  convert_pydantic_to_openai_function(Overview)\n"
     ]
    }
   ],
   "source": [
    "from langchain.output_parsers.openai_functions import JsonOutputFunctionsParser\n",
    "from langchain.utils.openai_functions import convert_pydantic_to_openai_function\n",
    "\n",
    "overview_tagging_function = [\n",
    "    convert_pydantic_to_openai_function(Overview)\n",
    "]\n",
    "tagging_model = model.bind(\n",
    "    functions=overview_tagging_function,\n",
    "    function_call={\"name\":\"Overview\"}\n",
    ")\n",
    "tagging_chain = prompt | tagging_model | JsonOutputFunctionsParser()"
   ]
  },
  {
   "cell_type": "code",
   "execution_count": 9,
   "metadata": {},
   "outputs": [
    {
     "name": "stdout",
     "output_type": "stream",
     "text": [
      "summary\n",
      "The documents provide a comprehensive overview of recent developments in the Indian economy, stock market, and upcoming IPOs. Key highlights include the anticipated impact of the Comprehensive Economic Cooperation Agreement (CECA) between Singapore and India, insights on the performance of private banks, IT, and energy sectors, and the upcoming IPOs of various companies including Rikhav Securities, Vidya Wires, and EMA Partners India. The documents also discuss market trends, including the bearish sentiment affecting small-cap stocks, and the performance of major companies like TCS and DMart. Additionally, there are mentions of economic forecasts from the IMF regarding a weaker Indian economy in 2025, and the need for reforms in the debt market and corporate tax rates.\n",
      "highlights\n",
      "1. Singapore-India CECA fosters trade and investment. 2. Anticipated benefits for private banks, IT, and energy sectors in 2025. 3. Upcoming IPOs: Rikhav Securities, Vidya Wires, EMA Partners India. 4. DMart reports a 5% increase in net profit. 5. TCS shows strong demand outlook, boosting IT sector. 6. IMF predicts a weaker Indian economy in 2025. 7. Concerns over financial crimes affecting market credibility. 8. Need for reforms in India's debt market and corporate tax rates.\n",
      "keywords\n",
      "CECA, IPOs, Indian economy, TCS, DMart, financial crimes, debt market, corporate tax rates, market trends, investment opportunities.\n"
     ]
    }
   ],
   "source": [
    "result = tagging_chain.invoke({\"input\": docs})\n",
    "for key, value in result.items():\n",
    "    print(f\"{key}\")\n",
    "    print(f\"{value}\")"
   ]
  },
  {
   "cell_type": "code",
   "execution_count": 10,
   "metadata": {},
   "outputs": [],
   "source": [
    "from typing import List\n",
    "\n",
    "class Tip(BaseModel):\n",
    "    \"\"\"Information about papers mentioned.\"\"\"\n",
    "    company_name: str = Field(description=\"The name or ticker symbol of the company.\")\n",
    "    sentiment: str = Field(description=\"The sentiment associated with the company in the text.\")\n",
    "    reason: str = Field(description='Extracted text snippet that conveys the sentiment.')\n",
    "    signal: str = Field(description=\"Infer BUY or SELL signal associated with the company in the text.\")\n",
    "\n",
    "\n",
    "class Info(BaseModel):\n",
    "    \"\"\"Information to extract\"\"\"\n",
    "    tips: List[Tip]"
   ]
  },
  {
   "cell_type": "code",
   "execution_count": 14,
   "metadata": {},
   "outputs": [],
   "source": [
    "prompt = ChatPromptTemplate.from_messages([\n",
    "    (\"system\", \"Extract the relevant information, if not explicitly provided do not guess or extract partial info\"),\n",
    "    (\"human\", \"{input}\")\n",
    "])"
   ]
  },
  {
   "cell_type": "code",
   "execution_count": 15,
   "metadata": {},
   "outputs": [],
   "source": [
    "from langchain.output_parsers.openai_functions import JsonOutputFunctionsParser\n",
    "\n",
    "tip_extraction_function = [\n",
    "    convert_pydantic_to_openai_function(Info)\n",
    "]\n",
    "extraction_model = model.bind(\n",
    "    functions=tip_extraction_function, \n",
    "    function_call={\"name\":\"Info\"}\n",
    ")\n",
    "extraction_chain = prompt | extraction_model | JsonOutputFunctionsParser()"
   ]
  },
  {
   "cell_type": "code",
   "execution_count": 16,
   "metadata": {},
   "outputs": [
    {
     "data": {
      "text/plain": [
       "{'tips': [{'company_name': 'Rikhav Securities',\n",
       "   'sentiment': 'neutral',\n",
       "   'reason': 'The IPO consists of fresh issue of 83.28 lakh shares worth Rs 71.62 crore, and an offer-for-sale of 20 lakh shares worth Rs 17.2 crore by public shareholders.',\n",
       "   'signal': 'N/A'},\n",
       "  {'company_name': 'Vidya Wires',\n",
       "   'sentiment': 'neutral',\n",
       "   'reason': 'The initial share sale is a mix of fresh issuance of equity shares worth Rs 320 crore, and an offer-for-sale of 1 crore shares by promoters.',\n",
       "   'signal': 'N/A'},\n",
       "  {'company_name': 'EMA Partners India',\n",
       "   'sentiment': 'neutral',\n",
       "   'reason': 'The company plans to raise Rs 76.01 crore via initial share sale which comprises of fresh issue up to 53.34 lakh shares, and an offer-for-sale of 7.96 lakh shares.',\n",
       "   'signal': 'N/A'},\n",
       "  {'company_name': 'Laxmi Dental',\n",
       "   'sentiment': 'positive',\n",
       "   'reason': 'The initial share sale will open for public subscription on January 13 and close on January 15, with a price band of Rs 407-428 per share.',\n",
       "   'signal': 'BUY'},\n",
       "  {'company_name': 'Jesons Industries',\n",
       "   'sentiment': 'neutral',\n",
       "   'reason': 'The IPO comprises of fresh issuance of equity shares worth Rs 300 crore, and an offer-for-sale of 94.6 lakh shares by promoter Dhiresh Shashikant Gosalia.',\n",
       "   'signal': 'N/A'},\n",
       "  {'company_name': 'Tata Consultancy Services (TCS)',\n",
       "   'sentiment': 'positive',\n",
       "   'reason': 'TCS not only reported its highest third-quarter order book in five years but also exhibited confidence in delivering stronger growth in CY25 and FY26.',\n",
       "   'signal': 'BUY'},\n",
       "  {'company_name': 'Coal India',\n",
       "   'sentiment': 'positive',\n",
       "   'reason': 'Motilal Oswal is bullish on Coal India recommended buy rating on the stock with a target price of Rs 480 in its research report dated January 09, 2025.',\n",
       "   'signal': 'BUY'},\n",
       "  {'company_name': 'Timken India',\n",
       "   'sentiment': 'positive',\n",
       "   'reason': 'Geojit Financial Services is bullish on Timken India has recommended buy rating on the stock with a target price of Rs 3408 in its research report dated January 09, 2025.',\n",
       "   'signal': 'BUY'},\n",
       "  {'company_name': 'IRCTC',\n",
       "   'sentiment': 'positive',\n",
       "   'reason': \"According to the international brokerage, India’s ambitious push towards railway modernization and the accelerated rollout of premium trains could act as growth catalysts, with the potential to double IRCTC's stock value in the coming years.\",\n",
       "   'signal': 'BUY'}]}"
      ]
     },
     "execution_count": 16,
     "metadata": {},
     "output_type": "execute_result"
    }
   ],
   "source": [
    "result = extraction_chain.invoke({\"input\": docs})\n",
    "result\n",
    "# for item in result:\n",
    "#     for key, value in item.items():\n",
    "#         print(f\"{key}: {value}\")\n",
    "#     print(\"\\n\")"
   ]
  },
  {
   "cell_type": "code",
   "execution_count": null,
   "metadata": {},
   "outputs": [],
   "source": []
  }
 ],
 "metadata": {
  "kernelspec": {
   "display_name": ".venv",
   "language": "python",
   "name": "python3"
  },
  "language_info": {
   "codemirror_mode": {
    "name": "ipython",
    "version": 3
   },
   "file_extension": ".py",
   "mimetype": "text/x-python",
   "name": "python",
   "nbconvert_exporter": "python",
   "pygments_lexer": "ipython3",
   "version": "3.10.7"
  }
 },
 "nbformat": 4,
 "nbformat_minor": 2
}
