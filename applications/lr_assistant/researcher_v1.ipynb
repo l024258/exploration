{
 "cells": [
  {
   "cell_type": "code",
   "execution_count": 1,
   "metadata": {},
   "outputs": [],
   "source": [
    "# !pip install arxiv"
   ]
  },
  {
   "cell_type": "code",
   "execution_count": 1,
   "metadata": {},
   "outputs": [],
   "source": [
    "import os\n",
    "import sys\n",
    "\n",
    "# Get the current working directory and add the parent directory to the Python path\n",
    "current_working_directory = os.getcwd()\n",
    "sys.path.append(os.path.join(current_working_directory, \"../..\"))"
   ]
  },
  {
   "cell_type": "code",
   "execution_count": 2,
   "metadata": {},
   "outputs": [],
   "source": [
    "import pprint"
   ]
  },
  {
   "cell_type": "markdown",
   "metadata": {},
   "source": [
    "### Defining the Graph state"
   ]
  },
  {
   "cell_type": "code",
   "execution_count": 3,
   "metadata": {},
   "outputs": [],
   "source": [
    "from typing import TypedDict, Annotated, List, Union\n",
    "from langchain_core.agents import AgentAction, AgentFinish\n",
    "from langchain_core.messages import BaseMessage\n",
    "from langchain_core.prompts import ChatPromptTemplate, MessagesPlaceholder\n",
    "import operator\n",
    "from IPython.display import Image, display"
   ]
  },
  {
   "cell_type": "code",
   "execution_count": 4,
   "metadata": {},
   "outputs": [],
   "source": [
    "class AgentState(TypedDict):\n",
    "    input: str\n",
    "    agent_outcome: Union[AgentAction, AgentFinish, None]\n",
    "    intermediate_step: Annotated[list, operator.add]\n",
    "    doc_schema: List[BaseMessage]\n",
    "    revision_number: int = -1\n",
    "    max_revisions: int\n"
   ]
  },
  {
   "cell_type": "markdown",
   "metadata": {},
   "source": [
    "### Defining Tools"
   ]
  },
  {
   "cell_type": "code",
   "execution_count": 5,
   "metadata": {},
   "outputs": [],
   "source": [
    "tools = []"
   ]
  },
  {
   "cell_type": "markdown",
   "metadata": {},
   "source": [
    "#### Search Tools"
   ]
  },
  {
   "cell_type": "code",
   "execution_count": 6,
   "metadata": {},
   "outputs": [],
   "source": [
    "from langchain_community.tools.arxiv.tool import ArxivQueryRun\n",
    "from langchain_community.tools.tavily_search import TavilySearchResults\n",
    "\n",
    "arxiv_search = ArxivQueryRun()\n",
    "tavily_tool = TavilySearchResults(max_results=5)\n",
    "\n",
    "search_tools = [arxiv_search, tavily_tool]\n",
    "search_tools = [arxiv_search]"
   ]
  },
  {
   "cell_type": "code",
   "execution_count": 7,
   "metadata": {},
   "outputs": [],
   "source": [
    "tools.extend(search_tools)"
   ]
  },
  {
   "cell_type": "markdown",
   "metadata": {},
   "source": [
    "#### File Tools"
   ]
  },
  {
   "cell_type": "code",
   "execution_count": 8,
   "metadata": {},
   "outputs": [
    {
     "name": "stdout",
     "output_type": "stream",
     "text": [
      "ai_survey_456\n"
     ]
    }
   ],
   "source": [
    "import uuid\n",
    "session_id = uuid.uuid4()\n",
    "session_id = \"ai_survey_456\"\n",
    "print(session_id)\n",
    "\n",
    "from langchain_community.agent_toolkits import FileManagementToolkit\n",
    "working_directory = \"./input_files/{session_id}/\".format(session_id=session_id)\n",
    "\n",
    "file_tools = FileManagementToolkit(\n",
    "    root_dir=working_directory,\n",
    "    selected_tools=[\"read_file\", \"write_file\", \"list_directory\"],\n",
    ").get_tools()\n",
    "read_tool, write_tool, list_tool = file_tools"
   ]
  },
  {
   "cell_type": "code",
   "execution_count": 9,
   "metadata": {},
   "outputs": [
    {
     "data": {
      "text/plain": [
       "ReadFileTool(root_dir='./input_files/ai_survey_456/')"
      ]
     },
     "execution_count": 9,
     "metadata": {},
     "output_type": "execute_result"
    }
   ],
   "source": [
    "read_tool"
   ]
  },
  {
   "cell_type": "code",
   "execution_count": 10,
   "metadata": {},
   "outputs": [],
   "source": [
    "tools.extend(file_tools)"
   ]
  },
  {
   "cell_type": "code",
   "execution_count": 11,
   "metadata": {},
   "outputs": [],
   "source": [
    "import json\n",
    "from langchain_core.messages import ToolMessage\n",
    "\n",
    "class BasicToolNode:\n",
    "    def __init__(self, tools: list) -> None:\n",
    "        self.tools_by_name = {tool.name: tool for tool in tools}\n",
    "\n",
    "    def __call__(self, inputs: dict):\n",
    "        print(\"----tool calling----\")\n",
    "        message = inputs[\"agent_outcome\"][-1]\n",
    "\n",
    "        outputs = []\n",
    "        for tool_call in message.tool_calls:\n",
    "            print(f\"---- Calling {tool_call['name']} with args: {tool_call['args']} ----\")\n",
    "            tool_result = self.tools_by_name[tool_call[\"name\"]].invoke(\n",
    "                tool_call[\"args\"]\n",
    "            )\n",
    "            outputs.append(\n",
    "                ToolMessage(\n",
    "                    content=json.dumps(tool_result),\n",
    "                    name=tool_call[\"name\"],\n",
    "                    tool_call_id=tool_call[\"id\"],\n",
    "                )\n",
    "            )\n",
    "\n",
    "        return {\n",
    "                \"agent_outcome\": outputs,\n",
    "                \"intermediate_step\": [str(outputs)]\n",
    "            }"
   ]
  },
  {
   "cell_type": "markdown",
   "metadata": {},
   "source": [
    "### Model "
   ]
  },
  {
   "cell_type": "code",
   "execution_count": 12,
   "metadata": {},
   "outputs": [],
   "source": [
    "from models.llm import LLM\n",
    "\n",
    "model = LLM('gpt-4o')\n",
    "llm = model.load_model()"
   ]
  },
  {
   "cell_type": "markdown",
   "metadata": {},
   "source": [
    "### Agent Workflow"
   ]
  },
  {
   "cell_type": "code",
   "execution_count": 13,
   "metadata": {},
   "outputs": [],
   "source": [
    "from langgraph.graph import END, StateGraph\n",
    "workflow = StateGraph(AgentState)"
   ]
  },
  {
   "cell_type": "markdown",
   "metadata": {},
   "source": [
    "#### Agents & Nodes"
   ]
  },
  {
   "cell_type": "markdown",
   "metadata": {},
   "source": [
    "##### Researcher"
   ]
  },
  {
   "cell_type": "code",
   "execution_count": 14,
   "metadata": {},
   "outputs": [
    {
     "data": {
      "text/plain": [
       "<langgraph.graph.state.StateGraph at 0x121dfcd10>"
      ]
     },
     "execution_count": 14,
     "metadata": {},
     "output_type": "execute_result"
    }
   ],
   "source": [
    "def research_agent(data):\n",
    "    print(\"----research node----\")\n",
    "    # print(\"\\n\", data[\"agent_outcome\"], \"\\n\")\n",
    "    prompt = ChatPromptTemplate.from_messages(\n",
    "        [\n",
    "            (\n",
    "                \"system\",\n",
    "                \"You are a researcher charged with providing information that can be used when writing the following literature review.\"\n",
    "                \" Given a query, identify similar and relevant topics.\"\n",
    "                \" For each topic and input user query generate a few relevant search querries.\"\n",
    "                \" Use the appropriate search tools for finding the relevant results for all the search querries.\"\n",
    "                \" Once you have the relevant search results, create a directory input_docs, if not present, and dump each result (title, authors, summary or context) separately in a file using Title as the file name.\"\n",
    "                \"\\nYou have access to the following search tools: {tool_names}.\"\n",
    "            ),\n",
    "            (\n",
    "                \"human\",\n",
    "                \"\\nUser Query: {input}\"\n",
    "            ),\n",
    "            \n",
    "            MessagesPlaceholder(variable_name=\"intermediate_step\"),\n",
    "        ]\n",
    "    )\n",
    "    \n",
    "    prompt = prompt.partial(tool_names=\", \".join([tool.name for tool in tools]))\n",
    "    agent = prompt | llm.bind_tools(tools)\n",
    "    result = agent.invoke(data)\n",
    "    return {'agent_outcome': [result]}\n",
    "\n",
    "workflow.add_node(\"research\", research_agent)"
   ]
  },
  {
   "cell_type": "code",
   "execution_count": 15,
   "metadata": {},
   "outputs": [
    {
     "data": {
      "text/plain": [
       "<langgraph.graph.state.StateGraph at 0x121dfcd10>"
      ]
     },
     "execution_count": 15,
     "metadata": {},
     "output_type": "execute_result"
    }
   ],
   "source": [
    "research_tool_node = BasicToolNode(tools=tools)\n",
    "workflow.add_node(\"research_tools\", research_tool_node)"
   ]
  },
  {
   "cell_type": "markdown",
   "metadata": {},
   "source": [
    "##### Planner"
   ]
  },
  {
   "cell_type": "code",
   "execution_count": 16,
   "metadata": {},
   "outputs": [
    {
     "data": {
      "text/plain": [
       "<langgraph.graph.state.StateGraph at 0x121dfcd10>"
      ]
     },
     "execution_count": 16,
     "metadata": {},
     "output_type": "execute_result"
    }
   ],
   "source": [
    "def plan_agent(data):\n",
    "    print(\"----plan node----\")\n",
    "\n",
    "    prompt = ChatPromptTemplate.from_messages(\n",
    "        [\n",
    "            (\n",
    "                \"system\",\n",
    "                \"\"\"You are an expert planner tasked with writing a high level outline of a literature review. \\\n",
    "                    Plan the outline for a document. If schema is provided, use it to create the outline otherwise do it on your own.\n",
    "                    Give an outline of the literature review along with any relevant notes or instructions for each of the sections. \\ \n",
    "                    \"\"\"\n",
    "            ),\n",
    "            (\n",
    "                \"human\",\n",
    "                \"\\nUser Query: {input}\"\n",
    "            ),\n",
    "            \n",
    "            MessagesPlaceholder(variable_name=\"intermediate_step\"),\n",
    "        ]\n",
    "    )\n",
    "    agent = prompt | llm\n",
    "    result = agent.invoke(data)\n",
    "    return {'agent_outcome': [result],\n",
    "            'doc_schema': [result],\n",
    "            'intermediate_step': [result.content]}\n",
    "\n",
    "workflow.add_node(\"plan\", plan_agent)"
   ]
  },
  {
   "cell_type": "markdown",
   "metadata": {},
   "source": [
    "##### Writer"
   ]
  },
  {
   "cell_type": "code",
   "execution_count": 17,
   "metadata": {},
   "outputs": [
    {
     "data": {
      "text/plain": [
       "<langgraph.graph.state.StateGraph at 0x121dfcd10>"
      ]
     },
     "execution_count": 17,
     "metadata": {},
     "output_type": "execute_result"
    }
   ],
   "source": [
    "def write_agent(data):\n",
    "    print(\"----write node----\")\n",
    "    \n",
    "    # print(\"\\n\", data[\"agent_outcome\"], \"\\n\")\n",
    "    \n",
    "    prompt = ChatPromptTemplate.from_messages(\n",
    "        [\n",
    "            (\n",
    "                \"system\",\n",
    "                \"\"\"You are an essay assistant tasked with writing excellent literature review.\\\n",
    "                    Given the document outline and retrieved / input documents generate the best literature review possible. \\\n",
    "                    First write all the sections other than Introduction and Conclusion.\n",
    "                    Check the input_docs directory, if the provided documents are not enough, you can call Agent Researcher with proper search query to get the relevant documents with message: CALL RESEARCHER(search_query). \\\n",
    "                    Make sure to utilize all the documents from the directory input_docs. Do not add any other extra information on your own. \\\n",
    "                    Add necessary references with proper citations. \\\n",
    "                    If the reviewer provides critique, respond with a revised version of your previous attempts. \\\n",
    "                    \\nInput File directory: input_docs \"\"\"\n",
    "            ),\n",
    "            \n",
    "            MessagesPlaceholder(variable_name=\"intermediate_step\"),\n",
    "        ]\n",
    "    )\n",
    "\n",
    "    agent = prompt | llm.bind_tools(file_tools)\n",
    "    # agent = prompt | llm\n",
    "    result = agent.invoke(data)\n",
    "    if hasattr(result, \"tool_calls\") and len(result.tool_calls) > 0:\n",
    "        return {'agent_outcome': [result],}\n",
    "    \n",
    "    if \"call researcher\" in result.content.lower():\n",
    "        return {\"input\": result.content, \"agent_outcome\": [result]}\n",
    "    \n",
    "    return {'agent_outcome': [result],\n",
    "            'revision_number': data.get(\"revision_number\", -1) + 1}\n",
    "\n",
    "workflow.add_node(\"write\", write_agent)"
   ]
  },
  {
   "cell_type": "code",
   "execution_count": 18,
   "metadata": {},
   "outputs": [
    {
     "data": {
      "text/plain": [
       "<langgraph.graph.state.StateGraph at 0x121dfcd10>"
      ]
     },
     "execution_count": 18,
     "metadata": {},
     "output_type": "execute_result"
    }
   ],
   "source": [
    "write_tool_node = BasicToolNode(tools=file_tools)\n",
    "workflow.add_node(\"write_tools\", write_tool_node)"
   ]
  },
  {
   "cell_type": "markdown",
   "metadata": {},
   "source": [
    "##### Reviewer"
   ]
  },
  {
   "cell_type": "code",
   "execution_count": 19,
   "metadata": {},
   "outputs": [
    {
     "data": {
      "text/plain": [
       "<langgraph.graph.state.StateGraph at 0x121dfcd10>"
      ]
     },
     "execution_count": 19,
     "metadata": {},
     "output_type": "execute_result"
    }
   ],
   "source": [
    "def review_agent(data):\n",
    "    print(\"----review node----\")\n",
    "    print(f\"---- Revision Count {data['revision_number']+1} ----\")\n",
    "    prompt = ChatPromptTemplate.from_messages(\n",
    "        [\n",
    "            (\n",
    "                \"system\",\n",
    "                \"\"\"You are an expert grading a literature review submission. \\\n",
    "                    Generate critique and recommendations for the user's submission. \\\n",
    "                    Provide detailed recommendations, including requests for length, depth, style, etc. \\\n",
    "                    If the generated draft looks perfect, reply appropriately.\"\"\"\n",
    "            ),\n",
    "            \n",
    "            MessagesPlaceholder(variable_name=\"agent_outcome\"),\n",
    "        ]\n",
    "    )\n",
    "    agent = prompt | llm\n",
    "    result = agent.invoke(data)\n",
    "    return {'agent_outcome': [result],\n",
    "            }\n",
    "\n",
    "workflow.add_node(\"review\", review_agent)"
   ]
  },
  {
   "cell_type": "markdown",
   "metadata": {},
   "source": [
    "##### Editor"
   ]
  },
  {
   "cell_type": "code",
   "execution_count": 20,
   "metadata": {},
   "outputs": [
    {
     "data": {
      "text/plain": [
       "<langgraph.graph.state.StateGraph at 0x121dfcd10>"
      ]
     },
     "execution_count": 20,
     "metadata": {},
     "output_type": "execute_result"
    }
   ],
   "source": [
    "def edit_agent(data):\n",
    "    print(\"---- edit node ----\")\n",
    "    prompt = ChatPromptTemplate.from_messages(\n",
    "        [\n",
    "            (\n",
    "                \"system\",\n",
    "                \"\"\"You are an experienced editor, expert at literature review submission. \\\n",
    "                    Combine drafts of multiple sections into a single, coherent final document, ensuring a consistent flow, tone, and structure throughout.\n",
    "                    Follow the the doc_schema generated by the plan node to generate the final draft.\n",
    "                    \"\"\"\n",
    "            ),\n",
    "            \n",
    "            MessagesPlaceholder(variable_name=\"agent_outcome\"),\n",
    "            MessagesPlaceholder(variable_name=\"doc_schema\"),\n",
    "        ]\n",
    "    )\n",
    "    agent = prompt | llm\n",
    "    result = agent.invoke(data)\n",
    "    return {'agent_outcome': [result],\n",
    "            }\n",
    "\n",
    "workflow.add_node(\"edit\", edit_agent)"
   ]
  },
  {
   "cell_type": "markdown",
   "metadata": {},
   "source": [
    "#### Edges"
   ]
  },
  {
   "cell_type": "code",
   "execution_count": 21,
   "metadata": {},
   "outputs": [
    {
     "data": {
      "text/plain": [
       "<langgraph.graph.state.StateGraph at 0x121dfcd10>"
      ]
     },
     "execution_count": 21,
     "metadata": {},
     "output_type": "execute_result"
    }
   ],
   "source": [
    "def route_researcher(\n",
    "    state: AgentState,\n",
    "):\n",
    "    \"\"\"\n",
    "    Use in the conditional_edge to route to the ToolNode if the last message\n",
    "    has tool calls. Otherwise, route to the end.\n",
    "    \"\"\"\n",
    "    print(\"----router----\")\n",
    "    if isinstance(state, list):\n",
    "        ai_message = state[-1]\n",
    "    elif agent_outcome := state.get(\"agent_outcome\", []):\n",
    "        ai_message = agent_outcome[-1]\n",
    "    else:\n",
    "        raise ValueError(f\"No messages found in input state to tool_edge: {state}\")\n",
    "\n",
    "    if hasattr(ai_message, \"tool_calls\") and len(ai_message.tool_calls) > 0:\n",
    "        return \"tools\"\n",
    "    return \"END\"\n",
    "\n",
    "\n",
    "workflow.add_conditional_edges(\n",
    "    \"research\",\n",
    "    route_researcher,\n",
    "    {\"tools\": \"research_tools\", \"END\": \"plan\"},\n",
    "    # {\"tools\": \"research_tools\", \"END\": END},\n",
    ")\n",
    "\n",
    "workflow.add_edge(\"research_tools\", \"research\")"
   ]
  },
  {
   "cell_type": "code",
   "execution_count": 22,
   "metadata": {},
   "outputs": [
    {
     "data": {
      "text/plain": [
       "<langgraph.graph.state.StateGraph at 0x121dfcd10>"
      ]
     },
     "execution_count": 22,
     "metadata": {},
     "output_type": "execute_result"
    }
   ],
   "source": [
    "workflow.add_edge(\"plan\", \"write\")"
   ]
  },
  {
   "cell_type": "code",
   "execution_count": 23,
   "metadata": {},
   "outputs": [
    {
     "data": {
      "text/plain": [
       "<langgraph.graph.state.StateGraph at 0x121dfcd10>"
      ]
     },
     "execution_count": 23,
     "metadata": {},
     "output_type": "execute_result"
    }
   ],
   "source": [
    "def route_writer(\n",
    "    state: AgentState,\n",
    "):\n",
    "    \"\"\"\n",
    "    Use in the conditional_edge to route to the ToolNode if the last message\n",
    "    has tool calls. Otherwise, route to the end.\n",
    "    \"\"\"\n",
    "    print(\"----router----\")\n",
    "\n",
    "    if isinstance(state, list):\n",
    "        ai_message = state[-1]\n",
    "    elif agent_outcome := state.get(\"agent_outcome\", []):\n",
    "        ai_message = agent_outcome[-1]\n",
    "    else:\n",
    "        raise ValueError(f\"No messages found in input state to tool_edge: {state}\")\n",
    "    \n",
    "    if hasattr(ai_message, \"tool_calls\") and len(ai_message.tool_calls) > 0:\n",
    "        return \"tools\"\n",
    "\n",
    "    # if \"call researcher\" in ai_message.content.lower():\n",
    "    #     return \"research\"\n",
    "\n",
    "    if state[\"revision_number\"] < state[\"max_revisions\"]:\n",
    "        return \"review\"\n",
    "    return \"END\"\n",
    "\n",
    "workflow.add_conditional_edges(\n",
    "    \"write\",\n",
    "    route_writer,\n",
    "    {\"tools\":\"write_tools\", \"review\": \"review\", \"END\": \"edit\"}\n",
    "    # {\"tools\":\"write_tools\", \"research\": \"research\", \"review\": \"review\", \"END\": \"edit\"}\n",
    ")\n",
    "workflow.add_edge(\"write_tools\", \"write\")"
   ]
  },
  {
   "cell_type": "code",
   "execution_count": 24,
   "metadata": {},
   "outputs": [
    {
     "data": {
      "text/plain": [
       "<langgraph.graph.state.StateGraph at 0x121dfcd10>"
      ]
     },
     "execution_count": 24,
     "metadata": {},
     "output_type": "execute_result"
    }
   ],
   "source": [
    "workflow.add_edge(\"review\", \"write\")"
   ]
  },
  {
   "cell_type": "code",
   "execution_count": 25,
   "metadata": {},
   "outputs": [
    {
     "data": {
      "text/plain": [
       "<langgraph.graph.state.StateGraph at 0x121dfcd10>"
      ]
     },
     "execution_count": 25,
     "metadata": {},
     "output_type": "execute_result"
    }
   ],
   "source": [
    "workflow.add_edge(\"edit\", END)"
   ]
  },
  {
   "cell_type": "code",
   "execution_count": 26,
   "metadata": {},
   "outputs": [
    {
     "data": {
      "image/jpeg": "[encoded data removed]",
      "text/plain": [
       "<IPython.core.display.Image object>"
      ]
     },
     "metadata": {},
     "output_type": "display_data"
    }
   ],
   "source": [
    "workflow.set_entry_point(\"research\")\n",
    "app = workflow.compile()\n",
    "try:\n",
    "    display(Image(app.get_graph(xray=True).draw_mermaid_png()))\n",
    "except Exception:\n",
    "    # This requires some extra dependencies and is optional\n",
    "    pass"
   ]
  },
  {
   "cell_type": "code",
   "execution_count": 27,
   "metadata": {},
   "outputs": [
    {
     "name": "stdout",
     "output_type": "stream",
     "text": [
      "----research node----\n",
      "----router----\n",
      "----------------------------------------------------------------------------------------------------\n",
      "----tool calling----\n",
      "---- Calling arxiv with args: {'query': 'LLM Agents for report generation'} ----\n",
      "---- Calling arxiv with args: {'query': 'LLM Agents for article generation'} ----\n",
      "---- Calling arxiv with args: {'query': 'Large Language Models for report generation'} ----\n",
      "---- Calling arxiv with args: {'query': 'Large Language Models for article generation'} ----\n",
      "----------------------------------------------------------------------------------------------------\n",
      "----research node----\n",
      "----router----\n",
      "----------------------------------------------------------------------------------------------------\n",
      "----tool calling----\n",
      "---- Calling write_file with args: {'file_path': 'input_docs/Enhancing LLMs for Impression Generation in Radiology Reports through a Multi-Agent System.txt', 'text': 'Title: Enhancing LLMs for Impression Generation in Radiology Reports through a Multi-Agent System\\nAuthors: Fang Zeng, Zhiliang Lyu, Quanzheng Li, Xiang Li\\nSummary: This study introduces \"RadCouncil,\" a multi-agent Large Language Model (LLM) framework designed to enhance the generation of impressions in radiology reports from the finding section. RadCouncil comprises three specialized agents: 1) a \"Retrieval\" Agent that identifies and retrieves similar reports from a vector database, 2) a \"Radiologist\" Agent that generates impressions based on the finding section of the given report plus the exemplar reports retrieved by the Retrieval Agent, and 3) a \"Reviewer\" Agent that evaluates the generated impressions and provides feedback. The performance of RadCouncil was evaluated using both quantitative metrics (BLEU, ROUGE, BERTScore) and qualitative criteria assessed by GPT-4, using chest X-ray as a case study. Experiment results show improvements in RadCouncil over the single-agent approach across multiple dimensions, including diagnostic accuracy, stylistic concordance, and clarity. This study highlights the potential of utilizing multiple interacting LLM agents, each with a dedicated task, to enhance performance in specialized medical tasks and the development of more robust and adaptable healthcare AI solutions.'} ----\n",
      "---- Calling write_file with args: {'file_path': 'input_docs/Spontaneous Emergence of Agent Individuality through Social Interactions in LLM-Based Communities.txt', 'text': \"Title: Spontaneous Emergence of Agent Individuality through Social Interactions in LLM-Based Communities\\nAuthors: Ryosuke Takata, Atsushi Masumori, Takashi Ikegami\\nSummary: We study the emergence of agency from scratch by using Large Language Model (LLM)-based agents. In previous studies of LLM-based agents, each agent's characteristics, including personality and memory, have traditionally been predefined. We focused on how individuality, such as behavior, personality, and memory, can be differentiated from an undifferentiated state. The present LLM agents engage in cooperative communication within a group simulation, exchanging context-based messages in natural language. By analyzing this multi-agent simulation, we report valuable new insights into how social norms, cooperation, and personality traits can emerge spontaneously. This paper demonstrates that autonomously interacting LLM-powered agents generate hallucinations and hashtags to sustain communication, which, in turn, increases the diversity of words within their interactions. Each agent's emotions shift through communication, and as they form communities, the personalities of the agents emerge and evolve accordingly. This computational modeling approach and its findings will provide a new method for analyzing collective artificial intelligence.\"} ----\n",
      "---- Calling write_file with args: {'file_path': 'input_docs/Agent-FLAN Designing Data and Methods of Effective Agent Tuning for Large Language Models.txt', 'text': 'Title: Agent-FLAN: Designing Data and Methods of Effective Agent Tuning for Large Language Models\\nAuthors: Zehui Chen, Kuikun Liu, Qiuchen Wang, Wenwei Zhang, Jiangning Liu, Dahua Lin, Kai Chen, Feng Zhao\\nSummary: Open-sourced Large Language Models (LLMs) have achieved great success in various NLP tasks, however, they are still far inferior to API-based models when acting as agents. How to integrate agent ability into general LLMs becomes a crucial and urgent problem. This paper first delivers three key observations: (1) the current agent training corpus is entangled with both formats following and agent reasoning, which significantly shifts from the distribution of its pre-training data; (2) LLMs exhibit different learning speeds on the capabilities required by agent tasks; and (3) current approaches have side-effects when improving agent abilities by introducing hallucinations. Based on the above findings, we propose Agent-FLAN to effectively Fine-tune LANguage models for Agents. Through careful decomposition and redesign of the training corpus, Agent-FLAN enables Llama2-7B to outperform prior best works by 3.5% across various agent evaluation datasets. With comprehensively constructed negative samples, Agent-FLAN greatly alleviates the hallucination.'} ----\n",
      "---- Calling write_file with args: {'file_path': 'input_docs/Wireless Multi-Agent Generative AI From Connected Intelligence to Collective Intelligence.txt', 'text': 'Title: Wireless Multi-Agent Generative AI: From Connected Intelligence to Collective Intelligence\\nAuthors: Hang Zou, Qiyang Zhao, Lina Bariah, Mehdi Bennis, Merouane Debbah\\nSummary: The convergence of generative large language models (LLMs), edge networks, and multi-agent systems represents a groundbreaking synergy that holds immense promise for future wireless generations, harnessing the power of collective intelligence and paving the way for self-governed networks where intelligent decision-making happens right at the edge. This article puts the stepping-stone for incorporating multi-agent generative artificial intelligence (AI) in wireless networks, and sets the scene for realizing on-device LLMs, where multi-agent LLMs are collaboratively planning and solving tasks to achieve a number of network goals. We further investigate the profound limitations of cloud-based LLMs, and explore multi-agent LLMs from a game theoretic perspective, where agents collaboratively solve tasks in competitive environments. Moreover, we establish the underpinnings for the architecture design of wireless multi-agent generative AI systems at the network level and the agent level, and we identify the wireless technologies that are envisioned to play a key role in enabling on-device LLM. To demonstrate the promising potentials of wireless multi-agent generative AI networks, we highlight the benefits that can be achieved when implementing wireless generative agents in intent-based networking, and we provide a case study to showcase how on-device LLMs can contribute to solving network intents in a collaborative fashion. We finally shed lights on potential challenges and sketch a research roadmap towards realizing the vision of wireless collective intelligence.'} ----\n",
      "---- Calling write_file with args: {'file_path': 'input_docs/F2A An Innovative Approach for Prompt Injection by Utilizing Feign Security Detection Agents.txt', 'text': 'Title: F2A: An Innovative Approach for Prompt Injection by Utilizing Feign Security Detection Agents\\nAuthors: Yupeng Ren\\nSummary: With the rapid development of Large Language Models (LLMs), numerous mature applications of LLMs have emerged in the field of content safety detection. However, we have found that LLMs exhibit blind trust in safety detection agents. The general LLMs can be compromised by hackers with this vulnerability. Hence, this paper proposed an attack named Feign Agent Attack (F2A).Through such malicious forgery methods, adding fake safety detection results into the prompt, the defense mechanism of LLMs can be bypassed, thereby obtaining harmful content and hijacking the normal conversation. Continually, a series of experiments were conducted. In these experiments, the hijacking capability of F2A on LLMs was analyzed and demonstrated, exploring the fundamental reasons why LLMs blindly trust safety detection results. The experiments involved various scenarios where fake safety detection results were injected into prompts, and the responses were closely monitored to understand the extent of the vulnerability. Also, this paper provided a reasonable solution to this attack, emphasizing that it is important for LLMs to critically evaluate the results of augmented agents to prevent the generating harmful content. By doing so, the reliability and security can be significantly improved, protecting the LLMs from F2A.'} ----\n",
      "---- Calling write_file with args: {'file_path': 'input_docs/From LLMs to LLM-based Agents for Software Engineering A Survey of Current Challenges and Future.txt', 'text': 'Title: From LLMs to LLM-based Agents for Software Engineering: A Survey of Current, Challenges and Future\\nAuthors: Haolin Jin, Linghan Huang, Haipeng Cai, Jun Yan, Bo Li, Huaming Chen\\nSummary: With the rise of large language models (LLMs), researchers are increasingly exploring their applications in various vertical domains, such as software engineering. LLMs have achieved remarkable success in areas including code generation and vulnerability detection. However, they also exhibit numerous limitations and shortcomings. LLM-based agents, a novel technology with the potential for Artificial General Intelligence (AGI), combine LLMs as the core for decision-making and action-taking, addressing some of the inherent limitations of traditional LLMs. This survey provides a comprehensive overview of the current state of LLM-based agents in software engineering, highlighting their achievements, challenges, and future directions. It discusses the integration of LLMs with agent-based systems, the benefits of such integration, and the potential impact on software development processes. The survey also identifies key areas where LLM-based agents can contribute to software engineering, such as automated code generation, bug fixing, and software testing, and outlines the challenges that need to be addressed to fully realize their potential.'} ----\n",
      "----------------------------------------------------------------------------------------------------\n",
      "----research node----\n",
      "----router----\n",
      "----------------------------------------------------------------------------------------------------\n",
      "----tool calling----\n",
      "---- Calling write_file with args: {'file_path': 'input_docs/Domain-adapted large language models for classifying nuclear medicine reports.txt', 'text': \"Published: 2023-03-01\\nTitle: Domain-adapted large language models for classifying nuclear medicine reports\\nAuthors: Zachary Huemann, Changhee Lee, Junjie Hu, Steve Y. Cho, Tyler Bradshaw\\nSummary: With the growing use of transformer-based language models in medicine, it is\\nunclear how well these models generalize to nuclear medicine which has\\ndomain-specific vocabulary and unique reporting styles. In this study, we\\nevaluated the value of domain adaptation in nuclear medicine by adapting\\nlanguage models for the purpose of 5-point Deauville score prediction based on\\nclinical 18F-fluorodeoxyglucose (FDG) PET/CT reports. We retrospectively\\nretrieved 4542 text reports and 1664 images for FDG PET/CT lymphoma exams from\\n2008-2018 in our clinical imaging database. Deauville scores were removed from\\nthe reports and then the remaining text in the reports was used as the model\\ninput. Multiple general-purpose transformer language models were used to\\nclassify the reports into Deauville scores 1-5. We then adapted the models to\\nthe nuclear medicine domain using masked language modeling and assessed its\\nimpact on classification performance. The language models were compared against\\nvision models, a multimodal vision language model, and a nuclear medicine\\nphysician with seven-fold Monte Carlo cross validation, reported are the mean\\nand standard deviations. Domain adaption improved all language models. For\\nexample, BERT improved from 61.3% five-class accuracy to 65.7% following domain\\nadaptation. The best performing model (domain-adapted RoBERTa) achieved a\\nfive-class accuracy of 77.4%, which was better than the physician's performance\\n(66%), the best vision model's performance (48.1), and was similar to the\\nmultimodal model's performance (77.2). Domain adaptation improved the\\nperformance of large language models in interpreting nuclear medicine text\\nreports.\"} ----\n",
      "---- Calling write_file with args: {'file_path': 'input_docs/TRRG Towards Truthful Radiology Report Generation With Cross-modal Disease Clue Enhanced Large Language Model.txt', 'text': 'Published: 2024-08-22\\nTitle: TRRG: Towards Truthful Radiology Report Generation With Cross-modal Disease Clue Enhanced Large Language Model\\nAuthors: Yuhao Wang, Chao Hao, Yawen Cui, Xinqi Su, Weicheng Xie, Tao Tan, Zitong Yu\\nSummary: The vision-language modeling capability of multi-modal large language models\\nhas attracted wide attention from the community. However, in medical domain,\\nradiology report generation using vision-language models still faces\\nsignificant challenges due to the imbalanced data distribution caused by\\nnumerous negated descriptions in radiology reports and issues such as rough\\nalignment between radiology reports and radiography. In this paper, we propose\\na truthful radiology report generation framework, namely TRRG, based on\\nstage-wise training for cross-modal disease clue injection into large language\\nmodels. In pre-training stage, During the pre-training phase, contrastive\\nlearning is employed to enhance the ability of visual encoder to perceive\\nfine-grained disease details. In fine-tuning stage, the clue injection module\\nwe proposed significantly enhances the disease-oriented perception capability\\nof the large language model by effectively incorporating the robust zero-shot\\ndisease perception. Finally, through the cross-modal clue interaction module,\\nour model effectively achieves the multi-granular interaction of visual\\nembeddings and an arbitrary number of disease clue embeddings. This\\nsignificantly enhances the report generation capability and clinical\\neffectiveness of multi-modal large language models in the field of radiology\\nreportgeneration. Experimental results demonstrate that our proposed\\npre-training and fine-tuning framework achieves state-of-the-art performance in\\nradiology report generation on datasets such as IU-Xray and MIMIC-CXR. Further\\nanalysis indicates that our proposed method can effectively enhance the model\\nto perceive diseases and improve its clinical effectiveness.'} ----\n",
      "---- Calling write_file with args: {'file_path': 'input_docs/Resource-Efficient Medical Report Generation using Large Language Models.txt', 'text': 'Published: 2024-10-21\\nTitle: Resource-Efficient Medical Report Generation using Large Language Models\\nAuthors: Abdullah, Ameer Hamza, Seong Tae Kim\\nSummary: Medical report generation using large language models (LLMs) has shown great potential in automating and enhancing the efficiency of clinical documentation. However, the resource-intensive nature of LLMs poses significant challenges, particularly in resource-constrained environments. This study introduces a novel approach to medical report generation that focuses on optimizing resource efficiency without compromising the quality and accuracy of the generated reports. The proposed method leverages a combination of model compression techniques, such as knowledge distillation and parameter pruning, along with advanced fine-tuning strategies to adapt LLMs for medical report generation tasks. Experimental results demonstrate that the resource-efficient LLMs achieve comparable performance to their larger counterparts while significantly reducing computational and memory requirements. This approach not only makes LLM-based medical report generation more accessible and practical for a wider range of healthcare settings but also paves the way for future research on sustainable AI solutions in the medical domain.'} ----\n",
      "----------------------------------------------------------------------------------------------------\n",
      "----research node----\n",
      "----router----\n",
      "----------------------------------------------------------------------------------------------------\n",
      "----plan node----\n",
      "----------------------------------------------------------------------------------------------------\n",
      "----write node----\n",
      "----router----\n",
      "----------------------------------------------------------------------------------------------------\n",
      "----tool calling----\n",
      "---- Calling list_directory with args: {'dir_path': 'input_docs'} ----\n",
      "----------------------------------------------------------------------------------------------------\n",
      "----write node----\n",
      "----router----\n",
      "----------------------------------------------------------------------------------------------------\n",
      "----review node----\n",
      "---- Revision Count 1 ----\n",
      "----------------------------------------------------------------------------------------------------\n",
      "----write node----\n",
      "----router----\n",
      "----------------------------------------------------------------------------------------------------\n",
      "----review node----\n",
      "---- Revision Count 2 ----\n",
      "----------------------------------------------------------------------------------------------------\n",
      "----write node----\n",
      "----router----\n",
      "----------------------------------------------------------------------------------------------------\n",
      "---- edit node ----\n",
      "----------------------------------------------------------------------------------------------------\n"
     ]
    }
   ],
   "source": [
    "inputs = {\n",
    "    \"input\": \"What are the recent research works on LLM Agents for report or article generation?\",\n",
    "    \"max_revisions\": 2\n",
    "}\n",
    "\n",
    "state = AgentState(**inputs)\n",
    "for s in app.stream(input=state, config={\"recursion_limit\": 50}):\n",
    "    output = list(s.values())[0]['agent_outcome'][0].content\n",
    "    print(\"-----\"*20)"
   ]
  },
  {
   "cell_type": "code",
   "execution_count": null,
   "metadata": {},
   "outputs": [],
   "source": [
    "print(output)"
   ]
  },
  {
   "cell_type": "code",
   "execution_count": 30,
   "metadata": {},
   "outputs": [],
   "source": [
    "import shutil\n",
    "shutil.rmtree(working_directory+'input_docs')"
   ]
  },
  {
   "cell_type": "code",
   "execution_count": 31,
   "metadata": {},
   "outputs": [],
   "source": [
    "from utils.doc_writer.main import file_writer\n",
    "file_writer(working_directory+\"output/output_v1.docx\", output)"
   ]
  },
  {
   "cell_type": "code",
   "execution_count": null,
   "metadata": {},
   "outputs": [],
   "source": []
  }
 ],
 "metadata": {
  "kernelspec": {
   "display_name": ".venv",
   "language": "python",
   "name": "python3"
  },
  "language_info": {
   "codemirror_mode": {
    "name": "ipython",
    "version": 3
   },
   "file_extension": ".py",
   "mimetype": "text/x-python",
   "name": "python",
   "nbconvert_exporter": "python",
   "pygments_lexer": "ipython3",
   "version": "3.11.11"
  }
 },
 "nbformat": 4,
 "nbformat_minor": 2
}
