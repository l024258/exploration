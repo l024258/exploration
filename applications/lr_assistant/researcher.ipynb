{
 "cells": [
  {
   "cell_type": "code",
   "execution_count": 1,
   "metadata": {},
   "outputs": [],
   "source": [
    "import os\n",
    "import sys\n",
    "\n",
    "# Get the current working directory and add the parent directory to the Python path\n",
    "current_working_directory = os.getcwd()\n",
    "sys.path.append(os.path.join(current_working_directory, \"../..\"))"
   ]
  },
  {
   "cell_type": "code",
   "execution_count": 2,
   "metadata": {},
   "outputs": [],
   "source": [
    "import pprint"
   ]
  },
  {
   "cell_type": "markdown",
   "metadata": {},
   "source": [
    "### Defining the Graph state"
   ]
  },
  {
   "cell_type": "code",
   "execution_count": 3,
   "metadata": {},
   "outputs": [],
   "source": [
    "from typing import TypedDict, Annotated, List, Union\n",
    "from langchain_core.agents import AgentAction, AgentFinish\n",
    "from langchain_core.messages import BaseMessage\n",
    "from langchain_core.prompts import ChatPromptTemplate, MessagesPlaceholder\n",
    "import operator\n",
    "from IPython.display import Image, display"
   ]
  },
  {
   "cell_type": "code",
   "execution_count": 4,
   "metadata": {},
   "outputs": [],
   "source": [
    "class AgentState(TypedDict):\n",
    "    input: str\n",
    "    agent_outcome: Union[AgentAction, AgentFinish, None]\n",
    "    intermediate_step: Annotated[list, operator.add]\n",
    "    doc_schema: List[BaseMessage]\n",
    "    revision_number: int = -1\n",
    "    max_revisions: int\n"
   ]
  },
  {
   "cell_type": "markdown",
   "metadata": {},
   "source": [
    "### Defining Tools"
   ]
  },
  {
   "cell_type": "code",
   "execution_count": 5,
   "metadata": {},
   "outputs": [],
   "source": [
    "tools = []"
   ]
  },
  {
   "cell_type": "markdown",
   "metadata": {},
   "source": [
    "#### Search Tools"
   ]
  },
  {
   "cell_type": "code",
   "execution_count": 6,
   "metadata": {},
   "outputs": [],
   "source": [
    "from langchain_community.tools.arxiv.tool import ArxivQueryRun\n",
    "from langchain_community.tools.tavily_search import TavilySearchResults\n",
    "\n",
    "arxiv_search = ArxivQueryRun()\n",
    "tavily_tool = TavilySearchResults(max_results=5)\n",
    "\n",
    "search_tools = [arxiv_search, tavily_tool]\n",
    "search_tools = [arxiv_search]"
   ]
  },
  {
   "cell_type": "code",
   "execution_count": 7,
   "metadata": {},
   "outputs": [],
   "source": [
    "tools.extend(search_tools)"
   ]
  },
  {
   "cell_type": "markdown",
   "metadata": {},
   "source": [
    "#### File Tools"
   ]
  },
  {
   "cell_type": "code",
   "execution_count": 8,
   "metadata": {},
   "outputs": [
    {
     "name": "stdout",
     "output_type": "stream",
     "text": [
      "ai_survey_123\n"
     ]
    }
   ],
   "source": [
    "import uuid\n",
    "session_id = uuid.uuid4()\n",
    "session_id = \"ai_survey_123\"\n",
    "print(session_id)\n",
    "\n",
    "from langchain_community.agent_toolkits import FileManagementToolkit\n",
    "working_directory = \"./input_files/{session_id}/\".format(session_id=session_id)\n",
    "\n",
    "file_tools = FileManagementToolkit(\n",
    "    root_dir=working_directory,\n",
    "    selected_tools=[\"read_file\", \"write_file\", \"list_directory\"],\n",
    ").get_tools()\n",
    "read_tool, write_tool, list_tool = file_tools"
   ]
  },
  {
   "cell_type": "code",
   "execution_count": 9,
   "metadata": {},
   "outputs": [
    {
     "data": {
      "text/plain": [
       "ReadFileTool(root_dir='./input_files/ai_survey_123/')"
      ]
     },
     "execution_count": 9,
     "metadata": {},
     "output_type": "execute_result"
    }
   ],
   "source": [
    "read_tool"
   ]
  },
  {
   "cell_type": "code",
   "execution_count": 10,
   "metadata": {},
   "outputs": [],
   "source": [
    "tools.extend(file_tools)"
   ]
  },
  {
   "cell_type": "code",
   "execution_count": 11,
   "metadata": {},
   "outputs": [],
   "source": [
    "import json\n",
    "from langchain_core.messages import ToolMessage\n",
    "\n",
    "class BasicToolNode:\n",
    "    def __init__(self, tools: list) -> None:\n",
    "        self.tools_by_name = {tool.name: tool for tool in tools}\n",
    "\n",
    "    def __call__(self, inputs: dict):\n",
    "        print(\"----tool calling----\")\n",
    "        message = inputs[\"agent_outcome\"][-1]\n",
    "\n",
    "        outputs = []\n",
    "        for tool_call in message.tool_calls:\n",
    "            print(f\"---- Calling {tool_call['name']} with args: {tool_call['args']} ----\")\n",
    "            tool_result = self.tools_by_name[tool_call[\"name\"]].invoke(\n",
    "                tool_call[\"args\"]\n",
    "            )\n",
    "            outputs.append(\n",
    "                ToolMessage(\n",
    "                    content=json.dumps(tool_result),\n",
    "                    name=tool_call[\"name\"],\n",
    "                    tool_call_id=tool_call[\"id\"],\n",
    "                )\n",
    "            )\n",
    "\n",
    "        return {\n",
    "                \"agent_outcome\": outputs,\n",
    "                \"intermediate_step\": [str(outputs)]\n",
    "            }"
   ]
  },
  {
   "cell_type": "markdown",
   "metadata": {},
   "source": [
    "### Model "
   ]
  },
  {
   "cell_type": "code",
   "execution_count": 12,
   "metadata": {},
   "outputs": [],
   "source": [
    "from models.llm import LLM\n",
    "\n",
    "model = LLM('gpt-4o')\n",
    "llm = model.load_model()"
   ]
  },
  {
   "cell_type": "markdown",
   "metadata": {},
   "source": [
    "### Agent Workflow"
   ]
  },
  {
   "cell_type": "code",
   "execution_count": 13,
   "metadata": {},
   "outputs": [],
   "source": [
    "from langgraph.graph import END, StateGraph\n",
    "workflow = StateGraph(AgentState)"
   ]
  },
  {
   "cell_type": "markdown",
   "metadata": {},
   "source": [
    "#### Agents & Nodes"
   ]
  },
  {
   "cell_type": "markdown",
   "metadata": {},
   "source": [
    "##### Researcher"
   ]
  },
  {
   "cell_type": "code",
   "execution_count": 14,
   "metadata": {},
   "outputs": [
    {
     "data": {
      "text/plain": [
       "<langgraph.graph.state.StateGraph at 0x1192d5150>"
      ]
     },
     "execution_count": 14,
     "metadata": {},
     "output_type": "execute_result"
    }
   ],
   "source": [
    "def research_agent(data):\n",
    "    print(\"----research node----\")\n",
    "    # print(\"\\n\", data[\"agent_outcome\"], \"\\n\")\n",
    "    prompt = ChatPromptTemplate.from_messages(\n",
    "        [\n",
    "            (\n",
    "                \"system\",\n",
    "                \"You are a researcher charged with providing information that can be used when writing the following literature review.\"\n",
    "                \" Given a query, identify similar and relevant topics.\"\n",
    "                \" For each topic and input user query generate a few relevant search querries.\"\n",
    "                \" Use the appropriate search tools for finding the relevant results for all the search querries.\"\n",
    "                \" Once you have the relevant search results, create a directory input_docs, if not present, and dump each result (title, authors, summary or context) separately in a file using Title as the file name.\"\n",
    "                \"\\nYou have access to the following search tools: {tool_names}.\"\n",
    "            ),\n",
    "            (\n",
    "                \"human\",\n",
    "                \"\\nUser Query: {input}\"\n",
    "            ),\n",
    "            \n",
    "            MessagesPlaceholder(variable_name=\"intermediate_step\"),\n",
    "        ]\n",
    "    )\n",
    "    \n",
    "    prompt = prompt.partial(tool_names=\", \".join([tool.name for tool in tools]))\n",
    "    agent = prompt | llm.bind_tools(tools)\n",
    "    result = agent.invoke(data)\n",
    "    return {'agent_outcome': [result]}\n",
    "\n",
    "workflow.add_node(\"research\", research_agent)"
   ]
  },
  {
   "cell_type": "code",
   "execution_count": 15,
   "metadata": {},
   "outputs": [
    {
     "data": {
      "text/plain": [
       "<langgraph.graph.state.StateGraph at 0x1192d5150>"
      ]
     },
     "execution_count": 15,
     "metadata": {},
     "output_type": "execute_result"
    }
   ],
   "source": [
    "research_tool_node = BasicToolNode(tools=tools)\n",
    "workflow.add_node(\"research_tools\", research_tool_node)"
   ]
  },
  {
   "cell_type": "markdown",
   "metadata": {},
   "source": [
    "##### Planner"
   ]
  },
  {
   "cell_type": "code",
   "execution_count": 16,
   "metadata": {},
   "outputs": [
    {
     "data": {
      "text/plain": [
       "<langgraph.graph.state.StateGraph at 0x1192d5150>"
      ]
     },
     "execution_count": 16,
     "metadata": {},
     "output_type": "execute_result"
    }
   ],
   "source": [
    "def plan_agent(data):\n",
    "    print(\"----plan node----\")\n",
    "\n",
    "    prompt = ChatPromptTemplate.from_messages(\n",
    "        [\n",
    "            (\n",
    "                \"system\",\n",
    "                \"\"\"You are an expert planner tasked with writing a high level outline of a literature review. \\\n",
    "                    Plan the outline for a document. If schema is provided, use it to create the outline otherwise do it on your own.\n",
    "                    Give an outline of the literature review along with any relevant notes or instructions for each of the sections. \\ \n",
    "                    \\nYou have access to the file_access tools for reading input files: {tool_names}.\n",
    "                    \\nInput File directory: schema\"\"\"\n",
    "            ),\n",
    "            (\n",
    "                \"human\",\n",
    "                \"\\nUser Query: {input}\"\n",
    "            ),\n",
    "            \n",
    "            MessagesPlaceholder(variable_name=\"intermediate_step\"),\n",
    "        ]\n",
    "    )\n",
    "    prompt = prompt.partial(tool_names=\", \".join([tool.name for tool in file_tools]))\n",
    "    agent = prompt | llm.bind_tools(tools)\n",
    "    result = agent.invoke(data)\n",
    "    return {'agent_outcome': [result],\n",
    "            'doc_schema': [result],\n",
    "            'intermediate_step': [result.content]}\n",
    "\n",
    "workflow.add_node(\"plan\", plan_agent)"
   ]
  },
  {
   "cell_type": "code",
   "execution_count": 17,
   "metadata": {},
   "outputs": [
    {
     "data": {
      "text/plain": [
       "<langgraph.graph.state.StateGraph at 0x1192d5150>"
      ]
     },
     "execution_count": 17,
     "metadata": {},
     "output_type": "execute_result"
    }
   ],
   "source": [
    "plan_tool_node = BasicToolNode(tools=tools)\n",
    "workflow.add_node(\"plan_tools\", plan_tool_node)"
   ]
  },
  {
   "cell_type": "markdown",
   "metadata": {},
   "source": [
    "##### Writer"
   ]
  },
  {
   "cell_type": "code",
   "execution_count": 18,
   "metadata": {},
   "outputs": [
    {
     "data": {
      "text/plain": [
       "<langgraph.graph.state.StateGraph at 0x1192d5150>"
      ]
     },
     "execution_count": 18,
     "metadata": {},
     "output_type": "execute_result"
    }
   ],
   "source": [
    "def write_agent(data):\n",
    "    print(\"----write node----\")\n",
    "    \n",
    "    # print(\"\\n\", data[\"agent_outcome\"], \"\\n\")\n",
    "    \n",
    "    prompt = ChatPromptTemplate.from_messages(\n",
    "        [\n",
    "            (\n",
    "                \"system\",\n",
    "                \"\"\"You are an essay assistant tasked with writing excellent literature review.\\\n",
    "                    Given the document outline and retrieved / input documents generate the best literature review possible. \\\n",
    "                    First write all the sections other than Introduction and Conclusion.\n",
    "                    Check the input_docs directory, if the provided documents are not enough, you can call Agent Researcher with proper search query to get the relevant documents with message: CALL RESEARCHER(search_query). \\\n",
    "                    Make sure to utilize all the documents from the directory input_docs. Do not add any other extra information on your own. \\\n",
    "                    Add necessary references with proper citations. \\\n",
    "                    If the reviewer provides critique, respond with a revised version of your previous attempts. \\\n",
    "                    \\nInput File directory: input_docs \"\"\"\n",
    "            ),\n",
    "            \n",
    "            MessagesPlaceholder(variable_name=\"intermediate_step\"),\n",
    "        ]\n",
    "    )\n",
    "\n",
    "    agent = prompt | llm.bind_tools(file_tools)\n",
    "    # agent = prompt | llm\n",
    "    result = agent.invoke(data)\n",
    "    if hasattr(result, \"tool_calls\") and len(result.tool_calls) > 0:\n",
    "        return {'agent_outcome': [result],}\n",
    "    \n",
    "    if \"call researcher\" in result.content.lower():\n",
    "        return {\"input\": result.content, \"agent_outcome\": [result]}\n",
    "    \n",
    "    return {'agent_outcome': [result],\n",
    "            'revision_number': data.get(\"revision_number\", -1) + 1}\n",
    "\n",
    "workflow.add_node(\"write\", write_agent)"
   ]
  },
  {
   "cell_type": "code",
   "execution_count": 19,
   "metadata": {},
   "outputs": [
    {
     "data": {
      "text/plain": [
       "<langgraph.graph.state.StateGraph at 0x1192d5150>"
      ]
     },
     "execution_count": 19,
     "metadata": {},
     "output_type": "execute_result"
    }
   ],
   "source": [
    "write_tool_node = BasicToolNode(tools=file_tools)\n",
    "workflow.add_node(\"write_tools\", write_tool_node)"
   ]
  },
  {
   "cell_type": "markdown",
   "metadata": {},
   "source": [
    "##### Reviewer"
   ]
  },
  {
   "cell_type": "code",
   "execution_count": 20,
   "metadata": {},
   "outputs": [
    {
     "data": {
      "text/plain": [
       "<langgraph.graph.state.StateGraph at 0x1192d5150>"
      ]
     },
     "execution_count": 20,
     "metadata": {},
     "output_type": "execute_result"
    }
   ],
   "source": [
    "def review_agent(data):\n",
    "    print(\"----review node----\")\n",
    "    print(f\"---- Revision Count {data['revision_number']+1} ----\")\n",
    "    prompt = ChatPromptTemplate.from_messages(\n",
    "        [\n",
    "            (\n",
    "                \"system\",\n",
    "                \"\"\"You are an expert grading a literature review submission. \\\n",
    "                    Generate critique and recommendations for the user's submission. \\\n",
    "                    Provide detailed recommendations, including requests for length, depth, style, etc. \\\n",
    "                    If the generated draft looks perfect, reply appropriately.\"\"\"\n",
    "            ),\n",
    "            \n",
    "            MessagesPlaceholder(variable_name=\"agent_outcome\"),\n",
    "        ]\n",
    "    )\n",
    "    agent = prompt | llm\n",
    "    result = agent.invoke(data)\n",
    "    return {'agent_outcome': [result],\n",
    "            }\n",
    "\n",
    "workflow.add_node(\"review\", review_agent)"
   ]
  },
  {
   "cell_type": "markdown",
   "metadata": {},
   "source": [
    "##### Editor"
   ]
  },
  {
   "cell_type": "code",
   "execution_count": 21,
   "metadata": {},
   "outputs": [
    {
     "data": {
      "text/plain": [
       "<langgraph.graph.state.StateGraph at 0x1192d5150>"
      ]
     },
     "execution_count": 21,
     "metadata": {},
     "output_type": "execute_result"
    }
   ],
   "source": [
    "def edit_agent(data):\n",
    "    print(\"---- edit node ----\")\n",
    "    prompt = ChatPromptTemplate.from_messages(\n",
    "        [\n",
    "            (\n",
    "                \"system\",\n",
    "                \"\"\"You are an experienced editor, expert at literature review submission. \\\n",
    "                    Combine drafts of multiple sections into a single, coherent final document, ensuring a consistent flow, tone, and structure throughout.\n",
    "                    Follow the the doc_schema generated by the plan node to generate the final draft.\n",
    "                    \"\"\"\n",
    "            ),\n",
    "            \n",
    "            MessagesPlaceholder(variable_name=\"agent_outcome\"),\n",
    "            MessagesPlaceholder(variable_name=\"doc_schema\"),\n",
    "        ]\n",
    "    )\n",
    "    agent = prompt | llm\n",
    "    result = agent.invoke(data)\n",
    "    return {'agent_outcome': [result],\n",
    "            }\n",
    "\n",
    "workflow.add_node(\"edit\", edit_agent)"
   ]
  },
  {
   "cell_type": "markdown",
   "metadata": {},
   "source": [
    "#### Edges"
   ]
  },
  {
   "cell_type": "code",
   "execution_count": 22,
   "metadata": {},
   "outputs": [
    {
     "data": {
      "text/plain": [
       "<langgraph.graph.state.StateGraph at 0x1192d5150>"
      ]
     },
     "execution_count": 22,
     "metadata": {},
     "output_type": "execute_result"
    }
   ],
   "source": [
    "def route_researcher(\n",
    "    state: AgentState,\n",
    "):\n",
    "    \"\"\"\n",
    "    Use in the conditional_edge to route to the ToolNode if the last message\n",
    "    has tool calls. Otherwise, route to the end.\n",
    "    \"\"\"\n",
    "    print(\"----router----\")\n",
    "    if isinstance(state, list):\n",
    "        ai_message = state[-1]\n",
    "    elif agent_outcome := state.get(\"agent_outcome\", []):\n",
    "        ai_message = agent_outcome[-1]\n",
    "    else:\n",
    "        raise ValueError(f\"No messages found in input state to tool_edge: {state}\")\n",
    "\n",
    "    if hasattr(ai_message, \"tool_calls\") and len(ai_message.tool_calls) > 0:\n",
    "        return \"tools\"\n",
    "    return \"END\"\n",
    "\n",
    "\n",
    "workflow.add_conditional_edges(\n",
    "    \"research\",\n",
    "    route_researcher,\n",
    "    {\"tools\": \"research_tools\", \"END\": \"write\"},\n",
    ")\n",
    "\n",
    "workflow.add_edge(\"research_tools\", \"research\")"
   ]
  },
  {
   "cell_type": "code",
   "execution_count": 23,
   "metadata": {},
   "outputs": [
    {
     "data": {
      "text/plain": [
       "<langgraph.graph.state.StateGraph at 0x1192d5150>"
      ]
     },
     "execution_count": 23,
     "metadata": {},
     "output_type": "execute_result"
    }
   ],
   "source": [
    "def route_planner(\n",
    "    state: AgentState,\n",
    "):\n",
    "    \"\"\"\n",
    "    Use in the conditional_edge to route to the ToolNode if the last message\n",
    "    has tool calls. Otherwise, route to the end.\n",
    "    \"\"\"\n",
    "    print(\"----router----\")\n",
    "    if isinstance(state, list):\n",
    "        ai_message = state[-1]\n",
    "    elif agent_outcome := state.get(\"agent_outcome\", []):\n",
    "        ai_message = agent_outcome[-1]\n",
    "    else:\n",
    "        raise ValueError(f\"No messages found in input state to tool_edge: {state}\")\n",
    "\n",
    "    if hasattr(ai_message, \"tool_calls\") and len(ai_message.tool_calls) > 0:\n",
    "        return \"tools\"\n",
    "    \n",
    "    return \"END\"\n",
    "\n",
    "workflow.add_conditional_edges(\n",
    "    \"plan\",\n",
    "    route_planner,\n",
    "    {\"tools\": \"plan_tools\", \"END\": \"write\"}\n",
    "    # {\"tools\": \"plan_tools\", \"END\": END}\n",
    ")\n",
    "workflow.add_edge(\"plan_tools\", \"plan\")"
   ]
  },
  {
   "cell_type": "code",
   "execution_count": 24,
   "metadata": {},
   "outputs": [],
   "source": [
    "# workflow.add_edge(\"plan\", \"write\")"
   ]
  },
  {
   "cell_type": "code",
   "execution_count": 25,
   "metadata": {},
   "outputs": [
    {
     "data": {
      "text/plain": [
       "<langgraph.graph.state.StateGraph at 0x1192d5150>"
      ]
     },
     "execution_count": 25,
     "metadata": {},
     "output_type": "execute_result"
    }
   ],
   "source": [
    "def route_writer(\n",
    "    state: AgentState,\n",
    "):\n",
    "    \"\"\"\n",
    "    Use in the conditional_edge to route to the ToolNode if the last message\n",
    "    has tool calls. Otherwise, route to the end.\n",
    "    \"\"\"\n",
    "    print(\"----router----\")\n",
    "\n",
    "    if isinstance(state, list):\n",
    "        ai_message = state[-1]\n",
    "    elif agent_outcome := state.get(\"agent_outcome\", []):\n",
    "        ai_message = agent_outcome[-1]\n",
    "    else:\n",
    "        raise ValueError(f\"No messages found in input state to tool_edge: {state}\")\n",
    "    \n",
    "    if hasattr(ai_message, \"tool_calls\") and len(ai_message.tool_calls) > 0:\n",
    "        return \"tools\"\n",
    "\n",
    "    if \"call researcher\" in ai_message.content.lower():\n",
    "        return \"research\"\n",
    "\n",
    "    if state[\"revision_number\"] < state[\"max_revisions\"]:\n",
    "        return \"review\"\n",
    "    return \"END\"\n",
    "\n",
    "workflow.add_conditional_edges(\n",
    "    \"write\",\n",
    "    route_writer,\n",
    "    {\"tools\":\"write_tools\", \"research\": \"research\", \"review\": \"review\", \"END\": \"edit\"}\n",
    ")\n",
    "workflow.add_edge(\"write_tools\", \"write\")"
   ]
  },
  {
   "cell_type": "code",
   "execution_count": 26,
   "metadata": {},
   "outputs": [
    {
     "data": {
      "text/plain": [
       "<langgraph.graph.state.StateGraph at 0x1192d5150>"
      ]
     },
     "execution_count": 26,
     "metadata": {},
     "output_type": "execute_result"
    }
   ],
   "source": [
    "workflow.add_edge(\"review\", \"write\")"
   ]
  },
  {
   "cell_type": "code",
   "execution_count": 27,
   "metadata": {},
   "outputs": [
    {
     "data": {
      "text/plain": [
       "<langgraph.graph.state.StateGraph at 0x1192d5150>"
      ]
     },
     "execution_count": 27,
     "metadata": {},
     "output_type": "execute_result"
    }
   ],
   "source": [
    "workflow.add_edge(\"edit\", END)"
   ]
  },
  {
   "cell_type": "code",
   "execution_count": 28,
   "metadata": {},
   "outputs": [
    {
     "data": {
      "image/jpeg": "[encoded data removed]",
      "text/plain": [
       "<IPython.core.display.Image object>"
      ]
     },
     "metadata": {},
     "output_type": "display_data"
    }
   ],
   "source": [
    "workflow.set_entry_point(\"plan\")\n",
    "app = workflow.compile()\n",
    "try:\n",
    "    display(Image(app.get_graph(xray=True).draw_mermaid_png()))\n",
    "except Exception:\n",
    "    # This requires some extra dependencies and is optional\n",
    "    pass"
   ]
  },
  {
   "cell_type": "code",
   "execution_count": 33,
   "metadata": {},
   "outputs": [
    {
     "name": "stdout",
     "output_type": "stream",
     "text": [
      "----plan node----\n",
      "----router----\n",
      "----------------------------------------------------------------------------------------------------\n",
      "----tool calling----\n",
      "---- Calling list_directory with args: {'dir_path': 'schema'} ----\n",
      "----------------------------------------------------------------------------------------------------\n",
      "----plan node----\n",
      "----router----\n",
      "----------------------------------------------------------------------------------------------------\n",
      "----tool calling----\n",
      "---- Calling read_file with args: {'file_path': 'schema/schema.txt'} ----\n",
      "----------------------------------------------------------------------------------------------------\n",
      "----plan node----\n",
      "----router----\n",
      "----------------------------------------------------------------------------------------------------\n",
      "----write node----\n",
      "----router----\n",
      "----------------------------------------------------------------------------------------------------\n",
      "----tool calling----\n",
      "---- Calling read_file with args: {'file_path': 'input_docs/ai.txt'} ----\n",
      "---- Calling read_file with args: {'file_path': 'input_docs/ai-healthcare.txt'} ----\n",
      "----------------------------------------------------------------------------------------------------\n",
      "----write node----\n",
      "----router----\n",
      "----------------------------------------------------------------------------------------------------\n",
      "----review node----\n",
      "---- Revision Count 1 ----\n",
      "----------------------------------------------------------------------------------------------------\n",
      "----write node----\n",
      "----router----\n",
      "----------------------------------------------------------------------------------------------------\n",
      "----review node----\n",
      "---- Revision Count 2 ----\n",
      "----------------------------------------------------------------------------------------------------\n",
      "----write node----\n",
      "----router----\n",
      "----------------------------------------------------------------------------------------------------\n",
      "---- edit node ----\n",
      "----------------------------------------------------------------------------------------------------\n"
     ]
    }
   ],
   "source": [
    "inputs = {\n",
    "    \"input\": \"What are the recent research works on LLM Agents for report or article generation?\",\n",
    "    \"input\": \"\",\n",
    "    \"max_revisions\": 2\n",
    "}\n",
    "\n",
    "state = AgentState(**inputs)\n",
    "for s in app.stream(input=state, config={\"recursion_limit\": 50}):\n",
    "    output = list(s.values())[0]['agent_outcome'][0].content\n",
    "    print(\"-----\"*20)"
   ]
  },
  {
   "cell_type": "code",
   "execution_count": 30,
   "metadata": {},
   "outputs": [
    {
     "name": "stdout",
     "output_type": "stream",
     "text": [
      "### Title\n",
      "**The Evolution and Application of Generative AI in Natural Language Processing and Healthcare**\n",
      "\n",
      "### Abstract\n",
      "Generative Artificial Intelligence (Generative AI) has revolutionized various fields, particularly Natural Language Processing (NLP) and healthcare. This literature review explores the evolution of Generative AI, tracing its development from early rule-based and statistical models to the advent of neural networks and transformer architectures. The review highlights key milestones, including the introduction of BERT and GPT models, and discusses the impact of transfer learning and fine-tuning techniques. Additionally, the application of AI in healthcare is examined, focusing on its transformative role in medical writing and other healthcare-related tasks. The review concludes by summarizing the significant advancements and future potential of Generative AI in these domains.\n",
      "\n",
      "### Introduction\n",
      "#### Problem Definition\n",
      "Generative Artificial Intelligence (Generative AI) has emerged as a transformative force in various fields, particularly in Natural Language Processing (NLP) and healthcare. The primary focus of this literature review is to explore the evolution of Generative AI, its methodologies, and its applications in these domains.\n",
      "\n",
      "#### Current Challenges\n",
      "Despite the significant advancements in Generative AI, several challenges persist. Early NLP models, such as rule-based and statistical models, struggled with flexibility and contextual understanding. Neural networks and transformer architectures addressed some of these limitations, but issues related to parallelism and handling long dependencies remained. In healthcare, the integration of AI poses challenges related to data privacy, accuracy, and regulatory compliance.\n",
      "\n",
      "#### Methods Discussed\n",
      "This review covers the evolution of AI methodologies, including rule-based models, statistical models, neural networks, and transformer architectures. It also examines the application of AI in healthcare, focusing on medical writing and other healthcare-related tasks.\n",
      "\n",
      "#### Results Analysis\n",
      "The review highlights the significant advancements in Generative AI, particularly in NLP and healthcare. It discusses the impact of transformer architectures, such as BERT and GPT, and the role of transfer learning and fine-tuning in democratizing access to powerful language models. In healthcare, AI has transformed medical writing, enabling more efficient and accurate content generation.\n",
      "\n",
      "### Methods\n",
      "#### AI Evolution\n",
      "Generative Artificial Intelligence (Generative AI) represents a paradigm shift in artificial intelligence, enabling systems to autonomously generate content such as images, text, codes, and even entire datasets. Unlike traditional AI, which focuses on recognizing patterns within existing data, Generative AI focuses on the generation of new content. At its core, Generative AI leverages advanced algorithms, often based on deep learning techniques like Generative Adversarial Networks (GANs) and Large Language Models (LLMs), to produce outputs that closely mimic or even surpass the quality of human-created content. In the realm of Natural Language Processing (NLP), Generative AI has emerged as a game-changer, revolutionizing the way machines understand and produce human-like text.\n",
      "\n",
      "##### Evolution of GenAI in NLP\n",
      "The evolution of Generative AI in NLP can be traced through key milestones that have shaped its capabilities.\n",
      "\n",
      "**Early NLP Models:**\n",
      "The journey began with rule-based and statistical NLP models that struggled to capture the nuances of human language. These models laid the foundation but were limited in their ability to handle complexity.\n",
      "\n",
      "1. **Rule-Based Models:** Early NLP systems heavily relied on predefined rules programmed by linguists and domain experts. These rules were intended to guide machines in understanding syntax, grammar, and semantics. While these models provided a structured approach, they failed in capturing the flexibility and context-dependent nature of language. The rigid rule structures struggled to adapt to the diverse ways people express ideas and convey meaning, limiting their effectiveness in real-world language scenarios.\n",
      "   \n",
      "2. **Statistical NLP Models:** Recognizing the limitations of rule-based approaches, the NLP community transitioned to statistical models. These models aimed to learn patterns and relationships from vast amounts of linguistic data. By applying statistical algorithms, they sought to infer language rules and associations. While statistical models demonstrated more flexibility than rule-based counterparts, they still grappled with the inherent complexities of human language, struggling to handle ambiguity, context, and the dynamic nature of linguistic expressions.\n",
      "\n",
      "**Challenges Faced:**\n",
      "- **Lack of Flexibility:** Rule-based models were rigid and struggled to adapt to the diverse ways people express ideas.\n",
      "- **Data Limitations:** Statistical models heavily relied on the availability of large, labeled datasets, limiting their adaptability to diverse linguistic contexts.\n",
      "- **Contextual Understanding:** Both rule-based and statistical models faced challenges in comprehending the nuances of context, often leading to misinterpretation and inaccuracies.\n",
      "\n",
      "These early NLP models, though foundational, set the stage for the realization that a more sophisticated approach was needed. The limitations encountered paved the way for the evolution of NLP into more adaptive, data-driven, and context-aware models.\n",
      "\n",
      "**Rise of Neural Networks:**\n",
      "With the limitations of early rule-based and statistical NLP models becoming evident, the field witnessed a ground-breaking evolution with the advent of neural networks. This marked a paradigm shift in NLP, as neural networks demonstrated an unprecedented ability to capture intricate patterns in language, paving the way for more contextually aware and sophisticated language models.\n",
      "\n",
      "1. **Distributed Representations:** Early in the neural network era, models like Word2Vec and GloVe emerged as trailblazers. These models introduced the concept of distributed representations, where words were embedded in high-dimensional vector spaces. This shift allowed words to be positioned in relation to each other based on their semantic meanings, facilitating a more nuanced understanding of language. The distributed representation approach proved immensely powerful in capturing subtle linguistic nuances and relationships.\n",
      "   \n",
      "2. **Introduction of RNNs and Encoder-Decoder Architectures:** Recurrent Neural Networks (RNNs) further advanced the capabilities of NLP models by introducing the notion of sequential processing. RNNs allowed models to consider the sequential nature of language, enabling the capture of dependencies between words in a sentence. This was a crucial step towards understanding context and capturing information beyond individual words. Additionally, the encoder-decoder architecture emerged as a pivotal development, especially in tasks like machine translation, where contextual understanding was paramount.\n",
      "   \n",
      "3. **Attention Mechanisms:** Attention mechanisms revolutionized the NLP landscape by addressing the limitations of RNNs in handling long dependencies and capturing contextual information efficiently. Models equipped with attention mechanisms could focus on specific parts of the input sequence while making predictions, allowing them to capture and utilize relevant context effectively. This innovation significantly enhanced the ability of NLP models to comprehend and generate coherent and contextually relevant text.\n",
      "\n",
      "**Challenges Encountered:**\n",
      "- **Parallelism Limitations:** Despite their capabilities, RNNs faced challenges in parallelizing computations, impacting their efficiency and scalability.\n",
      "- **Handling Long Dependencies:** The sequential nature of RNNs made them struggle with handling long-range dependencies in text, limiting their ability to capture nuanced relationships in lengthy documents or conversations.\n",
      "\n",
      "The rise of neural networks laid a robust foundation for NLP models, significantly improving their capacity to understand and generate human-like language. However, the challenges encountered in handling parallelism and long dependencies paved the way for the next phase of evolution: the emergence of transformer architectures, which would redefine the landscape of Generative AI in NLP.\n",
      "\n",
      "**Transformers:**\n",
      "The Transformer model, introduced in the paper \"Attention is All You Need\" by Vaswani et al. in 2017, represents a ground-breaking architecture in the field of natural language processing (NLP) and machine learning. It has become the foundation for many state-of-the-art models, such as BERT and GPT. The Transformer architecture is designed to address the limitations of earlier sequential models like recurrent neural networks (RNNs) and is particularly powerful for sequence-to-sequence tasks.\n",
      "\n",
      "**Key components of the Transformer model:**\n",
      "1. **Self-Attention Mechanism:** The self-attention mechanism allows the model to weigh the importance of different words in a sequence when making predictions. It enables the model to consider the entire context, avoiding the sequential processing limitations of RNNs. Each word in the input sequence is associated with a query, key, and value. The attention scores determine how much focus to place on other words when processing a particular word.\n",
      "   \n",
      "2. **Multi-Head Attention:** To enhance the expressive power of self-attention, multiple attention mechanisms, or \"heads,\" are run in parallel. Each head has its set of query, key, and value parameters. The outputs of the multiple attention heads are concatenated and linearly transformed to produce the final attention output.\n",
      "   \n",
      "3. **Positional Encoding:** Since the Transformer lacks inherent sequential order, positional encoding is added to the input embeddings to provide information about the position of each word in the sequence. This allows the model to distinguish between the positions of words, crucial for capturing sequential information.\n",
      "   \n",
      "4. **Feedforward Neural Network:** Each attention head's output is passed through a feedforward neural network. This network consists of a fully connected layer with a ReLU activation. The feedforward network helps capture complex patterns and relationships in the data.\n",
      "   \n",
      "5. **Layer Normalization and Residual Connections:** Layer normalization and residual connections are applied around each sub-layer (self-attention, feedforward) to aid in training stability and convergence. These mechanisms contribute to the model's ability to handle deep architectures effectively.\n",
      "   \n",
      "6. **Encoder-Decoder Architecture:** The Transformer can be used for both encoder-only tasks (like language modeling) and encoder-decoder tasks (like machine translation). For encoder-decoder tasks, separate encoder and decoder stacks are employed. The encoder processes the input sequence, and the decoder generates the output sequence.\n",
      "\n",
      "The Transformer's parallelizable self-attention mechanism and its ability to capture long-range dependencies make it highly efficient for processing sequential data. The emergence of transformer architectures, exemplified by models like BERT (Bidirectional Encoder Representations from Transformers), and GPT (Generative Pre-trained Transformer), represented the ground-breaking leap in NLP capabilities.\n",
      "\n",
      "- **BERT (Bidirectional Encoder Representations from Transformers):** BERT, a pre-trained encoder-only transformer model (autoencoder), achieved remarkable success by learning contextualized representations of words bidirectionally. Unlike previous models that considered words in isolation, BERT could understand the meaning of a word based on its surrounding context in both directions. This contextual understanding had a profound impact on a wide range of NLP tasks, such as sentiment analysis, named entity recognition, and question answering.\n",
      "   \n",
      "- **GPT (Generative Pre-trained Transformer):** GPT, developed by OpenAI, is a decoder-only transformer model (autoregressive) that showcased the power of pre-training and generative capabilities. GPT leverages a transformer architecture to pre-train on a vast corpus of text, enabling it to generate coherent and contextually relevant language. The generative nature of GPT makes it versatile for various creative and practical applications, from content generation to chatbots.\n",
      "\n",
      "**Challenges Addressed:**\n",
      "- **Sequential Processing Limitations:** Transformers addressed the limitations of sequential processing by introducing attention mechanisms, significantly improving parallelism.\n",
      "- **Enhanced Contextual Understanding:** Transformers contributed to a deeper contextual understanding of language, allowing models to generate more contextually relevant and coherent text.\n",
      "\n",
      "The introduction of transformer architecture marked a watershed moment in Generative AI for NLP. This not only overcame previous limitations but also set the stage for more sophisticated and context-aware language models, defining the trajectory for the future of AI-driven language generation.\n",
      "\n",
      "**Transfer Learning and Fine-Tuning:**\n",
      "In recent years, one of the most influential advancements in Natural Language Processing (NLP) has been the widespread adoption of transfer learning and fine-tuning techniques. This innovative approach has revolutionized how NLP models are developed and applied, democratizing access to powerful language models and enabling organizations of all sizes to leverage state-of-the-art capabilities.\n",
      "\n",
      "1. **Transfer Learning in NLP:** Transfer learning involves training a model on a large dataset and then transferring its knowledge to a different, often smaller, dataset for a specific task. In the context of NLP, this means pre-training a language model on a vast corpus of text to learn general language representations. The model, having acquired a broad understanding of language during pre-training, can then be fine-tuned on smaller, task-specific datasets to excel in particular NLP tasks, such as sentiment analysis, text classification, or named entity recognition.\n",
      "   \n",
      "2. **Fine-Tuning for Task-Specific Performance:** Fine-tuning is the process of adapting a pre-trained model to perform a specific task effectively. After pre-training on a large dataset, the model is fine-tuned on a smaller dataset related to the task at hand. This process allows the model to adjust its parameters and learn task-specific patterns, making it highly efficient and accurate in specialized NLP applications. The ability to fine-tune pre-trained models has proven to be a game-changer, as it significantly reduces the need for massive amounts of labeled data for every specific task.\n",
      "   \n",
      "3. **Democratizing Access to Powerful Models:** The paradigm of transfer learning and fine-tuning has democratized access to powerful NLP capabilities. Pre-trained models, like BERT and GPT, serve as foundational resources that can be fine-tuned for various applications without requiring organizations to invest substantial resources in training models from scratch. This accessibility has leveled the playing field, allowing smaller organizations and developers to harness the capabilities of state-of-the-art language models, which were once only within the reach of tech giants with extensive computational resources.\n",
      "\n",
      "The democratization of powerful language models through transfer learning and fine-tuning has democratized the NLP landscape, empowering a broader range of entities to leverage cutting-edge technologies. This approach not only enhances the efficiency of NLP tasks but also fosters innovation by making advanced language processing capabilities more accessible and adaptable across various industries and applications.\n",
      "\n",
      "**Impact of GenAI in context of NLP:**\n",
      "Generative AI, particularly in the context of NLP, has had a profound impact across diverse industries, reshaping the landscape of how we interact with technology.\n",
      "\n",
      "- **Content Creation and Copywriting:** Generative models like OpenAI's GPT-3 have demonstrated unprecedented capabilities in content creation, automating copywriting tasks and producing high-quality articles, marketing materials, and creative pieces.\n",
      "- **Virtual Assistants and Customer Support:** The evolution of Generative AI has led to the development of more human-like virtual assistants and customer support bots. These systems can understand user queries, engage in meaningful conversations, and provide assistance with remarkable fluency.\n",
      "- **Language Translation:** Generative models have significantly improved language translation services, enabling more accurate and context-aware translations. This has immense implications for global communication and cross-cultural collaboration.\n",
      "- **Healthcare and Biotechnology:** In the healthcare sector, Generative AI is being used to analyze medical texts, generate reports, and assist in drug discovery. The ability to process vast amounts of medical literature has accelerated research and decision-making processes.\n",
      "\n",
      "#### AI for Healthcare\n",
      "In an era of rapid technological progression, artificial intelligence (AI) language models have emerged as transformative forces, significantly altering traditional workflows and methodologies across many fields, including medical writing. As medical writers preparing for an AI-dominated future, it is crucial to understand how these AI language models work. This understanding allows for the optimal application of AI in areas where it excels, maintaining a realistic, balanced perspective, and avoiding the pitfalls associated with excessive or unfounded fear stirred by the current AI hype and related exaggerated promises.\n",
      "\n",
      "**AI Language Models in Medical Writing:**\n",
      "A large language model (LLM) is a deep learning technique, and a subset of machine learning, that uses artificial neural networks to analyze immense volumes of data, unveil intricate patterns, and guide decision-making. Through extensive training on massive datasets, LLMs develop an unparalleled capacity to recognize, comprehend, predict, and generate novel content spanning myriad domains.\n",
      "\n",
      "**Generative AI (genAI):**\n",
      "The term generative AI refers to all AI tools that use LLMs to primarily create content such as images (e.g., Midjourney or Stable Diffusion), text (e.g., GPT-4, PaLM, or Claude), code (e.g., Copilot), or audio (e.g., VALL-E or resemble.ai) in response to short prompts. To process a prompt, its words need to be converted into a model-readable input format, such as vectors or tokens. Tokens can be as small as individual characters or punctuation symbols, or as large as words or even whole sentences, depending on the model and tokenization method (e.g., rule-based, statistical, neural). This process of breaking down text into individual units is called tokenization.\n",
      "\n",
      "**Transformers in Medical Writing:**\n",
      "Modern LLMs and hence genAI tools successfully apply transformer architecture. Two key features define transformers: the encoder-decoder structure and the attention mechanism. The encoder processes the input data and generates a set of context vectors. Using these vectors, the decoder generates the output by selecting the token with the highest probability in a sequence of tokens. The attention mechanism, a crucial element in transformers, assigns a weight to an input token, guiding the model on where to focus during output generation. This process enables the model to manage long-range data dependencies, effectively equipping the model with long-term memory.\n",
      "\n",
      "**Applications in Medical Writing:**\n",
      "Generative AI, and ChatGPT in particular, can be used to assist with many tasks, including:\n",
      "- Paraphrasing\n",
      "- Reformatting references to different styles\n",
      "- Rewriting materials and methods sections\n",
      "- Explaining statistical tests\n",
      "- Rewriting abstracts\n",
      "- Extracting article highlights\n",
      "- Suggesting keywords\n",
      "- Writing submission letters\n",
      "- Summarizing scientific articles or medical information for various audiences\n",
      "- Writing lay summaries\n",
      "- Repurposing available information for different formats and various audiences\n",
      "- Creating educational and other training materials such as courses, webinars, presentations, hand-outs\n",
      "- Compiling product and safety information\n",
      "- Generating responses to customer inquiries\n",
      "- Generating scripts for chatbots/virtual assistants and much more.\n",
      "\n",
      "**Limitations of AI Language Models:**\n",
      "Despite being trained on increasingly larger datasets, using more parameters and unprecedented computational power, current genAI models are primarily sophisticated \"prediction engines.\" While their performance consistently improves, it is important to remember that their output lacks true comprehension, critical thinking, or consciousness. Consequently, the generated texts have a tendency to be lengthy and articulate replies that could potentially include plausible but inaccurate or biased information. Therefore, it is mandatory that users review the output critically and always check its accuracy, appropriateness, context, and actual usefulness before accepting any result.\n",
      "\n",
      "**Privacy Concerns:**\n",
      "It is also essential to address privacy concerns when using text-generation tools. Careful consideration should be given to the inclusion of safe input data to prevent the inadvertent sharing of confidential or proprietary information.\n",
      "\n",
      "**Regulation and Guidelines:**\n",
      "The potential disruptiveness of this technology is not going unrecognized. Many journals and organizations have published guidelines with the intent to regulate the use of text-generation tools for publications (Springer-Nature, Elsevier, Taylor & Francis, JAMA Network, the World Association of Medical Editors, and the International Committee of Medical Journal Editors).\n",
      "\n",
      "**Future of AI in Medical Writing:**\n",
      "AI language models and applications are set to reshape the medical writing space, redefining traditional workflows and methodologies in the process. Navigating this shift requires an open attitude, curiosity, and a commitment to continuous learning. Consider genAI applications as tools in your arsenal. Merely possessing a toolbox isn’t enough; you need to know which tool to use for which task and how to use it effectively. Our unique human abilities – understanding context, strategic thinking, critical evaluation, and conveying nuanced emotions – remain invaluable. They set us apart and play a crucial role in moderating and refining AI-generated output. Harness the potential of these AI tools to boost your productivity and elevate the quality of your work instead of fighting them. Crafting credible, evidence-based materials that are accurate, clear, and compelling still demands the expertise of a skilled medical writer. Remember, AI tools are not substitutes but powerful allies in our writing journey. Let’s leverage these advancements to build a promising future in medical writing.\n",
      "\n",
      "### Conclusion\n",
      "Generative AI has significantly advanced the fields of Natural Language Processing and healthcare, particularly in medical writing. The evolution from early rule-based and statistical models to neural networks and transformer architectures has revolutionized the way machines understand and\n"
     ]
    }
   ],
   "source": [
    "print(output)"
   ]
  },
  {
   "cell_type": "code",
   "execution_count": 31,
   "metadata": {},
   "outputs": [],
   "source": [
    "import shutil\n",
    "shutil.rmtree(working_directory+'retrieved_results')"
   ]
  },
  {
   "cell_type": "code",
   "execution_count": 32,
   "metadata": {},
   "outputs": [],
   "source": [
    "from utils.doc_writer.main import file_writer\n",
    "file_writer(working_directory + \"output/output.txt\", output)"
   ]
  },
  {
   "cell_type": "code",
   "execution_count": null,
   "metadata": {},
   "outputs": [],
   "source": []
  }
 ],
 "metadata": {
  "kernelspec": {
   "display_name": ".venv",
   "language": "python",
   "name": "python3"
  },
  "language_info": {
   "codemirror_mode": {
    "name": "ipython",
    "version": 3
   },
   "file_extension": ".py",
   "mimetype": "text/x-python",
   "name": "python",
   "nbconvert_exporter": "python",
   "pygments_lexer": "ipython3",
   "version": "3.10.7"
  }
 },
 "nbformat": 4,
 "nbformat_minor": 2
}
