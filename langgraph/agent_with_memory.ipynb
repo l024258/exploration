{
 "cells": [
  {
   "cell_type": "code",
   "execution_count": null,
   "metadata": {},
   "outputs": [],
   "source": [
    "import os\n",
    "import sys\n",
    "\n",
    "# Get the current working directory and add the parent directory to the Python path\n",
    "current_working_directory = os.getcwd()\n",
    "print(os.path.join(current_working_directory, \"..\"))\n",
    "sys.path.append(os.path.join(current_working_directory, \"..\"))"
   ]
  },
  {
   "cell_type": "code",
   "execution_count": 2,
   "metadata": {},
   "outputs": [],
   "source": [
    "import pprint"
   ]
  },
  {
   "cell_type": "markdown",
   "metadata": {},
   "source": [
    "### Defining the Graph state"
   ]
  },
  {
   "cell_type": "code",
   "execution_count": 3,
   "metadata": {},
   "outputs": [],
   "source": [
    "from typing import TypedDict, Annotated, List, Union\n",
    "from langchain_core.agents import AgentAction, AgentFinish\n",
    "from langchain_core.messages import BaseMessage, HumanMessage\n",
    "import operator\n",
    "from IPython.display import Image, display"
   ]
  },
  {
   "cell_type": "code",
   "execution_count": 4,
   "metadata": {},
   "outputs": [],
   "source": [
    "class AgentState(TypedDict):\n",
    "    input: str\n",
    "    agent_outcome: Union[AgentAction, AgentFinish, None]\n",
    "    intermediate_step: Annotated[list, operator.add]"
   ]
  },
  {
   "cell_type": "code",
   "execution_count": 5,
   "metadata": {},
   "outputs": [],
   "source": [
    "from langchain_community.tools.arxiv.tool import ArxivQueryRun\n",
    "from langchain_community.tools.pubmed.tool import PubmedQueryRun\n",
    "from langchain_community.tools.tavily_search import TavilySearchResults\n",
    "\n",
    "pubmed_search = PubmedQueryRun()\n",
    "arxiv_search = ArxivQueryRun()\n",
    "tavily_tool = TavilySearchResults(max_results=5)\n",
    "\n",
    "tools = [arxiv_search, pubmed_search, tavily_tool]\n",
    "# tools = [arxiv_search, pubmed_search]\n",
    "# tools = [arxiv_search]"
   ]
  },
  {
   "cell_type": "code",
   "execution_count": 6,
   "metadata": {},
   "outputs": [],
   "source": [
    "from models.llm import LLM\n",
    "\n",
    "model = LLM('gpt-4o')\n",
    "llm = model.load_model()"
   ]
  },
  {
   "cell_type": "code",
   "execution_count": 7,
   "metadata": {},
   "outputs": [],
   "source": [
    "from langchain_core.prompts import ChatPromptTemplate, MessagesPlaceholder\n",
    "\n",
    "def research_agent(data):\n",
    "    print(\"----research node----\")\n",
    "    prompt = ChatPromptTemplate.from_messages(\n",
    "        [\n",
    "            (\n",
    "                \"system\",\n",
    "                \"You are a helpful AI research assistant chatbot,\"\n",
    "                \" Use the appropriate search tools and chat history to progress towards finding the relevant results.\"\n",
    "                \" Once you have the relevant search results, summarise them to answer the user query.\"\n",
    "                \"\\nYou have access to the following search tools: {tool_names}.\"\n",
    "            ),\n",
    "            (\n",
    "                \"human\",\n",
    "                \"\\nUser Query: {input}\"\n",
    "            ),\n",
    "            \n",
    "            MessagesPlaceholder(variable_name=\"intermediate_step\"),\n",
    "        ]\n",
    "    )\n",
    "    prompt = prompt.partial(tool_names=\", \".join([tool.name for tool in tools]))\n",
    "    agent = prompt | llm.bind_tools(tools)\n",
    "    result = agent.invoke(data)\n",
    "    return {'agent_outcome': [result],}"
   ]
  },
  {
   "cell_type": "code",
   "execution_count": null,
   "metadata": {},
   "outputs": [],
   "source": [
    "from langgraph.graph import END, StateGraph\n",
    "workflow = StateGraph(AgentState)\n",
    "\n",
    "workflow.add_node(\"research\", research_agent)\n",
    "workflow.set_entry_point(\"research\")"
   ]
  },
  {
   "cell_type": "code",
   "execution_count": null,
   "metadata": {},
   "outputs": [],
   "source": [
    "import json\n",
    "from langchain_core.messages import ToolMessage\n",
    "\n",
    "class BasicToolNode:\n",
    "    def __init__(self, tools: list) -> None:\n",
    "        self.tools_by_name = {tool.name: tool for tool in tools}\n",
    "\n",
    "    def __call__(self, inputs: dict):\n",
    "        print(\"----tool calling----\")\n",
    "        message = inputs[\"agent_outcome\"][-1]\n",
    "\n",
    "        outputs = []\n",
    "        for tool_call in message.tool_calls:\n",
    "            print(f\"---- Calling {tool_call['name']} with args: {tool_call['args']} ----\")\n",
    "            tool_result = self.tools_by_name[tool_call[\"name\"]].invoke(\n",
    "                tool_call[\"args\"]\n",
    "            )\n",
    "            outputs.append(\n",
    "                ToolMessage(\n",
    "                    content=json.dumps(tool_result),\n",
    "                    name=tool_call[\"name\"],\n",
    "                    tool_call_id=tool_call[\"id\"],\n",
    "                )\n",
    "            )\n",
    "\n",
    "        return {\n",
    "                \"agent_outcome\": outputs,\n",
    "                \"intermediate_step\": [str(outputs)]\n",
    "            }\n",
    "\n",
    "tool_node = BasicToolNode(tools=tools)\n",
    "workflow.add_node(\"tools\", tool_node)"
   ]
  },
  {
   "cell_type": "code",
   "execution_count": 10,
   "metadata": {},
   "outputs": [],
   "source": [
    "def route_tools(\n",
    "    state: AgentState,\n",
    "):\n",
    "    \"\"\"\n",
    "    Use in the conditional_edge to route to the ToolNode if the last message\n",
    "    has tool calls. Otherwise, route to the end.\n",
    "    \"\"\"\n",
    "    print(\"----router----\")\n",
    "    if isinstance(state, list):\n",
    "        ai_message = state[-1]\n",
    "    elif agent_outcome := state.get(\"agent_outcome\", []):\n",
    "        ai_message = agent_outcome[-1]\n",
    "    else:\n",
    "        raise ValueError(f\"No messages found in input state to tool_edge: {state}\")\n",
    "\n",
    "    if hasattr(ai_message, \"tool_calls\") and len(ai_message.tool_calls) > 0:\n",
    "        return \"tools\"\n",
    "    return END"
   ]
  },
  {
   "cell_type": "code",
   "execution_count": null,
   "metadata": {},
   "outputs": [],
   "source": [
    "workflow.add_conditional_edges(\n",
    "    \"research\",\n",
    "    route_tools,\n",
    "    {\"tools\": \"tools\", END: END}\n",
    ")"
   ]
  },
  {
   "cell_type": "code",
   "execution_count": null,
   "metadata": {},
   "outputs": [],
   "source": [
    "workflow.add_edge(\"tools\", \"research\")"
   ]
  },
  {
   "cell_type": "markdown",
   "metadata": {},
   "source": [
    "#### Adding Memmory to the chatbot\n",
    "\n",
    "LangGraph provides persistence of state (or messages) through checkpointing. If you provide a checkpointer when `compiling the graph` and a `thread_id` when calling your graph, LangGraph automatically saves the state after each step. When you invoke the graph again using the same thread_id, the graph loads its saved state, allowing the chatbot to pick up where it left off.\n",
    "\n",
    "Reference: [MemorySaver Checkpointer](https://langchain-ai.github.io/langgraph/reference/checkpoints/#langgraph.checkpoint.memory.MemorySaver)"
   ]
  },
  {
   "cell_type": "code",
   "execution_count": 13,
   "metadata": {},
   "outputs": [],
   "source": [
    "from langgraph.checkpoint.memory import MemorySaver\n",
    "memory = MemorySaver()"
   ]
  },
  {
   "cell_type": "code",
   "execution_count": null,
   "metadata": {},
   "outputs": [],
   "source": [
    "app = workflow.compile(checkpointer=memory)\n",
    "try:\n",
    "    display(Image(app.get_graph(xray=True).draw_mermaid_png()))\n",
    "except Exception:\n",
    "    # This requires some extra dependencies and is optional\n",
    "    pass"
   ]
  },
  {
   "cell_type": "code",
   "execution_count": null,
   "metadata": {},
   "outputs": [],
   "source": [
    "inputs = {\n",
    "    \"input\": \"What are the recent papers on Small Language Models?\",\n",
    "}\n",
    "\n",
    "config = {\n",
    "    \"configurable\": {\n",
    "        \"thread_id\": \"123\",\n",
    "    }\n",
    "}\n",
    "\n",
    "state = AgentState(**inputs)\n",
    "events = app.stream(input=state, config=config, stream_mode=\"values\")\n",
    "for event in events:\n",
    "    try:\n",
    "        event[\"agent_outcome\"][-1].pretty_print()\n",
    "    except Exception as e:\n",
    "        HumanMessage(event[\"input\"]).pretty_print()"
   ]
  },
  {
   "cell_type": "markdown",
   "metadata": {},
   "source": [
    "##### Starting Conversation 1"
   ]
  },
  {
   "cell_type": "code",
   "execution_count": null,
   "metadata": {},
   "outputs": [],
   "source": [
    "inputs = {\n",
    "    \"input\": \"Summarise the results into a single paragraph.\",\n",
    "}\n",
    "\n",
    "state = AgentState(**inputs)\n",
    "events = app.stream(input=state, config=config, stream_mode=\"values\")\n",
    "for event in events:\n",
    "    try:\n",
    "        event[\"agent_outcome\"][-1].pretty_print()\n",
    "    except Exception as e:\n",
    "        HumanMessage(event[\"input\"]).pretty_print()\n",
    "    print(\"-----\"*20)"
   ]
  },
  {
   "cell_type": "code",
   "execution_count": null,
   "metadata": {},
   "outputs": [],
   "source": [
    "inputs = {\n",
    "    \"input\": \"What are the recent papers on LLM Agents?\",\n",
    "}\n",
    "\n",
    "config_new = {\n",
    "    \"configurable\": {\n",
    "        \"thread_id\": \"456\",\n",
    "    }\n",
    "}\n",
    "\n",
    "state = AgentState(**inputs)\n",
    "events = app.stream(input=state, config=config_new, stream_mode=\"values\")\n",
    "for event in events:\n",
    "    try:\n",
    "        event[\"agent_outcome\"][-1].pretty_print()\n",
    "    except Exception as e:\n",
    "        HumanMessage(event[\"input\"]).pretty_print()\n",
    "    print(\"-----\"*20)"
   ]
  },
  {
   "cell_type": "markdown",
   "metadata": {},
   "source": [
    "##### Starting Conversation 2"
   ]
  },
  {
   "cell_type": "code",
   "execution_count": null,
   "metadata": {},
   "outputs": [],
   "source": [
    "inputs = {\n",
    "    \"input\": \"Can you find LLM Agents for report or article generation?\",\n",
    "}\n",
    "\n",
    "state = AgentState(**inputs)\n",
    "events = app.stream(input=state, config=config_new, stream_mode=\"values\")\n",
    "for event in events:\n",
    "    try:\n",
    "        event[\"agent_outcome\"][-1].pretty_print()\n",
    "    except Exception as e:\n",
    "        HumanMessage(event[\"input\"]).pretty_print()\n",
    "    print(\"-----\"*20)"
   ]
  },
  {
   "cell_type": "code",
   "execution_count": null,
   "metadata": {},
   "outputs": [],
   "source": [
    "inputs = {\n",
    "    \"input\": \"Summarise all the papers like survey report.\",\n",
    "}\n",
    "\n",
    "state = AgentState(**inputs)\n",
    "events = app.stream(input=state, config=config_new, stream_mode=\"values\")\n",
    "for event in events:\n",
    "    try:\n",
    "        event[\"agent_outcome\"][-1].pretty_print()\n",
    "    except Exception as e:\n",
    "        HumanMessage(event[\"input\"]).pretty_print()\n",
    "    print(\"-----\"*20)"
   ]
  },
  {
   "cell_type": "markdown",
   "metadata": {},
   "source": [
    "##### Switching back to conversation 1"
   ]
  },
  {
   "cell_type": "code",
   "execution_count": null,
   "metadata": {},
   "outputs": [],
   "source": [
    "inputs = {\n",
    "    \"input\": \"What is the research topic?\",\n",
    "}\n",
    "\n",
    "state = AgentState(**inputs)\n",
    "events = app.stream(input=state, config=config, stream_mode=\"values\")\n",
    "for event in events:\n",
    "    try:\n",
    "        event[\"agent_outcome\"][-1].pretty_print()\n",
    "    except Exception as e:\n",
    "        HumanMessage(event[\"input\"]).pretty_print()\n",
    "    print(\"-----\"*20)"
   ]
  },
  {
   "cell_type": "code",
   "execution_count": null,
   "metadata": {},
   "outputs": [],
   "source": [
    "snapshot = app.get_state(config=config)\n",
    "snapshot"
   ]
  },
  {
   "cell_type": "code",
   "execution_count": null,
   "metadata": {},
   "outputs": [],
   "source": [
    "snapshot = app.get_state(config=config_new)\n",
    "snapshot"
   ]
  },
  {
   "cell_type": "code",
   "execution_count": null,
   "metadata": {},
   "outputs": [],
   "source": []
  }
 ],
 "metadata": {
  "kernelspec": {
   "display_name": ".venv",
   "language": "python",
   "name": "python3"
  },
  "language_info": {
   "codemirror_mode": {
    "name": "ipython",
    "version": 3
   },
   "file_extension": ".py",
   "mimetype": "text/x-python",
   "name": "python",
   "nbconvert_exporter": "python",
   "pygments_lexer": "ipython3",
   "version": "3.11.11"
  }
 },
 "nbformat": 4,
 "nbformat_minor": 2
}
