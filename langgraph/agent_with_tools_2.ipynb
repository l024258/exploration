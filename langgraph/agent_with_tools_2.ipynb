{
 "cells": [
  {
   "cell_type": "code",
   "execution_count": 1,
   "metadata": {},
   "outputs": [
    {
     "name": "stdout",
     "output_type": "stream",
     "text": [
      "/Users/L024258/lilly_work/github-copilot/exploration/langgraph/..\n"
     ]
    }
   ],
   "source": [
    "import os\n",
    "import sys\n",
    "\n",
    "# Get the current working directory and add the parent directory to the Python path\n",
    "current_working_directory = os.getcwd()\n",
    "print(os.path.join(current_working_directory, \"..\"))\n",
    "sys.path.append(os.path.join(current_working_directory, \"..\"))"
   ]
  },
  {
   "cell_type": "code",
   "execution_count": 2,
   "metadata": {},
   "outputs": [],
   "source": [
    "import pprint"
   ]
  },
  {
   "cell_type": "markdown",
   "metadata": {},
   "source": [
    "### Defining the Graph state"
   ]
  },
  {
   "cell_type": "code",
   "execution_count": 3,
   "metadata": {},
   "outputs": [],
   "source": [
    "from typing import TypedDict, Annotated, List, Union\n",
    "from langchain_core.agents import AgentAction, AgentFinish\n",
    "from langchain_core.messages import BaseMessage\n",
    "import operator\n",
    "from IPython.display import Image, display"
   ]
  },
  {
   "cell_type": "code",
   "execution_count": 4,
   "metadata": {},
   "outputs": [],
   "source": [
    "class AgentState(TypedDict):\n",
    "    input: str\n",
    "    agent_outcome: Union[AgentAction, AgentFinish, None]\n",
    "    intermediate_step: Annotated[list, operator.add]"
   ]
  },
  {
   "cell_type": "code",
   "execution_count": 5,
   "metadata": {},
   "outputs": [],
   "source": [
    "from langchain_community.tools.arxiv.tool import ArxivQueryRun\n",
    "from langchain_community.tools.pubmed.tool import PubmedQueryRun\n",
    "from langchain_community.tools.tavily_search import TavilySearchResults\n",
    "\n",
    "pubmed_search = PubmedQueryRun()\n",
    "arxiv_search = ArxivQueryRun()\n",
    "tavily_tool = TavilySearchResults(max_results=5)\n",
    "\n",
    "# tools = [arxiv_search, pubmed_search, tavily_tool]\n",
    "tools = [arxiv_search, pubmed_search]\n",
    "tools = [arxiv_search]"
   ]
  },
  {
   "cell_type": "code",
   "execution_count": 6,
   "metadata": {},
   "outputs": [],
   "source": [
    "from models.llm import LLM\n",
    "\n",
    "model = LLM('gpt-4o-mini')\n",
    "llm = model.load_model()"
   ]
  },
  {
   "cell_type": "code",
   "execution_count": 25,
   "metadata": {},
   "outputs": [],
   "source": [
    "from langchain_core.prompts import ChatPromptTemplate, MessagesPlaceholder\n",
    "\n",
    "def research_agent(data):\n",
    "    print(\"----research node----\")\n",
    "    print(data)\n",
    "    prompt = ChatPromptTemplate.from_messages(\n",
    "        [\n",
    "            (\n",
    "                \"system\",\n",
    "                \"You are a helpful AI research assistant,\"\n",
    "                \" Use the appropriate search tools to progress towards finding the relevant results.\"\n",
    "                \" Once you have the relevant search results, summarise them to answer the user query.\"\n",
    "                \"\\nYou have access to the following search tools: {tool_names}.\"\n",
    "            ),\n",
    "            (\n",
    "                \"human\",\n",
    "                \"\\nUser Query: {input}\"\n",
    "            ),\n",
    "            \n",
    "            MessagesPlaceholder(variable_name=\"intermediate_step\"),\n",
    "        ]\n",
    "    )\n",
    "    prompt = prompt.partial(tool_names=\", \".join([tool.name for tool in tools]))\n",
    "    print(prompt)\n",
    "    agent = prompt | llm.bind_tools(tools)\n",
    "    result = agent.invoke(data)\n",
    "    return {'agent_outcome': [result]}"
   ]
  },
  {
   "cell_type": "code",
   "execution_count": 26,
   "metadata": {},
   "outputs": [
    {
     "data": {
      "text/plain": [
       "<langgraph.graph.state.StateGraph at 0x10f88b040>"
      ]
     },
     "execution_count": 26,
     "metadata": {},
     "output_type": "execute_result"
    }
   ],
   "source": [
    "from langgraph.graph import END, StateGraph\n",
    "workflow = StateGraph(AgentState)\n",
    "\n",
    "workflow.add_node(\"research\", research_agent)\n",
    "workflow.set_entry_point(\"research\")"
   ]
  },
  {
   "cell_type": "code",
   "execution_count": 27,
   "metadata": {},
   "outputs": [
    {
     "data": {
      "text/plain": [
       "<langgraph.graph.state.StateGraph at 0x10f88b040>"
      ]
     },
     "execution_count": 27,
     "metadata": {},
     "output_type": "execute_result"
    }
   ],
   "source": [
    "import json\n",
    "from langchain_core.messages import ToolMessage\n",
    "\n",
    "class BasicToolNode:\n",
    "    def __init__(self, tools: list) -> None:\n",
    "        self.tools_by_name = {tool.name: tool for tool in tools}\n",
    "\n",
    "    def __call__(self, inputs: dict):\n",
    "        print(\"----tool calling----\")\n",
    "        message = inputs[\"agent_outcome\"][-1]\n",
    "\n",
    "        outputs = []\n",
    "        for tool_call in message.tool_calls:\n",
    "            print(f\"---- {tool_call['name']} ----\")\n",
    "            tool_result = self.tools_by_name[tool_call[\"name\"]].invoke(\n",
    "                tool_call[\"args\"]\n",
    "            )\n",
    "            outputs.append(\n",
    "                ToolMessage(\n",
    "                    content=json.dumps(tool_result),\n",
    "                    name=tool_call[\"name\"],\n",
    "                    tool_call_id=tool_call[\"id\"],\n",
    "                )\n",
    "            )\n",
    "\n",
    "        return {\n",
    "                \"agent_outcome\": outputs,\n",
    "                \"intermediate_step\": [str(outputs)]\n",
    "            }\n",
    "\n",
    "tool_node = BasicToolNode(tools=tools)\n",
    "workflow.add_node(\"tools\", tool_node)"
   ]
  },
  {
   "cell_type": "code",
   "execution_count": 28,
   "metadata": {},
   "outputs": [],
   "source": [
    "def route_tools(\n",
    "    state: AgentState,\n",
    "):\n",
    "    \"\"\"\n",
    "    Use in the conditional_edge to route to the ToolNode if the last message\n",
    "    has tool calls. Otherwise, route to the end.\n",
    "    \"\"\"\n",
    "    print(\"----router----\")\n",
    "    print(state)\n",
    "    if isinstance(state, list):\n",
    "        ai_message = state[-1]\n",
    "    elif agent_outcome := state.get(\"agent_outcome\", []):\n",
    "        ai_message = agent_outcome[-1]\n",
    "    else:\n",
    "        raise ValueError(f\"No messages found in input state to tool_edge: {state}\")\n",
    "    \n",
    "    print(ai_message)\n",
    "\n",
    "    if hasattr(ai_message, \"tool_calls\") and len(ai_message.tool_calls) > 0:\n",
    "        return \"tools\"\n",
    "    return END"
   ]
  },
  {
   "cell_type": "code",
   "execution_count": 29,
   "metadata": {},
   "outputs": [
    {
     "data": {
      "text/plain": [
       "<langgraph.graph.state.StateGraph at 0x10f88b040>"
      ]
     },
     "execution_count": 29,
     "metadata": {},
     "output_type": "execute_result"
    }
   ],
   "source": [
    "workflow.add_conditional_edges(\n",
    "    \"research\",\n",
    "    route_tools,\n",
    "    {\"tools\": \"tools\", END: END}\n",
    ")"
   ]
  },
  {
   "cell_type": "code",
   "execution_count": 30,
   "metadata": {},
   "outputs": [
    {
     "data": {
      "text/plain": [
       "<langgraph.graph.state.StateGraph at 0x10f88b040>"
      ]
     },
     "execution_count": 30,
     "metadata": {},
     "output_type": "execute_result"
    }
   ],
   "source": [
    "workflow.add_edge(\"tools\", \"research\")"
   ]
  },
  {
   "cell_type": "code",
   "execution_count": 31,
   "metadata": {},
   "outputs": [
    {
     "data": {
      "image/jpeg": "[encoded data removed]",
      "text/plain": [
       "<IPython.core.display.Image object>"
      ]
     },
     "metadata": {},
     "output_type": "display_data"
    }
   ],
   "source": [
    "app = workflow.compile()\n",
    "try:\n",
    "    display(Image(app.get_graph(xray=True).draw_mermaid_png()))\n",
    "except Exception:\n",
    "    # This requires some extra dependencies and is optional\n",
    "    pass"
   ]
  },
  {
   "cell_type": "code",
   "execution_count": 39,
   "metadata": {},
   "outputs": [
    {
     "name": "stdout",
     "output_type": "stream",
     "text": [
      "----research node----\n",
      "{'input': 'What are the recent papers on Small Language Models?', 'intermediate_step': []}\n",
      "input_variables=['input', 'intermediate_step'] input_types={'intermediate_step': typing.List[typing.Union[langchain_core.messages.ai.AIMessage, langchain_core.messages.human.HumanMessage, langchain_core.messages.chat.ChatMessage, langchain_core.messages.system.SystemMessage, langchain_core.messages.function.FunctionMessage, langchain_core.messages.tool.ToolMessage]]} partial_variables={'tool_names': 'arxiv'} messages=[SystemMessagePromptTemplate(prompt=PromptTemplate(input_variables=['tool_names'], template='You are a helpful AI research assistant, Use the appropriate search tools to progress towards finding the relevant results. Once you have the relevant search results, summarise them to answer the user query.\\nYou have access to the following search tools: {tool_names}.')), HumanMessagePromptTemplate(prompt=PromptTemplate(input_variables=['input'], template='\\nUser Query: {input}')), MessagesPlaceholder(variable_name='intermediate_step')]\n",
      "----router----\n",
      "{'agent_outcome': [AIMessage(content='', additional_kwargs={'tool_calls': [{'id': 'call_RofKJ0sqRlA3BluuhZecGTww', 'function': {'arguments': '{\"query\":\"Small Language Models\"}', 'name': 'arxiv'}, 'type': 'function'}]}, response_metadata={'token_usage': {'completion_tokens': 16, 'prompt_tokens': 160, 'total_tokens': 176, 'completion_tokens_details': {'accepted_prediction_tokens': 0, 'audio_tokens': 0, 'reasoning_tokens': 0, 'rejected_prediction_tokens': 0}, 'prompt_tokens_details': {'audio_tokens': 0, 'cached_tokens': 0}}, 'model_name': 'gpt-4o-mini-2024-07-18', 'system_fingerprint': 'fp_5154047bf2', 'finish_reason': 'tool_calls', 'logprobs': None, 'content_filter_results': {}}, id='run-60a5d924-3f9c-4e17-a77c-5b64724508a5-0', tool_calls=[{'name': 'arxiv', 'args': {'query': 'Small Language Models'}, 'id': 'call_RofKJ0sqRlA3BluuhZecGTww', 'type': 'tool_call'}], usage_metadata={'input_tokens': 160, 'output_tokens': 16, 'total_tokens': 176})], 'input': 'What are the recent papers on Small Language Models?', 'intermediate_step': []}\n",
      "content='' additional_kwargs={'tool_calls': [{'id': 'call_RofKJ0sqRlA3BluuhZecGTww', 'function': {'arguments': '{\"query\":\"Small Language Models\"}', 'name': 'arxiv'}, 'type': 'function'}]} response_metadata={'token_usage': {'completion_tokens': 16, 'prompt_tokens': 160, 'total_tokens': 176, 'completion_tokens_details': {'accepted_prediction_tokens': 0, 'audio_tokens': 0, 'reasoning_tokens': 0, 'rejected_prediction_tokens': 0}, 'prompt_tokens_details': {'audio_tokens': 0, 'cached_tokens': 0}}, 'model_name': 'gpt-4o-mini-2024-07-18', 'system_fingerprint': 'fp_5154047bf2', 'finish_reason': 'tool_calls', 'logprobs': None, 'content_filter_results': {}} id='run-60a5d924-3f9c-4e17-a77c-5b64724508a5-0' tool_calls=[{'name': 'arxiv', 'args': {'query': 'Small Language Models'}, 'id': 'call_RofKJ0sqRlA3BluuhZecGTww', 'type': 'tool_call'}] usage_metadata={'input_tokens': 160, 'output_tokens': 16, 'total_tokens': 176}\n",
      "{'research': {'agent_outcome': [AIMessage(content='', additional_kwargs={'tool_calls': [{'id': 'call_RofKJ0sqRlA3BluuhZecGTww', 'function': {'arguments': '{\"query\":\"Small Language Models\"}', 'name': 'arxiv'}, 'type': 'function'}]}, response_metadata={'token_usage': {'completion_tokens': 16, 'prompt_tokens': 160, 'total_tokens': 176, 'completion_tokens_details': {'accepted_prediction_tokens': 0, 'audio_tokens': 0, 'reasoning_tokens': 0, 'rejected_prediction_tokens': 0}, 'prompt_tokens_details': {'audio_tokens': 0, 'cached_tokens': 0}}, 'model_name': 'gpt-4o-mini-2024-07-18', 'system_fingerprint': 'fp_5154047bf2', 'finish_reason': 'tool_calls', 'logprobs': None, 'content_filter_results': {}}, id='run-60a5d924-3f9c-4e17-a77c-5b64724508a5-0', tool_calls=[{'name': 'arxiv', 'args': {'query': 'Small Language Models'}, 'id': 'call_RofKJ0sqRlA3BluuhZecGTww', 'type': 'tool_call'}], usage_metadata={'input_tokens': 160, 'output_tokens': 16, 'total_tokens': 176})]}}\n",
      "\n",
      "----------------------------------------------------------------------------------------------------\n",
      "----tool calling----\n",
      "---- arxiv ----\n",
      "{'tools': {'agent_outcome': [ToolMessage(content='\"Published: 2022-01-26\\\\nTitle: An Assessment of the Impact of OCR Noise on Language Models\\\\nAuthors: Konstantin Todorov, Giovanni Colavizza\\\\nSummary: Neural language models are the backbone of modern-day natural language\\\\nprocessing applications. Their use on textual heritage collections which have\\\\nundergone Optical Character Recognition (OCR) is therefore also increasing.\\\\nNevertheless, our understanding of the impact OCR noise could have on language\\\\nmodels is still limited. We perform an assessment of the impact OCR noise has\\\\non a variety of language models, using data in Dutch, English, French and\\\\nGerman. We find that OCR noise poses a significant obstacle to language\\\\nmodelling, with language models increasingly diverging from their noiseless\\\\ntargets as OCR quality lowers. In the presence of small corpora, simpler models\\\\nincluding PPMI and Word2Vec consistently outperform transformer-based models in\\\\nthis respect.\\\\n\\\\nPublished: 2024-12-09\\\\nTitle: Small Languages, Big Models: A Study of Continual Training on Languages of Norway\\\\nAuthors: David Samuel, Vladislav Mikhailov, Erik Velldal, Lilja \\\\u00d8vrelid, Lucas Georges Gabriel Charpentier, Andrey Kutuzov\\\\nSummary: Training large language models requires vast amounts of data, posing a\\\\nchallenge for less widely spoken languages like Norwegian and even more so for\\\\ntruly low-resource languages like S\\\\\\\\\\'ami. To address this issue, we present a\\\\nnovel three-stage continual training approach. We also experiment with\\\\ncombining causal and masked language modeling to get more flexible models.\\\\nBased on our findings, we train, evaluate, and openly release a new large\\\\ngenerative language model for Norwegian Bokm\\\\\\\\r{a}l, Nynorsk, and Northern\\\\nS\\\\\\\\\\'ami with 11.4 billion parameters: NorMistral-11B.\\\\n\\\\nPublished: 2024-09-26\\\\nTitle: Enhancing elusive clues in knowledge learning by contrasting attention of language models\\\\nAuthors: Jian Gao, Xiao Zhang, Ji Wu, Miao Li\\\\nSummary: Causal language models acquire vast amount of knowledge from general text\\\\ncorpus during pretraining, but the efficiency of knowledge learning is known to\\\\nbe unsatisfactory, especially when learning from knowledge-dense and\\\\nsmall-sized corpora. The deficiency can come from long-distance dependencies\\\\nwhich are hard to capture by language models, and overfitting to co-occurrence\\\\npatterns and distracting clues in the training text. To address these issues,\\\\nthe paper proposes a method to enhance knowledge learning during language model\\\\npretraining, by enhancing elusive but important clues in text discovered by the\\\\nlanguage model themselves. We found that larger language models pay more\\\\nattention to non-obvious but important clues, which are often overlooked by\\\\nsmaller language models. Therefore, we can identify these clues by contrasting\\\\nthe attention weights of large and small language models. We use the identified\\\\nclues as a guide to perform token-dropout data augmentation on the training\\\\ntext, and observed a significant boost in both small and large models\\'\\\\nperformance in fact memorization. This shows that the behavior contrast between\\\\nmore and less-performant language models contains important clues for knowledge\\\\nlearning, and it can be ``amplified\\\\\" for a straight-forward improvement in\\\\nknowledge learning efficiency.\"', name='arxiv', tool_call_id='call_RofKJ0sqRlA3BluuhZecGTww')],\n",
      "           'intermediate_step': ['[ToolMessage(content=\\'\"Published: '\n",
      "                                 '2022-01-26\\\\\\\\nTitle: An Assessment of the '\n",
      "                                 'Impact of OCR Noise on Language '\n",
      "                                 'Models\\\\\\\\nAuthors: Konstantin Todorov, '\n",
      "                                 'Giovanni Colavizza\\\\\\\\nSummary: Neural '\n",
      "                                 'language models are the backbone of '\n",
      "                                 'modern-day natural language\\\\\\\\nprocessing '\n",
      "                                 'applications. Their use on textual heritage '\n",
      "                                 'collections which have\\\\\\\\nundergone Optical '\n",
      "                                 'Character Recognition (OCR) is therefore '\n",
      "                                 'also increasing.\\\\\\\\nNevertheless, our '\n",
      "                                 'understanding of the impact OCR noise could '\n",
      "                                 'have on language\\\\\\\\nmodels is still '\n",
      "                                 'limited. We perform an assessment of the '\n",
      "                                 'impact OCR noise has\\\\\\\\non a variety of '\n",
      "                                 'language models, using data in Dutch, '\n",
      "                                 'English, French and\\\\\\\\nGerman. We find that '\n",
      "                                 'OCR noise poses a significant obstacle to '\n",
      "                                 'language\\\\\\\\nmodelling, with language models '\n",
      "                                 'increasingly diverging from their '\n",
      "                                 'noiseless\\\\\\\\ntargets as OCR quality lowers. '\n",
      "                                 'In the presence of small corpora, simpler '\n",
      "                                 'models\\\\\\\\nincluding PPMI and Word2Vec '\n",
      "                                 'consistently outperform transformer-based '\n",
      "                                 'models in\\\\\\\\nthis '\n",
      "                                 'respect.\\\\\\\\n\\\\\\\\nPublished: '\n",
      "                                 '2024-12-09\\\\\\\\nTitle: Small Languages, Big '\n",
      "                                 'Models: A Study of Continual Training on '\n",
      "                                 'Languages of Norway\\\\\\\\nAuthors: David '\n",
      "                                 'Samuel, Vladislav Mikhailov, Erik Velldal, '\n",
      "                                 'Lilja \\\\\\\\u00d8vrelid, Lucas Georges Gabriel '\n",
      "                                 'Charpentier, Andrey Kutuzov\\\\\\\\nSummary: '\n",
      "                                 'Training large language models requires vast '\n",
      "                                 'amounts of data, posing a\\\\\\\\nchallenge for '\n",
      "                                 'less widely spoken languages like Norwegian '\n",
      "                                 'and even more so for\\\\\\\\ntruly low-resource '\n",
      "                                 \"languages like S\\\\\\\\\\\\\\\\\\\\'ami. To address \"\n",
      "                                 'this issue, we present a\\\\\\\\nnovel '\n",
      "                                 'three-stage continual training approach. We '\n",
      "                                 'also experiment with\\\\\\\\ncombining causal '\n",
      "                                 'and masked language modeling to get more '\n",
      "                                 'flexible models.\\\\\\\\nBased on our findings, '\n",
      "                                 'we train, evaluate, and openly release a new '\n",
      "                                 'large\\\\\\\\ngenerative language model for '\n",
      "                                 'Norwegian Bokm\\\\\\\\\\\\\\\\r{a}l, Nynorsk, and '\n",
      "                                 \"Northern\\\\\\\\nS\\\\\\\\\\\\\\\\\\\\'ami with 11.4 \"\n",
      "                                 'billion parameters: '\n",
      "                                 'NorMistral-11B.\\\\\\\\n\\\\\\\\nPublished: '\n",
      "                                 '2024-09-26\\\\\\\\nTitle: Enhancing elusive '\n",
      "                                 'clues in knowledge learning by contrasting '\n",
      "                                 'attention of language models\\\\\\\\nAuthors: '\n",
      "                                 'Jian Gao, Xiao Zhang, Ji Wu, Miao '\n",
      "                                 'Li\\\\\\\\nSummary: Causal language models '\n",
      "                                 'acquire vast amount of knowledge from '\n",
      "                                 'general text\\\\\\\\ncorpus during pretraining, '\n",
      "                                 'but the efficiency of knowledge learning is '\n",
      "                                 'known to\\\\\\\\nbe unsatisfactory, especially '\n",
      "                                 'when learning from knowledge-dense '\n",
      "                                 'and\\\\\\\\nsmall-sized corpora. The deficiency '\n",
      "                                 'can come from long-distance '\n",
      "                                 'dependencies\\\\\\\\nwhich are hard to capture '\n",
      "                                 'by language models, and overfitting to '\n",
      "                                 'co-occurrence\\\\\\\\npatterns and distracting '\n",
      "                                 'clues in the training text. To address these '\n",
      "                                 'issues,\\\\\\\\nthe paper proposes a method to '\n",
      "                                 'enhance knowledge learning during language '\n",
      "                                 'model\\\\\\\\npretraining, by enhancing elusive '\n",
      "                                 'but important clues in text discovered by '\n",
      "                                 'the\\\\\\\\nlanguage model themselves. We found '\n",
      "                                 'that larger language models pay '\n",
      "                                 'more\\\\\\\\nattention to non-obvious but '\n",
      "                                 'important clues, which are often overlooked '\n",
      "                                 'by\\\\\\\\nsmaller language models. Therefore, '\n",
      "                                 'we can identify these clues by '\n",
      "                                 'contrasting\\\\\\\\nthe attention weights of '\n",
      "                                 'large and small language models. We use the '\n",
      "                                 'identified\\\\\\\\nclues as a guide to perform '\n",
      "                                 'token-dropout data augmentation on the '\n",
      "                                 'training\\\\\\\\ntext, and observed a '\n",
      "                                 'significant boost in both small and large '\n",
      "                                 \"models\\\\'\\\\\\\\nperformance in fact \"\n",
      "                                 'memorization. This shows that the behavior '\n",
      "                                 'contrast between\\\\\\\\nmore and '\n",
      "                                 'less-performant language models contains '\n",
      "                                 'important clues for knowledge\\\\\\\\nlearning, '\n",
      "                                 'and it can be ``amplified\\\\\\\\\" for a '\n",
      "                                 'straight-forward improvement '\n",
      "                                 'in\\\\\\\\nknowledge learning efficiency.\"\\', '\n",
      "                                 \"name='arxiv', \"\n",
      "                                 \"tool_call_id='call_RofKJ0sqRlA3BluuhZecGTww')]\"]}}\n",
      "\"Published: 2022-01-26\\nTitle: An Assessment of the Impact of OCR Noise on Language Models\\nAuthors: Konstantin Todorov, Giovanni Colavizza\\nSummary: Neural language models are the backbone of modern-day natural language\\nprocessing applications. Their use on textual heritage collections which have\\nundergone Optical Character Recognition (OCR) is therefore also increasing.\\nNevertheless, our understanding of the impact OCR noise could have on language\\nmodels is still limited. We perform an assessment of the impact OCR noise has\\non a variety of language models, using data in Dutch, English, French and\\nGerman. We find that OCR noise poses a significant obstacle to language\\nmodelling, with language models increasingly diverging from their noiseless\\ntargets as OCR quality lowers. In the presence of small corpora, simpler models\\nincluding PPMI and Word2Vec consistently outperform transformer-based models in\\nthis respect.\\n\\nPublished: 2024-12-09\\nTitle: Small Languages, Big Models: A Study of Continual Training on Languages of Norway\\nAuthors: David Samuel, Vladislav Mikhailov, Erik Velldal, Lilja \\u00d8vrelid, Lucas Georges Gabriel Charpentier, Andrey Kutuzov\\nSummary: Training large language models requires vast amounts of data, posing a\\nchallenge for less widely spoken languages like Norwegian and even more so for\\ntruly low-resource languages like S\\\\'ami. To address this issue, we present a\\nnovel three-stage continual training approach. We also experiment with\\ncombining causal and masked language modeling to get more flexible models.\\nBased on our findings, we train, evaluate, and openly release a new large\\ngenerative language model for Norwegian Bokm\\\\r{a}l, Nynorsk, and Northern\\nS\\\\'ami with 11.4 billion parameters: NorMistral-11B.\\n\\nPublished: 2024-09-26\\nTitle: Enhancing elusive clues in knowledge learning by contrasting attention of language models\\nAuthors: Jian Gao, Xiao Zhang, Ji Wu, Miao Li\\nSummary: Causal language models acquire vast amount of knowledge from general text\\ncorpus during pretraining, but the efficiency of knowledge learning is known to\\nbe unsatisfactory, especially when learning from knowledge-dense and\\nsmall-sized corpora. The deficiency can come from long-distance dependencies\\nwhich are hard to capture by language models, and overfitting to co-occurrence\\npatterns and distracting clues in the training text. To address these issues,\\nthe paper proposes a method to enhance knowledge learning during language model\\npretraining, by enhancing elusive but important clues in text discovered by the\\nlanguage model themselves. We found that larger language models pay more\\nattention to non-obvious but important clues, which are often overlooked by\\nsmaller language models. Therefore, we can identify these clues by contrasting\\nthe attention weights of large and small language models. We use the identified\\nclues as a guide to perform token-dropout data augmentation on the training\\ntext, and observed a significant boost in both small and large models'\\nperformance in fact memorization. This shows that the behavior contrast between\\nmore and less-performant language models contains important clues for knowledge\\nlearning, and it can be ``amplified\\\" for a straight-forward improvement in\\nknowledge learning efficiency.\"\n",
      "----------------------------------------------------------------------------------------------------\n",
      "----research node----\n",
      "{'input': 'What are the recent papers on Small Language Models?', 'agent_outcome': [ToolMessage(content='\"Published: 2022-01-26\\\\nTitle: An Assessment of the Impact of OCR Noise on Language Models\\\\nAuthors: Konstantin Todorov, Giovanni Colavizza\\\\nSummary: Neural language models are the backbone of modern-day natural language\\\\nprocessing applications. Their use on textual heritage collections which have\\\\nundergone Optical Character Recognition (OCR) is therefore also increasing.\\\\nNevertheless, our understanding of the impact OCR noise could have on language\\\\nmodels is still limited. We perform an assessment of the impact OCR noise has\\\\non a variety of language models, using data in Dutch, English, French and\\\\nGerman. We find that OCR noise poses a significant obstacle to language\\\\nmodelling, with language models increasingly diverging from their noiseless\\\\ntargets as OCR quality lowers. In the presence of small corpora, simpler models\\\\nincluding PPMI and Word2Vec consistently outperform transformer-based models in\\\\nthis respect.\\\\n\\\\nPublished: 2024-12-09\\\\nTitle: Small Languages, Big Models: A Study of Continual Training on Languages of Norway\\\\nAuthors: David Samuel, Vladislav Mikhailov, Erik Velldal, Lilja \\\\u00d8vrelid, Lucas Georges Gabriel Charpentier, Andrey Kutuzov\\\\nSummary: Training large language models requires vast amounts of data, posing a\\\\nchallenge for less widely spoken languages like Norwegian and even more so for\\\\ntruly low-resource languages like S\\\\\\\\\\'ami. To address this issue, we present a\\\\nnovel three-stage continual training approach. We also experiment with\\\\ncombining causal and masked language modeling to get more flexible models.\\\\nBased on our findings, we train, evaluate, and openly release a new large\\\\ngenerative language model for Norwegian Bokm\\\\\\\\r{a}l, Nynorsk, and Northern\\\\nS\\\\\\\\\\'ami with 11.4 billion parameters: NorMistral-11B.\\\\n\\\\nPublished: 2024-09-26\\\\nTitle: Enhancing elusive clues in knowledge learning by contrasting attention of language models\\\\nAuthors: Jian Gao, Xiao Zhang, Ji Wu, Miao Li\\\\nSummary: Causal language models acquire vast amount of knowledge from general text\\\\ncorpus during pretraining, but the efficiency of knowledge learning is known to\\\\nbe unsatisfactory, especially when learning from knowledge-dense and\\\\nsmall-sized corpora. The deficiency can come from long-distance dependencies\\\\nwhich are hard to capture by language models, and overfitting to co-occurrence\\\\npatterns and distracting clues in the training text. To address these issues,\\\\nthe paper proposes a method to enhance knowledge learning during language model\\\\npretraining, by enhancing elusive but important clues in text discovered by the\\\\nlanguage model themselves. We found that larger language models pay more\\\\nattention to non-obvious but important clues, which are often overlooked by\\\\nsmaller language models. Therefore, we can identify these clues by contrasting\\\\nthe attention weights of large and small language models. We use the identified\\\\nclues as a guide to perform token-dropout data augmentation on the training\\\\ntext, and observed a significant boost in both small and large models\\'\\\\nperformance in fact memorization. This shows that the behavior contrast between\\\\nmore and less-performant language models contains important clues for knowledge\\\\nlearning, and it can be ``amplified\\\\\" for a straight-forward improvement in\\\\nknowledge learning efficiency.\"', name='arxiv', tool_call_id='call_RofKJ0sqRlA3BluuhZecGTww')], 'intermediate_step': ['[ToolMessage(content=\\'\"Published: 2022-01-26\\\\\\\\nTitle: An Assessment of the Impact of OCR Noise on Language Models\\\\\\\\nAuthors: Konstantin Todorov, Giovanni Colavizza\\\\\\\\nSummary: Neural language models are the backbone of modern-day natural language\\\\\\\\nprocessing applications. Their use on textual heritage collections which have\\\\\\\\nundergone Optical Character Recognition (OCR) is therefore also increasing.\\\\\\\\nNevertheless, our understanding of the impact OCR noise could have on language\\\\\\\\nmodels is still limited. We perform an assessment of the impact OCR noise has\\\\\\\\non a variety of language models, using data in Dutch, English, French and\\\\\\\\nGerman. We find that OCR noise poses a significant obstacle to language\\\\\\\\nmodelling, with language models increasingly diverging from their noiseless\\\\\\\\ntargets as OCR quality lowers. In the presence of small corpora, simpler models\\\\\\\\nincluding PPMI and Word2Vec consistently outperform transformer-based models in\\\\\\\\nthis respect.\\\\\\\\n\\\\\\\\nPublished: 2024-12-09\\\\\\\\nTitle: Small Languages, Big Models: A Study of Continual Training on Languages of Norway\\\\\\\\nAuthors: David Samuel, Vladislav Mikhailov, Erik Velldal, Lilja \\\\\\\\u00d8vrelid, Lucas Georges Gabriel Charpentier, Andrey Kutuzov\\\\\\\\nSummary: Training large language models requires vast amounts of data, posing a\\\\\\\\nchallenge for less widely spoken languages like Norwegian and even more so for\\\\\\\\ntruly low-resource languages like S\\\\\\\\\\\\\\\\\\\\\\'ami. To address this issue, we present a\\\\\\\\nnovel three-stage continual training approach. We also experiment with\\\\\\\\ncombining causal and masked language modeling to get more flexible models.\\\\\\\\nBased on our findings, we train, evaluate, and openly release a new large\\\\\\\\ngenerative language model for Norwegian Bokm\\\\\\\\\\\\\\\\r{a}l, Nynorsk, and Northern\\\\\\\\nS\\\\\\\\\\\\\\\\\\\\\\'ami with 11.4 billion parameters: NorMistral-11B.\\\\\\\\n\\\\\\\\nPublished: 2024-09-26\\\\\\\\nTitle: Enhancing elusive clues in knowledge learning by contrasting attention of language models\\\\\\\\nAuthors: Jian Gao, Xiao Zhang, Ji Wu, Miao Li\\\\\\\\nSummary: Causal language models acquire vast amount of knowledge from general text\\\\\\\\ncorpus during pretraining, but the efficiency of knowledge learning is known to\\\\\\\\nbe unsatisfactory, especially when learning from knowledge-dense and\\\\\\\\nsmall-sized corpora. The deficiency can come from long-distance dependencies\\\\\\\\nwhich are hard to capture by language models, and overfitting to co-occurrence\\\\\\\\npatterns and distracting clues in the training text. To address these issues,\\\\\\\\nthe paper proposes a method to enhance knowledge learning during language model\\\\\\\\npretraining, by enhancing elusive but important clues in text discovered by the\\\\\\\\nlanguage model themselves. We found that larger language models pay more\\\\\\\\nattention to non-obvious but important clues, which are often overlooked by\\\\\\\\nsmaller language models. Therefore, we can identify these clues by contrasting\\\\\\\\nthe attention weights of large and small language models. We use the identified\\\\\\\\nclues as a guide to perform token-dropout data augmentation on the training\\\\\\\\ntext, and observed a significant boost in both small and large models\\\\\\'\\\\\\\\nperformance in fact memorization. This shows that the behavior contrast between\\\\\\\\nmore and less-performant language models contains important clues for knowledge\\\\\\\\nlearning, and it can be ``amplified\\\\\\\\\" for a straight-forward improvement in\\\\\\\\nknowledge learning efficiency.\"\\', name=\\'arxiv\\', tool_call_id=\\'call_RofKJ0sqRlA3BluuhZecGTww\\')]']}\n",
      "input_variables=['input', 'intermediate_step'] input_types={'intermediate_step': typing.List[typing.Union[langchain_core.messages.ai.AIMessage, langchain_core.messages.human.HumanMessage, langchain_core.messages.chat.ChatMessage, langchain_core.messages.system.SystemMessage, langchain_core.messages.function.FunctionMessage, langchain_core.messages.tool.ToolMessage]]} partial_variables={'tool_names': 'arxiv'} messages=[SystemMessagePromptTemplate(prompt=PromptTemplate(input_variables=['tool_names'], template='You are a helpful AI research assistant, Use the appropriate search tools to progress towards finding the relevant results. Once you have the relevant search results, summarise them to answer the user query.\\nYou have access to the following search tools: {tool_names}.')), HumanMessagePromptTemplate(prompt=PromptTemplate(input_variables=['input'], template='\\nUser Query: {input}')), MessagesPlaceholder(variable_name='intermediate_step')]\n",
      "----router----\n",
      "{'agent_outcome': [AIMessage(content='Here are some recent papers related to Small Language Models:\\n\\n1. **Title**: An Assessment of the Impact of OCR Noise on Language Models  \\n   **Authors**: Konstantin Todorov, Giovanni Colavizza  \\n   **Published**: January 26, 2022  \\n   **Summary**: This paper investigates how Optical Character Recognition (OCR) noise affects various language models. The study finds that OCR noise significantly hinders language modeling, particularly impacting transformer-based models when trained on small corpora. Simpler models like PPMI and Word2Vec perform better under these conditions.\\n\\n2. **Title**: Small Languages, Big Models: A Study of Continual Training on Languages of Norway  \\n   **Authors**: David Samuel, Vladislav Mikhailov, Erik Velldal, Lilja Øvrelid, Lucas Georges Gabriel Charpentier, Andrey Kutuzov  \\n   **Published**: December 9, 2024  \\n   **Summary**: This research addresses the challenge of training large language models for less widely spoken languages, such as Norwegian and low-resource languages like Sámi. The authors propose a three-stage continual training approach and introduce a new generative language model, NorMistral-11B, with 11.4 billion parameters, specifically for Norwegian Bokmål, Nynorsk, and Northern Sámi.\\n\\n3. **Title**: Enhancing elusive clues in knowledge learning by contrasting attention of language models  \\n   **Authors**: Jian Gao, Xiao Zhang, Ji Wu, Miao Li  \\n   **Published**: September 26, 2024  \\n   **Summary**: This paper explores the efficiency of knowledge learning in causal language models, particularly when dealing with small-sized corpora. It proposes a method to enhance knowledge learning by focusing on important but often overlooked clues in the text. The study shows that larger models can identify these clues better than smaller ones, leading to improved performance through data augmentation techniques.\\n\\nThese papers highlight various aspects of small language models, including their performance under noise, training methodologies for low-resource languages, and strategies for enhancing knowledge learning.', response_metadata={'token_usage': {'completion_tokens': 429, 'prompt_tokens': 936, 'total_tokens': 1365, 'completion_tokens_details': {'accepted_prediction_tokens': 0, 'audio_tokens': 0, 'reasoning_tokens': 0, 'rejected_prediction_tokens': 0}, 'prompt_tokens_details': {'audio_tokens': 0, 'cached_tokens': 0}}, 'model_name': 'gpt-4o-mini-2024-07-18', 'system_fingerprint': 'fp_5154047bf2', 'finish_reason': 'stop', 'logprobs': None, 'content_filter_results': {}}, id='run-300251f8-1d58-44ef-91d0-9af55218d0a9-0', usage_metadata={'input_tokens': 936, 'output_tokens': 429, 'total_tokens': 1365})], 'input': 'What are the recent papers on Small Language Models?', 'intermediate_step': ['[ToolMessage(content=\\'\"Published: 2022-01-26\\\\\\\\nTitle: An Assessment of the Impact of OCR Noise on Language Models\\\\\\\\nAuthors: Konstantin Todorov, Giovanni Colavizza\\\\\\\\nSummary: Neural language models are the backbone of modern-day natural language\\\\\\\\nprocessing applications. Their use on textual heritage collections which have\\\\\\\\nundergone Optical Character Recognition (OCR) is therefore also increasing.\\\\\\\\nNevertheless, our understanding of the impact OCR noise could have on language\\\\\\\\nmodels is still limited. We perform an assessment of the impact OCR noise has\\\\\\\\non a variety of language models, using data in Dutch, English, French and\\\\\\\\nGerman. We find that OCR noise poses a significant obstacle to language\\\\\\\\nmodelling, with language models increasingly diverging from their noiseless\\\\\\\\ntargets as OCR quality lowers. In the presence of small corpora, simpler models\\\\\\\\nincluding PPMI and Word2Vec consistently outperform transformer-based models in\\\\\\\\nthis respect.\\\\\\\\n\\\\\\\\nPublished: 2024-12-09\\\\\\\\nTitle: Small Languages, Big Models: A Study of Continual Training on Languages of Norway\\\\\\\\nAuthors: David Samuel, Vladislav Mikhailov, Erik Velldal, Lilja \\\\\\\\u00d8vrelid, Lucas Georges Gabriel Charpentier, Andrey Kutuzov\\\\\\\\nSummary: Training large language models requires vast amounts of data, posing a\\\\\\\\nchallenge for less widely spoken languages like Norwegian and even more so for\\\\\\\\ntruly low-resource languages like S\\\\\\\\\\\\\\\\\\\\\\'ami. To address this issue, we present a\\\\\\\\nnovel three-stage continual training approach. We also experiment with\\\\\\\\ncombining causal and masked language modeling to get more flexible models.\\\\\\\\nBased on our findings, we train, evaluate, and openly release a new large\\\\\\\\ngenerative language model for Norwegian Bokm\\\\\\\\\\\\\\\\r{a}l, Nynorsk, and Northern\\\\\\\\nS\\\\\\\\\\\\\\\\\\\\\\'ami with 11.4 billion parameters: NorMistral-11B.\\\\\\\\n\\\\\\\\nPublished: 2024-09-26\\\\\\\\nTitle: Enhancing elusive clues in knowledge learning by contrasting attention of language models\\\\\\\\nAuthors: Jian Gao, Xiao Zhang, Ji Wu, Miao Li\\\\\\\\nSummary: Causal language models acquire vast amount of knowledge from general text\\\\\\\\ncorpus during pretraining, but the efficiency of knowledge learning is known to\\\\\\\\nbe unsatisfactory, especially when learning from knowledge-dense and\\\\\\\\nsmall-sized corpora. The deficiency can come from long-distance dependencies\\\\\\\\nwhich are hard to capture by language models, and overfitting to co-occurrence\\\\\\\\npatterns and distracting clues in the training text. To address these issues,\\\\\\\\nthe paper proposes a method to enhance knowledge learning during language model\\\\\\\\npretraining, by enhancing elusive but important clues in text discovered by the\\\\\\\\nlanguage model themselves. We found that larger language models pay more\\\\\\\\nattention to non-obvious but important clues, which are often overlooked by\\\\\\\\nsmaller language models. Therefore, we can identify these clues by contrasting\\\\\\\\nthe attention weights of large and small language models. We use the identified\\\\\\\\nclues as a guide to perform token-dropout data augmentation on the training\\\\\\\\ntext, and observed a significant boost in both small and large models\\\\\\'\\\\\\\\nperformance in fact memorization. This shows that the behavior contrast between\\\\\\\\nmore and less-performant language models contains important clues for knowledge\\\\\\\\nlearning, and it can be ``amplified\\\\\\\\\" for a straight-forward improvement in\\\\\\\\nknowledge learning efficiency.\"\\', name=\\'arxiv\\', tool_call_id=\\'call_RofKJ0sqRlA3BluuhZecGTww\\')]']}\n",
      "content='Here are some recent papers related to Small Language Models:\\n\\n1. **Title**: An Assessment of the Impact of OCR Noise on Language Models  \\n   **Authors**: Konstantin Todorov, Giovanni Colavizza  \\n   **Published**: January 26, 2022  \\n   **Summary**: This paper investigates how Optical Character Recognition (OCR) noise affects various language models. The study finds that OCR noise significantly hinders language modeling, particularly impacting transformer-based models when trained on small corpora. Simpler models like PPMI and Word2Vec perform better under these conditions.\\n\\n2. **Title**: Small Languages, Big Models: A Study of Continual Training on Languages of Norway  \\n   **Authors**: David Samuel, Vladislav Mikhailov, Erik Velldal, Lilja Øvrelid, Lucas Georges Gabriel Charpentier, Andrey Kutuzov  \\n   **Published**: December 9, 2024  \\n   **Summary**: This research addresses the challenge of training large language models for less widely spoken languages, such as Norwegian and low-resource languages like Sámi. The authors propose a three-stage continual training approach and introduce a new generative language model, NorMistral-11B, with 11.4 billion parameters, specifically for Norwegian Bokmål, Nynorsk, and Northern Sámi.\\n\\n3. **Title**: Enhancing elusive clues in knowledge learning by contrasting attention of language models  \\n   **Authors**: Jian Gao, Xiao Zhang, Ji Wu, Miao Li  \\n   **Published**: September 26, 2024  \\n   **Summary**: This paper explores the efficiency of knowledge learning in causal language models, particularly when dealing with small-sized corpora. It proposes a method to enhance knowledge learning by focusing on important but often overlooked clues in the text. The study shows that larger models can identify these clues better than smaller ones, leading to improved performance through data augmentation techniques.\\n\\nThese papers highlight various aspects of small language models, including their performance under noise, training methodologies for low-resource languages, and strategies for enhancing knowledge learning.' response_metadata={'token_usage': {'completion_tokens': 429, 'prompt_tokens': 936, 'total_tokens': 1365, 'completion_tokens_details': {'accepted_prediction_tokens': 0, 'audio_tokens': 0, 'reasoning_tokens': 0, 'rejected_prediction_tokens': 0}, 'prompt_tokens_details': {'audio_tokens': 0, 'cached_tokens': 0}}, 'model_name': 'gpt-4o-mini-2024-07-18', 'system_fingerprint': 'fp_5154047bf2', 'finish_reason': 'stop', 'logprobs': None, 'content_filter_results': {}} id='run-300251f8-1d58-44ef-91d0-9af55218d0a9-0' usage_metadata={'input_tokens': 936, 'output_tokens': 429, 'total_tokens': 1365}\n",
      "{'research': {'agent_outcome': [AIMessage(content='Here are some recent papers related to Small Language Models:\\n\\n1. **Title**: An Assessment of the Impact of OCR Noise on Language Models  \\n   **Authors**: Konstantin Todorov, Giovanni Colavizza  \\n   **Published**: January 26, 2022  \\n   **Summary**: This paper investigates how Optical Character Recognition (OCR) noise affects various language models. The study finds that OCR noise significantly hinders language modeling, particularly impacting transformer-based models when trained on small corpora. Simpler models like PPMI and Word2Vec perform better under these conditions.\\n\\n2. **Title**: Small Languages, Big Models: A Study of Continual Training on Languages of Norway  \\n   **Authors**: David Samuel, Vladislav Mikhailov, Erik Velldal, Lilja Øvrelid, Lucas Georges Gabriel Charpentier, Andrey Kutuzov  \\n   **Published**: December 9, 2024  \\n   **Summary**: This research addresses the challenge of training large language models for less widely spoken languages, such as Norwegian and low-resource languages like Sámi. The authors propose a three-stage continual training approach and introduce a new generative language model, NorMistral-11B, with 11.4 billion parameters, specifically for Norwegian Bokmål, Nynorsk, and Northern Sámi.\\n\\n3. **Title**: Enhancing elusive clues in knowledge learning by contrasting attention of language models  \\n   **Authors**: Jian Gao, Xiao Zhang, Ji Wu, Miao Li  \\n   **Published**: September 26, 2024  \\n   **Summary**: This paper explores the efficiency of knowledge learning in causal language models, particularly when dealing with small-sized corpora. It proposes a method to enhance knowledge learning by focusing on important but often overlooked clues in the text. The study shows that larger models can identify these clues better than smaller ones, leading to improved performance through data augmentation techniques.\\n\\nThese papers highlight various aspects of small language models, including their performance under noise, training methodologies for low-resource languages, and strategies for enhancing knowledge learning.', response_metadata={'token_usage': {'completion_tokens': 429, 'prompt_tokens': 936, 'total_tokens': 1365, 'completion_tokens_details': {'accepted_prediction_tokens': 0, 'audio_tokens': 0, 'reasoning_tokens': 0, 'rejected_prediction_tokens': 0}, 'prompt_tokens_details': {'audio_tokens': 0, 'cached_tokens': 0}}, 'model_name': 'gpt-4o-mini-2024-07-18', 'system_fingerprint': 'fp_5154047bf2', 'finish_reason': 'stop', 'logprobs': None, 'content_filter_results': {}}, id='run-300251f8-1d58-44ef-91d0-9af55218d0a9-0', usage_metadata={'input_tokens': 936, 'output_tokens': 429, 'total_tokens': 1365})]}}\n",
      "Here are some recent papers related to Small Language Models:\n",
      "\n",
      "1. **Title**: An Assessment of the Impact of OCR Noise on Language Models  \n",
      "   **Authors**: Konstantin Todorov, Giovanni Colavizza  \n",
      "   **Published**: January 26, 2022  \n",
      "   **Summary**: This paper investigates how Optical Character Recognition (OCR) noise affects various language models. The study finds that OCR noise significantly hinders language modeling, particularly impacting transformer-based models when trained on small corpora. Simpler models like PPMI and Word2Vec perform better under these conditions.\n",
      "\n",
      "2. **Title**: Small Languages, Big Models: A Study of Continual Training on Languages of Norway  \n",
      "   **Authors**: David Samuel, Vladislav Mikhailov, Erik Velldal, Lilja Øvrelid, Lucas Georges Gabriel Charpentier, Andrey Kutuzov  \n",
      "   **Published**: December 9, 2024  \n",
      "   **Summary**: This research addresses the challenge of training large language models for less widely spoken languages, such as Norwegian and low-resource languages like Sámi. The authors propose a three-stage continual training approach and introduce a new generative language model, NorMistral-11B, with 11.4 billion parameters, specifically for Norwegian Bokmål, Nynorsk, and Northern Sámi.\n",
      "\n",
      "3. **Title**: Enhancing elusive clues in knowledge learning by contrasting attention of language models  \n",
      "   **Authors**: Jian Gao, Xiao Zhang, Ji Wu, Miao Li  \n",
      "   **Published**: September 26, 2024  \n",
      "   **Summary**: This paper explores the efficiency of knowledge learning in causal language models, particularly when dealing with small-sized corpora. It proposes a method to enhance knowledge learning by focusing on important but often overlooked clues in the text. The study shows that larger models can identify these clues better than smaller ones, leading to improved performance through data augmentation techniques.\n",
      "\n",
      "These papers highlight various aspects of small language models, including their performance under noise, training methodologies for low-resource languages, and strategies for enhancing knowledge learning.\n",
      "----------------------------------------------------------------------------------------------------\n"
     ]
    }
   ],
   "source": [
    "inputs = {\n",
    "    \"input\": \"What are the recent papers on Small Language Models?\",\n",
    "}\n",
    "\n",
    "state = AgentState(**inputs)\n",
    "for s in app.stream(input=state):\n",
    "    pprint.pp(s)\n",
    "    print(list(s.values())[0]['agent_outcome'][0].content)\n",
    "    print(\"-----\"*20)"
   ]
  },
  {
   "cell_type": "code",
   "execution_count": 41,
   "metadata": {},
   "outputs": [
    {
     "data": {
      "text/plain": [
       "<function dict.values>"
      ]
     },
     "execution_count": 41,
     "metadata": {},
     "output_type": "execute_result"
    }
   ],
   "source": []
  },
  {
   "cell_type": "code",
   "execution_count": null,
   "metadata": {},
   "outputs": [],
   "source": []
  }
 ],
 "metadata": {
  "kernelspec": {
   "display_name": ".venv",
   "language": "python",
   "name": "python3"
  },
  "language_info": {
   "codemirror_mode": {
    "name": "ipython",
    "version": 3
   },
   "file_extension": ".py",
   "mimetype": "text/x-python",
   "name": "python",
   "nbconvert_exporter": "python",
   "pygments_lexer": "ipython3",
   "version": "3.10.7"
  }
 },
 "nbformat": 4,
 "nbformat_minor": 2
}
