{
 "cells": [
  {
   "cell_type": "code",
   "execution_count": 1,
   "metadata": {},
   "outputs": [
    {
     "name": "stdout",
     "output_type": "stream",
     "text": [
      "/Users/L024258/lilly_work/github-copilot/exploration/langgraph/..\n"
     ]
    }
   ],
   "source": [
    "import os\n",
    "import sys\n",
    "\n",
    "# Get the current working directory and add the parent directory to the Python path\n",
    "current_working_directory = os.getcwd()\n",
    "print(os.path.join(current_working_directory, \"..\"))\n",
    "sys.path.append(os.path.join(current_working_directory, \"..\"))"
   ]
  },
  {
   "cell_type": "code",
   "execution_count": 2,
   "metadata": {},
   "outputs": [],
   "source": [
    "import pprint"
   ]
  },
  {
   "cell_type": "markdown",
   "metadata": {},
   "source": [
    "### Defining the Graph state"
   ]
  },
  {
   "cell_type": "code",
   "execution_count": 3,
   "metadata": {},
   "outputs": [],
   "source": [
    "from typing import TypedDict, Annotated, List, Union\n",
    "import operator\n",
    "from IPython.display import Image, display"
   ]
  },
  {
   "cell_type": "code",
   "execution_count": 4,
   "metadata": {},
   "outputs": [],
   "source": [
    "class AgentState(TypedDict):\n",
    "    input: str\n",
    "    messages: Annotated[list, operator.add]\n",
    "    chat_history: Annotated[list, operator.add]"
   ]
  },
  {
   "cell_type": "code",
   "execution_count": 5,
   "metadata": {},
   "outputs": [],
   "source": [
    "from langchain_community.tools.arxiv.tool import ArxivQueryRun\n",
    "from langchain_community.tools.pubmed.tool import PubmedQueryRun\n",
    "from langchain_community.tools.tavily_search import TavilySearchResults\n",
    "\n",
    "pubmed_search = PubmedQueryRun()\n",
    "arxiv_search = ArxivQueryRun()\n",
    "tavily_tool = TavilySearchResults(max_results=5)\n",
    "\n",
    "# tools = [arxiv_search, pubmed_search, tavily_tool]\n",
    "tools = [arxiv_search, pubmed_search]\n",
    "tools = [arxiv_search]"
   ]
  },
  {
   "cell_type": "code",
   "execution_count": 6,
   "metadata": {},
   "outputs": [],
   "source": [
    "from models.llm import LLM\n",
    "\n",
    "model = LLM('gpt-4o-mini')\n",
    "llm = model.load_model()"
   ]
  },
  {
   "cell_type": "code",
   "execution_count": 7,
   "metadata": {},
   "outputs": [],
   "source": [
    "from langchain_core.prompts import ChatPromptTemplate, MessagesPlaceholder\n",
    "\n",
    "def research_agent(data):\n",
    "    print(\"----research node----\")\n",
    "    prompt = ChatPromptTemplate.from_messages(\n",
    "        [\n",
    "            (\n",
    "                \"system\",\n",
    "                \"You are a helpful AI research assistant,\"\n",
    "                \" Use the appropriate search tools to progress towards finding the relevant results.\"\n",
    "                \" Once you have the relevant search results, summarise them to answer the user query.\"\n",
    "                \"\\nYou have access to the following search tools: {tool_names}.\"\n",
    "            ),\n",
    "            (\n",
    "                \"human\",\n",
    "                \"\\nUser Query: {input}\"\n",
    "            ),\n",
    "            \n",
    "            MessagesPlaceholder(variable_name=\"messages\"),\n",
    "        ]\n",
    "    )\n",
    "    prompt = prompt.partial(tool_names=\", \".join([tool.name for tool in tools]))\n",
    "    agent = prompt | llm.bind_tools(tools)\n",
    "    result = agent.invoke(data)\n",
    "    return {'messages': [result]}"
   ]
  },
  {
   "cell_type": "code",
   "execution_count": 8,
   "metadata": {},
   "outputs": [
    {
     "data": {
      "text/plain": [
       "<langgraph.graph.state.StateGraph at 0x11777b430>"
      ]
     },
     "execution_count": 8,
     "metadata": {},
     "output_type": "execute_result"
    }
   ],
   "source": [
    "from langgraph.graph import StateGraph\n",
    "workflow = StateGraph(AgentState)\n",
    "\n",
    "workflow.add_node(\"research\", research_agent)\n",
    "workflow.set_entry_point(\"research\")"
   ]
  },
  {
   "cell_type": "code",
   "execution_count": 9,
   "metadata": {},
   "outputs": [
    {
     "data": {
      "text/plain": [
       "<langgraph.graph.state.StateGraph at 0x11777b430>"
      ]
     },
     "execution_count": 9,
     "metadata": {},
     "output_type": "execute_result"
    }
   ],
   "source": [
    "from langgraph.prebuilt import ToolNode, tools_condition\n",
    "tools_node = ToolNode(tools)\n",
    "workflow.add_node(\"tools\", tools_node)"
   ]
  },
  {
   "cell_type": "code",
   "execution_count": 10,
   "metadata": {},
   "outputs": [
    {
     "data": {
      "text/plain": [
       "<langgraph.graph.state.StateGraph at 0x11777b430>"
      ]
     },
     "execution_count": 10,
     "metadata": {},
     "output_type": "execute_result"
    }
   ],
   "source": [
    "workflow.add_conditional_edges(\n",
    "    \"research\",\n",
    "    tools_condition\n",
    ")"
   ]
  },
  {
   "cell_type": "code",
   "execution_count": 11,
   "metadata": {},
   "outputs": [
    {
     "data": {
      "text/plain": [
       "<langgraph.graph.state.StateGraph at 0x11777b430>"
      ]
     },
     "execution_count": 11,
     "metadata": {},
     "output_type": "execute_result"
    }
   ],
   "source": [
    "workflow.add_edge(\"tools\", \"research\")"
   ]
  },
  {
   "cell_type": "markdown",
   "metadata": {},
   "source": [
    "**NOTE:** To use `langgraph.prebuilt.ToolNode` and `langgraph.prebuilt.tools_conditions` refer langgraph ToolNode [documentation](https://langchain-ai.github.io/langgraph/reference/prebuilt/). For custom applications, I prefer defining `ToolNode` and `route_tools` based on the application's requirements."
   ]
  },
  {
   "cell_type": "code",
   "execution_count": 12,
   "metadata": {},
   "outputs": [
    {
     "data": {
      "image/jpeg": "[encoded data removed]",
      "text/plain": [
       "<IPython.core.display.Image object>"
      ]
     },
     "metadata": {},
     "output_type": "display_data"
    }
   ],
   "source": [
    "app = workflow.compile()\n",
    "try:\n",
    "    display(Image(app.get_graph(xray=True).draw_mermaid_png()))\n",
    "except Exception:\n",
    "    # This requires some extra dependencies and is optional\n",
    "    pass"
   ]
  },
  {
   "cell_type": "code",
   "execution_count": 13,
   "metadata": {},
   "outputs": [
    {
     "name": "stdout",
     "output_type": "stream",
     "text": [
      "----research node----\n",
      "\n",
      "----------------------------------------------------------------------------------------------------\n",
      "Published: 2022-01-26\n",
      "Title: An Assessment of the Impact of OCR Noise on Language Models\n",
      "Authors: Konstantin Todorov, Giovanni Colavizza\n",
      "Summary: Neural language models are the backbone of modern-day natural language\n",
      "processing applications. Their use on textual heritage collections which have\n",
      "undergone Optical Character Recognition (OCR) is therefore also increasing.\n",
      "Nevertheless, our understanding of the impact OCR noise could have on language\n",
      "models is still limited. We perform an assessment of the impact OCR noise has\n",
      "on a variety of language models, using data in Dutch, English, French and\n",
      "German. We find that OCR noise poses a significant obstacle to language\n",
      "modelling, with language models increasingly diverging from their noiseless\n",
      "targets as OCR quality lowers. In the presence of small corpora, simpler models\n",
      "including PPMI and Word2Vec consistently outperform transformer-based models in\n",
      "this respect.\n",
      "\n",
      "Published: 2024-12-09\n",
      "Title: Small Languages, Big Models: A Study of Continual Training on Languages of Norway\n",
      "Authors: David Samuel, Vladislav Mikhailov, Erik Velldal, Lilja Øvrelid, Lucas Georges Gabriel Charpentier, Andrey Kutuzov\n",
      "Summary: Training large language models requires vast amounts of data, posing a\n",
      "challenge for less widely spoken languages like Norwegian and even more so for\n",
      "truly low-resource languages like S\\'ami. To address this issue, we present a\n",
      "novel three-stage continual training approach. We also experiment with\n",
      "combining causal and masked language modeling to get more flexible models.\n",
      "Based on our findings, we train, evaluate, and openly release a new large\n",
      "generative language model for Norwegian Bokm\\r{a}l, Nynorsk, and Northern\n",
      "S\\'ami with 11.4 billion parameters: NorMistral-11B.\n",
      "\n",
      "Published: 2024-09-26\n",
      "Title: Enhancing elusive clues in knowledge learning by contrasting attention of language models\n",
      "Authors: Jian Gao, Xiao Zhang, Ji Wu, Miao Li\n",
      "Summary: Causal language models acquire vast amount of knowledge from general text\n",
      "corpus during pretraining, but the efficiency of knowledge learning is known to\n",
      "be unsatisfactory, especially when learning from knowledge-dense and\n",
      "small-sized corpora. The deficiency can come from long-distance dependencies\n",
      "which are hard to capture by language models, and overfitting to co-occurrence\n",
      "patterns and distracting clues in the training text. To address these issues,\n",
      "the paper proposes a method to enhance knowledge learning during language model\n",
      "pretraining, by enhancing elusive but important clues in text discovered by the\n",
      "language model themselves. We found that larger language models pay more\n",
      "attention to non-obvious but important clues, which are often overlooked by\n",
      "smaller language models. Therefore, we can identify these clues by contrasting\n",
      "the attention weights of large and small language models. We use the identified\n",
      "clues as a guide to perform token-dropout data augmentation on the training\n",
      "text, and observed a significant boost in both small and large models'\n",
      "performance in fact memorization. This shows that the behavior contrast between\n",
      "more and less-performant language models contains important clues for knowledge\n",
      "learning, and it can be ``amplified\" for a straight-forward improvement in\n",
      "knowledge learning efficiency.\n",
      "----------------------------------------------------------------------------------------------------\n",
      "----research node----\n",
      "Here are some recent papers related to Small Language Models:\n",
      "\n",
      "1. **An Assessment of the Impact of OCR Noise on Language Models** (Published: 2022-01-26)\n",
      "   - **Authors**: Konstantin Todorov, Giovanni Colavizza\n",
      "   - **Summary**: This paper investigates how Optical Character Recognition (OCR) noise affects various language models. It finds that OCR noise significantly hinders language modeling, particularly for smaller corpora, where simpler models like PPMI and Word2Vec outperform transformer-based models.\n",
      "\n",
      "2. **Small Languages, Big Models: A Study of Continual Training on Languages of Norway** (Published: 2024-12-09)\n",
      "   - **Authors**: David Samuel, Vladislav Mikhailov, Erik Velldal, Lilja Øvrelid, Lucas Georges Gabriel Charpentier, Andrey Kutuzov\n",
      "   - **Summary**: This study addresses the challenge of training large language models for less widely spoken languages, such as Norwegian and Sâmi. It introduces a three-stage continual training approach and combines causal and masked language modeling. The authors present a new generative language model for Norwegian with 11.4 billion parameters, named NorMistral-11B.\n",
      "\n",
      "3. **Enhancing elusive clues in knowledge learning by contrasting attention of language models** (Published: 2024-09-26)\n",
      "   - **Authors**: Jian Gao, Xiao Zhang, Ji Wu, Miao Li\n",
      "   - **Summary**: This paper proposes a method to improve knowledge learning in language models, particularly when dealing with small-sized corpora. It highlights that larger models can identify important but subtle clues that smaller models may overlook. By contrasting attention weights between large and small models, the authors enhance training data through token-dropout data augmentation, leading to improved performance in knowledge memorization.\n",
      "\n",
      "These papers explore various aspects of small language models, including their performance in noisy environments, training methodologies for low-resource languages, and techniques to enhance knowledge learning efficiency.\n",
      "----------------------------------------------------------------------------------------------------\n"
     ]
    }
   ],
   "source": [
    "inputs = {\n",
    "    \"input\": \"What are the recent papers on Small Language Models?\",\n",
    "}\n",
    "\n",
    "state = AgentState(**inputs)\n",
    "for s in app.stream(input=state):\n",
    "    print(list(s.values())[0]['messages'][0].content)\n",
    "    print(\"-----\"*20)"
   ]
  },
  {
   "cell_type": "code",
   "execution_count": null,
   "metadata": {},
   "outputs": [],
   "source": []
  }
 ],
 "metadata": {
  "kernelspec": {
   "display_name": ".venv",
   "language": "python",
   "name": "python3"
  },
  "language_info": {
   "codemirror_mode": {
    "name": "ipython",
    "version": 3
   },
   "file_extension": ".py",
   "mimetype": "text/x-python",
   "name": "python",
   "nbconvert_exporter": "python",
   "pygments_lexer": "ipython3",
   "version": "3.10.7"
  }
 },
 "nbformat": 4,
 "nbformat_minor": 2
}
