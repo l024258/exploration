{
 "cells": [
  {
   "cell_type": "code",
   "execution_count": 1,
   "metadata": {},
   "outputs": [
    {
     "name": "stdout",
     "output_type": "stream",
     "text": [
      "/Users/L024258/lilly_work/github-copilot/exploration/langgraph/..\n"
     ]
    }
   ],
   "source": [
    "import os\n",
    "import sys\n",
    "\n",
    "# Get the current working directory and add the parent directory to the Python path\n",
    "current_working_directory = os.getcwd()\n",
    "print(os.path.join(current_working_directory, \"..\"))\n",
    "sys.path.append(os.path.join(current_working_directory, \"..\"))"
   ]
  },
  {
   "cell_type": "code",
   "execution_count": 2,
   "metadata": {},
   "outputs": [],
   "source": [
    "import pprint"
   ]
  },
  {
   "cell_type": "markdown",
   "metadata": {},
   "source": [
    "### Defining the Graph state\n",
    "\n",
    "State is the object that is passed between nodes in the graph."
   ]
  },
  {
   "cell_type": "code",
   "execution_count": 3,
   "metadata": {},
   "outputs": [],
   "source": [
    "from typing import TypedDict, Annotated, List, Union\n",
    "from langchain_core.agents import AgentAction, AgentFinish\n",
    "from langchain_core.messages import BaseMessage, AnyMessage\n",
    "import operator\n",
    "from IPython.display import Image, display"
   ]
  },
  {
   "cell_type": "code",
   "execution_count": 4,
   "metadata": {},
   "outputs": [],
   "source": [
    "class AgentState(TypedDict):\n",
    "    input: str\n",
    "    agent_outcome: List[AnyMessage]\n",
    "    chat_history: Annotated[list, operator.add]"
   ]
  },
  {
   "cell_type": "markdown",
   "metadata": {},
   "source": [
    "### Defining the LLM"
   ]
  },
  {
   "cell_type": "code",
   "execution_count": 5,
   "metadata": {},
   "outputs": [],
   "source": [
    "from models.llm import LLM\n",
    "\n",
    "model = LLM('gpt-4o-mini')\n",
    "llm = model.load_model()"
   ]
  },
  {
   "cell_type": "markdown",
   "metadata": {},
   "source": [
    "### Define the agent (node)"
   ]
  },
  {
   "cell_type": "code",
   "execution_count": 6,
   "metadata": {},
   "outputs": [],
   "source": [
    "from langchain_core.prompts import ChatPromptTemplate, MessagesPlaceholder\n",
    "\n",
    "def research_agent(data):\n",
    "    print(data)\n",
    "    prompt = ChatPromptTemplate.from_messages(\n",
    "        [\n",
    "            (\n",
    "                \"system\",\n",
    "                \"You are a helpful AI assistant\"\n",
    "                \"\\nUser Query: {input}\"\n",
    "            ),\n",
    "            MessagesPlaceholder(variable_name=\"chat_history\"),\n",
    "        ]\n",
    "    )\n",
    "    agent = prompt | llm\n",
    "    result = agent.invoke(data)\n",
    "    return {\n",
    "                'agent_outcome': [result],\n",
    "                'chat_history': [\"User: \" + data['input'] + \"\\n AI Message: \" + result.content],\n",
    "            }"
   ]
  },
  {
   "cell_type": "markdown",
   "metadata": {},
   "source": [
    "### Defining the workflow"
   ]
  },
  {
   "cell_type": "code",
   "execution_count": 7,
   "metadata": {},
   "outputs": [
    {
     "data": {
      "image/jpeg": "[encoded data removed]",
      "text/plain": [
       "<IPython.core.display.Image object>"
      ]
     },
     "metadata": {},
     "output_type": "display_data"
    }
   ],
   "source": [
    "from langgraph.graph import END, StateGraph\n",
    "workflow = StateGraph(AgentState)\n",
    "\n",
    "workflow.add_node(\"research\", research_agent)\n",
    "workflow.set_entry_point(\"research\")\n",
    "\n",
    "app = workflow.compile()\n",
    "try:\n",
    "    display(Image(app.get_graph(xray=True).draw_mermaid_png()))\n",
    "except Exception:\n",
    "    # This requires some extra dependencies and is optional\n",
    "    pass"
   ]
  },
  {
   "cell_type": "code",
   "execution_count": 8,
   "metadata": {},
   "outputs": [],
   "source": [
    "inputs = {\n",
    "    \"input\": \"What are the recent papers on Small Language Models?\",\n",
    "}"
   ]
  },
  {
   "cell_type": "markdown",
   "metadata": {},
   "source": [
    "`invoke()` method is used to run the workflow. It runs the entire graph (workflow) synchronously. \n",
    "\n",
    "It takes the input data and returns the final state of the workflow. \n",
    "\n",
    "The final state contains the output of the last agent that was executed in the workflow."
   ]
  },
  {
   "cell_type": "code",
   "execution_count": 9,
   "metadata": {},
   "outputs": [
    {
     "name": "stdout",
     "output_type": "stream",
     "text": [
      "{'input': 'What are the recent papers on Small Language Models?', 'chat_history': []}\n"
     ]
    },
    {
     "data": {
      "text/plain": [
       "{'input': 'What are the recent papers on Small Language Models?',\n",
       " 'agent_outcome': [AIMessage(content='As of my last update in October 2023, I can\\'t access real-time databases or the internet to provide the most recent papers. However, I can suggest some strategies for finding recent papers on small language models:\\n\\n1. **arXiv.org**: This is a repository for research papers in various fields, including computer science and artificial intelligence. You can search for \"small language models\" or related keywords to find the latest papers.\\n\\n2. **Google Scholar**: Use Google Scholar to search for recent publications. You can set the search filter to show only papers published in the last year or so.\\n\\n3. **Conference Proceedings**: Check the proceedings of major AI and NLP conferences such as ACL, EMNLP, NeurIPS, and ICML. They often feature cutting-edge research on language models.\\n\\n4. **Research Journals**: Look into journals like the Journal of Machine Learning Research (JMLR) or Transactions of the Association for Computational Linguistics (TACL) for peer-reviewed articles.\\n\\n5. **Social Media and Research Networks**: Platforms like ResearchGate, Twitter, and LinkedIn can be useful for following researchers and institutions that focus on language models.\\n\\nIf you have access to specific databases or libraries, you can also use them to search for the latest research articles.', response_metadata={'token_usage': {'completion_tokens': 262, 'prompt_tokens': 27, 'total_tokens': 289, 'completion_tokens_details': {'accepted_prediction_tokens': 0, 'audio_tokens': 0, 'reasoning_tokens': 0, 'rejected_prediction_tokens': 0}, 'prompt_tokens_details': {'audio_tokens': 0, 'cached_tokens': 0}}, 'model_name': 'gpt-4o-mini-2024-07-18', 'system_fingerprint': 'fp_f3927aa00d', 'prompt_filter_results': [{'prompt_index': 0, 'content_filter_results': {}}], 'finish_reason': 'stop', 'logprobs': None, 'content_filter_results': {'hate': {'filtered': False, 'severity': 'safe'}, 'protected_material_code': {'filtered': False, 'detected': False}, 'protected_material_text': {'filtered': False, 'detected': False}, 'self_harm': {'filtered': False, 'severity': 'safe'}, 'sexual': {'filtered': False, 'severity': 'safe'}, 'violence': {'filtered': False, 'severity': 'safe'}}}, id='run-c9adee7b-aa3c-4ecb-a17b-4f0445fc1baf-0', usage_metadata={'input_tokens': 27, 'output_tokens': 262, 'total_tokens': 289})],\n",
       " 'chat_history': ['User: What are the recent papers on Small Language Models?\\n AI Message: As of my last update in October 2023, I can\\'t access real-time databases or the internet to provide the most recent papers. However, I can suggest some strategies for finding recent papers on small language models:\\n\\n1. **arXiv.org**: This is a repository for research papers in various fields, including computer science and artificial intelligence. You can search for \"small language models\" or related keywords to find the latest papers.\\n\\n2. **Google Scholar**: Use Google Scholar to search for recent publications. You can set the search filter to show only papers published in the last year or so.\\n\\n3. **Conference Proceedings**: Check the proceedings of major AI and NLP conferences such as ACL, EMNLP, NeurIPS, and ICML. They often feature cutting-edge research on language models.\\n\\n4. **Research Journals**: Look into journals like the Journal of Machine Learning Research (JMLR) or Transactions of the Association for Computational Linguistics (TACL) for peer-reviewed articles.\\n\\n5. **Social Media and Research Networks**: Platforms like ResearchGate, Twitter, and LinkedIn can be useful for following researchers and institutions that focus on language models.\\n\\nIf you have access to specific databases or libraries, you can also use them to search for the latest research articles.']}"
      ]
     },
     "execution_count": 9,
     "metadata": {},
     "output_type": "execute_result"
    }
   ],
   "source": [
    "app.invoke(input=inputs)"
   ]
  },
  {
   "cell_type": "code",
   "execution_count": null,
   "metadata": {},
   "outputs": [],
   "source": [
    "for s in app.stream(input=inputs):\n",
    "    pprint.pp(s)\n",
    "    print(list(s.values())[0]['agent_outcome'][0].content)\n",
    "    print(\"-----\"*20)"
   ]
  },
  {
   "cell_type": "code",
   "execution_count": null,
   "metadata": {},
   "outputs": [],
   "source": [
    "def stream_app_updates(user_input: str, chat_history: list):\n",
    "    inputs = {\n",
    "        \"input\": user_input,\n",
    "        \"chat_history\": chat_history\n",
    "    }\n",
    "    for event in app.stream(input=inputs):\n",
    "        for value in event.values():\n",
    "            response = value[\"agent_outcome\"][-1].content\n",
    "            conv = value[\"chat_history\"][-1]\n",
    "    return response, conv\n",
    "\n",
    "chat_history = []\n",
    "while True:\n",
    "    try:\n",
    "        user_input = input(\"User: \")\n",
    "        if user_input.lower() in [\"quit\", \"exit\", \"q\"]:\n",
    "            print(\"Goodbye!\")\n",
    "            break\n",
    "\n",
    "        response, conv = stream_app_updates(user_input, chat_history)\n",
    "    except:\n",
    "        # fallback if input() is not available\n",
    "        print(\"User: \" + user_input)\n",
    "        response, conv = stream_app_updates(user_input, chat_history)\n",
    "        break\n",
    "    print(\"Assistant:\", response)\n",
    "    chat_history.append(conv)"
   ]
  },
  {
   "cell_type": "code",
   "execution_count": null,
   "metadata": {},
   "outputs": [],
   "source": []
  }
 ],
 "metadata": {
  "kernelspec": {
   "display_name": ".venv",
   "language": "python",
   "name": "python3"
  },
  "language_info": {
   "codemirror_mode": {
    "name": "ipython",
    "version": 3
   },
   "file_extension": ".py",
   "mimetype": "text/x-python",
   "name": "python",
   "nbconvert_exporter": "python",
   "pygments_lexer": "ipython3",
   "version": "3.11.11"
  }
 },
 "nbformat": 4,
 "nbformat_minor": 2
}
