{
 "cells": [
  {
   "cell_type": "code",
   "execution_count": 1,
   "metadata": {},
   "outputs": [
    {
     "name": "stdout",
     "output_type": "stream",
     "text": [
      "/Users/L024258/lilly_work/github-copilot/exploration/langgraph/..\n"
     ]
    }
   ],
   "source": [
    "import os\n",
    "import sys\n",
    "\n",
    "# Get the current working directory and add the parent directory to the Python path\n",
    "current_working_directory = os.getcwd()\n",
    "print(os.path.join(current_working_directory, \"..\"))\n",
    "sys.path.append(os.path.join(current_working_directory, \"..\"))"
   ]
  },
  {
   "cell_type": "code",
   "execution_count": 2,
   "metadata": {},
   "outputs": [],
   "source": [
    "import pprint"
   ]
  },
  {
   "cell_type": "markdown",
   "metadata": {},
   "source": [
    "### Defining the Graph state"
   ]
  },
  {
   "cell_type": "code",
   "execution_count": 3,
   "metadata": {},
   "outputs": [],
   "source": [
    "from typing import TypedDict, Annotated, List, Union\n",
    "from langchain_core.agents import AgentAction, AgentFinish\n",
    "from langchain_core.messages import BaseMessage, HumanMessage\n",
    "import operator\n",
    "from IPython.display import Image, display"
   ]
  },
  {
   "cell_type": "code",
   "execution_count": 4,
   "metadata": {},
   "outputs": [],
   "source": [
    "from langgraph.types import Command, interrupt"
   ]
  },
  {
   "cell_type": "code",
   "execution_count": 5,
   "metadata": {},
   "outputs": [],
   "source": [
    "class AgentState(TypedDict):\n",
    "    input: str\n",
    "    agent_outcome: Union[AgentAction, AgentFinish, None]\n",
    "    intermediate_step: Annotated[list, operator.add]"
   ]
  },
  {
   "cell_type": "code",
   "execution_count": 6,
   "metadata": {},
   "outputs": [],
   "source": [
    "from langchain_community.tools.arxiv.tool import ArxivQueryRun\n",
    "from langchain_community.tools.pubmed.tool import PubmedQueryRun\n",
    "from langchain_community.tools.tavily_search import TavilySearchResults\n",
    "\n",
    "pubmed_search = PubmedQueryRun()\n",
    "arxiv_search = ArxivQueryRun()\n",
    "tavily_tool = TavilySearchResults(max_results=5)\n",
    "\n",
    "tools = [arxiv_search, pubmed_search, tavily_tool]\n",
    "# tools = [arxiv_search, pubmed_search]\n",
    "# tools = [arxiv_search]"
   ]
  },
  {
   "cell_type": "code",
   "execution_count": 7,
   "metadata": {},
   "outputs": [],
   "source": [
    "from langchain_core.tools import tool\n",
    "\n",
    "@tool\n",
    "def request_user_feedback(query: str) -> str:\n",
    "    \"\"\"Request assistance or feedback from a human.\"\"\"\n",
    "    human_response = interrupt({\"query\": query})\n",
    "    return human_response[\"data\"]\n",
    "\n",
    "tools.append(request_user_feedback)\n"
   ]
  },
  {
   "cell_type": "code",
   "execution_count": 8,
   "metadata": {},
   "outputs": [],
   "source": [
    "from models.llm import LLM\n",
    "\n",
    "model = LLM('gpt-4o-mini')\n",
    "llm = model.load_model()"
   ]
  },
  {
   "cell_type": "code",
   "execution_count": 9,
   "metadata": {},
   "outputs": [],
   "source": [
    "from langchain_core.prompts import ChatPromptTemplate, MessagesPlaceholder\n",
    "\n",
    "def research_agent(data):\n",
    "    print(\"----research node----\")\n",
    "    prompt = ChatPromptTemplate.from_messages(\n",
    "        [\n",
    "            (\n",
    "                \"system\",\n",
    "                \"You are a helpful AI research assistant chatbot,\"\n",
    "                \" Provided a user query generate 2 more similar queries and search for relevant results.\"\n",
    "                \" Use the appropriate search tools to progress towards finding the relevant results.\"\n",
    "                \" Once you have the relevant search results, take user feedback.\"\n",
    "                \" If user says No/no (indicating No more searching), summarise the search results to answer the user query\"\n",
    "                \"\\nYou have access to the following search tools: {tool_names}.\"\n",
    "            ),\n",
    "            (\n",
    "                \"human\",\n",
    "                \"\\nUser Query: {input}\"\n",
    "            ),\n",
    "            \n",
    "            MessagesPlaceholder(variable_name=\"intermediate_step\"),\n",
    "        ]\n",
    "    )\n",
    "    prompt = prompt.partial(tool_names=\", \".join([tool.name for tool in tools]))\n",
    "    agent = prompt | llm.bind_tools(tools)\n",
    "    result = agent.invoke(data)\n",
    "    return {'agent_outcome': [result]}"
   ]
  },
  {
   "cell_type": "code",
   "execution_count": 21,
   "metadata": {},
   "outputs": [
    {
     "data": {
      "text/plain": [
       "<langgraph.graph.state.StateGraph at 0x12d737410>"
      ]
     },
     "execution_count": 21,
     "metadata": {},
     "output_type": "execute_result"
    }
   ],
   "source": [
    "from langgraph.graph import END, StateGraph\n",
    "workflow = StateGraph(AgentState)\n",
    "\n",
    "workflow.add_node(\"research\", research_agent)\n",
    "workflow.set_entry_point(\"research\")"
   ]
  },
  {
   "cell_type": "code",
   "execution_count": 22,
   "metadata": {},
   "outputs": [
    {
     "data": {
      "text/plain": [
       "<langgraph.graph.state.StateGraph at 0x12d737410>"
      ]
     },
     "execution_count": 22,
     "metadata": {},
     "output_type": "execute_result"
    }
   ],
   "source": [
    "import json\n",
    "from langchain_core.messages import ToolMessage\n",
    "\n",
    "class BasicToolNode:\n",
    "    def __init__(self, tools: list) -> None:\n",
    "        self.tools_by_name = {tool.name: tool for tool in tools}\n",
    "\n",
    "    def __call__(self, inputs: dict):\n",
    "        print(\"----tool calling----\")\n",
    "        message = inputs[\"agent_outcome\"][-1]\n",
    "\n",
    "        outputs = []\n",
    "        for tool_call in message.tool_calls:\n",
    "            print(f\"---- Calling {tool_call['name']} with args: {tool_call['args']} ----\")\n",
    "            tool_result = self.tools_by_name[tool_call[\"name\"]].invoke(\n",
    "                tool_call[\"args\"]\n",
    "            )\n",
    "            outputs.append(\n",
    "                ToolMessage(\n",
    "                    content=json.dumps(tool_result),\n",
    "                    name=tool_call[\"name\"],\n",
    "                    tool_call_id=tool_call[\"id\"],\n",
    "                )\n",
    "            )\n",
    "\n",
    "        return {\n",
    "                \"agent_outcome\": outputs,\n",
    "                \"intermediate_step\": [str(outputs)]\n",
    "            }\n",
    "\n",
    "tool_node = BasicToolNode(tools=tools)\n",
    "workflow.add_node(\"tools\", tool_node)"
   ]
  },
  {
   "cell_type": "code",
   "execution_count": 23,
   "metadata": {},
   "outputs": [],
   "source": [
    "def route_tools(\n",
    "    state: AgentState,\n",
    "):\n",
    "    \"\"\"\n",
    "    Use in the conditional_edge to route to the ToolNode if the last message\n",
    "    has tool calls. Otherwise, route to the end.\n",
    "    \"\"\"\n",
    "    print(\"----router----\")\n",
    "    if isinstance(state, list):\n",
    "        ai_message = state[-1]\n",
    "    elif agent_outcome := state.get(\"agent_outcome\", []):\n",
    "        ai_message = agent_outcome[-1]\n",
    "    else:\n",
    "        raise ValueError(f\"No messages found in input state to tool_edge: {state}\")\n",
    "\n",
    "    if hasattr(ai_message, \"tool_calls\") and len(ai_message.tool_calls) > 0:\n",
    "        return \"tools\"\n",
    "    return END"
   ]
  },
  {
   "cell_type": "code",
   "execution_count": 24,
   "metadata": {},
   "outputs": [
    {
     "data": {
      "text/plain": [
       "<langgraph.graph.state.StateGraph at 0x12d737410>"
      ]
     },
     "execution_count": 24,
     "metadata": {},
     "output_type": "execute_result"
    }
   ],
   "source": [
    "workflow.add_conditional_edges(\n",
    "    \"research\",\n",
    "    route_tools,\n",
    "    {\"tools\": \"tools\", END: END}\n",
    ")"
   ]
  },
  {
   "cell_type": "code",
   "execution_count": 25,
   "metadata": {},
   "outputs": [
    {
     "data": {
      "text/plain": [
       "<langgraph.graph.state.StateGraph at 0x12d737410>"
      ]
     },
     "execution_count": 25,
     "metadata": {},
     "output_type": "execute_result"
    }
   ],
   "source": [
    "workflow.add_edge(\"tools\", \"research\")"
   ]
  },
  {
   "cell_type": "code",
   "execution_count": 26,
   "metadata": {},
   "outputs": [],
   "source": [
    "from langgraph.checkpoint.memory import MemorySaver\n",
    "memory = MemorySaver()"
   ]
  },
  {
   "cell_type": "markdown",
   "metadata": {},
   "source": [
    "#### Adding Human in the Loop (HIL)\n",
    "\n",
    "- `interrupt_before (Optional[Union[All, Sequence[str]]], default: None )` – Nodes to interrupt before, defaults to all nodes in the graph.\n",
    "- `interrupt_after (Optional[Union[All, Sequence[str]]], default: None )` – Nodes to interrupt after, defaults to all nodes in the graph."
   ]
  },
  {
   "cell_type": "code",
   "execution_count": 27,
   "metadata": {},
   "outputs": [
    {
     "data": {
      "image/jpeg": "[encoded data removed]",
      "text/plain": [
       "<IPython.core.display.Image object>"
      ]
     },
     "metadata": {},
     "output_type": "display_data"
    }
   ],
   "source": [
    "app = workflow.compile(\n",
    "    checkpointer=memory,\n",
    "    interrupt_after=[\"research\"],)\n",
    "try:\n",
    "    display(Image(app.get_graph(xray=True).draw_mermaid_png()))\n",
    "except Exception:\n",
    "    # This requires some extra dependencies and is optional\n",
    "    pass"
   ]
  },
  {
   "cell_type": "markdown",
   "metadata": {},
   "source": [
    "##### Starting Conversation"
   ]
  },
  {
   "cell_type": "code",
   "execution_count": 28,
   "metadata": {},
   "outputs": [
    {
     "name": "stdout",
     "output_type": "stream",
     "text": [
      "================================\u001b[1m Human Message \u001b[0m=================================\n",
      "\n",
      "What are the recent papers on Small Language Models?\n",
      "----research node----\n",
      "----router----\n",
      "==================================\u001b[1m Ai Message \u001b[0m==================================\n",
      "Tool Calls:\n",
      "  arxiv (call_ONsYgXJ7vt0DmB2lcWWd3jKY)\n",
      " Call ID: call_ONsYgXJ7vt0DmB2lcWWd3jKY\n",
      "  Args:\n",
      "    query: Small Language Models\n",
      "  tavily_search_results_json (call_GLJyBrkQz0LDQNp3GTcIdAwC)\n",
      " Call ID: call_GLJyBrkQz0LDQNp3GTcIdAwC\n",
      "  Args:\n",
      "    query: recent papers on Small Language Models\n"
     ]
    }
   ],
   "source": [
    "inputs = {\n",
    "    \"input\": \"What are the recent papers on Small Language Models?\",\n",
    "}\n",
    "\n",
    "config = {\n",
    "    \"configurable\": {\n",
    "        \"thread_id\": \"123\",\n",
    "    }\n",
    "}\n",
    "\n",
    "state = AgentState(**inputs)\n",
    "events = app.stream(input=state, config=config, stream_mode=\"values\")\n",
    "for event in events:\n",
    "    try:\n",
    "        for msg in event[\"agent_outcome\"]:\n",
    "            msg.pretty_print()\n",
    "    except Exception:\n",
    "        HumanMessage(event[\"input\"]).pretty_print()"
   ]
  },
  {
   "cell_type": "markdown",
   "metadata": {},
   "source": [
    "The execution got stopped after the tools call."
   ]
  },
  {
   "cell_type": "code",
   "execution_count": 29,
   "metadata": {},
   "outputs": [
    {
     "data": {
      "text/plain": [
       "StateSnapshot(values={'input': 'What are the recent papers on Small Language Models?', 'agent_outcome': [AIMessage(content='', additional_kwargs={'tool_calls': [{'id': 'call_ONsYgXJ7vt0DmB2lcWWd3jKY', 'function': {'arguments': '{\"query\": \"Small Language Models\"}', 'name': 'arxiv'}, 'type': 'function'}, {'id': 'call_GLJyBrkQz0LDQNp3GTcIdAwC', 'function': {'arguments': '{\"query\": \"recent papers on Small Language Models\"}', 'name': 'tavily_search_results_json'}, 'type': 'function'}]}, response_metadata={'token_usage': {'completion_tokens': 55, 'prompt_tokens': 345, 'total_tokens': 400, 'completion_tokens_details': {'accepted_prediction_tokens': 0, 'audio_tokens': 0, 'reasoning_tokens': 0, 'rejected_prediction_tokens': 0}, 'prompt_tokens_details': {'audio_tokens': 0, 'cached_tokens': 0}}, 'model_name': 'gpt-4o-mini-2024-07-18', 'system_fingerprint': 'fp_5154047bf2', 'prompt_filter_results': [{'prompt_index': 0, 'content_filter_results': {'hate': {'filtered': False, 'severity': 'safe'}, 'jailbreak': {'filtered': False, 'detected': False}, 'self_harm': {'filtered': False, 'severity': 'safe'}, 'sexual': {'filtered': False, 'severity': 'safe'}, 'violence': {'filtered': False, 'severity': 'safe'}}}], 'finish_reason': 'tool_calls', 'logprobs': None, 'content_filter_results': {}}, id='run-1eb29069-00aa-4eec-bcbd-e16b9791e870-0', tool_calls=[{'name': 'arxiv', 'args': {'query': 'Small Language Models'}, 'id': 'call_ONsYgXJ7vt0DmB2lcWWd3jKY', 'type': 'tool_call'}, {'name': 'tavily_search_results_json', 'args': {'query': 'recent papers on Small Language Models'}, 'id': 'call_GLJyBrkQz0LDQNp3GTcIdAwC', 'type': 'tool_call'}], usage_metadata={'input_tokens': 345, 'output_tokens': 55, 'total_tokens': 400})], 'intermediate_step': []}, next=('tools',), config={'configurable': {'thread_id': '123', 'checkpoint_ns': '', 'checkpoint_id': '1efd9448-9690-61fc-8001-f9c591e6371f'}}, metadata={'source': 'loop', 'writes': {'research': {'agent_outcome': [AIMessage(content='', additional_kwargs={'tool_calls': [{'id': 'call_ONsYgXJ7vt0DmB2lcWWd3jKY', 'function': {'arguments': '{\"query\": \"Small Language Models\"}', 'name': 'arxiv'}, 'type': 'function'}, {'id': 'call_GLJyBrkQz0LDQNp3GTcIdAwC', 'function': {'arguments': '{\"query\": \"recent papers on Small Language Models\"}', 'name': 'tavily_search_results_json'}, 'type': 'function'}]}, response_metadata={'token_usage': {'completion_tokens': 55, 'prompt_tokens': 345, 'total_tokens': 400, 'completion_tokens_details': {'accepted_prediction_tokens': 0, 'audio_tokens': 0, 'reasoning_tokens': 0, 'rejected_prediction_tokens': 0}, 'prompt_tokens_details': {'audio_tokens': 0, 'cached_tokens': 0}}, 'model_name': 'gpt-4o-mini-2024-07-18', 'system_fingerprint': 'fp_5154047bf2', 'prompt_filter_results': [{'prompt_index': 0, 'content_filter_results': {'hate': {'filtered': False, 'severity': 'safe'}, 'jailbreak': {'filtered': False, 'detected': False}, 'self_harm': {'filtered': False, 'severity': 'safe'}, 'sexual': {'filtered': False, 'severity': 'safe'}, 'violence': {'filtered': False, 'severity': 'safe'}}}], 'finish_reason': 'tool_calls', 'logprobs': None, 'content_filter_results': {}}, id='run-1eb29069-00aa-4eec-bcbd-e16b9791e870-0', tool_calls=[{'name': 'arxiv', 'args': {'query': 'Small Language Models'}, 'id': 'call_ONsYgXJ7vt0DmB2lcWWd3jKY', 'type': 'tool_call'}, {'name': 'tavily_search_results_json', 'args': {'query': 'recent papers on Small Language Models'}, 'id': 'call_GLJyBrkQz0LDQNp3GTcIdAwC', 'type': 'tool_call'}], usage_metadata={'input_tokens': 345, 'output_tokens': 55, 'total_tokens': 400})]}}, 'thread_id': '123', 'step': 1, 'parents': {}}, created_at='2025-01-23T04:43:05.813842+00:00', parent_config={'configurable': {'thread_id': '123', 'checkpoint_ns': '', 'checkpoint_id': '1efd9448-4fc5-66a0-8000-764895c8b04d'}}, tasks=(PregelTask(id='8fa190ca-3b75-12f6-aec0-c61b71864979', name='tools', path=('__pregel_pull', 'tools'), error=None, interrupts=(), state=None, result=None),))"
      ]
     },
     "execution_count": 29,
     "metadata": {},
     "output_type": "execute_result"
    }
   ],
   "source": [
    "snapshot = app.get_state(config)\n",
    "snapshot"
   ]
  },
  {
   "cell_type": "code",
   "execution_count": 30,
   "metadata": {},
   "outputs": [
    {
     "data": {
      "text/plain": [
       "('tools',)"
      ]
     },
     "execution_count": 30,
     "metadata": {},
     "output_type": "execute_result"
    }
   ],
   "source": [
    "snapshot.next"
   ]
  },
  {
   "cell_type": "code",
   "execution_count": 31,
   "metadata": {},
   "outputs": [
    {
     "data": {
      "text/plain": [
       "[AIMessage(content='', additional_kwargs={'tool_calls': [{'id': 'call_ONsYgXJ7vt0DmB2lcWWd3jKY', 'function': {'arguments': '{\"query\": \"Small Language Models\"}', 'name': 'arxiv'}, 'type': 'function'}, {'id': 'call_GLJyBrkQz0LDQNp3GTcIdAwC', 'function': {'arguments': '{\"query\": \"recent papers on Small Language Models\"}', 'name': 'tavily_search_results_json'}, 'type': 'function'}]}, response_metadata={'token_usage': {'completion_tokens': 55, 'prompt_tokens': 345, 'total_tokens': 400, 'completion_tokens_details': {'accepted_prediction_tokens': 0, 'audio_tokens': 0, 'reasoning_tokens': 0, 'rejected_prediction_tokens': 0}, 'prompt_tokens_details': {'audio_tokens': 0, 'cached_tokens': 0}}, 'model_name': 'gpt-4o-mini-2024-07-18', 'system_fingerprint': 'fp_5154047bf2', 'prompt_filter_results': [{'prompt_index': 0, 'content_filter_results': {'hate': {'filtered': False, 'severity': 'safe'}, 'jailbreak': {'filtered': False, 'detected': False}, 'self_harm': {'filtered': False, 'severity': 'safe'}, 'sexual': {'filtered': False, 'severity': 'safe'}, 'violence': {'filtered': False, 'severity': 'safe'}}}], 'finish_reason': 'tool_calls', 'logprobs': None, 'content_filter_results': {}}, id='run-1eb29069-00aa-4eec-bcbd-e16b9791e870-0', tool_calls=[{'name': 'arxiv', 'args': {'query': 'Small Language Models'}, 'id': 'call_ONsYgXJ7vt0DmB2lcWWd3jKY', 'type': 'tool_call'}, {'name': 'tavily_search_results_json', 'args': {'query': 'recent papers on Small Language Models'}, 'id': 'call_GLJyBrkQz0LDQNp3GTcIdAwC', 'type': 'tool_call'}], usage_metadata={'input_tokens': 345, 'output_tokens': 55, 'total_tokens': 400})]"
      ]
     },
     "execution_count": 31,
     "metadata": {},
     "output_type": "execute_result"
    }
   ],
   "source": [
    "snapshot.values[\"agent_outcome\"]"
   ]
  },
  {
   "cell_type": "code",
   "execution_count": 32,
   "metadata": {},
   "outputs": [
    {
     "name": "stdout",
     "output_type": "stream",
     "text": [
      "==================================\u001b[1m Ai Message \u001b[0m==================================\n",
      "Tool Calls:\n",
      "  arxiv (call_ONsYgXJ7vt0DmB2lcWWd3jKY)\n",
      " Call ID: call_ONsYgXJ7vt0DmB2lcWWd3jKY\n",
      "  Args:\n",
      "    query: Small Language Models\n",
      "  tavily_search_results_json (call_GLJyBrkQz0LDQNp3GTcIdAwC)\n",
      " Call ID: call_GLJyBrkQz0LDQNp3GTcIdAwC\n",
      "  Args:\n",
      "    query: recent papers on Small Language Models\n",
      "----------------------------------------------------------------------------------------------------\n",
      "----tool calling----\n",
      "---- Calling arxiv with args: {'query': 'Small Language Models'} ----\n",
      "---- Calling tavily_search_results_json with args: {'query': 'recent papers on Small Language Models'} ----\n",
      "=================================\u001b[1m Tool Message \u001b[0m=================================\n",
      "Name: arxiv\n",
      "\n",
      "\"Published: 2022-01-26\\nTitle: An Assessment of the Impact of OCR Noise on Language Models\\nAuthors: Konstantin Todorov, Giovanni Colavizza\\nSummary: Neural language models are the backbone of modern-day natural language\\nprocessing applications. Their use on textual heritage collections which have\\nundergone Optical Character Recognition (OCR) is therefore also increasing.\\nNevertheless, our understanding of the impact OCR noise could have on language\\nmodels is still limited. We perform an assessment of the impact OCR noise has\\non a variety of language models, using data in Dutch, English, French and\\nGerman. We find that OCR noise poses a significant obstacle to language\\nmodelling, with language models increasingly diverging from their noiseless\\ntargets as OCR quality lowers. In the presence of small corpora, simpler models\\nincluding PPMI and Word2Vec consistently outperform transformer-based models in\\nthis respect.\\n\\nPublished: 2024-12-09\\nTitle: Small Languages, Big Models: A Study of Continual Training on Languages of Norway\\nAuthors: David Samuel, Vladislav Mikhailov, Erik Velldal, Lilja \\u00d8vrelid, Lucas Georges Gabriel Charpentier, Andrey Kutuzov\\nSummary: Training large language models requires vast amounts of data, posing a\\nchallenge for less widely spoken languages like Norwegian and even more so for\\ntruly low-resource languages like S\\\\'ami. To address this issue, we present a\\nnovel three-stage continual training approach. We also experiment with\\ncombining causal and masked language modeling to get more flexible models.\\nBased on our findings, we train, evaluate, and openly release a new large\\ngenerative language model for Norwegian Bokm\\\\r{a}l, Nynorsk, and Northern\\nS\\\\'ami with 11.4 billion parameters: NorMistral-11B.\\n\\nPublished: 2024-09-26\\nTitle: Enhancing elusive clues in knowledge learning by contrasting attention of language models\\nAuthors: Jian Gao, Xiao Zhang, Ji Wu, Miao Li\\nSummary: Causal language models acquire vast amount of knowledge from general text\\ncorpus during pretraining, but the efficiency of knowledge learning is known to\\nbe unsatisfactory, especially when learning from knowledge-dense and\\nsmall-sized corpora. The deficiency can come from long-distance dependencies\\nwhich are hard to capture by language models, and overfitting to co-occurrence\\npatterns and distracting clues in the training text. To address these issues,\\nthe paper proposes a method to enhance knowledge learning during language model\\npretraining, by enhancing elusive but important clues in text discovered by the\\nlanguage model themselves. We found that larger language models pay more\\nattention to non-obvious but important clues, which are often overlooked by\\nsmaller language models. Therefore, we can identify these clues by contrasting\\nthe attention weights of large and small language models. We use the identified\\nclues as a guide to perform token-dropout data augmentation on the training\\ntext, and observed a significant boost in both small and large models'\\nperformance in fact memorization. This shows that the behavior contrast between\\nmore and less-performant language models contains important clues for knowledge\\nlearning, and it can be ``amplified\\\" for a straight-forward improvement in\\nknowledge learning efficiency.\"\n",
      "=================================\u001b[1m Tool Message \u001b[0m=================================\n",
      "Name: tavily_search_results_json\n",
      "\n",
      "[{\"url\": \"https://paperswithcode.com/paper/small-language-models-survey-measurements-and\", \"content\": \"Small Language Models: Survey, Measurements, and Insights | Papers With Code Subscribe to the PwC Newsletter Stay informed on the latest trending ML papers with code, research developments, libraries, methods, and datasets. Add a new code entry for this paper Remove a code repository from this paper Add a task. Add a task Add a method Edit Datasets Add or remove datasets introduced in this paper: Add or remove other datasets used in this paper: Paper introduces a new dataset? Add a new dataset here Focusing on transformer-based, decoder-only language models with 100M-5B parameters, we survey 59 state-of-the-art open-source SLMs, analyzing their technical innovations across three axes: architectures, training datasets, and training algorithms. Benchmarking Decoder In-Context Learning Language Modelling Large Language Model Survey No methods listed for this paper.\"}, {\"url\": \"https://paperswithcode.com/paper/a-survey-of-small-language-models\", \"content\": \"Stay informed on the latest trending ML papers with code, research developments, libraries, methods, and datasets. ... Small Language Models (SLMs) have become increasingly important due to their efficiency and performance to perform various language tasks with minimal computational resources, making them ideal for various settings including on\"}, {\"url\": \"https://arxiv.org/abs/2409.15790\", \"content\": \"[2409.15790] Small Language Models: Survey, Measurements, and Insights > cs > arXiv:2409.15790 arXiv:2409.15790 (cs) Title:Small Language Models: Survey, Measurements, and Insights View a PDF of the paper titled Small Language Models: Survey, Measurements, and Insights, by Zhenyan Lu and 7 other authors Computation and Language (cs.CL); Artificial Intelligence (cs.AI); Machine Learning (cs.LG) arXiv:2409.15790 [cs.CL] (or arXiv:2409.15790v1 [cs.CL] for this version) View a PDF of the paper titled Small Language Models: Survey, Measurements, and Insights, by Zhenyan Lu and 7 other authors cs cs.AI Bibliographic and Citation Tools Bibliographic Explorer Toggle Litmaps Toggle scite.ai Toggle Links to Code Toggle DagsHub Toggle GotitPub Toggle Links to Code Toggle ScienceCast Toggle Replicate Toggle Spaces Toggle Spaces Toggle Connected Papers Toggle Core recommender toggle\"}, {\"url\": \"https://arxiv.org/abs/2411.03350\", \"content\": \"[2411.03350] A Comprehensive Survey of Small Language Models in the Era of Large Language Models: Techniques, Enhancements, Applications, Collaboration with LLMs, and Trustworthiness Title:A Comprehensive Survey of Small Language Models in the Era of Large Language Models: Techniques, Enhancements, Applications, Collaboration with LLMs, and Trustworthiness View a PDF of the paper titled A Comprehensive Survey of Small Language Models in the Era of Large Language Models: Techniques, Enhancements, Applications, Collaboration with LLMs, and Trustworthiness, by Fali Wang and 13 other authors View a PDF of the paper titled A Comprehensive Survey of Small Language Models in the Era of Large Language Models: Techniques, Enhancements, Applications, Collaboration with LLMs, and Trustworthiness, by Fali Wang and 13 other authors Links to Code Toggle Links to Code Toggle\"}, {\"url\": \"https://www2.eecs.berkeley.edu/Pubs/TechRpts/2023/EECS-2023-141.html\", \"content\": \"However, there has not been as much work on smaller language models that can potentially solve tasks where it would be inefficient to run a full LLM at scale. In this paper, we explore Small Language Models (SLMs) and how we can make them more efficient at the edge without sacrificing performance.\"}]\n",
      "----------------------------------------------------------------------------------------------------\n",
      "----research node----\n",
      "----router----\n",
      "==================================\u001b[1m Ai Message \u001b[0m==================================\n",
      "Tool Calls:\n",
      "  arxiv (call_M05w8phoFb93IkFzckBnIZIG)\n",
      " Call ID: call_M05w8phoFb93IkFzckBnIZIG\n",
      "  Args:\n",
      "    query: Small Language Models\n",
      "  tavily_search_results_json (call_QpqVBUBPDj9vYxwsSGTmeHMZ)\n",
      " Call ID: call_QpqVBUBPDj9vYxwsSGTmeHMZ\n",
      "  Args:\n",
      "    query: recent papers on Small Language Models\n",
      "----------------------------------------------------------------------------------------------------\n"
     ]
    }
   ],
   "source": [
    "events = app.stream(None, config, stream_mode=\"values\")\n",
    "\n",
    "for event in events:\n",
    "    try:\n",
    "        for msg in event[\"agent_outcome\"]:\n",
    "            msg.pretty_print()\n",
    "    except Exception as e:\n",
    "        HumanMessage(event[\"input\"]).pretty_print()\n",
    "    print(\"-----\"*20)"
   ]
  },
  {
   "cell_type": "code",
   "execution_count": 33,
   "metadata": {},
   "outputs": [
    {
     "data": {
      "text/plain": [
       "StateSnapshot(values={'input': 'What are the recent papers on Small Language Models?', 'agent_outcome': [AIMessage(content='', additional_kwargs={'tool_calls': [{'id': 'call_M05w8phoFb93IkFzckBnIZIG', 'function': {'arguments': '{\"query\": \"Small Language Models\"}', 'name': 'arxiv'}, 'type': 'function'}, {'id': 'call_QpqVBUBPDj9vYxwsSGTmeHMZ', 'function': {'arguments': '{\"query\": \"recent papers on Small Language Models\"}', 'name': 'tavily_search_results_json'}, 'type': 'function'}]}, response_metadata={'token_usage': {'completion_tokens': 55, 'prompt_tokens': 1976, 'total_tokens': 2031, 'completion_tokens_details': {'accepted_prediction_tokens': 0, 'audio_tokens': 0, 'reasoning_tokens': 0, 'rejected_prediction_tokens': 0}, 'prompt_tokens_details': {'audio_tokens': 0, 'cached_tokens': 0}}, 'model_name': 'gpt-4o-mini-2024-07-18', 'system_fingerprint': 'fp_5154047bf2', 'prompt_filter_results': [{'prompt_index': 0, 'content_filter_results': {'hate': {'filtered': False, 'severity': 'safe'}, 'jailbreak': {'filtered': False, 'detected': False}, 'self_harm': {'filtered': False, 'severity': 'safe'}, 'sexual': {'filtered': False, 'severity': 'safe'}, 'violence': {'filtered': False, 'severity': 'safe'}}}], 'finish_reason': 'tool_calls', 'logprobs': None, 'content_filter_results': {}}, id='run-c769d9e3-5cdf-467f-8aff-50b480f404c1-0', tool_calls=[{'name': 'arxiv', 'args': {'query': 'Small Language Models'}, 'id': 'call_M05w8phoFb93IkFzckBnIZIG', 'type': 'tool_call'}, {'name': 'tavily_search_results_json', 'args': {'query': 'recent papers on Small Language Models'}, 'id': 'call_QpqVBUBPDj9vYxwsSGTmeHMZ', 'type': 'tool_call'}], usage_metadata={'input_tokens': 1976, 'output_tokens': 55, 'total_tokens': 2031})], 'intermediate_step': ['[ToolMessage(content=\\'\"Published: 2022-01-26\\\\\\\\nTitle: An Assessment of the Impact of OCR Noise on Language Models\\\\\\\\nAuthors: Konstantin Todorov, Giovanni Colavizza\\\\\\\\nSummary: Neural language models are the backbone of modern-day natural language\\\\\\\\nprocessing applications. Their use on textual heritage collections which have\\\\\\\\nundergone Optical Character Recognition (OCR) is therefore also increasing.\\\\\\\\nNevertheless, our understanding of the impact OCR noise could have on language\\\\\\\\nmodels is still limited. We perform an assessment of the impact OCR noise has\\\\\\\\non a variety of language models, using data in Dutch, English, French and\\\\\\\\nGerman. We find that OCR noise poses a significant obstacle to language\\\\\\\\nmodelling, with language models increasingly diverging from their noiseless\\\\\\\\ntargets as OCR quality lowers. In the presence of small corpora, simpler models\\\\\\\\nincluding PPMI and Word2Vec consistently outperform transformer-based models in\\\\\\\\nthis respect.\\\\\\\\n\\\\\\\\nPublished: 2024-12-09\\\\\\\\nTitle: Small Languages, Big Models: A Study of Continual Training on Languages of Norway\\\\\\\\nAuthors: David Samuel, Vladislav Mikhailov, Erik Velldal, Lilja \\\\\\\\u00d8vrelid, Lucas Georges Gabriel Charpentier, Andrey Kutuzov\\\\\\\\nSummary: Training large language models requires vast amounts of data, posing a\\\\\\\\nchallenge for less widely spoken languages like Norwegian and even more so for\\\\\\\\ntruly low-resource languages like S\\\\\\\\\\\\\\\\\\\\\\'ami. To address this issue, we present a\\\\\\\\nnovel three-stage continual training approach. We also experiment with\\\\\\\\ncombining causal and masked language modeling to get more flexible models.\\\\\\\\nBased on our findings, we train, evaluate, and openly release a new large\\\\\\\\ngenerative language model for Norwegian Bokm\\\\\\\\\\\\\\\\r{a}l, Nynorsk, and Northern\\\\\\\\nS\\\\\\\\\\\\\\\\\\\\\\'ami with 11.4 billion parameters: NorMistral-11B.\\\\\\\\n\\\\\\\\nPublished: 2024-09-26\\\\\\\\nTitle: Enhancing elusive clues in knowledge learning by contrasting attention of language models\\\\\\\\nAuthors: Jian Gao, Xiao Zhang, Ji Wu, Miao Li\\\\\\\\nSummary: Causal language models acquire vast amount of knowledge from general text\\\\\\\\ncorpus during pretraining, but the efficiency of knowledge learning is known to\\\\\\\\nbe unsatisfactory, especially when learning from knowledge-dense and\\\\\\\\nsmall-sized corpora. The deficiency can come from long-distance dependencies\\\\\\\\nwhich are hard to capture by language models, and overfitting to co-occurrence\\\\\\\\npatterns and distracting clues in the training text. To address these issues,\\\\\\\\nthe paper proposes a method to enhance knowledge learning during language model\\\\\\\\npretraining, by enhancing elusive but important clues in text discovered by the\\\\\\\\nlanguage model themselves. We found that larger language models pay more\\\\\\\\nattention to non-obvious but important clues, which are often overlooked by\\\\\\\\nsmaller language models. Therefore, we can identify these clues by contrasting\\\\\\\\nthe attention weights of large and small language models. We use the identified\\\\\\\\nclues as a guide to perform token-dropout data augmentation on the training\\\\\\\\ntext, and observed a significant boost in both small and large models\\\\\\'\\\\\\\\nperformance in fact memorization. This shows that the behavior contrast between\\\\\\\\nmore and less-performant language models contains important clues for knowledge\\\\\\\\nlearning, and it can be ``amplified\\\\\\\\\" for a straight-forward improvement in\\\\\\\\nknowledge learning efficiency.\"\\', name=\\'arxiv\\', tool_call_id=\\'call_ONsYgXJ7vt0DmB2lcWWd3jKY\\'), ToolMessage(content=\\'[{\"url\": \"https://paperswithcode.com/paper/small-language-models-survey-measurements-and\", \"content\": \"Small Language Models: Survey, Measurements, and Insights | Papers With Code Subscribe to the PwC Newsletter Stay informed on the latest trending ML papers with code, research developments, libraries, methods, and datasets. Add a new code entry for this paper Remove a code repository from this paper Add a task. Add a task Add a method Edit Datasets Add or remove datasets introduced in this paper: Add or remove other datasets used in this paper: Paper introduces a new dataset? Add a new dataset here Focusing on transformer-based, decoder-only language models with 100M-5B parameters, we survey 59 state-of-the-art open-source SLMs, analyzing their technical innovations across three axes: architectures, training datasets, and training algorithms. Benchmarking Decoder In-Context Learning Language Modelling Large Language Model Survey No methods listed for this paper.\"}, {\"url\": \"https://paperswithcode.com/paper/a-survey-of-small-language-models\", \"content\": \"Stay informed on the latest trending ML papers with code, research developments, libraries, methods, and datasets. ... Small Language Models (SLMs) have become increasingly important due to their efficiency and performance to perform various language tasks with minimal computational resources, making them ideal for various settings including on\"}, {\"url\": \"https://arxiv.org/abs/2409.15790\", \"content\": \"[2409.15790] Small Language Models: Survey, Measurements, and Insights > cs > arXiv:2409.15790 arXiv:2409.15790 (cs) Title:Small Language Models: Survey, Measurements, and Insights View a PDF of the paper titled Small Language Models: Survey, Measurements, and Insights, by Zhenyan Lu and 7 other authors Computation and Language (cs.CL); Artificial Intelligence (cs.AI); Machine Learning (cs.LG) arXiv:2409.15790 [cs.CL] (or arXiv:2409.15790v1 [cs.CL] for this version) View a PDF of the paper titled Small Language Models: Survey, Measurements, and Insights, by Zhenyan Lu and 7 other authors cs cs.AI Bibliographic and Citation Tools Bibliographic Explorer Toggle Litmaps Toggle scite.ai Toggle Links to Code Toggle DagsHub Toggle GotitPub Toggle Links to Code Toggle ScienceCast Toggle Replicate Toggle Spaces Toggle Spaces Toggle Connected Papers Toggle Core recommender toggle\"}, {\"url\": \"https://arxiv.org/abs/2411.03350\", \"content\": \"[2411.03350] A Comprehensive Survey of Small Language Models in the Era of Large Language Models: Techniques, Enhancements, Applications, Collaboration with LLMs, and Trustworthiness Title:A Comprehensive Survey of Small Language Models in the Era of Large Language Models: Techniques, Enhancements, Applications, Collaboration with LLMs, and Trustworthiness View a PDF of the paper titled A Comprehensive Survey of Small Language Models in the Era of Large Language Models: Techniques, Enhancements, Applications, Collaboration with LLMs, and Trustworthiness, by Fali Wang and 13 other authors View a PDF of the paper titled A Comprehensive Survey of Small Language Models in the Era of Large Language Models: Techniques, Enhancements, Applications, Collaboration with LLMs, and Trustworthiness, by Fali Wang and 13 other authors Links to Code Toggle Links to Code Toggle\"}, {\"url\": \"https://www2.eecs.berkeley.edu/Pubs/TechRpts/2023/EECS-2023-141.html\", \"content\": \"However, there has not been as much work on smaller language models that can potentially solve tasks where it would be inefficient to run a full LLM at scale. In this paper, we explore Small Language Models (SLMs) and how we can make them more efficient at the edge without sacrificing performance.\"}]\\', name=\\'tavily_search_results_json\\', tool_call_id=\\'call_GLJyBrkQz0LDQNp3GTcIdAwC\\')]']}, next=('tools',), config={'configurable': {'thread_id': '123', 'checkpoint_ns': '', 'checkpoint_id': '1efd944b-16bf-6c86-8003-3433de8c6306'}}, metadata={'source': 'loop', 'writes': {'research': {'agent_outcome': [AIMessage(content='', additional_kwargs={'tool_calls': [{'id': 'call_M05w8phoFb93IkFzckBnIZIG', 'function': {'arguments': '{\"query\": \"Small Language Models\"}', 'name': 'arxiv'}, 'type': 'function'}, {'id': 'call_QpqVBUBPDj9vYxwsSGTmeHMZ', 'function': {'arguments': '{\"query\": \"recent papers on Small Language Models\"}', 'name': 'tavily_search_results_json'}, 'type': 'function'}]}, response_metadata={'token_usage': {'completion_tokens': 55, 'prompt_tokens': 1976, 'total_tokens': 2031, 'completion_tokens_details': {'accepted_prediction_tokens': 0, 'audio_tokens': 0, 'reasoning_tokens': 0, 'rejected_prediction_tokens': 0}, 'prompt_tokens_details': {'audio_tokens': 0, 'cached_tokens': 0}}, 'model_name': 'gpt-4o-mini-2024-07-18', 'system_fingerprint': 'fp_5154047bf2', 'prompt_filter_results': [{'prompt_index': 0, 'content_filter_results': {'hate': {'filtered': False, 'severity': 'safe'}, 'jailbreak': {'filtered': False, 'detected': False}, 'self_harm': {'filtered': False, 'severity': 'safe'}, 'sexual': {'filtered': False, 'severity': 'safe'}, 'violence': {'filtered': False, 'severity': 'safe'}}}], 'finish_reason': 'tool_calls', 'logprobs': None, 'content_filter_results': {}}, id='run-c769d9e3-5cdf-467f-8aff-50b480f404c1-0', tool_calls=[{'name': 'arxiv', 'args': {'query': 'Small Language Models'}, 'id': 'call_M05w8phoFb93IkFzckBnIZIG', 'type': 'tool_call'}, {'name': 'tavily_search_results_json', 'args': {'query': 'recent papers on Small Language Models'}, 'id': 'call_QpqVBUBPDj9vYxwsSGTmeHMZ', 'type': 'tool_call'}], usage_metadata={'input_tokens': 1976, 'output_tokens': 55, 'total_tokens': 2031})]}}, 'thread_id': '123', 'step': 3, 'parents': {}}, created_at='2025-01-23T04:44:12.942200+00:00', parent_config={'configurable': {'thread_id': '123', 'checkpoint_ns': '', 'checkpoint_id': '1efd944a-e29e-686c-8002-a340b746eaa7'}}, tasks=(PregelTask(id='fc0a982a-4bac-b210-dc5c-058b238aac2b', name='tools', path=('__pregel_pull', 'tools'), error=None, interrupts=(), state=None, result=None),))"
      ]
     },
     "execution_count": 33,
     "metadata": {},
     "output_type": "execute_result"
    }
   ],
   "source": [
    "snapshot = app.get_state(config)\n",
    "snapshot"
   ]
  },
  {
   "cell_type": "code",
   "execution_count": 34,
   "metadata": {},
   "outputs": [
    {
     "data": {
      "text/plain": [
       "('tools',)"
      ]
     },
     "execution_count": 34,
     "metadata": {},
     "output_type": "execute_result"
    }
   ],
   "source": [
    "snapshot.next"
   ]
  },
  {
   "cell_type": "code",
   "execution_count": 35,
   "metadata": {},
   "outputs": [
    {
     "data": {
      "text/plain": [
       "[AIMessage(content='', additional_kwargs={'tool_calls': [{'id': 'call_M05w8phoFb93IkFzckBnIZIG', 'function': {'arguments': '{\"query\": \"Small Language Models\"}', 'name': 'arxiv'}, 'type': 'function'}, {'id': 'call_QpqVBUBPDj9vYxwsSGTmeHMZ', 'function': {'arguments': '{\"query\": \"recent papers on Small Language Models\"}', 'name': 'tavily_search_results_json'}, 'type': 'function'}]}, response_metadata={'token_usage': {'completion_tokens': 55, 'prompt_tokens': 1976, 'total_tokens': 2031, 'completion_tokens_details': {'accepted_prediction_tokens': 0, 'audio_tokens': 0, 'reasoning_tokens': 0, 'rejected_prediction_tokens': 0}, 'prompt_tokens_details': {'audio_tokens': 0, 'cached_tokens': 0}}, 'model_name': 'gpt-4o-mini-2024-07-18', 'system_fingerprint': 'fp_5154047bf2', 'prompt_filter_results': [{'prompt_index': 0, 'content_filter_results': {'hate': {'filtered': False, 'severity': 'safe'}, 'jailbreak': {'filtered': False, 'detected': False}, 'self_harm': {'filtered': False, 'severity': 'safe'}, 'sexual': {'filtered': False, 'severity': 'safe'}, 'violence': {'filtered': False, 'severity': 'safe'}}}], 'finish_reason': 'tool_calls', 'logprobs': None, 'content_filter_results': {}}, id='run-c769d9e3-5cdf-467f-8aff-50b480f404c1-0', tool_calls=[{'name': 'arxiv', 'args': {'query': 'Small Language Models'}, 'id': 'call_M05w8phoFb93IkFzckBnIZIG', 'type': 'tool_call'}, {'name': 'tavily_search_results_json', 'args': {'query': 'recent papers on Small Language Models'}, 'id': 'call_QpqVBUBPDj9vYxwsSGTmeHMZ', 'type': 'tool_call'}], usage_metadata={'input_tokens': 1976, 'output_tokens': 55, 'total_tokens': 2031})]"
      ]
     },
     "execution_count": 35,
     "metadata": {},
     "output_type": "execute_result"
    }
   ],
   "source": [
    "snapshot.values[\"agent_outcome\"]"
   ]
  },
  {
   "cell_type": "code",
   "execution_count": 36,
   "metadata": {},
   "outputs": [
    {
     "name": "stdout",
     "output_type": "stream",
     "text": [
      "----tool calling----\n",
      "---- Calling arxiv with args: {'query': 'Small Language Models'} ----\n",
      "---- Calling tavily_search_results_json with args: {'query': 'recent papers on Small Language Models'} ----\n",
      "=================================\u001b[1m Tool Message \u001b[0m=================================\n",
      "Name: arxiv\n",
      "\n",
      "\"Published: 2022-01-26\\nTitle: An Assessment of the Impact of OCR Noise on Language Models\\nAuthors: Konstantin Todorov, Giovanni Colavizza\\nSummary: Neural language models are the backbone of modern-day natural language\\nprocessing applications. Their use on textual heritage collections which have\\nundergone Optical Character Recognition (OCR) is therefore also increasing.\\nNevertheless, our understanding of the impact OCR noise could have on language\\nmodels is still limited. We perform an assessment of the impact OCR noise has\\non a variety of language models, using data in Dutch, English, French and\\nGerman. We find that OCR noise poses a significant obstacle to language\\nmodelling, with language models increasingly diverging from their noiseless\\ntargets as OCR quality lowers. In the presence of small corpora, simpler models\\nincluding PPMI and Word2Vec consistently outperform transformer-based models in\\nthis respect.\\n\\nPublished: 2024-12-09\\nTitle: Small Languages, Big Models: A Study of Continual Training on Languages of Norway\\nAuthors: David Samuel, Vladislav Mikhailov, Erik Velldal, Lilja \\u00d8vrelid, Lucas Georges Gabriel Charpentier, Andrey Kutuzov\\nSummary: Training large language models requires vast amounts of data, posing a\\nchallenge for less widely spoken languages like Norwegian and even more so for\\ntruly low-resource languages like S\\\\'ami. To address this issue, we present a\\nnovel three-stage continual training approach. We also experiment with\\ncombining causal and masked language modeling to get more flexible models.\\nBased on our findings, we train, evaluate, and openly release a new large\\ngenerative language model for Norwegian Bokm\\\\r{a}l, Nynorsk, and Northern\\nS\\\\'ami with 11.4 billion parameters: NorMistral-11B.\\n\\nPublished: 2024-09-26\\nTitle: Enhancing elusive clues in knowledge learning by contrasting attention of language models\\nAuthors: Jian Gao, Xiao Zhang, Ji Wu, Miao Li\\nSummary: Causal language models acquire vast amount of knowledge from general text\\ncorpus during pretraining, but the efficiency of knowledge learning is known to\\nbe unsatisfactory, especially when learning from knowledge-dense and\\nsmall-sized corpora. The deficiency can come from long-distance dependencies\\nwhich are hard to capture by language models, and overfitting to co-occurrence\\npatterns and distracting clues in the training text. To address these issues,\\nthe paper proposes a method to enhance knowledge learning during language model\\npretraining, by enhancing elusive but important clues in text discovered by the\\nlanguage model themselves. We found that larger language models pay more\\nattention to non-obvious but important clues, which are often overlooked by\\nsmaller language models. Therefore, we can identify these clues by contrasting\\nthe attention weights of large and small language models. We use the identified\\nclues as a guide to perform token-dropout data augmentation on the training\\ntext, and observed a significant boost in both small and large models'\\nperformance in fact memorization. This shows that the behavior contrast between\\nmore and less-performant language models contains important clues for knowledge\\nlearning, and it can be ``amplified\\\" for a straight-forward improvement in\\nknowledge learning efficiency.\"\n",
      "=================================\u001b[1m Tool Message \u001b[0m=================================\n",
      "Name: tavily_search_results_json\n",
      "\n",
      "[{\"url\": \"https://paperswithcode.com/paper/small-language-models-survey-measurements-and\", \"content\": \"Small Language Models: Survey, Measurements, and Insights | Papers With Code Subscribe to the PwC Newsletter Stay informed on the latest trending ML papers with code, research developments, libraries, methods, and datasets. Add a new code entry for this paper Remove a code repository from this paper Add a task. Add a task Add a method Edit Datasets Add or remove datasets introduced in this paper: Add or remove other datasets used in this paper: Paper introduces a new dataset? Add a new dataset here Focusing on transformer-based, decoder-only language models with 100M-5B parameters, we survey 59 state-of-the-art open-source SLMs, analyzing their technical innovations across three axes: architectures, training datasets, and training algorithms. Benchmarking Decoder In-Context Learning Language Modelling Large Language Model Survey No methods listed for this paper.\"}, {\"url\": \"https://arxiv.org/abs/2409.15790\", \"content\": \"[2409.15790] Small Language Models: Survey, Measurements, and Insights > cs > arXiv:2409.15790 arXiv:2409.15790 (cs) Title:Small Language Models: Survey, Measurements, and Insights View a PDF of the paper titled Small Language Models: Survey, Measurements, and Insights, by Zhenyan Lu and 7 other authors Computation and Language (cs.CL); Artificial Intelligence (cs.AI); Machine Learning (cs.LG) arXiv:2409.15790 [cs.CL] (or arXiv:2409.15790v1 [cs.CL] for this version) View a PDF of the paper titled Small Language Models: Survey, Measurements, and Insights, by Zhenyan Lu and 7 other authors cs cs.AI Bibliographic and Citation Tools Bibliographic Explorer Toggle Litmaps Toggle scite.ai Toggle Links to Code Toggle DagsHub Toggle GotitPub Toggle Links to Code Toggle ScienceCast Toggle Replicate Toggle Spaces Toggle Spaces Toggle Connected Papers Toggle Core recommender toggle\"}, {\"url\": \"https://arxiv.org/abs/2410.20011\", \"content\": \"> cs > arXiv:2410.20011 arXiv:2410.20011 (cs) View a PDF of the paper titled A Survey of Small Language Models, by Chien Van Nguyen and 27 other authors Subjects:Computation and Language (cs.CL)Cite as:arXiv:2410.20011 [cs.CL]\\u00a0(or arXiv:2410.20011v1 [cs.CL] for this version)\\u00a0https://doi.org/10.48550/arXiv.2410.20011Focus to learn morearXiv-issued DOI via DataCite View a PDF of the paper titled A Survey of Small Language Models, by Chien Van Nguyen and 27 other authors Bibliographic Explorer Toggle Connected Papers Toggle Litmaps Toggle scite.ai Toggle alphaXiv Toggle Links to Code Toggle DagsHub Toggle GotitPub Toggle Huggingface Toggle Links to Code Toggle ScienceCast Toggle Replicate Toggle Spaces Toggle Spaces Toggle Core recommender toggle Both individuals and organizations that work with arXivLabs have embraced and accepted our values of openness, community, excellence, and user data privacy.\"}, {\"url\": \"https://www.aimodels.fyi/papers/arxiv/comprehensive-survey-small-language-models-era-large\", \"content\": \"Plain English Explanation. Language models are artificial intelligence systems that can understand and generate human-like text. Small language models (SLMs) are a type of language model that are relatively compact and efficient compared to the large language models (LLMs) that have become increasingly popular in recent years.. This paper explores the various aspects of SLMs, including the\"}, {\"url\": \"https://paperswithcode.com/paper/small-language-models-survey-measurements-and/review/\", \"content\": \"Paper Small Language Models: Survey, Measurements, and Insights Small language models (SLMs), despite their widespread adoption in modern smart devices, have received significantly less academic attention compared to their large language model (LLM) counterparts, which are predominantly deployed in data centers and cloud environments.\"}]\n",
      "----------------------------------------------------------------------------------------------------\n",
      "----research node----\n",
      "----router----\n",
      "==================================\u001b[1m Ai Message \u001b[0m==================================\n",
      "Tool Calls:\n",
      "  arxiv (call_nRyUDnJlbdhLsMgZpvpANBhG)\n",
      " Call ID: call_nRyUDnJlbdhLsMgZpvpANBhG\n",
      "  Args:\n",
      "    query: recent papers on Small Language Models\n",
      "  tavily_search_results_json (call_YsbNzgNsQNlsUpcwCGjbqY7x)\n",
      " Call ID: call_YsbNzgNsQNlsUpcwCGjbqY7x\n",
      "  Args:\n",
      "    query: recent papers on Small Language Models\n",
      "----------------------------------------------------------------------------------------------------\n"
     ]
    }
   ],
   "source": [
    "human_command = Command(resume={\"data\": None})\n",
    "\n",
    "events = app.stream(human_command, config, stream_mode=\"values\")\n",
    "for event in events:\n",
    "    try:\n",
    "        for msg in event[\"agent_outcome\"]:\n",
    "            msg.pretty_print()\n",
    "    except Exception as e:\n",
    "        HumanMessage(event[\"input\"]).pretty_print()\n",
    "    print(\"-----\"*20)"
   ]
  },
  {
   "cell_type": "code",
   "execution_count": null,
   "metadata": {},
   "outputs": [],
   "source": [
    "events = app.stream(input=None, config=config, stream_mode=\"values\")\n",
    "for event in events:\n",
    "    try:\n",
    "        for msg in event[\"agent_outcome\"]:\n",
    "            msg.pretty_print()\n",
    "    except Exception as e:\n",
    "        HumanMessage(event[\"input\"]).pretty_print()\n",
    "    print(\"-----\"*20)"
   ]
  },
  {
   "cell_type": "code",
   "execution_count": null,
   "metadata": {},
   "outputs": [],
   "source": [
    "snapshot = app.get_state(config)\n",
    "snapshot"
   ]
  },
  {
   "cell_type": "code",
   "execution_count": null,
   "metadata": {},
   "outputs": [],
   "source": [
    "snapshot.next"
   ]
  },
  {
   "cell_type": "code",
   "execution_count": null,
   "metadata": {},
   "outputs": [],
   "source": []
  }
 ],
 "metadata": {
  "kernelspec": {
   "display_name": ".venv",
   "language": "python",
   "name": "python3"
  },
  "language_info": {
   "codemirror_mode": {
    "name": "ipython",
    "version": 3
   },
   "file_extension": ".py",
   "mimetype": "text/x-python",
   "name": "python",
   "nbconvert_exporter": "python",
   "pygments_lexer": "ipython3",
   "version": "3.11.11"
  }
 },
 "nbformat": 4,
 "nbformat_minor": 2
}
