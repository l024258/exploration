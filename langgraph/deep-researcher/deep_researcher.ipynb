{
 "cells": [
  {
   "cell_type": "code",
   "execution_count": 1,
   "metadata": {},
   "outputs": [
    {
     "name": "stdout",
     "output_type": "stream",
     "text": [
      "/Users/L024258/lilly_work/github-copilot/exploration/langgraph/deep-researcher/../..\n"
     ]
    }
   ],
   "source": [
    "import os\n",
    "import sys\n",
    "# Get the current working directory and add the parent directory to the Python path\n",
    "current_working_directory = os.getcwd()\n",
    "sys.path.append(os.path.join(current_working_directory, \"../..\"))\n",
    "sys.path.insert(0, os.path.join(current_working_directory, \"../..\"))\n",
    "print(os.path.join(current_working_directory, \"../..\"))"
   ]
  },
  {
   "cell_type": "code",
   "execution_count": 2,
   "metadata": {},
   "outputs": [],
   "source": [
    "from typing import TypedDict, Annotated, List, Union\n",
    "from langchain_core.messages import BaseMessage, ToolMessage, AnyMessage, HumanMessage\n",
    "from langchain_core.prompts import ChatPromptTemplate, MessagesPlaceholder\n",
    "import operator\n",
    "import json\n",
    "\n",
    "from IPython.display import Image, display"
   ]
  },
  {
   "cell_type": "markdown",
   "metadata": {},
   "source": [
    "## Defining the model"
   ]
  },
  {
   "cell_type": "code",
   "execution_count": 4,
   "metadata": {},
   "outputs": [],
   "source": [
    "from models.llm import LLM\n",
    "\n",
    "model = LLM('gpt-4o')\n",
    "llm = model.load_model()"
   ]
  },
  {
   "cell_type": "markdown",
   "metadata": {},
   "source": [
    "## Defining the Tools"
   ]
  },
  {
   "cell_type": "code",
   "execution_count": 5,
   "metadata": {},
   "outputs": [],
   "source": [
    "from langchain_community.tools.arxiv.tool import ArxivQueryRun\n",
    "from langchain_community.tools.tavily_search import TavilySearchResults\n",
    "\n",
    "arxiv_search = ArxivQueryRun()\n",
    "tavily_tool = TavilySearchResults(max_results=5)\n",
    "\n",
    "tools = [arxiv_search, tavily_tool]"
   ]
  },
  {
   "cell_type": "code",
   "execution_count": 6,
   "metadata": {},
   "outputs": [],
   "source": [
    "from langchain_core.tools import tool\n",
    "\n",
    "@tool\n",
    "def get_todays_date() -> str:\n",
    "    \"\"\"This tool is used to get today's date in the format 'YYYY-MM-DD'.\"\"\"\n",
    "    from datetime import date\n",
    "    today = date.today()\n",
    "    return today.strftime(\"%Y-%m-%d\")\n",
    "\n",
    "tools.append(get_todays_date)"
   ]
  },
  {
   "cell_type": "markdown",
   "metadata": {},
   "source": [
    "## Defining the Workflow"
   ]
  },
  {
   "cell_type": "markdown",
   "metadata": {},
   "source": [
    "### Agent State"
   ]
  },
  {
   "cell_type": "code",
   "execution_count": 7,
   "metadata": {},
   "outputs": [],
   "source": [
    "class AgentState(TypedDict):\n",
    "    input: str\n",
    "    agent_outcome: Union[AnyMessage, None]\n",
    "    retrieved_results: Union[AnyMessage, None]\n",
    "    intermediate_step: Annotated[list[AnyMessage], operator.add]\n",
    "    draft: Union[AnyMessage, None]\n",
    "    revision_steps: Annotated[list[AnyMessage], operator.add]\n",
    "    doc_schema: List[BaseMessage]\n",
    "\n",
    "class ReflectState(TypedDict):\n",
    "    input: str\n",
    "    draft: Union[AnyMessage, None]\n",
    "    revision_steps: Annotated[list[AnyMessage], operator.add]\n",
    "    doc_schema: List[BaseMessage]\n",
    "\n",
    "class FinalState(TypedDict):\n",
    "    input: str\n",
    "    final_draft: Union[AnyMessage, None]\n",
    "    doc_schema: List[BaseMessage]"
   ]
  },
  {
   "cell_type": "markdown",
   "metadata": {},
   "source": [
    "### Graph"
   ]
  },
  {
   "cell_type": "code",
   "execution_count": 8,
   "metadata": {},
   "outputs": [],
   "source": [
    "from langgraph.graph import END, StateGraph\n",
    "\n",
    "workflow = StateGraph(AgentState)"
   ]
  },
  {
   "cell_type": "markdown",
   "metadata": {},
   "source": [
    "### Nodes"
   ]
  },
  {
   "cell_type": "markdown",
   "metadata": {},
   "source": [
    "#### Common Tool Node"
   ]
  },
  {
   "cell_type": "code",
   "execution_count": 9,
   "metadata": {},
   "outputs": [],
   "source": [
    "class BasicToolNode:\n",
    "    def __init__(self, tools: list) -> None:\n",
    "        self.tools_by_name = {tool.name: tool for tool in tools}\n",
    "\n",
    "    def __call__(self, inputs: dict):\n",
    "        print(\"----tool calling----\")\n",
    "        message = inputs[\"agent_outcome\"][-1]\n",
    "\n",
    "        outputs = []\n",
    "        for tool_call in message.tool_calls:\n",
    "            print(f\"---- Calling {tool_call['name']} with args: {tool_call['args']} ----\")\n",
    "            tool_result = self.tools_by_name[tool_call[\"name\"]].invoke(\n",
    "                tool_call[\"args\"]\n",
    "            )\n",
    "            outputs.append(\n",
    "                ToolMessage(\n",
    "                    content=json.dumps(tool_result),\n",
    "                    name=tool_call[\"name\"],\n",
    "                    tool_call_id=tool_call[\"id\"],\n",
    "                )\n",
    "            )\n",
    "\n",
    "        return {\n",
    "                \"agent_outcome\": outputs,\n",
    "                \"intermediate_step\": outputs\n",
    "            }"
   ]
  },
  {
   "cell_type": "markdown",
   "metadata": {},
   "source": [
    "#### Researcher"
   ]
  },
  {
   "cell_type": "code",
   "execution_count": 10,
   "metadata": {},
   "outputs": [],
   "source": [
    "class ResearchAgent:\n",
    "    def research_agent(self,\n",
    "                       data:AgentState):\n",
    "        print(\"----research node----\")\n",
    "        prompt = ChatPromptTemplate.from_messages(\n",
    "            [\n",
    "                (\n",
    "                    \"system\",\n",
    "                    \"You are a helpful AI research assistant chatbot,\"\n",
    "                    \"For recent or latest search queries, first identify the current date using the tool 'get_todays_date'.\"\n",
    "                    \" Use the appropriate search tools and chat history to progress towards finding the relevant results.\"\n",
    "                    \" Once you have the relevant search results, return the response in json.\"\n",
    "                    \"\\nYou have access to the following search tools: {tool_names}.\"\n",
    "                ),\n",
    "                (\n",
    "                    \"human\",\n",
    "                    \"\\nUser Query: {input}\"\n",
    "                ),\n",
    "                \n",
    "                MessagesPlaceholder(variable_name=\"intermediate_step\"),\n",
    "            ]\n",
    "        )\n",
    "        prompt = prompt.partial(tool_names=\", \".join([tool.name for tool in tools]))\n",
    "        agent = prompt | llm.bind_tools(tools)\n",
    "        result = agent.invoke(data)\n",
    "        return {'agent_outcome': [result],\n",
    "                'retrieved_results': [result],\n",
    "                'intermediate_step': [result]}\n",
    "    \n",
    "    def route_tools(self,\n",
    "    state: AgentState,\n",
    "    ):\n",
    "        \"\"\"\n",
    "        Use in the conditional_edge to route to the ToolNode if the last message\n",
    "        has tool calls. Otherwise, route to the end.\n",
    "        \"\"\"\n",
    "        print(\"----router----\")\n",
    "        if isinstance(state, list):\n",
    "            ai_message = state[-1]\n",
    "        elif agent_outcome := state.get(\"agent_outcome\", []):\n",
    "            ai_message = agent_outcome[-1]\n",
    "        else:\n",
    "            raise ValueError(f\"No messages found in input state to tool_edge: {state}\")\n",
    "\n",
    "        if hasattr(ai_message, \"tool_calls\") and len(ai_message.tool_calls) > 0:\n",
    "            return \"tools\"\n",
    "        return \"END\""
   ]
  },
  {
   "cell_type": "code",
   "execution_count": 11,
   "metadata": {},
   "outputs": [
    {
     "data": {
      "text/plain": [
       "<langgraph.graph.state.StateGraph at 0x1208877d0>"
      ]
     },
     "execution_count": 11,
     "metadata": {},
     "output_type": "execute_result"
    }
   ],
   "source": [
    "research = ResearchAgent()\n",
    "researcher = research.research_agent\n",
    "workflow.add_node(\"research\", researcher)"
   ]
  },
  {
   "cell_type": "code",
   "execution_count": 12,
   "metadata": {},
   "outputs": [
    {
     "data": {
      "text/plain": [
       "<langgraph.graph.state.StateGraph at 0x1208877d0>"
      ]
     },
     "execution_count": 12,
     "metadata": {},
     "output_type": "execute_result"
    }
   ],
   "source": [
    "tool_node = BasicToolNode(tools=tools)\n",
    "workflow.add_node(\"tools\", tool_node)"
   ]
  },
  {
   "cell_type": "markdown",
   "metadata": {},
   "source": [
    "#### Planner"
   ]
  },
  {
   "cell_type": "code",
   "execution_count": 13,
   "metadata": {},
   "outputs": [],
   "source": [
    "class PlanAgent:\n",
    "    def plan_agent(self,\n",
    "            data:AgentState):\n",
    "        print(\"----plan node----\")\n",
    "\n",
    "        prompt = ChatPromptTemplate.from_messages(\n",
    "            [\n",
    "                (\n",
    "                    \"system\",\n",
    "                    \"\"\"You are an expert planner tasked with writing a high level outline of an article for the provided user query.\n",
    "                        Make sure the outline is well structured and succint yet includes all the necessary sections.\n",
    "                        Plan the outline for a document. If schema is provided, use it to create the outline otherwise do it on your own.\n",
    "                        Give an outline of the literature review along with any relevant notes or instructions for each of the sections. \\ \n",
    "                        \"\"\"\n",
    "                ),\n",
    "                (\n",
    "                    \"human\",\n",
    "                    \"\\nUser Query: {input}\"\n",
    "                ),\n",
    "                \n",
    "                MessagesPlaceholder(variable_name=\"intermediate_step\"),\n",
    "            ]\n",
    "        )\n",
    "        agent = prompt | llm\n",
    "        result = agent.invoke(data)\n",
    "        return {'agent_outcome': [result],\n",
    "                'doc_schema': [result],\n",
    "                'intermediate_step': [result.content]}"
   ]
  },
  {
   "cell_type": "code",
   "execution_count": 14,
   "metadata": {},
   "outputs": [
    {
     "data": {
      "text/plain": [
       "<langgraph.graph.state.StateGraph at 0x1208877d0>"
      ]
     },
     "execution_count": 14,
     "metadata": {},
     "output_type": "execute_result"
    }
   ],
   "source": [
    "plan = PlanAgent()\n",
    "planner = plan.plan_agent\n",
    "workflow.add_node(\"plan\", planner)"
   ]
  },
  {
   "cell_type": "markdown",
   "metadata": {},
   "source": [
    "#### Writer"
   ]
  },
  {
   "cell_type": "code",
   "execution_count": null,
   "metadata": {},
   "outputs": [],
   "source": [
    "class WriteAgent:\n",
    "    def write_agent(self,\n",
    "                       data:AgentState):\n",
    "        print(\"----write node----\")\n",
    "        \n",
    "        prompt = ChatPromptTemplate.from_messages(\n",
    "            [\n",
    "                (\n",
    "                    \"system\",\n",
    "                    \"You are a skilled writer at a research agency, capable of crafting high-quality articles. \"\n",
    "                    \"Your task is to generate a well-structured draft based on the provided document outline and retrieved/input documents. \"\n",
    "                    \"\\nEnsure accuracy and coherence while strictly adhering to the given information - Do not add any other extra information on your own.\"\n",
    "                    \"\\nInclude necessary references with proper citations to maintain credibility and scholarly integrity..\"\n",
    "                ),\n",
    "                MessagesPlaceholder(variable_name=\"retrieved_results\"),\n",
    "                MessagesPlaceholder(variable_name=\"revision_steps\"),\n",
    "            ]\n",
    "        )\n",
    "\n",
    "        agent = prompt | llm\n",
    "        result = agent.invoke(data)\n",
    "        return {'agent_outcome': [result],\n",
    "                'draft': [result],\n",
    "                'revision_steps': [result],\n",
    "                'intermediate_step': [result]}\n",
    "    \n",
    "    def should_continue(self,\n",
    "                        state: AgentState):\n",
    "        if len(state[\"revision_steps\"]) > 4:\n",
    "            # End after 3 iterations\n",
    "            return \"END\"\n",
    "        return \"reflect\"\n",
    "    "
   ]
  },
  {
   "cell_type": "code",
   "execution_count": 16,
   "metadata": {},
   "outputs": [
    {
     "data": {
      "text/plain": [
       "<langgraph.graph.state.StateGraph at 0x1208877d0>"
      ]
     },
     "execution_count": 16,
     "metadata": {},
     "output_type": "execute_result"
    }
   ],
   "source": [
    "write = WriteAgent()\n",
    "write_agent = write.write_agent\n",
    "workflow.add_node(\"write\", write_agent)"
   ]
  },
  {
   "cell_type": "markdown",
   "metadata": {},
   "source": [
    "#### Reviewer (Reflection)"
   ]
  },
  {
   "cell_type": "code",
   "execution_count": 17,
   "metadata": {},
   "outputs": [],
   "source": [
    "class ReviewAgent:\n",
    "    def reflect(self,\n",
    "                data:AgentState):\n",
    "        print(\"----reflect node----\")\n",
    "\n",
    "        prompt = ChatPromptTemplate.from_messages(\n",
    "            [\n",
    "                (\n",
    "                    \"system\",\n",
    "                    \"You are a senior editor at research agency, grading an article submission for the provided user query.\"\n",
    "                    \"  Generate critique and recommendations for the user's submission.\"\n",
    "                    \" Provide detailed recommendations, including requests for length, depth, style, etc.\"\n",
    "                    \"\\n Ensure that content in the draft is appropriately cited with references.\",\n",
    "                ),\n",
    "                (\n",
    "                    \"human\",\n",
    "                    \"\\nUser Query: {input}\"\n",
    "                ),\n",
    "                MessagesPlaceholder(variable_name=\"draft\"),\n",
    "            ]\n",
    "        )\n",
    "\n",
    "        agent = prompt | llm\n",
    "        result = agent.invoke(data)\n",
    "\n",
    "\n",
    "\n",
    "        return {'agent_outcome': [result],\n",
    "                'revision_steps': [result]}\n",
    "    "
   ]
  },
  {
   "cell_type": "code",
   "execution_count": 18,
   "metadata": {},
   "outputs": [
    {
     "data": {
      "text/plain": [
       "<langgraph.graph.state.StateGraph at 0x1208877d0>"
      ]
     },
     "execution_count": 18,
     "metadata": {},
     "output_type": "execute_result"
    }
   ],
   "source": [
    "reflect = ReviewAgent()\n",
    "reflect_agent = reflect.reflect\n",
    "workflow.add_node(\"reflect\", reflect_agent)"
   ]
  },
  {
   "cell_type": "markdown",
   "metadata": {},
   "source": [
    "#### Editor"
   ]
  },
  {
   "cell_type": "code",
   "execution_count": 19,
   "metadata": {},
   "outputs": [],
   "source": [
    "class EditAgent:\n",
    "    def edit_agent(self,\n",
    "            data:AgentState):\n",
    "        print(\"---- edit node ----\")\n",
    "        prompt = ChatPromptTemplate.from_messages(\n",
    "            [\n",
    "                (\n",
    "                    \"system\",\n",
    "                    \"\"\"You are an experienced editor. \\\n",
    "                        Combine drafts of multiple sections into a single, coherent final document, ensuring a consistent flow, tone, and structure throughout.\n",
    "                        Follow the the following doc_schema to generate the final draft.\n",
    "                        \"\"\"\n",
    "                ),\n",
    "                \n",
    "                MessagesPlaceholder(variable_name=\"agent_outcome\"),\n",
    "                MessagesPlaceholder(variable_name=\"doc_schema\"),\n",
    "            ]\n",
    "        )\n",
    "        agent = prompt | llm\n",
    "        result = agent.invoke(data)\n",
    "        return {'agent_outcome': [result],\n",
    "                }"
   ]
  },
  {
   "cell_type": "code",
   "execution_count": 20,
   "metadata": {},
   "outputs": [
    {
     "data": {
      "text/plain": [
       "<langgraph.graph.state.StateGraph at 0x1208877d0>"
      ]
     },
     "execution_count": 20,
     "metadata": {},
     "output_type": "execute_result"
    }
   ],
   "source": [
    "edit = EditAgent()\n",
    "edit_agent = edit.edit_agent\n",
    "workflow.add_node(\"edit\", edit_agent)"
   ]
  },
  {
   "cell_type": "markdown",
   "metadata": {},
   "source": [
    "### Edges"
   ]
  },
  {
   "cell_type": "code",
   "execution_count": 21,
   "metadata": {},
   "outputs": [
    {
     "data": {
      "text/plain": [
       "<langgraph.graph.state.StateGraph at 0x1208877d0>"
      ]
     },
     "execution_count": 21,
     "metadata": {},
     "output_type": "execute_result"
    }
   ],
   "source": [
    "workflow.add_conditional_edges(\n",
    "    \"research\",\n",
    "    research.route_tools,\n",
    "    {\"tools\": \"tools\", \"END\": \"plan\"}\n",
    ")"
   ]
  },
  {
   "cell_type": "code",
   "execution_count": 22,
   "metadata": {},
   "outputs": [
    {
     "data": {
      "text/plain": [
       "<langgraph.graph.state.StateGraph at 0x1208877d0>"
      ]
     },
     "execution_count": 22,
     "metadata": {},
     "output_type": "execute_result"
    }
   ],
   "source": [
    "workflow.add_edge(\"tools\", \"research\")"
   ]
  },
  {
   "cell_type": "code",
   "execution_count": 23,
   "metadata": {},
   "outputs": [
    {
     "data": {
      "text/plain": [
       "<langgraph.graph.state.StateGraph at 0x1208877d0>"
      ]
     },
     "execution_count": 23,
     "metadata": {},
     "output_type": "execute_result"
    }
   ],
   "source": [
    "workflow.add_edge(\"plan\", \"write\")"
   ]
  },
  {
   "cell_type": "code",
   "execution_count": 24,
   "metadata": {},
   "outputs": [
    {
     "data": {
      "text/plain": [
       "<langgraph.graph.state.StateGraph at 0x1208877d0>"
      ]
     },
     "execution_count": 24,
     "metadata": {},
     "output_type": "execute_result"
    }
   ],
   "source": [
    "workflow.add_conditional_edges(\"write\", write.should_continue, {\"reflect\": \"reflect\", \"END\": \"edit\"})\n",
    "workflow.add_edge(\"reflect\", \"write\")\n",
    "workflow.add_edge(\"edit\", END)"
   ]
  },
  {
   "cell_type": "markdown",
   "metadata": {},
   "source": [
    "### Initialising the memory"
   ]
  },
  {
   "cell_type": "code",
   "execution_count": 25,
   "metadata": {},
   "outputs": [],
   "source": [
    "from langgraph.checkpoint.memory import MemorySaver\n",
    "memory = MemorySaver()"
   ]
  },
  {
   "cell_type": "markdown",
   "metadata": {},
   "source": [
    "### Compiling the graph"
   ]
  },
  {
   "cell_type": "code",
   "execution_count": 26,
   "metadata": {},
   "outputs": [
    {
     "data": {
      "image/jpeg": "[encoded data removed]",
      "text/plain": [
       "<IPython.core.display.Image object>"
      ]
     },
     "metadata": {},
     "output_type": "display_data"
    }
   ],
   "source": [
    "workflow.set_entry_point(\"research\")\n",
    "app = workflow.compile(checkpointer=memory)\n",
    "try:\n",
    "    display(Image(app.get_graph(xray=True).draw_mermaid_png()))\n",
    "except Exception:\n",
    "    # This requires some extra dependencies and is optional\n",
    "    pass"
   ]
  },
  {
   "cell_type": "markdown",
   "metadata": {},
   "source": [
    "## Testing"
   ]
  },
  {
   "cell_type": "code",
   "execution_count": 30,
   "metadata": {},
   "outputs": [
    {
     "name": "stdout",
     "output_type": "stream",
     "text": [
      "================================\u001b[1m Human Message \u001b[0m=================================\n",
      "\n",
      "Summarise todays stocks market news for India?\n",
      "----research node----\n",
      "----router----\n",
      "==================================\u001b[1m Ai Message \u001b[0m==================================\n",
      "Tool Calls:\n",
      "  get_todays_date (call_OeeKlF4xoMtuk3R2QiYBA7kR)\n",
      " Call ID: call_OeeKlF4xoMtuk3R2QiYBA7kR\n",
      "  Args:\n",
      "----tool calling----\n",
      "---- Calling get_todays_date with args: {} ----\n",
      "=================================\u001b[1m Tool Message \u001b[0m=================================\n",
      "Name: get_todays_date\n",
      "\n",
      "\"2025-03-17\"\n",
      "----research node----\n",
      "----router----\n",
      "==================================\u001b[1m Ai Message \u001b[0m==================================\n",
      "Tool Calls:\n",
      "  tavily_search_results_json (call_Vn4xOQZhBHzOBFCg8MTmitDL)\n",
      " Call ID: call_Vn4xOQZhBHzOBFCg8MTmitDL\n",
      "  Args:\n",
      "    query: India stock market news March 17 2025\n",
      "----tool calling----\n",
      "---- Calling tavily_search_results_json with args: {'query': 'India stock market news March 17 2025'} ----\n",
      "=================================\u001b[1m Tool Message \u001b[0m=================================\n",
      "Name: tavily_search_results_json\n",
      "\n",
      "[{\"url\": \"https://www.livemint.com/market/stock-market-news/latest-stock-market-news-on-march-17-2025-live-updates-11742169605614.html\", \"content\": \"India's valuations have seen a meaningful correction. What seemed expensive at 24-25x now looks far more reasonable. If you don't buy at 18-19x,\"}, {\"url\": \"https://www.thehindubusinessline.com/markets/share-market-nifty-sensex-live-updates-17-march-2025/article69336488.ece\", \"content\": \"Stock Market Live Updates 17th March 2025: Sensex, Nifty likely to remain range-bound amid global trade concerns - The Hindu BusinessLine.\"}, {\"url\": \"https://www.livemint.com/market/stock-market-news/stock-market-today-trade-setup-for-nifty-50-to-global-markets-7-stocks-to-buy-or-sell-on-monday-march-17-2025-11742138910370.html\", \"content\": \"Stock market today: Trade setup for Nifty 50 to global markets; 7 stocks to buy or sell on Monday\\u2014 March 17, 2025. Stock Market News.\"}, {\"url\": \"https://www.reuters.com/markets/asia/india-rupee-bonds-take-cues-fed-policy-decision-commentary-2025-03-17/\", \"content\": \"The rupee closed at 86.9975 on Thursday, down 0.1% on the week. India's financial markets were shut on Friday for a local holiday. Sign up here.\"}]\n",
      "----research node----\n",
      "----router----\n",
      "==================================\u001b[1m Ai Message \u001b[0m==================================\n",
      "\n",
      "Here is a summary of today's stock market news for India on March 17, 2025:\n",
      "\n",
      "1. **Livemint**: India's stock market valuations have seen a meaningful correction. Previously considered expensive at 24-25x, they now appear more reasonable at 18-19x. [Read more](https://www.livemint.com/market/stock-market-news/latest-stock-market-news-on-march-17-2025-live-updates-11742169605614.html)\n",
      "\n",
      "2. **The Hindu BusinessLine**: The Sensex and Nifty are likely to remain range-bound amid global trade concerns. [Read more](https://www.thehindubusinessline.com/markets/share-market-nifty-sensex-live-updates-17-march-2025/article69336488.ece)\n",
      "\n",
      "3. **Livemint**: Trade setup for Nifty 50 to global markets; recommendations on 7 stocks to buy or sell today. [Read more](https://www.livemint.com/market/stock-market-news/stock-market-today-trade-setup-for-nifty-50-to-global-markets-7-stocks-to-buy-or-sell-on-monday-march-17-2025-11742138910370.html)\n",
      "\n",
      "4. **Reuters**: The Indian rupee closed at 86.9975, down 0.1% for the week. India's financial markets were shut on Friday for a local holiday. [Read more](https://www.reuters.com/markets/asia/india-rupee-bonds-take-cues-fed-policy-decision-commentary-2025-03-17/)\n",
      "\n",
      "These articles provide insights into the current state of the Indian stock market, including valuation corrections, market trends, trade setups, and currency performance.\n",
      "----plan node----\n",
      "==================================\u001b[1m Ai Message \u001b[0m==================================\n",
      "\n",
      "### Outline for Article: Summary of Today's Stock Market News for India (March 17, 2025)\n",
      "\n",
      "#### I. Introduction\n",
      "   - Brief overview of the importance of staying updated with stock market news.\n",
      "   - Mention the date and focus on the Indian stock market.\n",
      "\n",
      "#### II. Market Valuations\n",
      "   - **Source: Livemint**\n",
      "     - Discussion on the correction in India's stock market valuations.\n",
      "     - Comparison of previous valuations (24-25x) to current valuations (18-19x).\n",
      "     - Implications for investors and market sentiment.\n",
      "\n",
      "#### III. Market Trends and Predictions\n",
      "   - **Source: The Hindu BusinessLine**\n",
      "     - Analysis of Sensex and Nifty trends.\n",
      "     - Impact of global trade concerns on the Indian stock market.\n",
      "     - Predictions for market movement and investor strategies.\n",
      "\n",
      "#### IV. Trade Setup and Stock Recommendations\n",
      "   - **Source: Livemint**\n",
      "     - Detailed trade setup for Nifty 50 and global markets.\n",
      "     - Recommendations on 7 stocks to buy or sell today.\n",
      "     - Factors influencing these recommendations and potential outcomes.\n",
      "\n",
      "#### V. Currency Performance\n",
      "   - **Source: Reuters**\n",
      "     - Update on the Indian rupee's performance.\n",
      "     - Closing value and weekly performance (down 0.1%).\n",
      "     - Impact of local holiday on financial markets.\n",
      "\n",
      "#### VI. Conclusion\n",
      "   - Recap of key points discussed in the article.\n",
      "   - Final thoughts on the current state of the Indian stock market.\n",
      "   - Encouragement for readers to stay informed and make strategic investment decisions.\n",
      "\n",
      "#### VII. References\n",
      "   - List of sources used for the article:\n",
      "     - Livemint articles on market valuations and trade setup.\n",
      "     - The Hindu BusinessLine article on market trends.\n",
      "     - Reuters article on currency performance.\n",
      "\n",
      "### Notes for Each Section:\n",
      "- **Introduction**: Keep it concise and engaging to draw readers into the article.\n",
      "- **Market Valuations**: Use clear comparisons and explain the significance of the correction.\n",
      "- **Market Trends and Predictions**: Provide context on global trade concerns and their impact.\n",
      "- **Trade Setup and Stock Recommendations**: Offer actionable insights and explain the rationale behind each recommendation.\n",
      "- **Currency Performance**: Highlight key figures and explain the broader implications for the market.\n",
      "- **Conclusion**: Summarize the main points and leave readers with a clear understanding of the current market situation.\n",
      "- **References**: Ensure all sources are properly cited and accessible for further reading.\n",
      "----write node----\n",
      "==================================\u001b[1m Ai Message \u001b[0m==================================\n",
      "\n",
      "## Stock Market Valuations in India\n",
      "\n",
      "India's stock market valuations have undergone a significant correction recently. Previously, the market was considered expensive, with valuations at 24-25 times earnings. However, these valuations have now adjusted to a more reasonable level of 18-19 times earnings. This correction is seen as a positive development, making the market more attractive to investors who were previously deterred by high valuations. The adjustment in valuations reflects a more balanced and sustainable market environment, potentially leading to increased investor confidence and participation ([Livemint](https://www.livemint.com/market/stock-market-news/latest-stock-market-news-on-march-17-2025-live-updates-11742169605614.html)).\n",
      "\n",
      "## Market Trends and Predictions\n",
      "\n",
      "The Sensex and Nifty, two of India's major stock indices, are expected to remain range-bound amid ongoing global trade concerns. This prediction suggests that the market may not experience significant upward or downward movements in the near term. The range-bound nature of the market indicates a period of consolidation, where investors are likely to adopt a cautious approach due to uncertainties in global trade dynamics. This scenario underscores the importance of monitoring international trade developments and their potential impact on the Indian stock market ([The Hindu BusinessLine](https://www.thehindubusinessline.com/markets/share-market-nifty-sensex-live-updates-17-march-2025/article69336488.ece)).\n",
      "\n",
      "## Trade Setup and Stock Recommendations\n",
      "\n",
      "For investors looking to navigate the current market conditions, specific trade setups and stock recommendations are crucial. Livemint provides insights into the trade setup for the Nifty 50 index and global markets, offering recommendations on seven stocks to buy or sell. These recommendations are based on thorough analysis and are designed to help investors make informed decisions in a volatile market environment. The guidance includes strategic advice on stock selection, taking into account market trends, valuation adjustments, and global economic factors ([Livemint](https://www.livemint.com/market/stock-market-news/stock-market-today-trade-setup-for-nifty-50-to-global-markets-7-stocks-to-buy-or-sell-on-monday-march-17-2025-11742138910370.html)).\n",
      "\n",
      "## Currency Performance\n",
      "\n",
      "The performance of the Indian rupee is another critical aspect of the financial market. Recently, the rupee closed at 86.9975 against the US dollar, marking a 0.1% decline for the week. This slight depreciation reflects the broader economic conditions and market sentiment. Additionally, India's financial markets were closed on Friday due to a local holiday, which may have contributed to the currency's performance. The rupee's movement is influenced by various factors, including domestic economic policies, global trade dynamics, and investor sentiment. Monitoring these factors is essential for understanding the currency's trajectory and its impact on the broader financial market ([Reuters](https://www.reuters.com/markets/asia/india-rupee-bonds-take-cues-fed-policy-decision-commentary-2025-03-17/)).\n",
      "\n",
      "## Introduction\n",
      "\n",
      "The Indian stock market has been a focal point for investors, analysts, and policymakers, especially in light of recent developments. This article delves into the current state of the market, examining key aspects such as stock valuations, market trends, trade setups, and currency performance. By providing a comprehensive overview, we aim to offer valuable insights into the factors shaping the Indian financial landscape.\n",
      "\n",
      "## Conclusion\n",
      "\n",
      "In conclusion, the Indian stock market is undergoing significant changes, with valuations becoming more reasonable and market trends indicating a period of consolidation. Investors are advised to stay informed about trade setups and stock recommendations to navigate the current environment effectively. Additionally, the performance of the Indian rupee remains a critical factor to watch, as it reflects broader economic conditions. By understanding these elements, investors can make more informed decisions and better manage their portfolios in a dynamic market.\n",
      "----reflect node----\n",
      "==================================\u001b[1m Ai Message \u001b[0m==================================\n",
      "\n",
      "## Critique and Recommendations\n",
      "\n",
      "### Length and Depth\n",
      "Your submission provides a concise summary of the current state of the Indian stock market, touching on key aspects such as stock valuations, market trends, trade setups, and currency performance. However, the article could benefit from a deeper analysis and more detailed information in certain areas. For instance, you could expand on the implications of the valuation correction and provide more context on the global trade concerns affecting market trends.\n",
      "\n",
      "### Style and Structure\n",
      "The article is well-structured, with clear sections that make it easy to follow. However, the introduction and conclusion could be more robust. The introduction should set the stage for the reader, explaining why the current state of the Indian stock market is significant and what key points will be covered. The conclusion should not only summarize the main points but also offer some forward-looking insights or recommendations for investors.\n",
      "\n",
      "### Citations and References\n",
      "Your article includes references to reputable sources, which is excellent. However, ensure that all claims and data points are appropriately cited. For example, when discussing the correction in stock valuations, you could provide more specific data or quotes from financial analysts to support your points. Additionally, consider adding more references to diversify the sources and provide a more comprehensive view.\n",
      "\n",
      "### Recommendations for Improvement\n",
      "\n",
      "1. **Expand on Valuation Correction**: Provide more details on the factors that led to the correction in stock valuations. Discuss the potential long-term impacts on the market and investor behavior. Include quotes from financial experts or analysts to add credibility.\n",
      "\n",
      "2. **Deepen Market Trends Analysis**: Elaborate on the global trade concerns and how they specifically affect the Indian stock market. Discuss other factors that might influence market trends, such as domestic economic policies or geopolitical events.\n",
      "\n",
      "3. **Enhance Trade Setup Section**: Offer more detailed insights into the recommended stocks. Explain why these stocks are recommended, including any relevant financial metrics or company news. This will help investors understand the rationale behind the recommendations.\n",
      "\n",
      "4. **Strengthen Introduction and Conclusion**: \n",
      "   - **Introduction**: Provide a brief overview of the Indian stock market's recent performance and why it is important for investors to stay informed. Mention the key points that will be covered in the article.\n",
      "   - **Conclusion**: Summarize the main points and offer some forward-looking insights. Discuss potential strategies for investors to consider in light of the current market conditions.\n",
      "\n",
      "5. **Additional References**: Include more references to diversify the sources. Consider citing reports from financial institutions, market research firms, or government agencies to provide a well-rounded perspective.\n",
      "\n",
      "### Example of Enhanced Sections\n",
      "\n",
      "**Introduction:**\n",
      "\"The Indian stock market has been a focal point for investors, analysts, and policymakers, especially in light of recent developments. With valuations undergoing a significant correction and market trends indicating a period of consolidation, it is crucial for investors to stay informed. This article delves into the current state of the market, examining key aspects such as stock valuations, market trends, trade setups, and currency performance. By providing a comprehensive overview, we aim to offer valuable insights into the factors shaping the Indian financial landscape.\"\n",
      "\n",
      "**Conclusion:**\n",
      "\"In conclusion, the Indian stock market is undergoing significant changes, with valuations becoming more reasonable and market trends indicating a period of consolidation. Investors are advised to stay informed about trade setups and stock recommendations to navigate the current environment effectively. Additionally, the performance of the Indian rupee remains a critical factor to watch, as it reflects broader economic conditions. Looking ahead, investors should consider diversifying their portfolios and staying updated on global trade developments to better manage risks and opportunities in a dynamic market.\"\n",
      "\n",
      "By incorporating these recommendations, your article will provide a more comprehensive and insightful analysis of the Indian stock market, helping readers make informed investment decisions.\n",
      "----write node----\n",
      "==================================\u001b[1m Ai Message \u001b[0m==================================\n",
      "\n",
      "## Stock Market Valuations in India\n",
      "\n",
      "India's stock market valuations have undergone a significant correction recently. Previously, the market was considered expensive, with valuations at 24-25 times earnings. However, these valuations have now adjusted to a more reasonable level of 18-19 times earnings. This correction is seen as a positive development, making the market more attractive to investors who were previously deterred by high valuations. The adjustment in valuations reflects a more balanced and sustainable market environment, potentially leading to increased investor confidence and participation ([Livemint](https://www.livemint.com/market/stock-market-news/latest-stock-market-news-on-march-17-2025-live-updates-11742169605614.html)).\n",
      "\n",
      "## Market Trends and Predictions\n",
      "\n",
      "The Sensex and Nifty, two of India's major stock indices, are expected to remain range-bound amid ongoing global trade concerns. This prediction suggests that the market may not experience significant upward or downward movements in the near term. The range-bound nature of the market indicates a period of consolidation, where investors are likely to adopt a cautious approach due to uncertainties in global trade dynamics. This scenario underscores the importance of monitoring international trade developments and their potential impact on the Indian stock market ([The Hindu BusinessLine](https://www.thehindubusinessline.com/markets/share-market-nifty-sensex-live-updates-17-march-2025/article69336488.ece)).\n",
      "\n",
      "## Trade Setup and Stock Recommendations\n",
      "\n",
      "For investors looking to navigate the current market conditions, specific trade setups and stock recommendations are crucial. Livemint provides insights into the trade setup for the Nifty 50 index and global markets, offering recommendations on seven stocks to buy or sell. These recommendations are based on thorough analysis and are designed to help investors make informed decisions in a volatile market environment. The guidance includes strategic advice on stock selection, taking into account market trends, valuation adjustments, and global economic factors ([Livemint](https://www.livemint.com/market/stock-market-news/stock-market-today-trade-setup-for-nifty-50-to-global-markets-7-stocks-to-buy-or-sell-on-monday-march-17-2025-11742138910370.html)).\n",
      "\n",
      "## Currency Performance\n",
      "\n",
      "The performance of the Indian rupee is another critical aspect of the financial market. Recently, the rupee closed at 86.9975 against the US dollar, marking a 0.1% decline for the week. This slight depreciation reflects the broader economic conditions and market sentiment. Additionally, India's financial markets were closed on Friday due to a local holiday, which may have contributed to the currency's performance. The rupee's movement is influenced by various factors, including domestic economic policies, global trade dynamics, and investor sentiment. Monitoring these factors is essential for understanding the currency's trajectory and its impact on the broader financial market ([Reuters](https://www.reuters.com/markets/asia/india-rupee-bonds-take-cues-fed-policy-decision-commentary-2025-03-17/)).\n",
      "\n",
      "## Introduction\n",
      "\n",
      "The Indian stock market has been a focal point for investors, analysts, and policymakers, especially in light of recent developments. This article delves into the current state of the market, examining key aspects such as stock valuations, market trends, trade setups, and currency performance. By providing a comprehensive overview, we aim to offer valuable insights into the factors shaping the Indian financial landscape.\n",
      "\n",
      "## Conclusion\n",
      "\n",
      "In conclusion, the Indian stock market is undergoing significant changes, with valuations becoming more reasonable and market trends indicating a period of consolidation. Investors are advised to stay informed about trade setups and stock recommendations to navigate the current environment effectively. Additionally, the performance of the Indian rupee remains a critical factor to watch, as it reflects broader economic conditions. By understanding these elements, investors can make more informed decisions and better manage their portfolios in a dynamic market.\n",
      "----reflect node----\n",
      "==================================\u001b[1m Ai Message \u001b[0m==================================\n",
      "\n",
      "## Critique and Recommendations\n",
      "\n",
      "### Overall Assessment\n",
      "Your submission provides a comprehensive overview of the current state of the Indian stock market, touching on key aspects such as stock valuations, market trends, trade setups, and currency performance. The structure is clear, and the information is relevant and timely. However, there are areas where the article can be improved to enhance its depth, clarity, and engagement.\n",
      "\n",
      "### Detailed Recommendations\n",
      "\n",
      "#### 1. **Introduction**\n",
      "- **Current State**: The introduction should briefly summarize the key points that will be discussed in the article. This helps set the stage for the reader and provides a clear roadmap of what to expect.\n",
      "- **Recommendation**: Add a brief summary of the main points covered in the article, such as the correction in stock valuations, range-bound market trends, trade setups, and currency performance.\n",
      "\n",
      "#### 2. **Depth and Detail**\n",
      "- **Current State**: The article provides a good overview but lacks depth in certain areas, particularly in explaining the implications of the stock market trends and currency performance.\n",
      "- **Recommendation**: Expand on the implications of the correction in stock valuations. Discuss how this might affect different sectors and investor sentiment. Similarly, provide more detail on the factors influencing the rupee's performance and its potential impact on the stock market.\n",
      "\n",
      "#### 3. **Citations and References**\n",
      "- **Current State**: The article includes references to sources such as Livemint, The Hindu BusinessLine, and Reuters, but the citations are not integrated smoothly into the text.\n",
      "- **Recommendation**: Ensure that all information is appropriately cited within the text. For example, when discussing stock valuations, include a direct citation to the source. This adds credibility and allows readers to verify the information.\n",
      "\n",
      "#### 4. **Style and Engagement**\n",
      "- **Current State**: The article is informative but could be more engaging. The language is somewhat formal and may benefit from a more conversational tone.\n",
      "- **Recommendation**: Use a more conversational tone to make the article more engaging. Include quotes from experts or analysts to add variety and interest. For example, \"According to market analyst John Doe, 'The recent correction in stock valuations is a welcome change for investors who were previously deterred by high prices.'\"\n",
      "\n",
      "#### 5. **Conclusion**\n",
      "- **Current State**: The conclusion summarizes the main points but could be more impactful.\n",
      "- **Recommendation**: Strengthen the conclusion by reiterating the key takeaways and providing actionable advice for investors. For example, \"Investors should consider diversifying their portfolios to mitigate risks associated with market volatility. Staying informed about global trade developments and currency movements will be crucial in navigating the current market environment.\"\n",
      "\n",
      "### Length and Structure\n",
      "- **Current State**: The article is concise but could benefit from additional detail in certain sections.\n",
      "- **Recommendation**: Aim for a length of 800-1000 words to provide a more thorough analysis. Ensure that each section is well-developed and flows logically from one point to the next.\n",
      "\n",
      "### Final Thoughts\n",
      "Your submission is a solid foundation for a comprehensive article on the current state of the Indian stock market. By incorporating these recommendations, you can enhance the depth, clarity, and engagement of your article, making it more valuable to readers. Ensure that all information is appropriately cited and consider adding expert quotes to enrich the content.\n",
      "----write node----\n",
      "==================================\u001b[1m Ai Message \u001b[0m==================================\n",
      "\n",
      "## Stock Market Valuations in India\n",
      "\n",
      "India's stock market valuations have undergone a significant correction recently. Previously, the market was considered expensive, with valuations at 24-25 times earnings. However, these valuations have now adjusted to a more reasonable level of 18-19 times earnings. This correction is seen as a positive development, making the market more attractive to investors who were previously deterred by high valuations. The adjustment in valuations reflects a more balanced and sustainable market environment, potentially leading to increased investor confidence and participation ([Livemint](https://www.livemint.com/market/stock-market-news/latest-stock-market-news-on-march-17-2025-live-updates-11742169605614.html)).\n",
      "\n",
      "## Market Trends and Predictions\n",
      "\n",
      "The Sensex and Nifty, two of India's major stock indices, are expected to remain range-bound amid ongoing global trade concerns. This prediction suggests that the market may not experience significant upward or downward movements in the near term. The range-bound nature of the market indicates a period of consolidation, where investors are likely to adopt a cautious approach due to uncertainties in global trade dynamics. This scenario underscores the importance of monitoring international trade developments and their potential impact on the Indian stock market ([The Hindu BusinessLine](https://www.thehindubusinessline.com/markets/share-market-nifty-sensex-live-updates-17-march-2025/article69336488.ece)).\n",
      "\n",
      "## Trade Setup and Stock Recommendations\n",
      "\n",
      "For investors looking to navigate the current market conditions, specific trade setups and stock recommendations are crucial. Livemint provides insights into the trade setup for the Nifty 50 index and global markets, offering recommendations on seven stocks to buy or sell. These recommendations are based on thorough analysis and are designed to help investors make informed decisions in a volatile market environment. The guidance includes strategic advice on stock selection, taking into account market trends, valuation adjustments, and global economic factors ([Livemint](https://www.livemint.com/market/stock-market-news/stock-market-today-trade-setup-for-nifty-50-to-global-markets-7-stocks-to-buy-or-sell-on-monday-march-17-2025-11742138910370.html)).\n",
      "\n",
      "## Currency Performance\n",
      "\n",
      "The performance of the Indian rupee is another critical aspect of the financial market. Recently, the rupee closed at 86.9975 against the US dollar, marking a 0.1% decline for the week. This slight depreciation reflects the broader economic conditions and market sentiment. Additionally, India's financial markets were closed on Friday due to a local holiday, which may have contributed to the currency's performance. The rupee's movement is influenced by various factors, including domestic economic policies, global trade dynamics, and investor sentiment. Monitoring these factors is essential for understanding the currency's trajectory and its impact on the broader financial market ([Reuters](https://www.reuters.com/markets/asia/india-rupee-bonds-take-cues-fed-policy-decision-commentary-2025-03-17/)).\n",
      "\n",
      "## Introduction\n",
      "\n",
      "The Indian stock market has been a focal point for investors, analysts, and policymakers, especially in light of recent developments. This article delves into the current state of the market, examining key aspects such as stock valuations, market trends, trade setups, and currency performance. By providing a comprehensive overview, we aim to offer valuable insights into the factors shaping the Indian financial landscape.\n",
      "\n",
      "## Conclusion\n",
      "\n",
      "In conclusion, the Indian stock market is undergoing significant changes, with valuations becoming more reasonable and market trends indicating a period of consolidation. Investors are advised to stay informed about trade setups and stock recommendations to navigate the current environment effectively. Additionally, the performance of the Indian rupee remains a critical factor to watch, as it reflects broader economic conditions. By understanding these elements, investors can make more informed decisions and better manage their portfolios in a dynamic market.\n",
      "---- edit node ----\n",
      "==================================\u001b[1m Ai Message \u001b[0m==================================\n",
      "\n",
      "## Stock Market Valuations in India\n",
      "\n",
      "India's stock market valuations have undergone a significant correction recently. Previously, the market was considered expensive, with valuations at 24-25 times earnings. However, these valuations have now adjusted to a more reasonable level of 18-19 times earnings. This correction is seen as a positive development, making the market more attractive to investors who were previously deterred by high valuations. The adjustment in valuations reflects a more balanced and sustainable market environment, potentially leading to increased investor confidence and participation ([Livemint](https://www.livemint.com/market/stock-market-news/latest-stock-market-news-on-march-17-2025-live-updates-11742169605614.html)).\n",
      "\n",
      "## Market Trends and Predictions\n",
      "\n",
      "The Sensex and Nifty, two of India's major stock indices, are expected to remain range-bound amid ongoing global trade concerns. This prediction suggests that the market may not experience significant upward or downward movements in the near term. The range-bound nature of the market indicates a period of consolidation, where investors are likely to adopt a cautious approach due to uncertainties in global trade dynamics. This scenario underscores the importance of monitoring international trade developments and their potential impact on the Indian stock market ([The Hindu BusinessLine](https://www.thehindubusinessline.com/markets/share-market-nifty-sensex-live-updates-17-march-2025/article69336488.ece)).\n",
      "\n",
      "## Trade Setup and Stock Recommendations\n",
      "\n",
      "For investors looking to navigate the current market conditions, specific trade setups and stock recommendations are crucial. Livemint provides insights into the trade setup for the Nifty 50 index and global markets, offering recommendations on seven stocks to buy or sell. These recommendations are based on thorough analysis and are designed to help investors make informed decisions in a volatile market environment. The guidance includes strategic advice on stock selection, taking into account market trends, valuation adjustments, and global economic factors ([Livemint](https://www.livemint.com/market/stock-market-news/stock-market-today-trade-setup-for-nifty-50-to-global-markets-7-stocks-to-buy-or-sell-on-monday-march-17-2025-11742138910370.html)).\n",
      "\n",
      "## Currency Performance\n",
      "\n",
      "The performance of the Indian rupee is another critical aspect of the financial market. Recently, the rupee closed at 86.9975 against the US dollar, marking a 0.1% decline for the week. This slight depreciation reflects the broader economic conditions and market sentiment. Additionally, India's financial markets were closed on Friday due to a local holiday, which may have contributed to the currency's performance. The rupee's movement is influenced by various factors, including domestic economic policies, global trade dynamics, and investor sentiment. Monitoring these factors is essential for understanding the currency's trajectory and its impact on the broader financial market ([Reuters](https://www.reuters.com/markets/asia/india-rupee-bonds-take-cues-fed-policy-decision-commentary-2025-03-17/)).\n",
      "\n",
      "## Introduction\n",
      "\n",
      "The Indian stock market has been a focal point for investors, analysts, and policymakers, especially in light of recent developments. This article delves into the current state of the market, examining key aspects such as stock valuations, market trends, trade setups, and currency performance. By providing a comprehensive overview, we aim to offer valuable insights into the factors shaping the Indian financial landscape.\n",
      "\n",
      "## Conclusion\n",
      "\n",
      "In conclusion, the Indian stock market is undergoing significant changes, with valuations becoming more reasonable and market trends indicating a period of consolidation. Investors are advised to stay informed about trade setups and stock recommendations to navigate the current environment effectively. Additionally, the performance of the Indian rupee remains a critical factor to watch, as it reflects broader economic conditions. By understanding these elements, investors can make more informed decisions and better manage their portfolios in a dynamic market.\n"
     ]
    }
   ],
   "source": [
    "inputs = {\n",
    "    \"input\": \"Summarise todays stocks market news for India?\",\n",
    "}\n",
    "\n",
    "config = {\n",
    "    \"configurable\": {\n",
    "        \"thread_id\": \"123\",\n",
    "    }\n",
    "}\n",
    "\n",
    "inputs[\"intermediate_step\"] = [HumanMessage(inputs[\"input\"])]\n",
    "\n",
    "state = AgentState(**inputs)\n",
    "events = app.stream(input=state, config=config, stream_mode=\"values\")\n",
    "for event in events:\n",
    "    try:\n",
    "        event[\"agent_outcome\"][-1].pretty_print()\n",
    "    except Exception as e:\n",
    "        HumanMessage(inputs[\"input\"]).pretty_print()"
   ]
  },
  {
   "cell_type": "code",
   "execution_count": 31,
   "metadata": {},
   "outputs": [
    {
     "data": {
      "text/markdown": [
       "## Stock Market Valuations in India\n",
       "\n",
       "India's stock market valuations have undergone a significant correction recently. Previously, the market was considered expensive, with valuations at 24-25 times earnings. However, these valuations have now adjusted to a more reasonable level of 18-19 times earnings. This correction is seen as a positive development, making the market more attractive to investors who were previously deterred by high valuations. The adjustment in valuations reflects a more balanced and sustainable market environment, potentially leading to increased investor confidence and participation ([Livemint](https://www.livemint.com/market/stock-market-news/latest-stock-market-news-on-march-17-2025-live-updates-11742169605614.html)).\n",
       "\n",
       "## Market Trends and Predictions\n",
       "\n",
       "The Sensex and Nifty, two of India's major stock indices, are expected to remain range-bound amid ongoing global trade concerns. This prediction suggests that the market may not experience significant upward or downward movements in the near term. The range-bound nature of the market indicates a period of consolidation, where investors are likely to adopt a cautious approach due to uncertainties in global trade dynamics. This scenario underscores the importance of monitoring international trade developments and their potential impact on the Indian stock market ([The Hindu BusinessLine](https://www.thehindubusinessline.com/markets/share-market-nifty-sensex-live-updates-17-march-2025/article69336488.ece)).\n",
       "\n",
       "## Trade Setup and Stock Recommendations\n",
       "\n",
       "For investors looking to navigate the current market conditions, specific trade setups and stock recommendations are crucial. Livemint provides insights into the trade setup for the Nifty 50 index and global markets, offering recommendations on seven stocks to buy or sell. These recommendations are based on thorough analysis and are designed to help investors make informed decisions in a volatile market environment. The guidance includes strategic advice on stock selection, taking into account market trends, valuation adjustments, and global economic factors ([Livemint](https://www.livemint.com/market/stock-market-news/stock-market-today-trade-setup-for-nifty-50-to-global-markets-7-stocks-to-buy-or-sell-on-monday-march-17-2025-11742138910370.html)).\n",
       "\n",
       "## Currency Performance\n",
       "\n",
       "The performance of the Indian rupee is another critical aspect of the financial market. Recently, the rupee closed at 86.9975 against the US dollar, marking a 0.1% decline for the week. This slight depreciation reflects the broader economic conditions and market sentiment. Additionally, India's financial markets were closed on Friday due to a local holiday, which may have contributed to the currency's performance. The rupee's movement is influenced by various factors, including domestic economic policies, global trade dynamics, and investor sentiment. Monitoring these factors is essential for understanding the currency's trajectory and its impact on the broader financial market ([Reuters](https://www.reuters.com/markets/asia/india-rupee-bonds-take-cues-fed-policy-decision-commentary-2025-03-17/)).\n",
       "\n",
       "## Introduction\n",
       "\n",
       "The Indian stock market has been a focal point for investors, analysts, and policymakers, especially in light of recent developments. This article delves into the current state of the market, examining key aspects such as stock valuations, market trends, trade setups, and currency performance. By providing a comprehensive overview, we aim to offer valuable insights into the factors shaping the Indian financial landscape.\n",
       "\n",
       "## Conclusion\n",
       "\n",
       "In conclusion, the Indian stock market is undergoing significant changes, with valuations becoming more reasonable and market trends indicating a period of consolidation. Investors are advised to stay informed about trade setups and stock recommendations to navigate the current environment effectively. Additionally, the performance of the Indian rupee remains a critical factor to watch, as it reflects broader economic conditions. By understanding these elements, investors can make more informed decisions and better manage their portfolios in a dynamic market."
      ],
      "text/plain": [
       "<IPython.core.display.Markdown object>"
      ]
     },
     "metadata": {},
     "output_type": "display_data"
    }
   ],
   "source": [
    "from IPython.display import display, Markdown\n",
    "    \n",
    "final_response = app.get_state(config=config).values['agent_outcome'][-1].content\n",
    "display(Markdown(final_response))"
   ]
  },
  {
   "cell_type": "code",
   "execution_count": null,
   "metadata": {},
   "outputs": [],
   "source": []
  }
 ],
 "metadata": {
  "kernelspec": {
   "display_name": ".venv",
   "language": "python",
   "name": "python3"
  },
  "language_info": {
   "codemirror_mode": {
    "name": "ipython",
    "version": 3
   },
   "file_extension": ".py",
   "mimetype": "text/x-python",
   "name": "python",
   "nbconvert_exporter": "python",
   "pygments_lexer": "ipython3",
   "version": "3.11.11"
  }
 },
 "nbformat": 4,
 "nbformat_minor": 2
}
