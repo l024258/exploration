{
 "cells": [
  {
   "cell_type": "code",
   "execution_count": 1,
   "metadata": {},
   "outputs": [
    {
     "name": "stdout",
     "output_type": "stream",
     "text": [
      "google-ai-generativelanguage             0.6.6\n",
      "langchain                                0.2.17\n",
      "langchain-aws                            0.1.18\n",
      "langchain-cohere                         0.1.9\n",
      "langchain-community                      0.2.19\n",
      "langchain-core                           0.2.43\n",
      "langchain-experimental                   0.0.65\n",
      "langchain-google-genai                   1.0.10\n",
      "langchain-openai                         0.1.25\n",
      "langchain-text-splitters                 0.2.4\n",
      "langdetect                               1.0.9\n",
      "langgraph                                0.2.46\n",
      "langgraph-checkpoint                     2.0.3\n",
      "langgraph-sdk                            0.1.35\n",
      "langsmith                                0.1.142\n"
     ]
    }
   ],
   "source": [
    "!pip list | grep lang"
   ]
  },
  {
   "cell_type": "code",
   "execution_count": 1,
   "metadata": {},
   "outputs": [
    {
     "name": "stdout",
     "output_type": "stream",
     "text": [
      "/Users/L024258/lilly_work/github-copilot/exploration/notebooks/..\n"
     ]
    }
   ],
   "source": [
    "import os\n",
    "import sys\n",
    "\n",
    "# Get the current working directory and add the parent directory to the Python path\n",
    "current_working_directory = os.getcwd()\n",
    "print(os.path.join(current_working_directory, \"..\"))\n",
    "sys.path.append(os.path.join(current_working_directory, \"..\"))"
   ]
  },
  {
   "cell_type": "code",
   "execution_count": 2,
   "metadata": {},
   "outputs": [],
   "source": [
    "from langchain_openai import AzureChatOpenAI\n",
    "from langgraph.graph import StateGraph, END\n",
    "from langchain_core.messages import AnyMessage, SystemMessage, HumanMessage, ToolMessage\n",
    "from langchain.agents import tool\n",
    "from typing import TypedDict, Annotated\n",
    "import operator"
   ]
  },
  {
   "cell_type": "code",
   "execution_count": null,
   "metadata": {},
   "outputs": [],
   "source": []
  },
  {
   "cell_type": "markdown",
   "metadata": {},
   "source": [
    "### Defining Tools"
   ]
  },
  {
   "cell_type": "code",
   "execution_count": 3,
   "metadata": {},
   "outputs": [],
   "source": [
    "@tool\n",
    "def calculate_si(p, r, t):\n",
    "    \"\"\"This function calculates the simple interest given the principal amount, rate of interest and time period.\"\"\"\n",
    "    return (p * r * t) / 100\n",
    "\n",
    "@tool\n",
    "def calculate_ci(p, r, t):\n",
    "    \"\"\"This function calculates the compound interest given the principal amount, rate of interest and time period.\"\"\"\n",
    "    return p * (1 + r / 100) ** t - p"
   ]
  },
  {
   "cell_type": "code",
   "execution_count": 4,
   "metadata": {},
   "outputs": [
    {
     "name": "stdout",
     "output_type": "stream",
     "text": [
      "<class 'langchain_core.tools.structured.StructuredTool'>\n"
     ]
    }
   ],
   "source": [
    "print(type(calculate_si))"
   ]
  },
  {
   "cell_type": "markdown",
   "metadata": {},
   "source": [
    "### Defining Agent State"
   ]
  },
  {
   "cell_type": "code",
   "execution_count": 5,
   "metadata": {},
   "outputs": [],
   "source": [
    "class AgentState(TypedDict):\n",
    "    messages: Annotated[list[AnyMessage], operator.add]"
   ]
  },
  {
   "cell_type": "markdown",
   "metadata": {},
   "source": [
    "### Defining Agennt"
   ]
  },
  {
   "cell_type": "code",
   "execution_count": 6,
   "metadata": {},
   "outputs": [],
   "source": [
    "class Agent:\n",
    "\n",
    "    def __init__(self, model, tools, system=\"\"):\n",
    "        self.system = system\n",
    "        ## creating graph\n",
    "        graph = StateGraph(AgentState)\n",
    "        ## adding nodes\n",
    "        graph.add_node(\"llm\", self.call_openai)\n",
    "        graph.add_node(\"action\", self.take_action)\n",
    "        ## adding conditional edges\n",
    "        graph.add_conditional_edges(\n",
    "            \"llm\",\n",
    "            self.exists_action,\n",
    "            {True: \"action\", False: END}\n",
    "        )\n",
    "        ## adding edges\n",
    "        graph.add_edge(\"action\", \"llm\")\n",
    "        ## setting entry point\n",
    "        graph.set_entry_point(\"llm\")\n",
    "        ## compiling graph\n",
    "        self.graph = graph.compile()\n",
    "        ## binding tools to the model\n",
    "        self.tools = {t.name: t for t in tools}\n",
    "        self.model = model.bind_tools(tools)\n",
    "\n",
    "    def exists_action(self, state: AgentState):\n",
    "        result = state['messages'][-1]\n",
    "        print(f\"Checking for action: {result}\")\n",
    "        return len(result.tool_calls) > 0\n",
    "\n",
    "    def call_openai(self, state: AgentState):\n",
    "        messages = state['messages']\n",
    "        if self.system:\n",
    "            messages = [SystemMessage(content=self.system)] + messages\n",
    "        message = self.model.invoke(messages)\n",
    "        return {'messages': [message]}\n",
    "\n",
    "    def take_action(self, state: AgentState):\n",
    "        tool_calls = state['messages'][-1].tool_calls\n",
    "        results = []\n",
    "        for t in tool_calls:\n",
    "            print(f\"Calling: {t}\")\n",
    "            if not t['name'] in self.tools:      # check for bad tool name from LLM\n",
    "                print(\"\\n ....bad tool name....\")\n",
    "                result = \"bad tool name, retry\"  # instruct LLM to retry if bad\n",
    "            else:\n",
    "                result = self.tools[t['name']].invoke(t['args'])\n",
    "            results.append(ToolMessage(tool_call_id=t['id'], name=t['name'], content=str(result)))\n",
    "        print(\"Back to the model!\")\n",
    "        return {'messages': results}"
   ]
  },
  {
   "cell_type": "code",
   "execution_count": 7,
   "metadata": {},
   "outputs": [],
   "source": [
    "from models.llm import LLM\n",
    "\n",
    "model = LLM('gpt-4')\n",
    "llm = model.load_model()"
   ]
  },
  {
   "cell_type": "code",
   "execution_count": 8,
   "metadata": {},
   "outputs": [],
   "source": [
    "prompt = \"\"\"You are a smart accountant. Use the calculate simple interest and compound interest tools to calculate SI and CI. \\\n",
    "You are allowed to make multiple calls (either together or in sequence). \\\n",
    "\"\"\"\n",
    "\n",
    "cbot = Agent(llm, [calculate_si, calculate_ci], system=prompt)"
   ]
  },
  {
   "cell_type": "code",
   "execution_count": 9,
   "metadata": {},
   "outputs": [
    {
     "name": "stdout",
     "output_type": "stream",
     "text": [
      "Checking for action: content='' additional_kwargs={'tool_calls': [{'id': 'call_I2jChIUrjWAQeyv3s6wGk9nb', 'function': {'arguments': '{\\n\"p\": 1000,\\n\"r\": 5,\\n\"t\": 10\\n}', 'name': 'calculate_si'}, 'type': 'function'}], 'refusal': None} response_metadata={'token_usage': {'completion_tokens': 27, 'prompt_tokens': 165, 'total_tokens': 192, 'completion_tokens_details': None, 'prompt_tokens_details': None}, 'model_name': 'gpt-4-32k', 'system_fingerprint': None, 'finish_reason': 'tool_calls', 'logprobs': None, 'content_filter_results': {}} id='run-8789db10-fb7a-42fa-a997-cfb02d5880db-0' tool_calls=[{'name': 'calculate_si', 'args': {'p': 1000, 'r': 5, 't': 10}, 'id': 'call_I2jChIUrjWAQeyv3s6wGk9nb', 'type': 'tool_call'}] usage_metadata={'input_tokens': 165, 'output_tokens': 27, 'total_tokens': 192, 'input_token_details': {}, 'output_token_details': {}}\n",
      "Calling: {'name': 'calculate_si', 'args': {'p': 1000, 'r': 5, 't': 10}, 'id': 'call_I2jChIUrjWAQeyv3s6wGk9nb', 'type': 'tool_call'}\n",
      "Back to the model!\n",
      "Checking for action: content='The simple interest on a loan of 1000 USD at 5% for 10 years is 500 USD.' additional_kwargs={'refusal': None} response_metadata={'token_usage': {'completion_tokens': 25, 'prompt_tokens': 201, 'total_tokens': 226, 'completion_tokens_details': None, 'prompt_tokens_details': None}, 'model_name': 'gpt-4-32k', 'system_fingerprint': None, 'finish_reason': 'stop', 'logprobs': None, 'content_filter_results': {}} id='run-16903a7c-6b0b-46c8-9881-87cb48323dc6-0' usage_metadata={'input_tokens': 201, 'output_tokens': 25, 'total_tokens': 226, 'input_token_details': {}, 'output_token_details': {}}\n"
     ]
    }
   ],
   "source": [
    "messages = [HumanMessage(content=\"What is the simple interest on a loan of 1000 USD at 5% for 10 years?\")]\n",
    "result = cbot.graph.invoke({\"messages\": messages})"
   ]
  },
  {
   "cell_type": "code",
   "execution_count": 10,
   "metadata": {},
   "outputs": [
    {
     "name": "stdout",
     "output_type": "stream",
     "text": [
      "Checking for action: content='' additional_kwargs={'tool_calls': [{'id': 'call_I2jChIUrjWAQeyv3s6wGk9nb', 'function': {'arguments': '{\\n\"p\": 1000,\\n\"r\": 5,\\n\"t\": 10\\n}', 'name': 'calculate_si'}, 'type': 'function'}], 'refusal': None} response_metadata={'token_usage': {'completion_tokens': 27, 'prompt_tokens': 170, 'total_tokens': 197, 'completion_tokens_details': None, 'prompt_tokens_details': None}, 'model_name': 'gpt-4-32k', 'system_fingerprint': None, 'finish_reason': 'tool_calls', 'logprobs': None, 'content_filter_results': {}} id='run-94477eb8-1f82-495b-afb4-d0c35f8a29a8-0' tool_calls=[{'name': 'calculate_si', 'args': {'p': 1000, 'r': 5, 't': 10}, 'id': 'call_I2jChIUrjWAQeyv3s6wGk9nb', 'type': 'tool_call'}] usage_metadata={'input_tokens': 170, 'output_tokens': 27, 'total_tokens': 197, 'input_token_details': {}, 'output_token_details': {}}\n",
      "Calling: {'name': 'calculate_si', 'args': {'p': 1000, 'r': 5, 't': 10}, 'id': 'call_I2jChIUrjWAQeyv3s6wGk9nb', 'type': 'tool_call'}\n",
      "Back to the model!\n",
      "Checking for action: content='' additional_kwargs={'tool_calls': [{'id': 'call_I2jChIUrjWAQeyv3s6wGk9nb', 'function': {'arguments': '{\"p\": 1000, \"r\": 5, \"t\": 10}', 'name': 'calculate_ci'}, 'type': 'function'}], 'refusal': None} response_metadata={'token_usage': {'completion_tokens': 25, 'prompt_tokens': 206, 'total_tokens': 231, 'completion_tokens_details': None, 'prompt_tokens_details': None}, 'model_name': 'gpt-4-32k', 'system_fingerprint': None, 'finish_reason': 'tool_calls', 'logprobs': None, 'content_filter_results': {}} id='run-d739de7b-c106-4917-8dda-ed1cb0f72758-0' tool_calls=[{'name': 'calculate_ci', 'args': {'p': 1000, 'r': 5, 't': 10}, 'id': 'call_I2jChIUrjWAQeyv3s6wGk9nb', 'type': 'tool_call'}] usage_metadata={'input_tokens': 206, 'output_tokens': 25, 'total_tokens': 231, 'input_token_details': {}, 'output_token_details': {}}\n",
      "Calling: {'name': 'calculate_ci', 'args': {'p': 1000, 'r': 5, 't': 10}, 'id': 'call_I2jChIUrjWAQeyv3s6wGk9nb', 'type': 'tool_call'}\n",
      "Back to the model!\n",
      "Checking for action: content='The difference between the compound interest and simple interest on a loan of 1000 USD at 5% for 10 years is approximately 128.89 USD.' additional_kwargs={'refusal': None} response_metadata={'token_usage': {'completion_tokens': 34, 'prompt_tokens': 245, 'total_tokens': 279, 'completion_tokens_details': None, 'prompt_tokens_details': None}, 'model_name': 'gpt-4-32k', 'system_fingerprint': None, 'finish_reason': 'stop', 'logprobs': None, 'content_filter_results': {}} id='run-537468f2-600c-410b-aac6-46725b4fedd9-0' usage_metadata={'input_tokens': 245, 'output_tokens': 34, 'total_tokens': 279, 'input_token_details': {}, 'output_token_details': {}}\n",
      "The difference between the compound interest and simple interest on a loan of 1000 USD at 5% for 10 years is approximately 128.89 USD.\n"
     ]
    }
   ],
   "source": [
    "messages = [HumanMessage(content=\"What is the difference between simple interest and compound interest on a loan of 1000 USD at 5% for 10 years?\")]\n",
    "result = cbot.graph.invoke({\"messages\": messages})\n",
    "print(result['messages'][-1].content)"
   ]
  },
  {
   "cell_type": "code",
   "execution_count": null,
   "metadata": {},
   "outputs": [],
   "source": []
  },
  {
   "cell_type": "code",
   "execution_count": null,
   "metadata": {},
   "outputs": [],
   "source": []
  }
 ],
 "metadata": {
  "kernelspec": {
   "display_name": ".venv",
   "language": "python",
   "name": "python3"
  },
  "language_info": {
   "codemirror_mode": {
    "name": "ipython",
    "version": 3
   },
   "file_extension": ".py",
   "mimetype": "text/x-python",
   "name": "python",
   "nbconvert_exporter": "python",
   "pygments_lexer": "ipython3",
   "version": "3.10.7"
  }
 },
 "nbformat": 4,
 "nbformat_minor": 2
}
