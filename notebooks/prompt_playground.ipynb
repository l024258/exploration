{
 "cells": [
  {
   "cell_type": "code",
   "execution_count": 1,
   "metadata": {},
   "outputs": [
    {
     "name": "stdout",
     "output_type": "stream",
     "text": [
      "Current Working Directory: /Users/L024258/lilly_work/github-copilot/exploration/notebooks/..\n"
     ]
    }
   ],
   "source": [
    "import os\n",
    "import sys\n",
    "\n",
    "# Get the current working directory and add the parent directory to the Python path\n",
    "current_working_directory = os.getcwd()\n",
    "print(f'Current Working Directory: {os.path.join(current_working_directory, \"..\")}')\n",
    "sys.path.append(os.path.join(current_working_directory, \"..\"))"
   ]
  },
  {
   "cell_type": "markdown",
   "metadata": {},
   "source": [
    "### Models"
   ]
  },
  {
   "cell_type": "code",
   "execution_count": 2,
   "metadata": {},
   "outputs": [],
   "source": [
    "from models.llm import LLM\n",
    "\n",
    "model = LLM('gpt-4o-mini')\n",
    "llm = model.load_model()"
   ]
  },
  {
   "cell_type": "code",
   "execution_count": 3,
   "metadata": {},
   "outputs": [],
   "source": [
    "from models.em import EM\n",
    "model = EM('ada-2')\n",
    "embeddings = model.load_model()"
   ]
  },
  {
   "cell_type": "markdown",
   "metadata": {},
   "source": [
    "### Inputs"
   ]
  },
  {
   "cell_type": "code",
   "execution_count": 4,
   "metadata": {},
   "outputs": [
    {
     "name": "stdout",
     "output_type": "stream",
     "text": [
      "762\n"
     ]
    }
   ],
   "source": [
    "input_txt = \"\"\"\"Analysts have valued Reliance Industries Ltd’s new energy business at as much as Rs 2.36 lakh crore (Rs 350 per share), exceeding the market value of half of the benchmark Nifty index’s constituents.\n",
    "\n",
    "There are 25 companies in the 50-member Nifty index with a market capitalisation of less than Rs 2.36 lakh crore, according to a Moneycontrol analysis.\n",
    "\n",
    "Investor confidence in India’s largest conglomerate has surged on increased optimism about the prospects of the new energy unit, the expected demerger of the retail business, and increased free cash flow as capital expenditure needs ebb.\n",
    "\n",
    "The RIL stock has touched a new high, surpassing a market capitalisation milestone of Rs 20 lakh crore earlier this week after remaining within a range for the past three years. In January, mutual funds boosted their stake in the company, buying shares worth Rs 3,300 crore. As of January 31, RIL had the second-highest weight on the Nifty index after HDFC Bank.\n",
    "Analysts expect investors to remain bullish on the Reliance stock\n",
    "\n",
    "New energy\n",
    "Deven Choksey, managing director of DRChoksey FinServ, said that RIL already has a 5-10-year head start, while state-run companies are just showing interest in the renewables segment.\n",
    "\n",
    "“Reliance has moved considerably ahead in the renewables business. They have already created a complete ecosystem for producing green hydrogen. They have manufactured solar panels and have solar farms in place. They have a port-based presence in Jamnagar. They are probably upgrading new technology in the electrolyser process,” he said.\n",
    "\n",
    "Among brokerages, Goldman Sachs and Jefferies have assigned a value of more than Rs 300 to the new energy business. Nomura has ascribed the lowest value at Rs 182.\n",
    "\n",
    "The biggest trigger for this segment will be the commencement of the new energy giga complex in Gujarat. Following the announcement of fiscal third-quarter earnings, RIL chairman Mukesh Ambani said, “New Energy Giga Complex is all set to be commissioned in the second half of CY24.”\n",
    "\n",
    "The complex will include five giga factories for photovoltaic panels, fuel cell systems, green hydrogen, energy storage, and power electronics.\n",
    "\n",
    "Retail and Jio demerger\n",
    "“RIL is on a strong wicket for the next 3-5 years. The traditional E&P (exploration and production) and refining business will continue to generate cash flow, but the real value to RIL stock will come from new-age businesses,” according to a fund manager, who declined to be named as he owns the stock in his portfolio.\n",
    "\n",
    "At the current fair value, brokerages are ascribing Rs 1,300-1,400 to the retail business, almost half the entire stock price. With an overall store count of 18,774 stores, the retail business aims to reach every corner of India.\n",
    "\n",
    "Apart from that, the company has aggressively acquired companies across categories, from beverage maker Campa Cola to clothing company Ed-a-Mamma to online pharmacy Netmeds. It is also taking on the likes of Nykaa with the launch of Tira, an omnichannel beauty platform.\n",
    "\n",
    "A clutch of investors such as KKR, Abu Dhabi Investment Authority and Qatar Investment Authority put in fresh investments in Reliance Retail in 2023, boosting expectations of an IPO of the retail business soon.\n",
    "\n",
    "“Investments for Jio and Retail platforms have already been completed, and their B2C models are growing at around 20 percent. These two companies coming up for separate listing will create new market value for shareholders. That is the next trigger that investors will be looking out for. The stock is full of possibilities in every aspect,” Choksey said.\n",
    "\n",
    "For Jio, another big trigger is the bump up in ARPU (average revenue per user), which can be expected from a tariff hike post-election. Nomura expects ARPU to cross Rs 200 in FY25.\n",
    "\n",
    "Free cash flow\n",
    "Over the past few years, RIL was in aggressive capex mode for the retail segment and Jio’s 5G business. This is slowly tapering off. In Q3 FY24, the conglomerate’s capex stood at Rs 30,102 crore versus Rs 38,815 crore in the quarter-ago period.\n",
    "\n",
    "“Reliance has operated at material negative FCF (free cash flow) for the last three years, driven by spending in telecom. As that fades, with an EBITDA run-rate of $20 billion a year, Reliance is expected to deliver positive free cash flow for the next three years,” according to brokerage JPMorgan.\n",
    "\n",
    "Disclosure: Moneycontrol is a part of the Network18 group. Network18 is controlled by Independent Media Trust, of which Reliance Industries is the sole beneficiary.\n",
    "\n",
    "Disclaimer: The views and investment tips expressed by experts on Moneycontrol.com are their own and not those of the website or its management. Moneycontrol.com advises users to check with certified experts before taking any investment decisions.\n",
    "\"\"\"\n",
    "\n",
    "print(len(input_txt.split()))"
   ]
  },
  {
   "cell_type": "code",
   "execution_count": null,
   "metadata": {},
   "outputs": [],
   "source": []
  },
  {
   "cell_type": "markdown",
   "metadata": {},
   "source": [
    "### Prompting Strategies"
   ]
  },
  {
   "cell_type": "markdown",
   "metadata": {},
   "source": [
    "#### Zero-Shot Prompting"
   ]
  },
  {
   "cell_type": "code",
   "execution_count": 5,
   "metadata": {},
   "outputs": [],
   "source": [
    "from langchain_core.prompts import PromptTemplate\n",
    "template = \"\"\"Summarise the provided text strictly in {min_words} to {max_words} words.\n",
    "\n",
    "Text: {input_txt}\n",
    "\n",
    "Summary:\"\"\"\n",
    "prompt = PromptTemplate.from_template(template=template)"
   ]
  },
  {
   "cell_type": "code",
   "execution_count": 6,
   "metadata": {},
   "outputs": [
    {
     "name": "stdout",
     "output_type": "stream",
     "text": [
      "Analysts have valued Reliance Industries Ltd’s new energy business at approximately Rs 2.36 lakh crore (Rs 350 per share), surpassing the market capitalization of 25 companies within the Nifty index. This valuation reflects growing investor confidence in Reliance, driven by optimism surrounding its new energy unit, the anticipated demerger of its retail business, and increasing free cash flow as capital expenditure needs decline. Recently, RIL's stock reached a new high, achieving a market capitalization of Rs 20 lakh crore, following significant mutual fund investments.\n",
      "\n",
      "Deven Choksey, managing director of DRChoksey FinServ, noted that Reliance has established a strong position in the renewables sector, having developed a comprehensive ecosystem for green hydrogen production and solar energy. Major brokerages like Goldman Sachs and Jefferies have valued the new energy business at over Rs 300, while Nomura has set a lower estimate of Rs 182. The upcoming commissioning of the New Energy Giga Complex in Gujarat, which will house five giga factories, is expected to be a significant catalyst for this segment.\n",
      "\n",
      "In addition to its energy ventures, Reliance's retail business, valued at Rs 1,300-1,400, is expanding aggressively, with plans to reach every corner of India through its 18,774 stores. Recent investments from firms like KKR and the Abu Dhabi Investment Authority have heightened expectations for a potential IPO of the retail segment. Furthermore, Jio's anticipated tariff hikes could increase average revenue per user (ARPU) significantly by FY25. As capital expenditures decrease, analysts predict that Reliance will generate positive free cash flow over the next three years, enhancing its market value.\n",
      "258\n"
     ]
    }
   ],
   "source": [
    "summary = llm.invoke(prompt.format(min_words=295, max_words=305, input_txt=input_txt)).content\n",
    "print(summary)\n",
    "print(len(summary.split()))"
   ]
  },
  {
   "cell_type": "markdown",
   "metadata": {},
   "source": [
    "### Zero Shot Chain-of-Thought Prompting"
   ]
  },
  {
   "cell_type": "code",
   "execution_count": 7,
   "metadata": {},
   "outputs": [
    {
     "name": "stdout",
     "output_type": "stream",
     "text": [
      "Let's break it down step by step:\n",
      "\n",
      "1. You started with 10 apples.\n",
      "2. You gave 2 apples to the neighbor: \n",
      "   - 10 - 2 = 8 apples remaining.\n",
      "3. You gave 2 apples to the repairman: \n",
      "   - 8 - 2 = 6 apples remaining.\n",
      "4. You bought 5 more apples: \n",
      "   - 6 + 5 = 11 apples remaining.\n",
      "5. You ate 1 apple: \n",
      "   - 11 - 1 = 10 apples remaining.\n",
      "\n",
      "So, you have **10 apples** remaining.\n"
     ]
    }
   ],
   "source": [
    "prompt = \"\"\"I went to the market and bought 10 apples. \n",
    "I gave 2 apples to the neighbor and 2 to the repairman. \n",
    "I then went and bought 5 more apples and ate 1. \n",
    "How many apples did I remain with?\n",
    "\n",
    "Let's think step by step.\"\"\"\n",
    "print(llm.invoke(prompt).content)"
   ]
  },
  {
   "cell_type": "code",
   "execution_count": 8,
   "metadata": {},
   "outputs": [],
   "source": [
    "from langchain_core.prompts import PromptTemplate\n",
    "template = \"\"\"Summarise the provided text strictly in {min_words} to {max_words} words.\n",
    "\n",
    "Text: {input_txt}\n",
    "\n",
    "Summary: Let's think step by step and follow the instruction.\"\"\"\n",
    "prompt = PromptTemplate.from_template(template=template)"
   ]
  },
  {
   "cell_type": "code",
   "execution_count": 9,
   "metadata": {},
   "outputs": [
    {
     "name": "stdout",
     "output_type": "stream",
     "text": [
      "Analysts have valued Reliance Industries Ltd’s new energy business at Rs 2.36 lakh crore (Rs 350 per share), surpassing the market value of 25 companies in the Nifty index. Investor confidence has surged due to optimism surrounding the new energy unit, the anticipated demerger of the retail business, and increasing free cash flow as capital expenditure needs decline. RIL's stock recently reached a market capitalisation of Rs 20 lakh crore, with mutual funds purchasing shares worth Rs 3,300 crore in January. Analysts predict continued bullish sentiment towards RIL stock.\n",
      "\n",
      "Deven Choksey from DRChoksey FinServ noted that RIL has a significant lead in the renewables sector, having established a comprehensive ecosystem for green hydrogen production, solar panels, and solar farms. Brokerages like Goldman Sachs and Jefferies value the new energy business at over Rs 300, while Nomura values it at Rs 182. The new energy giga complex in Gujarat, set to be commissioned in the latter half of CY24, will include five giga factories focused on various renewable technologies.\n",
      "\n",
      "RIL's retail business, valued at Rs 1,300-1,400, aims to expand its 18,774 stores across India. The company has made strategic acquisitions and is launching an omnichannel beauty platform, Tira. Significant investments from firms like KKR and the Abu Dhabi Investment Authority have raised expectations for a retail IPO soon.\n",
      "\n",
      "As RIL's capital expenditure decreases, positive free cash flow is anticipated, with projections of an EBITDA run-rate of $20 billion annually. This shift is expected to enhance shareholder value, particularly with potential tariff hikes for Jio post-election.\n",
      "254\n"
     ]
    }
   ],
   "source": [
    "summary = llm.invoke(prompt.format(min_words=295, max_words=305, input_txt=input_txt)).content\n",
    "print(summary)\n",
    "print(len(summary.split()))"
   ]
  },
  {
   "cell_type": "code",
   "execution_count": null,
   "metadata": {},
   "outputs": [],
   "source": []
  }
 ],
 "metadata": {
  "kernelspec": {
   "display_name": ".venv",
   "language": "python",
   "name": "python3"
  },
  "language_info": {
   "codemirror_mode": {
    "name": "ipython",
    "version": 3
   },
   "file_extension": ".py",
   "mimetype": "text/x-python",
   "name": "python",
   "nbconvert_exporter": "python",
   "pygments_lexer": "ipython3",
   "version": "3.10.7"
  }
 },
 "nbformat": 4,
 "nbformat_minor": 2
}
