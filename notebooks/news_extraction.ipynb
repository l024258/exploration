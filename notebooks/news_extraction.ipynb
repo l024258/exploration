{
 "cells": [
  {
   "cell_type": "code",
   "execution_count": 1,
   "metadata": {},
   "outputs": [
    {
     "name": "stdout",
     "output_type": "stream",
     "text": [
      "/Users/L024258/lilly_work/github-copilot/exploration/notebooks/..\n"
     ]
    }
   ],
   "source": [
    "import os\n",
    "import sys\n",
    "\n",
    "# Get the current working directory and add the parent directory to the Python path\n",
    "current_working_directory = os.getcwd()\n",
    "print(os.path.join(current_working_directory, \"..\"))\n",
    "sys.path.append(os.path.join(current_working_directory, \"..\"))"
   ]
  },
  {
   "cell_type": "code",
   "execution_count": 2,
   "metadata": {},
   "outputs": [],
   "source": [
    "from decouple import AutoConfig\n",
    "config = AutoConfig(search_path='./../.env')\n",
    "\n",
    "os.environ[\"AZURE_OPENAI_API_KEY\"] = config('OPENAI_API_KEY')\n",
    "os.environ[\"AZURE_OPENAI_ENDPOINT\"] = config('AZURE_ENDPOINT')"
   ]
  },
  {
   "cell_type": "code",
   "execution_count": 3,
   "metadata": {},
   "outputs": [],
   "source": [
    "from langchain_community.document_loaders import WebBaseLoader\n",
    "import bs4\n",
    "\n",
    "urls = ('http://www.moneycontrol.com/news/business/markets/stock-radar-adani-enterprises-paytm-zomato-indigo-and-others-in-focus-12750205.html',)\n",
    "tag = ('div', 'p')\n",
    "tag_classes = ('content_wrapper arti-flow',)\n",
    "\n",
    "# Load, chunk and index the contents of the blog.\n",
    "loader = WebBaseLoader(\n",
    "    web_paths=urls,\n",
    "    bs_kwargs=dict(\n",
    "        parse_only=bs4.SoupStrainer(tag,\n",
    "            class_=tag_classes\n",
    "        )\n",
    "    ),\n",
    ")\n",
    "\n",
    "docs = loader.load()\n",
    "doc = docs[0]"
   ]
  },
  {
   "cell_type": "code",
   "execution_count": 4,
   "metadata": {},
   "outputs": [
    {
     "name": "stdout",
     "output_type": "stream",
     "text": [
      "                                                                                                \n",
      " Representative image   Here's a quick look at which stocks will be in focus in trade on Tuesday, from significant investments to major deals announced over the weekend:Adani Enterprises: Gautam Adani and companies from the Adani Group acquired over a 2 percent stake in Adani Enterprises through open market purchases from September 2023 to June 2024, as reported on June 14. Prior to these acquisitions, the combined voting capital held by the acquirers and the promoter group was 71.95 percent. Following the purchases, this stake increased by 2.02 percent, bringing their total voting rights to 73.95 percent.Story continues below AdvertisementRemove AdPaytm & Zomato: Paytm, also known as One97 Communications Ltd., is reportedly in advanced discussions with Zomato Ltd. to sell its movie and events ticketing business. This move is part of Paytm's strategy to revamp amid declining sales. While talks are progressing, there are other interested parties involved. The discussions are ongoing, and a final decision has not yet been reached, according to a Bloomberg report.Zydus: Zydus Lifesciences Ltd announced that the US FDA has classified its injectable manufacturing unit at Pharmez SEZ, Matoda, as Official Action Indicated (OAI) following a March inspection. This means the site requires further administrative sanctions and mandatory corrective actions.Brightcom Group: Brightcom Group announced it will publish annual results by July 31. Trading of its shares has been suspended on both BSE and NSE until the company complies with the NSE's master circular. The suspension was announced on May 15, but Brightcom Group expressed confidence in avoiding the suspension and promised to declare their Q3 and Q4 FY24 results by June 11. Related stories Gainers & losers: Stocks and sectors that moved the most on June 14M&M briefly overtakes Tata Motors, becomes second-largest car company on mcap; hits record highAdani Ports stock gains as Kotak Institutional Equities raises target price on continued outperforma... Biocon: Biocon reported that the US FDA issued three observations following a GMP inspection at its API manufacturing facility in Visakhapatnam, Andhra Pradesh, on June 14, 2024. The company will respond to the US FDA within the stipulated time frame.Jubilant Pharma: Jubilant Draximage Inc., a subsidiary of Jubilant Pharma Limited, announced a $50 million investment to expand its PET radiopharmacy network with six new locations across the U.S. These new facilities will be operational by FY 2027-28.TCS: Tata Consultancy Services received an adverse judgment from the U.S. District Court in Dallas, Texas, finding it liable for misappropriation of trade secrets under the Defend Trade Secrets Act of 2016. In the suit filed by Computer Sciences Corporation (CSC)/DXC Technology Company (DXC), the court ordered TCS to pay $56.15 million in compensatory damages and $112.30 million in exemplary damages.Story continues below AdvertisementRemove AdLodha: Lodha announced that the High Court issued its final order on the stamp duty payable for one of its projects in Wadala. The stamp duty was assessed at Rs 118.1 crore, which the company had already deposited. This concludes the litigation.Purvankara: Provident Housing Limited, a subsidiary of Puravankara Limited, has acquired additional land within its existing project \"Provident Adora De Goa\" situated at Dabolim, Goa. The acquisition, costing Rs. 90 crore, was financed through a loan from Piramal Enterprises Limited. The project has a potential Gross Development Value (GDV) of 259,000 sq ft at Rs. 7,000 per sq ft. It is registered with GOA RERA.Bharti Airtel: Bharti Airtel Ltd. announced it has prepaid Rs 7,904 crore to the Department of Telecom, clearing all deferred liabilities related to spectrum acquired in auctions from 2012 and 2015. These liabilities carried interest rates of up to 10 percent.Indus Tower: Vodafone Group may offload its entire $2.3 billion stake in Indus Towers through block deals next week. Vodafone's 21.5 percent stake, held through various entities, could be sold off entirely or partially, depending on demand. This move is part of Vodafone Idea's strategy to raise funds for its ambitious 5G rollout and 4G coverage expansion plans.Pidilite Industries: Pidilite Industries announced that its joint venture, ICA Pidilite Private Ltd, has entered into an agreement with Industria Chimica Adriatica SPA (ICA) for the licensing of specific UV technology.Central Bank of India: The Reserve Bank of India (RBI) imposed fines of Rs 1.45 crore on Central Bank of India and Rs 96.4 lakh on Sonali Bank PLC for non-compliance issues related to loans and advances, as well as Know Your Customer (KYC) norms.LIC: LIC clarified reports about entering the health insurance market via acquisition, stating no formal proposal has been initiated. The company explained that while it routinely evaluates various strategic opportunities, including inorganic growth options, no specific plans are currently in place. This includes considering strategic partnerships and investment opportunities, as mentioned in a regulatory filing.SpiceJet & IndiGo: In May, IndiGo's local passenger market share increased to 61.6 percent from 60.6 percent in April, according to the Directorate General of Civil Aviation. Meanwhile, Air India's share decreased to 13.7 percent from 14.2 percent, while Vistara held steady at 9.2 percent. AIX Connect saw a decline to 5.1 percent from 5.4 percent, and Alliance Air remained unchanged at 1.0 percent. SpiceJet's share dropped to 4.0 percent from 4.7 percent, whereas Akasa Air's share rose to 4.8 percent from 4.4 percent in April.Disclaimer: The views and investment tips expressed by investment experts on Moneycontrol.com are their own and not those of the website or its management. Moneycontrol.com advises users to check with certified experts before taking any investment decisions. \n"
     ]
    }
   ],
   "source": [
    "print(doc.page_content)"
   ]
  },
  {
   "cell_type": "code",
   "execution_count": 5,
   "metadata": {},
   "outputs": [],
   "source": [
    "from pydantic import BaseModel, Field\n",
    "class Overview(BaseModel):\n",
    "    \"\"\"Overview of a section of text.\"\"\"\n",
    "    summary: str = Field(description=\"Provide a concise summary of the content.\")\n",
    "    language: str = Field(description=\"Provide the language that the content is written in.\")\n",
    "    keywords: str = Field(description=\"Provide keywords related to the content.\")"
   ]
  },
  {
   "cell_type": "code",
   "execution_count": 6,
   "metadata": {},
   "outputs": [],
   "source": [
    "from langchain.prompts import ChatPromptTemplate\n",
    "prompt = ChatPromptTemplate.from_messages([\n",
    "    (\"system\", \"Extract the relevant information, if not explicitly provided do not guess. Extract partial info\"),\n",
    "    (\"human\", \"{input}\")\n",
    "])"
   ]
  },
  {
   "cell_type": "code",
   "execution_count": 7,
   "metadata": {},
   "outputs": [],
   "source": [
    "from langchain_openai import AzureChatOpenAI\n",
    "model = AzureChatOpenAI(\n",
    "                openai_api_version=config('AZURE_CHAT_OPENAI_API_VERSION'),\n",
    "                azure_deployment=config('AZURE_GPT4_CHAT_OPENAI_DEPLOYMENT'),\n",
    "                temperature=0,\n",
    "                max_tokens=1024\n",
    "            )"
   ]
  },
  {
   "cell_type": "code",
   "execution_count": 8,
   "metadata": {},
   "outputs": [
    {
     "name": "stderr",
     "output_type": "stream",
     "text": [
      "/Users/L024258/lilly_work/github-copilot/exploration/.venv/lib/python3.10/site-packages/langchain_core/_api/deprecation.py:117: LangChainDeprecationWarning: The function `convert_pydantic_to_openai_function` was deprecated in LangChain 0.1.16 and will be removed in 0.2.0. Use langchain_core.utils.function_calling.convert_to_openai_function() instead.\n",
      "  warn_deprecated(\n"
     ]
    }
   ],
   "source": [
    "from langchain.output_parsers.openai_functions import JsonOutputFunctionsParser\n",
    "from langchain.utils.openai_functions import convert_pydantic_to_openai_function\n",
    "\n",
    "overview_tagging_function = [\n",
    "    convert_pydantic_to_openai_function(Overview)\n",
    "]\n",
    "tagging_model = model.bind(\n",
    "    functions=overview_tagging_function,\n",
    "    function_call={\"name\":\"Overview\"}\n",
    ")\n",
    "tagging_chain = prompt | tagging_model | JsonOutputFunctionsParser()"
   ]
  },
  {
   "cell_type": "code",
   "execution_count": 9,
   "metadata": {},
   "outputs": [
    {
     "data": {
      "text/plain": [
       "{'summary': 'This article discusses various stocks that will be in focus in trade on Tuesday. It includes information about Adani Enterprises, Paytm & Zomato, Zydus, Brightcom Group, Biocon, Jubilant Pharma, TCS, Lodha, Purvankara, Bharti Airtel, Indus Tower, Pidilite Industries, Central Bank of India, LIC, and SpiceJet & IndiGo. The article provides updates on significant investments, major deals, and other relevant news related to these companies.',\n",
       " 'language': 'English',\n",
       " 'keywords': 'stocks, trade, Adani Enterprises, Paytm, Zomato, Zydus, Brightcom Group, Biocon, Jubilant Pharma, TCS, Lodha, Purvankara, Bharti Airtel, Indus Tower, Pidilite Industries, Central Bank of India, LIC, SpiceJet, IndiGo'}"
      ]
     },
     "execution_count": 9,
     "metadata": {},
     "output_type": "execute_result"
    }
   ],
   "source": [
    "tagging_chain.invoke({\"input\": doc})"
   ]
  },
  {
   "cell_type": "code",
   "execution_count": 10,
   "metadata": {},
   "outputs": [],
   "source": [
    "from typing import List\n",
    "\n",
    "class Tip(BaseModel):\n",
    "    \"\"\"Information about papers mentioned.\"\"\"\n",
    "    company_name: str = Field(description=\"The name of the company.\")\n",
    "    sentiment: str = Field(description=\"The sentiment associated with the company in the text.\")\n",
    "    signal: str = Field(description=\"Infer BUY or SELL signal associated with the company in the text.\")\n",
    "    signal_phrase: str = Field(description=\"The signal associated with the company in the text.\")\n",
    "\n",
    "\n",
    "class Info(BaseModel):\n",
    "    \"\"\"Information to extract\"\"\"\n",
    "    tips: List[Tip]"
   ]
  },
  {
   "cell_type": "code",
   "execution_count": null,
   "metadata": {},
   "outputs": [],
   "source": [
    "template = \"\"\"A news article will be passed to you. Extract from it all the company that are mentioned in this article. \n",
    "If no papers are mentioned that's fine - you don't need to extract any! Just return an empty list.\n",
    "Do not make up or guess ANY extra information. Only extract what exactly is in the text.\"\"\"\n",
    "\n",
    "prompt = ChatPromptTemplate.from_messages([\n",
    "    (\"system\", template),\n",
    "    (\"human\", \"{input}\")\n",
    "])"
   ]
  },
  {
   "cell_type": "code",
   "execution_count": 13,
   "metadata": {},
   "outputs": [],
   "source": [
    "from langchain.output_parsers.openai_functions import JsonKeyOutputFunctionsParser\n",
    "\n",
    "tip_extraction_function = [\n",
    "    convert_pydantic_to_openai_function(Info)\n",
    "]\n",
    "extraction_model = model.bind(\n",
    "    functions=tip_extraction_function, \n",
    "    function_call={\"name\":\"Info\"}\n",
    ")\n",
    "extraction_chain = prompt | extraction_model | JsonKeyOutputFunctionsParser(key_name=\"tips\")"
   ]
  },
  {
   "cell_type": "code",
   "execution_count": 14,
   "metadata": {},
   "outputs": [
    {
     "data": {
      "text/plain": [
       "[{'company_name': 'Adani Enterprises',\n",
       "  'sentiment': 'Positive',\n",
       "  'signal': 'Acquisition'},\n",
       " {'company_name': 'Paytm & Zomato',\n",
       "  'sentiment': 'Neutral',\n",
       "  'signal': 'Potential Sale'},\n",
       " {'company_name': 'Zydus Lifesciences Ltd',\n",
       "  'sentiment': 'Negative',\n",
       "  'signal': 'FDA Classification'},\n",
       " {'company_name': 'Brightcom Group',\n",
       "  'sentiment': 'Neutral',\n",
       "  'signal': 'Announcement of Results'},\n",
       " {'company_name': 'Biocon',\n",
       "  'sentiment': 'Neutral',\n",
       "  'signal': 'FDA Observations'},\n",
       " {'company_name': 'Jubilant Pharma',\n",
       "  'sentiment': 'Positive',\n",
       "  'signal': 'Investment'},\n",
       " {'company_name': 'Tata Consultancy Services',\n",
       "  'sentiment': 'Negative',\n",
       "  'signal': 'Adverse Judgment'},\n",
       " {'company_name': 'Lodha',\n",
       "  'sentiment': 'Neutral',\n",
       "  'signal': 'Final Order on Stamp Duty'},\n",
       " {'company_name': 'Purvankara',\n",
       "  'sentiment': 'Positive',\n",
       "  'signal': 'Land Acquisition'},\n",
       " {'company_name': 'Bharti Airtel Ltd.',\n",
       "  'sentiment': 'Positive',\n",
       "  'signal': 'Prepayment of Liabilities'},\n",
       " {'company_name': 'Indus Tower',\n",
       "  'sentiment': 'Neutral',\n",
       "  'signal': 'Potential Stake Sale'},\n",
       " {'company_name': 'Pidilite Industries',\n",
       "  'sentiment': 'Neutral',\n",
       "  'signal': 'Joint Venture Agreement'},\n",
       " {'company_name': 'Central Bank of India',\n",
       "  'sentiment': 'Negative',\n",
       "  'signal': 'RBI Fines'},\n",
       " {'company_name': 'LIC',\n",
       "  'sentiment': 'Neutral',\n",
       "  'signal': 'Clarification on Acquisition Reports'},\n",
       " {'company_name': 'SpiceJet & IndiGo',\n",
       "  'sentiment': 'Neutral',\n",
       "  'signal': 'Market Share Changes'}]"
      ]
     },
     "execution_count": 14,
     "metadata": {},
     "output_type": "execute_result"
    }
   ],
   "source": [
    "extraction_chain.invoke({\"input\": doc})"
   ]
  },
  {
   "cell_type": "code",
   "execution_count": null,
   "metadata": {},
   "outputs": [],
   "source": []
  }
 ],
 "metadata": {
  "kernelspec": {
   "display_name": ".venv",
   "language": "python",
   "name": "python3"
  },
  "language_info": {
   "codemirror_mode": {
    "name": "ipython",
    "version": 3
   },
   "file_extension": ".py",
   "mimetype": "text/x-python",
   "name": "python",
   "nbconvert_exporter": "python",
   "pygments_lexer": "ipython3",
   "version": "3.10.7"
  }
 },
 "nbformat": 4,
 "nbformat_minor": 2
}
