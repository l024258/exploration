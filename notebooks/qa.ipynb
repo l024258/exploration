{
 "cells": [
  {
   "cell_type": "code",
   "execution_count": null,
   "id": "c0522a2a-970a-4353-8e21-016309f14f05",
   "metadata": {
    "tags": []
   },
   "outputs": [],
   "source": [
    "import os\n",
    "import sys\n",
    "\n",
    "# Get the current working directory and add the parent directory to the Python path\n",
    "current_working_directory = os.getcwd()\n",
    "print(os.path.join(current_working_directory, \"..\"))\n",
    "sys.path.append(os.path.join(current_working_directory, \"..\"))"
   ]
  },
  {
   "cell_type": "code",
   "execution_count": null,
   "id": "b0e02c1d",
   "metadata": {},
   "outputs": [],
   "source": [
    "from decouple import AutoConfig\n",
    "config = AutoConfig(search_path='./../.env')"
   ]
  },
  {
   "cell_type": "code",
   "execution_count": null,
   "id": "99e68164",
   "metadata": {},
   "outputs": [],
   "source": [
    "os.environ[\"AZURE_OPENAI_API_KEY\"] = config('OPENAI_API_KEY')\n",
    "os.environ[\"AZURE_OPENAI_ENDPOINT\"] = config('AZURE_ENDPOINT')"
   ]
  },
  {
   "cell_type": "markdown",
   "id": "811b9dda",
   "metadata": {},
   "source": [
    "## Loading Generative Model"
   ]
  },
  {
   "cell_type": "code",
   "execution_count": null,
   "id": "bd11dc00",
   "metadata": {},
   "outputs": [],
   "source": [
    "from models.llm import LLM\n",
    "\n",
    "model = LLM('gpt-4')\n",
    "llm = model.load_model()"
   ]
  },
  {
   "cell_type": "markdown",
   "id": "e5e85fbf-210a-405e-90c1-dc971b0494c0",
   "metadata": {},
   "source": [
    "## Loading Embedding Model"
   ]
  },
  {
   "cell_type": "code",
   "execution_count": null,
   "id": "774a7f52-446c-4894-ac95-ee5c4417e435",
   "metadata": {},
   "outputs": [],
   "source": [
    "from models.em import EM\n",
    "model = EM('ada-2')\n",
    "embeddings = model.load_model()"
   ]
  },
  {
   "cell_type": "markdown",
   "id": "5895d025-c31a-4c3b-9209-8b5ddb172a8b",
   "metadata": {},
   "source": [
    "## Data Ingestion"
   ]
  },
  {
   "cell_type": "code",
   "execution_count": null,
   "id": "7a448565",
   "metadata": {},
   "outputs": [],
   "source": [
    "from langchain_community.document_loaders import WebBaseLoader\n",
    "import bs4\n",
    "\n",
    "# Load, chunk and index the contents of the blog.\n",
    "loader = WebBaseLoader(\n",
    "    web_paths=(\"https://www.moneycontrol.com/news/business/stocks/\",),\n",
    "    bs_kwargs=dict(\n",
    "        parse_only=bs4.SoupStrainer(\"li\",\n",
    "            class_=(\"clearfix\")\n",
    "        )\n",
    "    ),\n",
    ")\n",
    "\n",
    "docs = loader.load()"
   ]
  },
  {
   "cell_type": "code",
   "execution_count": null,
   "id": "f58b6207",
   "metadata": {},
   "outputs": [],
   "source": [
    "docs"
   ]
  },
  {
   "cell_type": "markdown",
   "id": "d1bf30a6-a76d-49e1-82a9-d310c12ff600",
   "metadata": {},
   "source": [
    "### Embedding and Storing Documents in Vector Store"
   ]
  },
  {
   "cell_type": "code",
   "execution_count": null,
   "id": "91e80687-3a15-434d-af70-e0874d7e09ed",
   "metadata": {
    "tags": []
   },
   "outputs": [],
   "source": [
    "from langchain.text_splitter import RecursiveCharacterTextSplitter\n",
    "\n",
    "text_splitter = RecursiveCharacterTextSplitter(\n",
    "    separators=[\" \\n\\n \", \" \\n \"],\n",
    "    chunk_size=400,\n",
    "    chunk_overlap=0,\n",
    "    length_function=len,\n",
    ")"
   ]
  },
  {
   "cell_type": "code",
   "execution_count": null,
   "id": "c93eace8",
   "metadata": {},
   "outputs": [],
   "source": [
    "docs"
   ]
  },
  {
   "cell_type": "code",
   "execution_count": null,
   "id": "6698b422-daae-429c-a0c7-8651111a69b8",
   "metadata": {
    "tags": []
   },
   "outputs": [],
   "source": [
    "from utils.vectordb import VectorDB\n",
    "vectorstore = VectorDB()\n",
    "db = vectorstore.create_and_dump(embeddings, text_splitter=text_splitter, inp_text=docs)"
   ]
  },
  {
   "cell_type": "code",
   "execution_count": null,
   "id": "bd9eb39b-6a1d-4508-99be-00dec13804e2",
   "metadata": {
    "tags": []
   },
   "outputs": [],
   "source": [
    "question = \"Which stocks increased despite promoters selling?\"\n",
    "top_k = db.similarity_search(question)\n",
    "top_k"
   ]
  },
  {
   "cell_type": "markdown",
   "id": "0c4b095a-a286-479b-b24b-3c564e333728",
   "metadata": {},
   "source": [
    "## Answer Generation"
   ]
  },
  {
   "cell_type": "code",
   "execution_count": null,
   "id": "bddb27a1",
   "metadata": {},
   "outputs": [],
   "source": [
    "from utils.vectordb import VectorDB\n",
    "\n",
    "vectorstore = VectorDB()\n",
    "retriever = vectorstore.load_retriever(embeddings)"
   ]
  },
  {
   "cell_type": "code",
   "execution_count": null,
   "id": "acbb4d5f-d7f9-4a50-be0f-84062af0d8f3",
   "metadata": {
    "tags": []
   },
   "outputs": [],
   "source": [
    "from langchain.chains import RetrievalQA\n",
    "from langchain.prompts import PromptTemplate\n",
    "\n",
    "template = \"\"\"Use the following pieces of context to answer the question at the end. \n",
    "If you don't know the answer, just say that you don't know, don't try to make up an answer. \n",
    "Use three sentences maximum and keep the answer as concise as possible. \n",
    "Always say \"thanks for asking!\" at the end of the answer. \n",
    "{context}\n",
    "Question: {question}\n",
    "Helpful Answer:\"\"\"\n",
    "QA_CHAIN_PROMPT = PromptTemplate.from_template(template)\n",
    "\n",
    "qa_chain = RetrievalQA.from_chain_type(\n",
    "    llm,\n",
    "    retriever=retriever, return_source_documents=True,\n",
    "    chain_type_kwargs={\"prompt\": QA_CHAIN_PROMPT}\n",
    ")\n"
   ]
  },
  {
   "cell_type": "code",
   "execution_count": null,
   "id": "222cf968",
   "metadata": {},
   "outputs": [],
   "source": [
    "question = \"Which company is discussed in the context?\"\n",
    "result = qa_chain.invoke({\"query\": question})\n",
    "result[\"result\"]"
   ]
  },
  {
   "cell_type": "code",
   "execution_count": null,
   "id": "b163f064",
   "metadata": {},
   "outputs": [],
   "source": [
    "result"
   ]
  },
  {
   "cell_type": "code",
   "execution_count": null,
   "id": "7ae4b9ba-109b-488e-a977-6c50daec21b3",
   "metadata": {},
   "outputs": [],
   "source": [
    "from langchain.chains import RetrievalQAWithSourcesChain\n",
    "from langchain.prompts import PromptTemplate\n",
    "\n",
    "template = \"\"\"Use the following pieces of context to answer the question at the end. \n",
    "If you don't know the answer, just say that you don't know, don't try to make up an answer. \n",
    "Use three sentences maximum and keep the answer as concise as possible. \n",
    "Always say \"thanks for asking!\" at the end of the answer. \n",
    "{summaries}\n",
    "Question: {question}\n",
    "Helpful Answer:\"\"\"\n",
    "QA_CHAIN_PROMPT = PromptTemplate.from_template(template)\n",
    "\n",
    "qa_src_chain = RetrievalQAWithSourcesChain.from_chain_type(\n",
    "    llm,\n",
    "    retriever=retriever, return_source_documents=True,\n",
    "    chain_type_kwargs={\"prompt\": QA_CHAIN_PROMPT}\n",
    ")"
   ]
  },
  {
   "cell_type": "code",
   "execution_count": null,
   "id": "916130fa",
   "metadata": {},
   "outputs": [],
   "source": [
    "question = \"Which stocks looks bullish?\"\n",
    "result = qa_src_chain.invoke({\"question\": question})\n",
    "result"
   ]
  },
  {
   "cell_type": "code",
   "execution_count": null,
   "id": "74eb74ab",
   "metadata": {},
   "outputs": [],
   "source": []
  }
 ],
 "metadata": {
  "kernelspec": {
   "display_name": ".venv",
   "language": "python",
   "name": "python3"
  },
  "language_info": {
   "codemirror_mode": {
    "name": "ipython",
    "version": 3
   },
   "file_extension": ".py",
   "mimetype": "text/x-python",
   "name": "python",
   "nbconvert_exporter": "python",
   "pygments_lexer": "ipython3",
   "version": "3.8.16"
  }
 },
 "nbformat": 4,
 "nbformat_minor": 5
}
