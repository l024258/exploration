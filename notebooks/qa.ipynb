{
 "cells": [
  {
   "cell_type": "code",
   "execution_count": 1,
   "id": "c0522a2a-970a-4353-8e21-016309f14f05",
   "metadata": {
    "tags": []
   },
   "outputs": [],
   "source": [
    "%%capture\n",
    "!pip install -r requirements.txt"
   ]
  },
  {
   "cell_type": "markdown",
   "id": "561725f8-ae97-4347-8e06-3cee6f7333a9",
   "metadata": {},
   "source": [
    "## Loading Answer Generation Model"
   ]
  },
  {
   "cell_type": "code",
   "execution_count": 2,
   "id": "e9633ab0-47bf-43c7-884d-a3b883ff9af2",
   "metadata": {
    "tags": []
   },
   "outputs": [],
   "source": [
    "import torch\n",
    "from transformers import pipeline\n",
    "from langchain.llms import HuggingFacePipeline"
   ]
  },
  {
   "cell_type": "code",
   "execution_count": 3,
   "id": "4c70e5cf-8f0d-4508-acf5-65f129d02fc0",
   "metadata": {
    "tags": []
   },
   "outputs": [],
   "source": [
    "generate_text = pipeline(model=\"databricks/dolly-v2-3b\", torch_dtype=torch.bfloat16,\n",
    "                         trust_remote_code=True, return_full_text=True, device_map=\"auto\")\n",
    "hf_pipeline = HuggingFacePipeline(pipeline=generate_text)"
   ]
  },
  {
   "cell_type": "markdown",
   "id": "e5e85fbf-210a-405e-90c1-dc971b0494c0",
   "metadata": {},
   "source": [
    "## Loading Embedding Model"
   ]
  },
  {
   "cell_type": "code",
   "execution_count": null,
   "id": "774a7f52-446c-4894-ac95-ee5c4417e435",
   "metadata": {},
   "outputs": [],
   "source": [
    "from langchain.embeddings import HuggingFaceEmbeddings\n",
    "\n",
    "model_name = \"intfloat/e5-base-v2\"\n",
    "model_kwargs = {'device': 'cuda'}\n",
    "encode_kwargs = {'normalize_embeddings': True}\n",
    "embeddings = HuggingFaceEmbeddings(\n",
    "    model_name=model_name,\n",
    "    model_kwargs=model_kwargs,\n",
    "    encode_kwargs=encode_kwargs\n",
    ")"
   ]
  },
  {
   "cell_type": "markdown",
   "id": "5895d025-c31a-4c3b-9209-8b5ddb172a8b",
   "metadata": {},
   "source": [
    "## Data Ingestion"
   ]
  },
  {
   "cell_type": "code",
   "execution_count": 4,
   "id": "0681d811-77d5-452d-8c67-63e661a6c201",
   "metadata": {
    "tags": []
   },
   "outputs": [],
   "source": [
    "from langchain.text_splitter import RecursiveCharacterTextSplitter\n",
    "\n",
    "text_splitter = RecursiveCharacterTextSplitter(chunk_size = 500, chunk_overlap = 0)"
   ]
  },
  {
   "cell_type": "code",
   "execution_count": 5,
   "id": "e14492e5-eb8b-4119-8b02-b4696feba72a",
   "metadata": {
    "tags": []
   },
   "outputs": [],
   "source": [
    "input_txt = \"\"\"\"NDIANAPOLIS, Aug. 14, 2023 /PRNewswire/ -- Eli Lilly and Company (NYSE: LLY) today announced the successful completion of its acquisition of Sigilon Therapeutics, Inc. (NASDAQ: SGTX). The acquisition allows Lilly to continue researching and developing encapsulated cell therapies, including SIG-002, for the treatment of type 1 diabetes.\n",
    "\n",
    "\"Make life better – that's the phrase that guides everything we do at Lilly,\" said Ruth Gimeno, Ph.D., group vice president, diabetes, obesity and cardiometabolic research at Lilly. \"We are excited to welcome our new colleagues from Sigilon to Lilly; together, we will strive to provide solutions for people living with type 1 diabetes that absolves them of constant disease management, and advance Sigilon's technology for patients.\"\n",
    "\n",
    "The Offer and the Merger\n",
    "\n",
    "As previously announced, Lilly and Sigilon entered into a Merger Agreement dated as of June 28, 2023, and pursuant thereto, on July 13, 2023, Lilly and a wholly owned subsidiary (\"Purchaser\") commenced a tender offer (the \"Offer\") to purchase all of the issued and outstanding shares (\"Shares\") of Sigilon's common stock in exchange for (a) $14.92 per Share, net to the stockholder in cash, without interest (the \"Cash Consideration\") and less any applicable tax withholding, plus (b) one non-tradable contingent value right (\"CVR\" and, together with the Cash Consideration, the \"Offer Price\") per Share, which represents the contractual right to receive contingent payments of up to $111.64 per Share in cash, net to the stockholder in cash, without interest and less any applicable tax withholding, upon the achievement of certain specified milestones. There can be no assurance that any payments will be made with respect to the CVRs. The Offer expired as scheduled on Aug. 9, 2023, with 1,718,493 Shares validly tendered and not validly withdrawn, which together with Shares previously owned by Lilly, represented 76.61% of the issued and outstanding Shares. In accordance with the terms of the Offer, Purchaser accepted for payment all such validly tendered and not validly withdrawn Shares.\n",
    "\n",
    "Following consummation of the Offer, on Aug. 11, 2023, Lilly completed its acquisition of Sigilon through the merger of Purchaser with and into Sigilon in accordance with Section 251(h) of the General Corporation Law of the State of Delaware), with Sigilon surviving such merger as a wholly owned subsidiary of Lilly. In connection with the merger, each Share issued and outstanding immediately prior to the effective time of the merger (other than (i) Shares held in Sigilon's treasury or owned by Sigilon, or owned by Lilly, Purchaser or any direct or indirect wholly-owned subsidiary of Lilly or Purchaser or (ii) Shares held by any stockholder of Sigilon who was entitled to demand and properly demanded appraisal for such Shares in accordance with Section 262 of the DGCL), including each Share that was subject to vesting or forfeiture restrictions granted pursuant to a Sigilon equity incentive plan, program or arrangement, was canceled and converted into the right to receive the Offer Price, without interest, less any applicable tax withholding. Sigilon's common stock has been delisted from the NASDAQ Global Select Market and will be deregistered under the Securities Exchange Act of 1934, as amended.\n",
    "\n",
    "For Lilly, Morgan, Lewis & Bockius LLP is acting as legal counsel. For Sigilon, Lazard is acting as lead financial advisor and Ropes & Gray LLP is acting as legal counsel. Canaccord Genuity also acted as financial advisor to Sigilon.\n",
    "\n",
    "About Lilly \n",
    "\n",
    "Lilly unites caring with discovery to create medicines that make life better for people around the world. We've been pioneering life-changing discoveries for nearly 150 years, and today our medicines help more than 51 million people across the globe. Harnessing the power of biotechnology, chemistry and genetic medicine, our scientists are urgently advancing new discoveries to solve some of the world's most significant health challenges, redefining diabetes care, treating obesity and curtailing its most devastating long-term effects, advancing the fight against Alzheimer's disease, providing solutions to some of the most debilitating immune system disorders, and transforming the most difficult-to-treat cancers into manageable diseases. With each step toward a healthier world, we're motivated by one thing: making life better for millions more people. That includes delivering innovative clinical trials that reflect the diversity of our world and working to ensure our medicines are accessible and affordable. To learn more, visit Lilly.com and Lilly.com/newsroom or follow us on Facebook, Instagram, Twitter and LinkedIn. C-LLY\n",
    "\n",
    "Cautionary Statement Regarding Forward-Looking Statements\n",
    "\n",
    "This press release contains forward-looking statements regarding Lilly's acquisition of Sigilon. All statements other than statements of historical fact are statements that could be deemed forward-looking statements. Forward-looking statements reflect current beliefs and expectations; however, these statements involve inherent risks and uncertainties, including with respect to drug research, development and commercialization, Lilly's evaluation of the accounting treatment of the acquisition and its impact on its financial results and financial guidance, the effects of the acquisition on Sigilon's relationships with key third parties or governmental entities, transaction costs, risks that the acquisition disrupts current plans and operations or adversely affects employee retention, and any legal proceedings that may be instituted related to the acquisition. Actual results could differ materially due to various factors, risks and uncertainties. Among other things, there can be no guarantee that Lilly will realize the expected benefits of the acquisition, that product candidates will be approved on anticipated timelines or at all, that any products, if approved, will be commercially successful, that all or any of the contingent consideration will become payable on the terms described herein or at all, that Lilly's financial results will be consistent with its expected 2023 guidance or that Lilly can reliably predict the impact of the acquisition on its financial results or financial guidance. For further discussion of these and other risks and uncertainties, see Lilly's most recent Form 10-K and Form 10-Q filings with the United States Securities and Exchange Commission. Except as required by law, Lilly does not undertake any duty to update forward-looking statements to reflect events after the date of this press release.\n",
    "\n",
    "\"\"\""
   ]
  },
  {
   "cell_type": "code",
   "execution_count": 6,
   "id": "231f367a-e5db-4fd1-8975-215850fb77f3",
   "metadata": {
    "tags": []
   },
   "outputs": [],
   "source": [
    "from langchain.docstore.document import Document\n",
    "\n",
    "texts = text_splitter.split_text(input_txt)\n",
    "docs = [Document(page_content=t) for t in texts]"
   ]
  },
  {
   "cell_type": "markdown",
   "id": "d1bf30a6-a76d-49e1-82a9-d310c12ff600",
   "metadata": {},
   "source": [
    "### Embedding and Storing Documents in Vector Store"
   ]
  },
  {
   "cell_type": "code",
   "execution_count": 8,
   "id": "91e80687-3a15-434d-af70-e0874d7e09ed",
   "metadata": {
    "tags": []
   },
   "outputs": [],
   "source": [
    "from langchain.vectorstores.faiss import FAISS\n",
    "import pickle\n",
    "\n",
    "## Generating Embedding and Dumping into FAISS vectorDB\n",
    "vectorstore = FAISS.from_documents(docs, embeddings)\n",
    "with open(\"vectorstore.pkl\", \"wb\") as f:\n",
    "    pickle.dump(vectorstore, f)"
   ]
  },
  {
   "cell_type": "code",
   "execution_count": 9,
   "id": "6698b422-daae-429c-a0c7-8651111a69b8",
   "metadata": {
    "tags": []
   },
   "outputs": [],
   "source": [
    "## Loading VectorDB\n",
    "from langchain.vectorstores.base import VectorStoreRetriever\n",
    "\n",
    "with open(\"vectorstore.pkl\", \"rb\") as f:\n",
    "    vectorstore = pickle.load(f)"
   ]
  },
  {
   "cell_type": "code",
   "execution_count": 10,
   "id": "bd9eb39b-6a1d-4508-99be-00dec13804e2",
   "metadata": {
    "tags": []
   },
   "outputs": [
    {
     "data": {
      "text/plain": [
       "[Document(page_content='\"NDIANAPOLIS, Aug. 14, 2023 /PRNewswire/ -- Eli Lilly and Company (NYSE: LLY) today announced the successful completion of its acquisition of Sigilon Therapeutics, Inc. (NASDAQ: SGTX). The acquisition allows Lilly to continue researching and developing encapsulated cell therapies, including SIG-002, for the treatment of type 1 diabetes.', metadata={}),\n",
       " Document(page_content=\"Following consummation of the Offer, on Aug. 11, 2023, Lilly completed its acquisition of Sigilon through the merger of Purchaser with and into Sigilon in accordance with Section 251(h) of the General Corporation Law of the State of Delaware), with Sigilon surviving such merger as a wholly owned subsidiary of Lilly. In connection with the merger, each Share issued and outstanding immediately prior to the effective time of the merger (other than (i) Shares held in Sigilon's treasury or owned by\", metadata={}),\n",
       " Document(page_content=\"This press release contains forward-looking statements regarding Lilly's acquisition of Sigilon. All statements other than statements of historical fact are statements that could be deemed forward-looking statements. Forward-looking statements reflect current beliefs and expectations; however, these statements involve inherent risks and uncertainties, including with respect to drug research, development and commercialization, Lilly's evaluation of the accounting treatment of the acquisition and\", metadata={}),\n",
       " Document(page_content='\"Make life better – that\\'s the phrase that guides everything we do at Lilly,\" said Ruth Gimeno, Ph.D., group vice president, diabetes, obesity and cardiometabolic research at Lilly. \"We are excited to welcome our new colleagues from Sigilon to Lilly; together, we will strive to provide solutions for people living with type 1 diabetes that absolves them of constant disease management, and advance Sigilon\\'s technology for patients.\"\\n\\nThe Offer and the Merger', metadata={})]"
      ]
     },
     "execution_count": 10,
     "metadata": {},
     "output_type": "execute_result"
    }
   ],
   "source": [
    "question = \"Which company Eli Lilly acquired?\"\n",
    "top_k = vectorstore.similarity_search(question)\n",
    "top_k"
   ]
  },
  {
   "cell_type": "markdown",
   "id": "0c4b095a-a286-479b-b24b-3c564e333728",
   "metadata": {},
   "source": [
    "## Answer Generation"
   ]
  },
  {
   "cell_type": "code",
   "execution_count": 11,
   "id": "4ef7c826-7dc0-41a8-8f47-948d1667814b",
   "metadata": {
    "tags": []
   },
   "outputs": [],
   "source": [
    "from langchain.prompts import PromptTemplate\n",
    "\n",
    "template = \"\"\"Use the following pieces of context to answer the question at the end. \n",
    "If you don't know the answer, just say that you don't know, don't try to make up an answer. \n",
    "Use three sentences maximum and keep the answer as concise as possible. \n",
    "Always say \"thanks for asking!\" at the end of the answer. \n",
    "{context}\n",
    "Question: {question}\n",
    "Helpful Answer:\"\"\"\n",
    "QA_CHAIN_PROMPT = PromptTemplate.from_template(template)"
   ]
  },
  {
   "cell_type": "code",
   "execution_count": 14,
   "id": "acbb4d5f-d7f9-4a50-be0f-84062af0d8f3",
   "metadata": {
    "tags": []
   },
   "outputs": [
    {
     "data": {
      "text/plain": [
       "'\\nEli Lilly acquired Sigilon Therapeutics, Inc.'"
      ]
     },
     "execution_count": 14,
     "metadata": {},
     "output_type": "execute_result"
    }
   ],
   "source": [
    "from langchain.chains import RetrievalQA\n",
    "\n",
    "qa_chain = RetrievalQA.from_chain_type(\n",
    "    hf_pipeline,\n",
    "    retriever=vectorstore.as_retriever(), return_source_documents=True,\n",
    "    chain_type_kwargs={\"prompt\": QA_CHAIN_PROMPT}\n",
    ")\n",
    "result = qa_chain({\"query\": question})\n",
    "result[\"result\"]"
   ]
  },
  {
   "cell_type": "code",
   "execution_count": null,
   "id": "7ae4b9ba-109b-488e-a977-6c50daec21b3",
   "metadata": {},
   "outputs": [],
   "source": []
  }
 ],
 "metadata": {
  "kernelspec": {
   "display_name": "conda_pytorch_p310",
   "language": "python",
   "name": "conda_pytorch_p310"
  },
  "language_info": {
   "codemirror_mode": {
    "name": "ipython",
    "version": 3
   },
   "file_extension": ".py",
   "mimetype": "text/x-python",
   "name": "python",
   "nbconvert_exporter": "python",
   "pygments_lexer": "ipython3",
   "version": "3.10.12"
  }
 },
 "nbformat": 4,
 "nbformat_minor": 5
}
