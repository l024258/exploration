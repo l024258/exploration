{
 "cells": [
  {
   "cell_type": "code",
   "execution_count": 1,
   "id": "c0522a2a-970a-4353-8e21-016309f14f05",
   "metadata": {
    "tags": []
   },
   "outputs": [
    {
     "name": "stdout",
     "output_type": "stream",
     "text": [
      "/Users/L024258/lilly_work/github-copilot/exploration/notebooks/..\n"
     ]
    }
   ],
   "source": [
    "import os\n",
    "import sys\n",
    "\n",
    "# Get the current working directory and add the parent directory to the Python path\n",
    "current_working_directory = os.getcwd()\n",
    "print(os.path.join(current_working_directory, \"..\"))\n",
    "sys.path.append(os.path.join(current_working_directory, \"..\"))"
   ]
  },
  {
   "cell_type": "code",
   "execution_count": 2,
   "id": "b0e02c1d",
   "metadata": {},
   "outputs": [],
   "source": [
    "from decouple import AutoConfig\n",
    "config = AutoConfig(search_path='./../.env')"
   ]
  },
  {
   "cell_type": "code",
   "execution_count": 3,
   "id": "99e68164",
   "metadata": {},
   "outputs": [],
   "source": [
    "os.environ[\"AZURE_OPENAI_API_KEY\"] = config('OPENAI_API_KEY')\n",
    "os.environ[\"AZURE_OPENAI_ENDPOINT\"] = config('AZURE_ENDPOINT')\n",
    "os.environ[\"COHERE_API_KEY\"] = config('COHERE_TOKEN')"
   ]
  },
  {
   "cell_type": "markdown",
   "id": "811b9dda",
   "metadata": {},
   "source": [
    "## Loading Generative Model"
   ]
  },
  {
   "cell_type": "code",
   "execution_count": 4,
   "id": "bd11dc00",
   "metadata": {},
   "outputs": [
    {
     "name": "stderr",
     "output_type": "stream",
     "text": [
      "/Users/L024258/lilly_work/github-copilot/exploration/.venv/lib/python3.8/site-packages/tqdm/auto.py:21: TqdmWarning: IProgress not found. Please update jupyter and ipywidgets. See https://ipywidgets.readthedocs.io/en/stable/user_install.html\n",
      "  from .autonotebook import tqdm as notebook_tqdm\n"
     ]
    }
   ],
   "source": [
    "from models.llm import LLM\n",
    "\n",
    "model = LLM('gpt-4')\n",
    "llm = model.load_model()"
   ]
  },
  {
   "cell_type": "markdown",
   "id": "e5e85fbf-210a-405e-90c1-dc971b0494c0",
   "metadata": {},
   "source": [
    "## Loading Embedding Model"
   ]
  },
  {
   "cell_type": "code",
   "execution_count": 5,
   "id": "774a7f52-446c-4894-ac95-ee5c4417e435",
   "metadata": {},
   "outputs": [],
   "source": [
    "from models.em import EM\n",
    "model = EM('ada-2')\n",
    "embeddings = model.load_model()"
   ]
  },
  {
   "cell_type": "markdown",
   "id": "5895d025-c31a-4c3b-9209-8b5ddb172a8b",
   "metadata": {},
   "source": [
    "## Data Ingestion"
   ]
  },
  {
   "cell_type": "code",
   "execution_count": 6,
   "id": "7a448565",
   "metadata": {},
   "outputs": [],
   "source": [
    "from langchain_community.document_loaders import WebBaseLoader\n",
    "import bs4\n",
    "\n",
    "# Load, chunk and index the contents of the blog.\n",
    "loader = WebBaseLoader(\n",
    "    web_paths=(\"https://www.moneycontrol.com/news/business/stocks/\",),\n",
    "    bs_kwargs=dict(\n",
    "        parse_only=bs4.SoupStrainer(\"li\",\n",
    "            class_=(\"clearfix\")\n",
    "        )\n",
    "    ),\n",
    ")\n",
    "\n",
    "docs = loader.load()"
   ]
  },
  {
   "cell_type": "code",
   "execution_count": 7,
   "id": "f58b6207",
   "metadata": {},
   "outputs": [
    {
     "data": {
      "text/plain": [
       "[Document(page_content=\"   February 17, 2024 11:06 AM IST  Business in the Week Ahead (February 19-23, 2024) RBI and the US Federal Reserve will release minutes of the latest monetary policy meetings. Flash PMIs, bank loan and deposits are other key data points to track \\n  February 17, 2024 09:47 AM IST  Market bounces back, gains 1% amid volatility; rupee flat On the sectoral front, BSE Auto index rose 5 percent, BSE Oil & Gas index gained 3 percent, BSE Energy index rose 3 percent. \\n  February 17, 2024 03:27 PM IST  Nifty closes the week above 22,000; smallcaps give double digit return despite index ending flat Nifty need to sustain above 22,150 to end the consolidation and march towards the 22,500+ zone else profit taking may resume, says expert. \\n  February 17, 2024 09:42 AM IST  Wall Street slides as hot producer price data crimps rate cut bets The S&P 500 lost 24.18 points, or 0.49%, to end at 5,005.15 points, while the Nasdaq Composite lost 132.38 points, or 0.83%, to 15,775.65. The Dow Jones Industrial Average fell 149.48 points, or 0.39%, to 38,623.64. \\n  February 17, 2024 06:52 AM IST  Fast indication of movement using Option Chain: Shubham Agarwal The change in price of Up in Call means that there is enough upward price action that has overtaken the impact of fall in premium due to passage of time. \\n  February 16, 2024 10:21 PM IST  Bulk deals: Government of Singapore buys Rs 578 cr worth of stake in Data Patterns Other buyers in Data Patterns were Kotak Mahindra Mutual Fund and Mirae Asset Mutual Fund \\n  February 16, 2024 04:09 PM IST  Gainers and Losers: 10 stocks that moved the most on February 16 Among sectors, auto was the biggest gainer being up more than 2 percent while Nifty Energy and PSU Bank ended up in the red. \\n  February 16, 2024 04:57 PM IST  Promoter selling no longer a red flag; these 10 stocks have doubled despite stake sale Stocks of HDFC Asset Management Company, TD Power System, Jindal Stainless and many others have doubled in the last one year despite promoters offloading anywhere between 9 percent and 24 percent \\n  February 16, 2024 04:26 PM IST  Taking Stock: Market rally extends on 4th day; Nifty above 22,000, Sensex up 376 points For the week, BSE Sensex and Nifty50 indices gained 1 percent each \\n  February 16, 2024 03:38 PM IST  Sensex gains led by auto, realty stocks; Nifty may hit new all-time high if global markets keep steady Though analysts expect rally to extend further in the absence of any major triggers overseas, they caution investors against overstretched valuations \\n  February 16, 2024 02:44 PM IST  Reliance’s new energy biz value greater than half of Nifty 50 stocks Reliance Industries' share price has touched a new high, surpassing a market capitalisation milestone of Rs 20 lakh crore earlier this week after remaining within a range for the past three years \\n  February 16, 2024 02:27 PM IST  Pharma stocks make strong moves on robust results, positive outlook; Natco zooms 14% Shares of Natco, Glenmark and Aurobindo Pharma are up 14, 10 and 2 percent respectively in the session. \\n  February 16, 2024 02:42 PM IST  Buy Lumax Auto Technologies; target of Rs 540: Sharekhan Sharekhan is bullish on Lumax Auto Technologies has recommended buy rating on the stock with a target price of Rs 540 in its research report dated February 15, 2024. \\n  February 16, 2024 01:27 PM IST  Buy NMDC; target of Rs 290: Sharekhan Sharekhan is bullish on NMDC has recommended buy rating on the stock with a target price of Rs 290 in its research report dated February 15, 2024. \\n  February 16, 2024 01:27 PM IST  Tata Motors stock gains 3% on launch of new of CVs in South Africa The Ultra T.9 and Ultra T.14 trucks are outfitted with parabolic suspension, enhancing durability and operations \\n  February 16, 2024 01:16 PM IST  LIVE: Sugar prices down 5% this week | Are we staring at a sugar deficit? | Commodities Corner Sugar prices may have seen a 10% uptick in 2024 till date however, the last week has seen a 5% slump in sugar prices. What's causing this pain. While India is the 2nd largest producer of Sugar and is likely to drive growth, it is not included in the global market. Manisha Gupta discusses the prospects of sugar prices going ahead with Rahil Shaikh MD, MEIR Commodities on Commodities Corner \\n  February 16, 2024 02:42 PM IST  Buy Hampton Sky Realty; target of Rs 70: Profitmart Profitmart is bullish on Hampton Sky Realty has recommended buy rating on the stock with a target price of Rs 70 in its research report dated February 16, 2024. \\n  February 16, 2024 02:27 PM IST  Subscribe to Kalahridhaan Trendz Ltd: Profitmart Profitmart, has come out with its report on Kalahridhaan Trendz Ltd. The research firm has recommended to “ Subscribe ” the ipo in its research report as on February 16 2024. \\n  February 16, 2024 01:27 PM IST  As Nifty touches 22,000, here are 3 breakout stocks worth looking at Auto and healthcare indices were up a percent each, while the power index was down 0.3 percent in the afternoon trade \\n  February 16, 2024 01:26 PM IST  Subscribe to Esconet Technologies Ltd: Profitmart Profitmart, has come out with its report on Esconet Technologies Ltd. The research firm has recommended to “ Subscribe ” the ipo in its research report as on February 16 2024. \\n  February 16, 2024 01:26 PM IST  Glenmark Pharma zooms 10% on positive management commentary Glenmark Pharma aims to turn cash positive by the end of the current fiscal. The drugmaker also expects respiratory and injectables to be the major contributors in FY25 \\n  February 16, 2024 12:19 PM IST  Mid-day Mood | Nifty, Sensex inch higher on buying in auto stocks, focus on\\xa0fundamentals Nifty is now close to its all-time high, we expect it to surpass this level and touch new highs, said Siddhartha Khemka, Head - Retail Research, Motilal Oswal Financial Services \\n  February 16, 2024 06:25 PM IST  M&M shares rise 5% to 52-week high on supply deal with Volkswagen Mahindra will be the first external partner to use the groundbreaking unified cell concept, the core element of Volkswagens battery strategy. \\n  February 16, 2024 11:33 AM IST  Temasek divests 1.1% stake in Medanta for Rs 395 crore: Report Temasek invested about Rs 700 crore in January 2015 to acquire almost 18% stake in the hospital chain \\n  February 16, 2024 11:59 AM IST  Entero Healthcare lists with 2.3% discount: Should you buy more, hold, or sell the stock? Entero Healthcare Solutions IPO: The debut missed analysts' expectations of a 2 percent premium as the IPO had failed to attract investors with the issue getting subscribed only 1.53 times \\n\", metadata={'source': 'https://www.moneycontrol.com/news/business/stocks/'})]"
      ]
     },
     "execution_count": 7,
     "metadata": {},
     "output_type": "execute_result"
    }
   ],
   "source": [
    "docs"
   ]
  },
  {
   "cell_type": "markdown",
   "id": "d1bf30a6-a76d-49e1-82a9-d310c12ff600",
   "metadata": {},
   "source": [
    "### Embedding and Storing Documents in Vector Store"
   ]
  },
  {
   "cell_type": "code",
   "execution_count": 8,
   "id": "91e80687-3a15-434d-af70-e0874d7e09ed",
   "metadata": {
    "tags": []
   },
   "outputs": [],
   "source": [
    "from langchain.text_splitter import RecursiveCharacterTextSplitter\n",
    "\n",
    "text_splitter = RecursiveCharacterTextSplitter(\n",
    "    separators=[\" \\n\\n \", \" \\n \"],\n",
    "    chunk_size=400,\n",
    "    chunk_overlap=0,\n",
    "    length_function=len,\n",
    ")"
   ]
  },
  {
   "cell_type": "code",
   "execution_count": 9,
   "id": "6698b422-daae-429c-a0c7-8651111a69b8",
   "metadata": {
    "tags": []
   },
   "outputs": [],
   "source": [
    "from utils.vectordb import VectorDB\n",
    "vectorstore = VectorDB()\n",
    "db = vectorstore.create_and_dump(embeddings, text_splitter=text_splitter, inp_text=docs)"
   ]
  },
  {
   "cell_type": "code",
   "execution_count": 10,
   "id": "bd9eb39b-6a1d-4508-99be-00dec13804e2",
   "metadata": {
    "tags": []
   },
   "outputs": [
    {
     "data": {
      "text/plain": [
       "[Document(page_content='February 16, 2024 04:57 PM IST  Promoter selling no longer a red flag; these 10 stocks have doubled despite stake sale Stocks of HDFC Asset Management Company, TD Power System, Jindal Stainless and many others have doubled in the last one year despite promoters offloading anywhere between 9 percent and 24 percent', metadata={'source': 'https://www.moneycontrol.com/news/business/stocks/'}),\n",
       " Document(page_content='February 16, 2024 04:09 PM IST  Gainers and Losers: 10 stocks that moved the most on February 16 Among sectors, auto was the biggest gainer being up more than 2 percent while Nifty Energy and PSU Bank ended up in the red.', metadata={'source': 'https://www.moneycontrol.com/news/business/stocks/'}),\n",
       " Document(page_content='February 16, 2024 02:27 PM IST  Pharma stocks make strong moves on robust results, positive outlook; Natco zooms 14% Shares of Natco, Glenmark and Aurobindo Pharma are up 14, 10 and 2 percent respectively in the session.', metadata={'source': 'https://www.moneycontrol.com/news/business/stocks/'}),\n",
       " Document(page_content='February 17, 2024 09:47 AM IST  Market bounces back, gains 1% amid volatility; rupee flat On the sectoral front, BSE Auto index rose 5 percent, BSE Oil & Gas index gained 3 percent, BSE Energy index rose 3 percent.', metadata={'source': 'https://www.moneycontrol.com/news/business/stocks/'})]"
      ]
     },
     "execution_count": 10,
     "metadata": {},
     "output_type": "execute_result"
    }
   ],
   "source": [
    "question = \"Which stocks increased despite promoters selling?\"\n",
    "top_k = db.similarity_search(question)\n",
    "top_k"
   ]
  },
  {
   "cell_type": "markdown",
   "id": "0c4b095a-a286-479b-b24b-3c564e333728",
   "metadata": {},
   "source": [
    "## Answer Generation"
   ]
  },
  {
   "cell_type": "code",
   "execution_count": 11,
   "id": "bddb27a1",
   "metadata": {},
   "outputs": [],
   "source": [
    "from utils.vectordb import VectorDB\n",
    "\n",
    "vectorstore = VectorDB()\n",
    "retriever = vectorstore.load_retriever(embeddings, top_k=10, re_ranker='cohere')"
   ]
  },
  {
   "cell_type": "code",
   "execution_count": 16,
   "id": "acbb4d5f-d7f9-4a50-be0f-84062af0d8f3",
   "metadata": {
    "tags": []
   },
   "outputs": [],
   "source": [
    "from langchain.chains import RetrievalQA\n",
    "from langchain.prompts import PromptTemplate\n",
    "\n",
    "template = \"\"\"You are a financial news assistant. Use the following pieces of news to answer the question at the end.  \n",
    "If you don't know the answer, just say that you don't know, don't try to make up an answer. \n",
    "Use three sentences maximum and keep the answer as concise as possible. \n",
    "Always say \"thanks for asking!\" at the end of the answer. \n",
    "{context}\n",
    "Question: {question}\n",
    "Helpful Answer:\"\"\"\n",
    "QA_CHAIN_PROMPT = PromptTemplate.from_template(template)\n",
    "\n",
    "qa_chain = RetrievalQA.from_chain_type(\n",
    "    llm,\n",
    "    retriever=retriever, return_source_documents=True,\n",
    "    chain_type_kwargs={\"prompt\": QA_CHAIN_PROMPT},\n",
    ")\n"
   ]
  },
  {
   "cell_type": "code",
   "execution_count": 17,
   "id": "222cf968",
   "metadata": {},
   "outputs": [
    {
     "name": "stdout",
     "output_type": "stream",
     "text": [
      "On February 17, 2024, the news included the upcoming release of RBI and US Federal Reserve monetary policy meeting minutes, flash PMIs, bank loan, and deposit data. Wall Street experienced a slide with the S&P 500, Nasdaq Composite, and Dow Jones Industrial Average all losing points. The market bounced back with gains in BSE Auto, BSE Oil & Gas, and BSE Energy indices, while the rupee remained flat. Thanks for asking!\n"
     ]
    }
   ],
   "source": [
    "question = \"List all the news for February 17 2024?\"\n",
    "result = qa_chain.invoke({\"query\": question})\n",
    "print(result[\"result\"])"
   ]
  },
  {
   "cell_type": "code",
   "execution_count": 18,
   "id": "7ae4b9ba-109b-488e-a977-6c50daec21b3",
   "metadata": {},
   "outputs": [],
   "source": [
    "from langchain.chains import RetrievalQAWithSourcesChain\n",
    "from langchain.prompts import PromptTemplate\n",
    "\n",
    "template = \"\"\"You are a financial news assistant. Use the following pieces of news to answer the question at the end. \n",
    "If you don't know the answer, just say that you don't know, don't try to make up an answer. \n",
    "Use three sentences maximum and keep the answer as concise as possible. \n",
    "Always say \"thanks for asking!\" at the end of the answer. \n",
    "{summaries}\n",
    "Question: {question}\n",
    "Helpful Answer:\"\"\"\n",
    "QA_CHAIN_PROMPT = PromptTemplate.from_template(template)\n",
    "\n",
    "qa_src_chain = RetrievalQAWithSourcesChain.from_chain_type(\n",
    "    llm,\n",
    "    retriever=retriever, return_source_documents=True,\n",
    "    chain_type_kwargs={\"prompt\": QA_CHAIN_PROMPT},\n",
    ")"
   ]
  },
  {
   "cell_type": "code",
   "execution_count": 19,
   "id": "916130fa",
   "metadata": {},
   "outputs": [
    {
     "data": {
      "text/plain": [
       "{'question': 'List all the news latest news',\n",
       " 'answer': 'The latest news includes stocks of HDFC Asset Management Company, TD Power System, and Jindal Stainless doubling despite promoters offloading stakes; Tata Motors stock gaining 3% on the launch of new CVs in South Africa; and Sensex gains led by auto and realty stocks, with Nifty potentially hitting a new all-time high if global markets remain steady. Thanks for asking!',\n",
       " 'sources': '',\n",
       " 'source_documents': [Document(page_content='February 16, 2024 04:57 PM IST  Promoter selling no longer a red flag; these 10 stocks have doubled despite stake sale Stocks of HDFC Asset Management Company, TD Power System, Jindal Stainless and many others have doubled in the last one year despite promoters offloading anywhere between 9 percent and 24 percent', metadata={'source': 'https://www.moneycontrol.com/news/business/stocks/', 'relevance_score': 0.19102567}),\n",
       "  Document(page_content='February 16, 2024 01:27 PM IST  Tata Motors stock gains 3% on launch of new of CVs in South Africa The Ultra T.9 and Ultra T.14 trucks are outfitted with parabolic suspension, enhancing durability and operations', metadata={'source': 'https://www.moneycontrol.com/news/business/stocks/', 'relevance_score': 0.13857833}),\n",
       "  Document(page_content='February 16, 2024 03:38 PM IST  Sensex gains led by auto, realty stocks; Nifty may hit new all-time high if global markets keep steady Though analysts expect rally to extend further in the absence of any major triggers overseas, they caution investors against overstretched valuations', metadata={'source': 'https://www.moneycontrol.com/news/business/stocks/', 'relevance_score': 0.13341522})]}"
      ]
     },
     "execution_count": 19,
     "metadata": {},
     "output_type": "execute_result"
    }
   ],
   "source": [
    "question = \"List all the news latest news\"\n",
    "result = qa_src_chain.invoke({\"question\": question})\n",
    "result"
   ]
  },
  {
   "cell_type": "code",
   "execution_count": null,
   "id": "d3bbee6c",
   "metadata": {},
   "outputs": [],
   "source": []
  }
 ],
 "metadata": {
  "kernelspec": {
   "display_name": ".venv",
   "language": "python",
   "name": "python3"
  },
  "language_info": {
   "codemirror_mode": {
    "name": "ipython",
    "version": 3
   },
   "file_extension": ".py",
   "mimetype": "text/x-python",
   "name": "python",
   "nbconvert_exporter": "python",
   "pygments_lexer": "ipython3",
   "version": "3.8.16"
  }
 },
 "nbformat": 4,
 "nbformat_minor": 5
}
