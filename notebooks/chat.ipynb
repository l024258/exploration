{
 "cells": [
  {
   "cell_type": "code",
   "execution_count": null,
   "id": "b97d9b37",
   "metadata": {},
   "outputs": [],
   "source": [
    "import os\n",
    "import sys\n",
    "\n",
    "# Get the current working directory and add the parent directory to the Python path\n",
    "current_working_directory = os.getcwd()\n",
    "print(os.path.join(current_working_directory, \"..\"))\n",
    "sys.path.append(os.path.join(current_working_directory, \"..\"))"
   ]
  },
  {
   "cell_type": "code",
   "execution_count": null,
   "id": "06e2cff7-b542-4e36-af2c-e741f18ea986",
   "metadata": {
    "tags": []
   },
   "outputs": [],
   "source": [
    "from decouple import AutoConfig\n",
    "config = AutoConfig(search_path='./../.env')"
   ]
  },
  {
   "cell_type": "code",
   "execution_count": null,
   "id": "56b3cbbf",
   "metadata": {},
   "outputs": [],
   "source": [
    "os.environ[\"AZURE_OPENAI_API_KEY\"] = config('OPENAI_API_KEY')\n",
    "os.environ[\"AZURE_OPENAI_ENDPOINT\"] = config('AZURE_ENDPOINT')"
   ]
  },
  {
   "cell_type": "markdown",
   "id": "25096f4f-6dab-45a0-a92b-483209e28212",
   "metadata": {},
   "source": [
    "## Loading Embedding Model"
   ]
  },
  {
   "cell_type": "code",
   "execution_count": null,
   "id": "38a7bdbf-3bf7-418b-81da-d71774f76df4",
   "metadata": {
    "tags": []
   },
   "outputs": [],
   "source": [
    "from models.em import EM\n",
    "model = EM('ada-2')\n",
    "embeddings = model.load_model()"
   ]
  },
  {
   "cell_type": "markdown",
   "id": "9e84baf7-4e0c-4eef-8594-b6fef5e822ea",
   "metadata": {},
   "source": [
    "## Data Ingestion"
   ]
  },
  {
   "cell_type": "markdown",
   "id": "506a05b6",
   "metadata": {},
   "source": [
    "### Chroma VectorDB"
   ]
  },
  {
   "cell_type": "code",
   "execution_count": null,
   "id": "277298de-cb1d-4c01-9163-f6e2ff669119",
   "metadata": {
    "tags": []
   },
   "outputs": [],
   "source": [
    "input_txt = \"\"\"\"Open Letter Regarding the Use of Mounjaro® (tirzepatide) and Zepbound™ (tirzepatide)\n",
    "January 4, 2024\n",
    "Download PDF\n",
    "Open Letter Regarding Use of Lilly’s FDA-Approved Tirzepatide Medicines\n",
    "\n",
    "Lilly is committed to meeting the needs of people affected by diabetes and obesity with treatment options that change the way healthcare providers can treat these diseases and offer breakthroughs for patients. The development and approvals of Mounjaro® and Zepbound™ demonstrate our continued commitment to this mission.\n",
    "\n",
    "Patient safety is Lilly’s top priority, and we actively engage in monitoring, evaluating, and reporting safety information for all our medicines. We are aware of certain practices relating to our tirzepatide medicines that we wish to address publicly to ensure that our medicines are prescribed and used safely.\n",
    "\n",
    "Lilly Stands Against the Use of its Medicines for Cosmetic Weight Loss: Mounjaro and Zepbound are indicated for the treatment of serious diseases; they are not approved for – and should not be used for – cosmetic weight loss.\n",
    "\n",
    "Lilly does not promote or encourage use of Mounjaro, Zepbound, or any Lilly medicines outside of a medicine’s FDA-approved indication.\n",
    "Mounjaro is indicated in addition to diet and exercise to improve glycemic control in adults with type 2 diabetes mellitus.\n",
    "Zepbound is indicated for adults with obesity (with a BMI of 30 kg/m2 or greater) or those who are overweight (with a BMI ≥ 27 kg/m2 or greater) and also have at least one weight-related additional condition, such as hypertension (high blood pressure), dyslipidemia (high cholesterol or fats in blood), type 2 diabetes mellitus, obstructive sleep apnea or cardiovascular disease, to lose weight. It should be used with a reduced-calorie diet and increased physical activity.\n",
    "Mounjaro and Zepbound should only be used when prescribed by a licensed healthcare professional. Patients should consult with their healthcare providers to determine whether Mounjaro or Zepbound is right for them. Mounjaro and Zepbound have not been studied in patients with severe gastrointestinal disease, including severe gastroparesis, and are therefore not recommended in these patients.\n",
    "Healthcare providers should review the Instructions for Use that accompany Mounjaro and Zepbound and the important information about Mounjaro’s and Zepbound’s risks contained in the Full Prescribing Information and Medication Guide for both medications. Please click to access the full Prescribing Information and Medication Guide for Mounjaro. Please click to access the full Prescribing Information and Medication Guide for Zepbound.\n",
    "If a healthcare provider has questions about the use of Lilly’s tirzepatide medicines, they are encouraged to chat directly with a Lilly Medical Professional here or contact Lilly at 1-800-LillyRx (1-800-545-5979).\n",
    "There are Safety Risks of Using Compounded Tirzepatide: Compounding pharmacies mix and combine ingredients to make customized medications based on a specific prescription (e.g., due to allergies to an ingredient). Products claiming to contain tirzepatide, Mounjaro, or Zepbound that are made and/or distributed by compounding pharmacies have not been reviewed by the FDA or global regulatory agencies for safety, quality, or efficacy; are not FDA-approved or approved by global regulatory agencies like Mounjaro and Zepbound; and may expose patients to potentially serious health risks.\n",
    "\n",
    "Mounjaro and Zepbound are only available from and manufactured by Lilly, and they are only available for sale in pre-filled single-dose pens or single-dose vials. Lilly is the only approved supplier of FDA-approved tirzepatide medicines in the United States.\n",
    "Tirzepatide products not manufactured by Lilly may expose patients to potentially serious health risks. Products falsely claiming to be Mounjaro, Zepbound, or tirzepatide have not undergone FDA review or review by global regulatory agencies for safety, effectiveness, and quality, and are not FDA-approved like Mounjaro and Zepbound.\n",
    "Lilly is extremely concerned that some of the compounded tirzepatide that Lilly has tested has contained high amounts of impurities, and, in at least one instance, was actually nothing more than sugar alcohol.\n",
    "Lilly has commenced legal action against certain medical spas, wellness centers, compounding pharmacies making and/or selling products claiming to contain the active pharmaceutical ingredient (API) for tirzepatide. Lilly also has commenced legal action against importers and distributors of these products, as well as against other counterfeit sources that are fraudulently claiming to sell Mounjaro, Zepbound, or tirzepatide medicines.\n",
    "Our goal in filing these lawsuits is to protect patients from the unlawful marketing, sale, distribution, and importation of non-FDA approved compounded tirzepatide products. Lilly will continue to consider all available legal remedies against these actors.  \n",
    "If a patient is concerned that they may have received or used compounded or counterfeit tirzepatide, the patient should contact their healthcare provider to discuss their concerns and options. Patients and healthcare providers are encouraged to report counterfeit (“fake”) Mounjaro and Zepbound products to the Lilly Answers Center (TLAC) at 1-800-LillyRx (1-800-545-5979).\n",
    "____________________________________________________________________________________________________\n",
    "\n",
    "MOUNJARO® (TIRZEPATIDE) INDICATION AND SAFETY SUMMARY WITH WARNINGS\n",
    "\n",
    "Mounjaro® (mown-JAHR-OH) is an injectable medicine for adults with type 2 diabetes used along with diet and exercise to improve blood sugar (glucose)\n",
    "\n",
    "It is not known if Mounjaro can be used in people who have had inflammation of the pancreas (pancreatitis). Mounjaro is not for use in people with type 1 diabetes. It is not known if Mounjaro is safe and effective for use in children under 18 years of age.\n",
    "Warnings - Mounjaro may cause tumors in the thyroid, including thyroid cancer. Watch for possible symptoms, such as a lump or swelling in the neck, hoarseness, trouble swallowing, or shortness of breath. If you have any of these symptoms, tell your healthcare provider.\n",
    "\n",
    "Do not use Mounjaro if you or any of your family have ever had a type of thyroid cancer called medullary thyroid carcinoma (MTC).\n",
    "Do not use Mounjaro if you have Multiple Endocrine Neoplasia syndrome type 2 (MEN 2).\n",
    "Do not use Mounjaro if you are allergic to it or any of the ingredients in Mounjaro.\n",
    "Mounjaro may cause serious side effects, including:\n",
    "\n",
    "Inflammation of the pancreas (pancreatitis). Stop using Mounjaro and call your healthcare provider right away if you have severe pain in your stomach area (abdomen) that will not go away, with or without vomiting. You may feel the pain from your abdomen to your back.\n",
    "\n",
    "Low blood sugar (hypoglycemia). Your risk for getting low blood sugar may be higher if you use Mounjaro with another medicine that can cause low blood sugar, such as a sulfonylurea or insulin. Signs and symptoms of low blood sugar may include dizziness or light-headedness, sweating, confusion or drowsiness, headache, blurred vision, slurred speech, shakiness, fast heartbeat, anxiety, irritability, or mood changes, hunger, weakness and feeling jittery.\n",
    "\n",
    "Serious allergic reactions. Stop using Mounjaro and get medical help right away if you have any symptoms of a serious allergic reaction, including swelling of your face, lips, tongue or throat, problems breathing or swallowing, severe rash or itching, fainting or feeling dizzy, and very rapid heartbeat.\n",
    "\n",
    "Kidney problems (kidney failure). In people who have kidney problems, diarrhea, nausea, and vomiting may cause a loss of fluids (dehydration), which may cause kidney problems to get worse. It is important for you to drink fluids to help reduce your chance of dehydration.\n",
    "\n",
    "Severe stomach problems. Stomach problems, sometimes severe, have been reported in people who use Mounjaro. Tell your healthcare provider if you have stomach problems that are severe or will not go away.\n",
    "\n",
    "Changes in vision. Tell your healthcare provider if you have changes in vision during treatment with Mounjaro.\n",
    "\n",
    "Gallbladder problems. Gallbladder problems have happened in some people who use Mounjaro. Tell your healthcare provider right away if you get symptoms of gallbladder problems, which may include pain in your upper stomach (abdomen), fever, yellowing of skin or eyes (jaundice), and clay-colored stools.\n",
    "\n",
    "Common side effects\n",
    "\n",
    "The most common side effects of Mounjaro include nausea, diarrhea, decreased appetite, vomiting, constipation, indigestion, and stomach (abdominal) pain. These are not all the possible side effects of Mounjaro. Talk to your healthcare provider about any side effect that bothers you or doesn't go away.\n",
    "\n",
    "Tell your healthcare provider if you have any side effects. You can report side effects at 1-800-FDA-1088 or www.fda.gov/medwatch.\n",
    "\n",
    "Before using Mounjaro\n",
    "\n",
    "Your healthcare provider should show you how to use Mounjaro before you use it for the first time.\n",
    "Talk to your healthcare provider about low blood sugar and how to manage it.\n",
    "If you take birth control pills by mouth, talk to your healthcare provider before you use Mounjaro. Birth control pills may not work as well while using Mounjaro. Your healthcare provider may recommend another type of birth control for 4 weeks after you start Mounjaro and for 4 weeks after each increase in your dose of Mounjaro.\n",
    "Review these questions with your healthcare provider:\n",
    "\n",
    "❑ Do you have other medical conditions, including problems with your pancreas or kidneys, or severe problems with your stomach, such as slowed emptying of your stomach (gastroparesis) or problems digesting food?\n",
    "\n",
    "❑ Do you take other diabetes medicines, such as insulin or sulfonylureas?\n",
    "\n",
    "❑ Do you have a history of diabetic retinopathy?\n",
    "\n",
    "❑ Are you pregnant, plan to become pregnant, breastfeeding, or plan to breastfeed? It is not known if Mounjaro will harm your unborn baby or pass into your breast milk.\n",
    "\n",
    "❑ Do you take any other prescription medicines or over-the-counter drugs, vitamins, or herbal supplements?\n",
    "\n",
    "How to take\n",
    "\n",
    "Read the Instructions for Use that come with Mounjaro.\n",
    "Use Mounjaro exactly as your healthcare provider says.\n",
    "Mounjaro is injected under the skin (subcutaneously) of your stomach (abdomen), thigh, or upper arm.\n",
    "Use Mounjaro 1 time each week, at any time of the day.\n",
    "Do not mix insulin and Mounjaro together in the same injection.\n",
    "You may give an injection of Mounjaro and insulin in the same body area (such as your stomach area), but not right next to each other.\n",
    "Change (rotate) your injection site with each weekly injection. Do not use the same site for each injection.\n",
    "If you take too much Mounjaro, call your healthcare provider or seek medical advice promptly.\n",
    "Learn more\n",
    "\n",
    "Mounjaro is a prescription medicine. For more information, call 1-833-807-MJRO (833-807-6576) or go to www.mounjaro.com.\n",
    "\n",
    "This summary provides basic information about Mounjaro but does not include all information known about this medicine. Read the information that comes with your prescription each time your prescription is filled. This information does not take the place of talking with your healthcare provider. Be sure to talk to your healthcare provider about Mounjaro and how to take it. Your healthcare provider is the best person to help you decide if Mounjaro is right for you.\n",
    "\n",
    "TR CON CBS 14SEP2022\n",
    "\n",
    "ZEPBOUND™ (TIRZEPATIDE) INDICATION AND SAFETY SUMMARY WITH WARNINGS\n",
    "\n",
    "Zepbound™ (ZEHP-bownd) is an injectable prescription medicine that may help adults with obesity, or with excess weight (overweight) who also have weight-related medical problems, lose weight and keep it off. It should be used with a reduced-calorie diet and increased physical activity.\n",
    "\n",
    "Zepbound contains tirzepatide and should not be used with other tirzepatide-containing products or any GLP-1 receptor agonist medicines. It is not known if Zepbound is safe and effective when taken with other prescription, over-the-counter, or herbal weight loss products. It is not known if Zepbound can be used in people who have had pancreatitis. It is not known if Zepbound is safe and effective for use in children under 18 years of age.\n",
    "Warnings - Zepbound may cause tumors in the thyroid, including thyroid cancer. Watch for possible symptoms, such as a lump or swelling in the neck, hoarseness, trouble swallowing, or shortness of breath. If you have any of these symptoms, tell your healthcare provider.\n",
    "\n",
    "Do not use Zepbound if you or any of your family have ever had a type of thyroid cancer called medullary thyroid carcinoma (MTC).\n",
    "Do not use Zepbound if you have Multiple Endocrine Neoplasia syndrome type 2 (MEN 2).\n",
    "Do not use Zepbound if you have had a serious allergic reaction to tirzepatide or any of the ingredients in Zepbound.\n",
    "Zepbound may cause serious side effects, including:\n",
    "\n",
    "Severe stomach problems. Stomach problems, sometimes severe, have been reported in people who use Zepbound. Tell your healthcare provider if you have stomach problems that are severe or will not go away.\n",
    "\n",
    "Kidney problems (kidney failure). Diarrhea, nausea, and vomiting may cause a loss of fluids (dehydration), which may cause kidney problems. It is important for you to drink fluids to help reduce your chance of dehydration.\n",
    "\n",
    "Gallbladder problems. Gallbladder problems have happened in some people who use Zepbound. Tell your healthcare provider right away if you get symptoms of gallbladder problems, which may include pain in your upper stomach (abdomen), fever, yellowing of skin or eyes (jaundice), or clay-colored stools.\n",
    "\n",
    "Inflammation of the pancreas (pancreatitis). Stop using Zepbound and call your healthcare provider right away if you have severe pain in your stomach area (abdomen) that will not go away, with or without vomiting. You may feel the pain from your abdomen to your back.\n",
    "\n",
    "Serious allergic reactions. Stop using Zepbound and get medical help right away if you have any symptoms of a serious allergic reaction, including swelling of your face, lips, tongue or throat, problems breathing or swallowing, severe rash or itching, fainting or feeling dizzy, or very rapid heartbeat.\n",
    "\n",
    "Low blood sugar (hypoglycemia). Your risk for getting low blood sugar may be higher if you use Zepbound with medicines that can cause low blood sugar, such as a sulfonylurea or insulin. Signs and symptoms of low blood sugar may include dizziness or light-headedness, sweating, confusion or drowsiness, headache, blurred vision, slurred speech, shakiness, fast heartbeat, anxiety, irritability, mood changes, hunger, weakness or feeling jittery.\n",
    "\n",
    "Changes in vision in patients with type 2 diabetes. Tell your healthcare provider if you have changes in vision during treatment with Zepbound.\n",
    "\n",
    "Depression or thoughts of suicide. You should pay attention to changes in your mood, behaviors, feelings or thoughts. Call your healthcare provider right away if you have any mental changes that are new, worse, or worry you.\n",
    "\n",
    "Common side effects\n",
    "\n",
    "The most common side effects of Zepbound include nausea, diarrhea, vomiting, constipation, stomach (abdominal) pain, indigestion, injection site reactions, feeling tired, allergic reactions, belching, hair loss, and heartburn. These are not all the possible side effects of Zepbound. Talk to your healthcare provider about any side effect that bothers you or doesn't go away.\n",
    "\n",
    "Tell your healthcare provider if you have any side effects. You can report side effects at 1-800-FDA-1088 or www.fda.gov/medwatch.\n",
    "\n",
    "Before using Zepbound\n",
    "\n",
    "Your healthcare provider should show you how to use Zepbound before you use it for the first time.\n",
    "Tell your healthcare provider if you are taking medicines to treat diabetes including insulin or sulfonylureas which could increase your risk of low blood sugar. Talk to your healthcare provider about low blood sugar levels and how to manage them.\n",
    "If you take birth control pills by mouth, talk to your healthcare provider before you use Zepbound. Birth control pills may not work as well while using Zepbound. Your healthcare provider may recommend another type of birth control for 4 weeks after you start Zepbound and for 4 weeks after each increase in your dose of Zepbound.\n",
    "Review these questions with your healthcare provider:\n",
    "\n",
    "❑ Do you have other medical conditions, including problems with your pancreas or kidneys, or severe problems with your stomach, such as slowed emptying of your stomach (gastroparesis) or problems digesting food?\n",
    "❑ Do you take diabetes medicines, such as insulin or sulfonylureas?\n",
    "❑ Do you have a history of diabetic retinopathy?\n",
    "❑ Do you take any other prescription medicines or over-the-counter drugs, vitamins, or herbal supplements?\n",
    "❑ Are you pregnant, plan to become pregnant, breastfeeding, or plan to breastfeed? Zepbound may harm your unborn baby. Tell your healthcare provider if you become pregnant while using Zepbound. It is not known if Zepbound passes into your breast milk. You should talk with your healthcare provider about the best way to feed your baby while using Zepbound.\n",
    "\n",
    "Pregnancy Exposure Registry: There will be a pregnancy exposure registry for women who have taken Zepbound during pregnancy. The purpose of this registry is to collect information about the health of you and your baby. Talk to your healthcare provider about how you can take part in this registry, or you may contact Lilly at 1-800-LillyRx (1-800-545-5979).\n",
    "How to take\n",
    "\n",
    "Read the Instructions for Use that come with Zepbound.\n",
    "Use Zepbound exactly as your healthcare provider says.\n",
    "Zepbound is injected under the skin (subcutaneously) of your stomach (abdomen), thigh, or upper arm.\n",
    "Use Zepbound 1 time each week, at any time of the day.\n",
    "Change (rotate) your injection site with each weekly injection. Do not use the same site for each injection.\n",
    "If you take too much Zepbound, call your healthcare provider, seek medical advice promptly, or contact a Poison Center expert right away at 1‑800‑222‑1222.\n",
    "Learn more\n",
    "\n",
    "Zepbound is a prescription medicine. For more information, call 1-800-LillyRx (1-800-545-5979) or go to www.zepbound.lilly.com.\n",
    "\n",
    "This summary provides basic information about Zepbound but does not include all information known about this medicine. Read the information that comes with your prescription each time your prescription is filled. This information does not take the place of talking with your healthcare provider. Be sure to talk to your healthcare provider about Zepbound and how to take it. Your healthcare provider is the best person to help you decide if Zepbound is right for you.\n",
    "\n",
    "ZP CON CBS 08NOV2023\n",
    "\n",
    "Mounjaro® and its delivery device base are registered trademarks and Zepbound™ and its delivery device base are trademarks owned or licensed by Eli Lilly and Company, its subsidiaries, or affiliates.\n",
    "\n",
    "About Lilly\n",
    "\n",
    "Lilly unites caring with discovery to create medicines that make life better for people around the world. We've been pioneering life-changing discoveries for nearly 150 years, and today our medicines help more than 51 million people across the globe. Harnessing the power of biotechnology, chemistry and genetic medicine, our scientists are urgently advancing new discoveries to solve some of the world's most significant health challenges, redefining diabetes care, treating obesity and curtailing its most devastating long-term effects, advancing the fight against Alzheimer's disease, providing solutions to some of the most debilitating immune system disorders, and transforming the most difficult-to-treat cancers into manageable diseases. With each step toward a healthier world, we're motivated by one thing: making life better for millions more people. That includes delivering innovative clinical trials that reflect the diversity of our world and working to ensure our medicines are accessible and affordable. To learn more, visit Lilly.com and Lilly.com/newsroom or follow us on Facebook, Instagram and LinkedIn. P-LLY\n",
    "\n",
    "Cautionary Statement Regarding Forward-Looking Statements\n",
    "\n",
    "This open letter contains forward-looking statements (as that term is defined in the Private Securities Litigation Reform Act of 1995) about the use of Mounjaro® (tirzepatide) and Zepbound™ (tirzepatide) and reflects Lilly’s current beliefs and expectations. However, there can be no assurance that the use of Mounjaro® (tirzepatide) and Zepbound™ (tirzepatide) will achieve Lilly’s objectives or that Lilly will execute its strategy as planned. For further discussion of risks and uncertainties relevant to Lilly’s business that could cause actual results to differ from Lilly’s expectations, see Lilly’s Form 10-K and Form 10-Q filings with the United States Securities and Exchange Commission. Except as required by law, Lilly undertakes no duty to update forward-looking statements to reflect events after the date of this letter.\n",
    "\n",
    "PP-TR-US-1520 01/2024 ©Lilly USA, LLC 2024. All rights reserved.\n",
    "\"\"\""
   ]
  },
  {
   "cell_type": "code",
   "execution_count": null,
   "id": "e6ad3a09",
   "metadata": {},
   "outputs": [],
   "source": [
    "metadata = {'source':'https://investor.lilly.com/news-releases/news-release-details/open-letter-regarding-use-mounjaror-tirzepatide-and-zepboundtm'}"
   ]
  },
  {
   "cell_type": "code",
   "execution_count": null,
   "id": "f532d3aa-bb1d-4614-b072-ed0096faaa27",
   "metadata": {
    "tags": []
   },
   "outputs": [],
   "source": [
    "from langchain.text_splitter import RecursiveCharacterTextSplitter\n",
    "\n",
    "text_splitter = RecursiveCharacterTextSplitter(\n",
    "    separators=[\"\\n\\n\", \"\\n\"],\n",
    "    chunk_size=1000,\n",
    "    chunk_overlap=100,\n",
    "    length_function=len,\n",
    ")"
   ]
  },
  {
   "cell_type": "code",
   "execution_count": null,
   "id": "0dda467c",
   "metadata": {},
   "outputs": [],
   "source": [
    "from utils.vectordb import VectorDB\n",
    "vectorstore = VectorDB()\n",
    "vectorstore.create_and_dump(embeddings, text_splitter=text_splitter, inp_text=input_txt, metadata=metadata)"
   ]
  },
  {
   "cell_type": "markdown",
   "id": "3e526e0c-1972-48be-9af8-b37de917fab3",
   "metadata": {},
   "source": [
    "## Answer Generation Pipeline"
   ]
  },
  {
   "cell_type": "code",
   "execution_count": null,
   "id": "294e257a-37a8-448b-8083-df861d8d2e8b",
   "metadata": {
    "tags": []
   },
   "outputs": [],
   "source": [
    "from langchain.chains import ConversationalRetrievalChain\n",
    "from langchain.prompts.prompt import PromptTemplate\n",
    "from langchain.memory import ConversationBufferMemory"
   ]
  },
  {
   "cell_type": "code",
   "execution_count": null,
   "id": "2c0333c9",
   "metadata": {},
   "outputs": [],
   "source": [
    "from utils.vectordb import VectorDB\n",
    "vectorstore = VectorDB()"
   ]
  },
  {
   "cell_type": "code",
   "execution_count": null,
   "id": "63d4c388",
   "metadata": {},
   "outputs": [],
   "source": [
    "from models.llm import LLM\n",
    "\n",
    "model = LLM('gpt-3')\n",
    "llm = model.load_model()"
   ]
  },
  {
   "cell_type": "code",
   "execution_count": null,
   "id": "9267d20c",
   "metadata": {},
   "outputs": [],
   "source": [
    "_template = \"\"\"Given the following conversation and a follow up question, rephrase the follow up question to be a standalone question.\n",
    "\n",
    "Chat History:\n",
    "{chat_history}\n",
    "Follow Up Input: {question}\n",
    "Standalone question:\"\"\"\n",
    "CONDENSE_QUESTION_PROMPT = PromptTemplate.from_template(_template)\n",
    "\n",
    "template = \"\"\"You are an AI assistant for answering questions about the provided text.\n",
    "You are given the following extracted parts of a long document and a question. Provide a conversational answer.\n",
    "If you don't know the answer, just say \"Hmm, I'm not sure.\" Don't try to make up an answer.\n",
    "If the question is not related to the text, politely inform them that you do not have the answer.\n",
    "\n",
    "Question: {question}\n",
    "=========\n",
    "{context}\n",
    "=========\n",
    "Answer in Markdown:\"\"\"\n",
    "QA_PROMPT = PromptTemplate(template=template, input_variables=[\n",
    "                           \"question\", \"context\"])"
   ]
  },
  {
   "cell_type": "code",
   "execution_count": null,
   "id": "07d0f461-59e1-458b-9d88-8fae5e0a7c24",
   "metadata": {
    "tags": []
   },
   "outputs": [],
   "source": [
    "def get_qa_with_sources_chain(llm):\n",
    "    retriever = vectorstore.load_retriever(embeddings)\n",
    "    history = []\n",
    "    model = ConversationalRetrievalChain.from_llm(\n",
    "        llm=llm,\n",
    "        retriever=retriever,\n",
    "        condense_question_prompt=CONDENSE_QUESTION_PROMPT,\n",
    "        combine_docs_chain_kwargs={\"prompt\": QA_PROMPT},\n",
    "        return_source_documents=True,\n",
    "        # verbose=True,\n",
    "    )\n",
    "\n",
    "    def model_func(question):\n",
    "        # bug: this doesn't work with the built-in memory\n",
    "        # hacking around it for the tutorial\n",
    "        # see: https://github.com/langchain-ai/langchain/issues/5630\n",
    "        new_input = {\"question\": question['question'], \"chat_history\": history}\n",
    "        result = model.invoke(new_input)\n",
    "        history.append((question['question'], result['answer']))\n",
    "        return result\n",
    "\n",
    "    return model_func"
   ]
  },
  {
   "cell_type": "code",
   "execution_count": null,
   "id": "4a99cb48-0cb8-444b-8e3b-2b3d05e18180",
   "metadata": {
    "tags": []
   },
   "outputs": [],
   "source": [
    "chain = get_qa_with_sources_chain(llm=llm)"
   ]
  },
  {
   "cell_type": "code",
   "execution_count": null,
   "id": "4ce058e4-c10d-4d1c-96d6-959774f6dae5",
   "metadata": {},
   "outputs": [],
   "source": [
    "response = chain({\"question\": \"What is difference in usage of Mounjaro and Zepbound?\"})\n",
    "print(\"Question ::  {}\".format(response['question']))\n",
    "print(\"Answer ::  {}\".format(response['answer'].strip()))\n",
    "print(\"History ::  \")\n",
    "for msg in response['chat_history']:\n",
    "    print(msg)\n"
   ]
  },
  {
   "cell_type": "code",
   "execution_count": null,
   "id": "b13b514e",
   "metadata": {},
   "outputs": [],
   "source": [
    "response = chain({\"question\": \"What are the side-effects?\"})\n",
    "print(\"Question ::  {}\".format(response['question']))\n",
    "print(\"Answer ::  {}\".format(response['answer'].strip()))\n",
    "print(\"History ::  \")\n",
    "for msg in response['chat_history']:\n",
    "    print(msg)\n"
   ]
  },
  {
   "cell_type": "code",
   "execution_count": null,
   "id": "4da923ad",
   "metadata": {},
   "outputs": [],
   "source": []
  }
 ],
 "metadata": {
  "kernelspec": {
   "display_name": ".venv",
   "language": "python",
   "name": "python3"
  },
  "language_info": {
   "codemirror_mode": {
    "name": "ipython",
    "version": 3
   },
   "file_extension": ".py",
   "mimetype": "text/x-python",
   "name": "python",
   "nbconvert_exporter": "python",
   "pygments_lexer": "ipython3",
   "version": "3.10.7"
  }
 },
 "nbformat": 4,
 "nbformat_minor": 5
}
