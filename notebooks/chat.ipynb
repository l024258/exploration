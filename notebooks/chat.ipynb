{
 "cells": [
  {
   "cell_type": "code",
   "execution_count": 2,
   "id": "b97d9b37",
   "metadata": {},
   "outputs": [
    {
     "name": "stdout",
     "output_type": "stream",
     "text": [
      "/Users/L024258/lilly_work/github-copilot/exploration/notebooks/..\n"
     ]
    }
   ],
   "source": [
    "import os\n",
    "import sys\n",
    "\n",
    "# Get the current working directory and add the parent directory to the Python path\n",
    "current_working_directory = os.getcwd()\n",
    "print(os.path.join(current_working_directory, \"..\"))\n",
    "sys.path.append(os.path.join(current_working_directory, \"..\"))"
   ]
  },
  {
   "cell_type": "code",
   "execution_count": 3,
   "id": "06e2cff7-b542-4e36-af2c-e741f18ea986",
   "metadata": {
    "tags": []
   },
   "outputs": [],
   "source": [
    "from decouple import AutoConfig\n",
    "config = AutoConfig(search_path='./../.env')"
   ]
  },
  {
   "cell_type": "code",
   "execution_count": 4,
   "id": "56b3cbbf",
   "metadata": {},
   "outputs": [],
   "source": [
    "os.environ[\"AZURE_OPENAI_API_KEY\"] = config('OPENAI_API_KEY')\n",
    "os.environ[\"AZURE_OPENAI_ENDPOINT\"] = config('AZURE_ENDPOINT')"
   ]
  },
  {
   "cell_type": "markdown",
   "id": "25096f4f-6dab-45a0-a92b-483209e28212",
   "metadata": {},
   "source": [
    "## Loading Embedding Model"
   ]
  },
  {
   "cell_type": "code",
   "execution_count": 5,
   "id": "38a7bdbf-3bf7-418b-81da-d71774f76df4",
   "metadata": {
    "tags": []
   },
   "outputs": [],
   "source": [
    "from models.em import EM\n",
    "model = EM('ada-2')\n",
    "embeddings = model.load_model()"
   ]
  },
  {
   "cell_type": "markdown",
   "id": "9e84baf7-4e0c-4eef-8594-b6fef5e822ea",
   "metadata": {},
   "source": [
    "## Data Ingestion"
   ]
  },
  {
   "cell_type": "markdown",
   "id": "506a05b6",
   "metadata": {},
   "source": [
    "### Chroma VectorDB"
   ]
  },
  {
   "cell_type": "code",
   "execution_count": 6,
   "id": "277298de-cb1d-4c01-9163-f6e2ff669119",
   "metadata": {
    "tags": []
   },
   "outputs": [],
   "source": [
    "input_txt = \"\"\"\"Analysts have valued Reliance Industries Ltd’s new energy business at as much as Rs 2.36 lakh crore (Rs 350 per share), exceeding the market value of half of the benchmark Nifty index’s constituents.\n",
    "\n",
    "There are 25 companies in the 50-member Nifty index with a market capitalisation of less than Rs 2.36 lakh crore, according to a Moneycontrol analysis.\n",
    "\n",
    "Investor confidence in India’s largest conglomerate has surged on increased optimism about the prospects of the new energy unit, the expected demerger of the retail business, and increased free cash flow as capital expenditure needs ebb.\n",
    "\n",
    "The RIL stock has touched a new high, surpassing a market capitalisation milestone of Rs 20 lakh crore earlier this week after remaining within a range for the past three years. In January, mutual funds boosted their stake in the company, buying shares worth Rs 3,300 crore. As of January 31, RIL had the second-highest weight on the Nifty index after HDFC Bank.\n",
    "Analysts expect investors to remain bullish on the Reliance stock\n",
    "\n",
    "New energy\n",
    "Deven Choksey, managing director of DRChoksey FinServ, said that RIL already has a 5-10-year head start, while state-run companies are just showing interest in the renewables segment.\n",
    "\n",
    "“Reliance has moved considerably ahead in the renewables business. They have already created a complete ecosystem for producing green hydrogen. They have manufactured solar panels and have solar farms in place. They have a port-based presence in Jamnagar. They are probably upgrading new technology in the electrolyser process,” he said.\n",
    "\n",
    "Among brokerages, Goldman Sachs and Jefferies have assigned a value of more than Rs 300 to the new energy business. Nomura has ascribed the lowest value at Rs 182.\n",
    "\n",
    "The biggest trigger for this segment will be the commencement of the new energy giga complex in Gujarat. Following the announcement of fiscal third-quarter earnings, RIL chairman Mukesh Ambani said, “New Energy Giga Complex is all set to be commissioned in the second half of CY24.”\n",
    "\n",
    "The complex will include five giga factories for photovoltaic panels, fuel cell systems, green hydrogen, energy storage, and power electronics.\n",
    "\n",
    "Retail and Jio demerger\n",
    "“RIL is on a strong wicket for the next 3-5 years. The traditional E&P (exploration and production) and refining business will continue to generate cash flow, but the real value to RIL stock will come from new-age businesses,” according to a fund manager, who declined to be named as he owns the stock in his portfolio.\n",
    "\n",
    "At the current fair value, brokerages are ascribing Rs 1,300-1,400 to the retail business, almost half the entire stock price. With an overall store count of 18,774 stores, the retail business aims to reach every corner of India.\n",
    "\n",
    "Apart from that, the company has aggressively acquired companies across categories, from beverage maker Campa Cola to clothing company Ed-a-Mamma to online pharmacy Netmeds. It is also taking on the likes of Nykaa with the launch of Tira, an omnichannel beauty platform.\n",
    "\n",
    "A clutch of investors such as KKR, Abu Dhabi Investment Authority and Qatar Investment Authority put in fresh investments in Reliance Retail in 2023, boosting expectations of an IPO of the retail business soon.\n",
    "\n",
    "“Investments for Jio and Retail platforms have already been completed, and their B2C models are growing at around 20 percent. These two companies coming up for separate listing will create new market value for shareholders. That is the next trigger that investors will be looking out for. The stock is full of possibilities in every aspect,” Choksey said.\n",
    "\n",
    "For Jio, another big trigger is the bump up in ARPU (average revenue per user), which can be expected from a tariff hike post-election. Nomura expects ARPU to cross Rs 200 in FY25.\n",
    "\n",
    "Free cash flow\n",
    "Over the past few years, RIL was in aggressive capex mode for the retail segment and Jio’s 5G business. This is slowly tapering off. In Q3 FY24, the conglomerate’s capex stood at Rs 30,102 crore versus Rs 38,815 crore in the quarter-ago period.\n",
    "\n",
    "“Reliance has operated at material negative FCF (free cash flow) for the last three years, driven by spending in telecom. As that fades, with an EBITDA run-rate of $20 billion a year, Reliance is expected to deliver positive free cash flow for the next three years,” according to brokerage JPMorgan.\n",
    "\n",
    "Disclosure: Moneycontrol is a part of the Network18 group. Network18 is controlled by Independent Media Trust, of which Reliance Industries is the sole beneficiary.\n",
    "\n",
    "Disclaimer: The views and investment tips expressed by experts on Moneycontrol.com are their own and not those of the website or its management. Moneycontrol.com advises users to check with certified experts before taking any investment decisions.\n",
    "\"\"\""
   ]
  },
  {
   "cell_type": "code",
   "execution_count": 7,
   "id": "f532d3aa-bb1d-4614-b072-ed0096faaa27",
   "metadata": {
    "tags": []
   },
   "outputs": [],
   "source": [
    "from langchain.text_splitter import RecursiveCharacterTextSplitter\n",
    "\n",
    "text_splitter = RecursiveCharacterTextSplitter(\n",
    "    separators=[\"\\n\\n\", \"\\n\"],\n",
    "    chunk_size=600,\n",
    "    chunk_overlap=100,\n",
    "    length_function=len,\n",
    ")"
   ]
  },
  {
   "cell_type": "code",
   "execution_count": 8,
   "id": "0dda467c",
   "metadata": {},
   "outputs": [
    {
     "data": {
      "text/plain": [
       "<langchain_community.vectorstores.chroma.Chroma at 0x1763d26a0>"
      ]
     },
     "execution_count": 8,
     "metadata": {},
     "output_type": "execute_result"
    }
   ],
   "source": [
    "from utils.vectordb import VectorDB\n",
    "vectorstore = VectorDB()\n",
    "vectorstore.create_and_dump(embeddings, text_splitter=text_splitter, inp_text=input_txt)"
   ]
  },
  {
   "cell_type": "markdown",
   "id": "3e526e0c-1972-48be-9af8-b37de917fab3",
   "metadata": {},
   "source": [
    "## Answer Generation Pipeline"
   ]
  },
  {
   "cell_type": "code",
   "execution_count": 9,
   "id": "294e257a-37a8-448b-8083-df861d8d2e8b",
   "metadata": {
    "tags": []
   },
   "outputs": [],
   "source": [
    "from langchain.chains import ConversationalRetrievalChain\n",
    "from langchain.prompts.prompt import PromptTemplate\n",
    "from langchain.memory import ConversationBufferMemory"
   ]
  },
  {
   "cell_type": "code",
   "execution_count": 10,
   "id": "2c0333c9",
   "metadata": {},
   "outputs": [],
   "source": [
    "from utils.vectordb import VectorDB\n",
    "vectorstore = VectorDB()"
   ]
  },
  {
   "cell_type": "code",
   "execution_count": 11,
   "id": "63d4c388",
   "metadata": {},
   "outputs": [
    {
     "name": "stderr",
     "output_type": "stream",
     "text": [
      "/Users/L024258/lilly_work/github-copilot/exploration/.venv/lib/python3.8/site-packages/tqdm/auto.py:21: TqdmWarning: IProgress not found. Please update jupyter and ipywidgets. See https://ipywidgets.readthedocs.io/en/stable/user_install.html\n",
      "  from .autonotebook import tqdm as notebook_tqdm\n"
     ]
    }
   ],
   "source": [
    "from models.llm import LLM\n",
    "\n",
    "model = LLM('gpt-3')\n",
    "llm = model.load_model()"
   ]
  },
  {
   "cell_type": "code",
   "execution_count": 12,
   "id": "9267d20c",
   "metadata": {},
   "outputs": [],
   "source": [
    "_template = \"\"\"Given the following conversation and a follow up question, rephrase the follow up question to be a standalone question.\n",
    "\n",
    "Chat History:\n",
    "{chat_history}\n",
    "Follow Up Input: {question}\n",
    "Standalone question:\"\"\"\n",
    "CONDENSE_QUESTION_PROMPT = PromptTemplate.from_template(_template)\n",
    "\n",
    "template = \"\"\"You are an AI assistant for answering questions about the provided text.\n",
    "You are given the following extracted parts of a long document and a question. Provide a conversational answer.\n",
    "If you don't know the answer, just say \"Hmm, I'm not sure.\" Don't try to make up an answer.\n",
    "If the question is not related to the text, politely inform them that you do not have the answer.\n",
    "\n",
    "Question: {question}\n",
    "=========\n",
    "{context}\n",
    "=========\n",
    "Answer in Markdown:\"\"\"\n",
    "QA_PROMPT = PromptTemplate(template=template, input_variables=[\n",
    "                           \"question\", \"context\"])"
   ]
  },
  {
   "cell_type": "code",
   "execution_count": 16,
   "id": "07d0f461-59e1-458b-9d88-8fae5e0a7c24",
   "metadata": {
    "tags": []
   },
   "outputs": [],
   "source": [
    "def get_qa_with_sources_chain(llm):\n",
    "    retriever = vectorstore.load_retriever(embeddings)\n",
    "    history = []\n",
    "    model = ConversationalRetrievalChain.from_llm(\n",
    "        llm=llm,\n",
    "        retriever=retriever,\n",
    "        condense_question_prompt=CONDENSE_QUESTION_PROMPT,\n",
    "        combine_docs_chain_kwargs={\"prompt\": QA_PROMPT},\n",
    "        return_source_documents=True,\n",
    "        # verbose=True,\n",
    "    )\n",
    "\n",
    "    def model_func(question):\n",
    "        # bug: this doesn't work with the built-in memory\n",
    "        # hacking around it for the tutorial\n",
    "        # see: https://github.com/langchain-ai/langchain/issues/5630\n",
    "        new_input = {\"question\": question['question'], \"chat_history\": history}\n",
    "        result = model.invoke(new_input)\n",
    "        history.append((question['question'], result['answer']))\n",
    "        return result\n",
    "\n",
    "    return model_func"
   ]
  },
  {
   "cell_type": "code",
   "execution_count": 17,
   "id": "4a99cb48-0cb8-444b-8e3b-2b3d05e18180",
   "metadata": {
    "tags": []
   },
   "outputs": [],
   "source": [
    "chain = get_qa_with_sources_chain(llm=llm)"
   ]
  },
  {
   "cell_type": "code",
   "execution_count": 18,
   "id": "4ce058e4-c10d-4d1c-96d6-959774f6dae5",
   "metadata": {},
   "outputs": [
    {
     "name": "stdout",
     "output_type": "stream",
     "text": [
      "Question ::  Are analysts bullish on Reliance's energy stock?\n",
      "Answer ::  It looks like analysts are bullish on Reliance's energy stock. Deven Choksey, managing director of DRChoksey FinServ, said that RIL already has a 5-10-year head start in the renewables segment, and the traditional E&P and refining business will continue to generate cash flow. Additionally, the retail business is expected to add value to the stock price.\n",
      "History ::  \n",
      "(\"Are analysts bullish on Reliance's energy stock?\", \" It looks like analysts are bullish on Reliance's energy stock. Deven Choksey, managing director of DRChoksey FinServ, said that RIL already has a 5-10-year head start in the renewables segment, and the traditional E&P and refining business will continue to generate cash flow. Additionally, the retail business is expected to add value to the stock price.\")\n"
     ]
    }
   ],
   "source": [
    "response = chain({\"question\": \"Are analysts bullish on Reliance's energy stock?\"})\n",
    "print(\"Question ::  {}\".format(response['question']))\n",
    "print(\"Answer ::  {}\".format(response['answer'].strip()))\n",
    "print(\"History ::  \")\n",
    "for msg in response['chat_history']:\n",
    "    print(msg)\n"
   ]
  },
  {
   "cell_type": "code",
   "execution_count": 19,
   "id": "d9e3547a",
   "metadata": {},
   "outputs": [
    {
     "name": "stdout",
     "output_type": "stream",
     "text": [
      "Question ::  Which brokerage firms?\n",
      "Answer ::  It looks like Goldman Sachs and Jefferies are bullish on Reliance's energy stock.\n",
      "History ::  \n",
      "(\"Are analysts bullish on Reliance's energy stock?\", \" It looks like analysts are bullish on Reliance's energy stock. Deven Choksey, managing director of DRChoksey FinServ, said that RIL already has a 5-10-year head start in the renewables segment, and the traditional E&P and refining business will continue to generate cash flow. Additionally, the retail business is expected to add value to the stock price.\")\n",
      "('Which brokerage firms?', \" It looks like Goldman Sachs and Jefferies are bullish on Reliance's energy stock.\")\n"
     ]
    }
   ],
   "source": [
    "response = chain({\"question\": \"Which brokerage firms?\"})\n",
    "print(\"Question ::  {}\".format(response['question']))\n",
    "print(\"Answer ::  {}\".format(response['answer'].strip()))\n",
    "print(\"History ::  \")\n",
    "for msg in response['chat_history']:\n",
    "    print(msg)\n"
   ]
  },
  {
   "cell_type": "code",
   "execution_count": null,
   "id": "0a56c7f8",
   "metadata": {},
   "outputs": [],
   "source": []
  }
 ],
 "metadata": {
  "kernelspec": {
   "display_name": ".venv",
   "language": "python",
   "name": "python3"
  },
  "language_info": {
   "codemirror_mode": {
    "name": "ipython",
    "version": 3
   },
   "file_extension": ".py",
   "mimetype": "text/x-python",
   "name": "python",
   "nbconvert_exporter": "python",
   "pygments_lexer": "ipython3",
   "version": "3.8.16"
  }
 },
 "nbformat": 4,
 "nbformat_minor": 5
}
