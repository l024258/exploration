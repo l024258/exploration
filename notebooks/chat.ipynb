{
 "cells": [
  {
   "cell_type": "code",
   "execution_count": 1,
   "id": "856a858a-a803-42e2-8aaf-17b5702a8470",
   "metadata": {
    "tags": []
   },
   "outputs": [],
   "source": [
    "%%capture\n",
    "!pip install -r requirements.txt"
   ]
  },
  {
   "cell_type": "code",
   "execution_count": 2,
   "id": "06e2cff7-b542-4e36-af2c-e741f18ea986",
   "metadata": {
    "tags": []
   },
   "outputs": [],
   "source": [
    "import os\n",
    "from typing import Optional, Tuple"
   ]
  },
  {
   "cell_type": "markdown",
   "id": "25096f4f-6dab-45a0-a92b-483209e28212",
   "metadata": {},
   "source": [
    "## Loading Embedding Model"
   ]
  },
  {
   "cell_type": "code",
   "execution_count": 3,
   "id": "38a7bdbf-3bf7-418b-81da-d71774f76df4",
   "metadata": {
    "tags": []
   },
   "outputs": [],
   "source": [
    "from langchain.embeddings import HuggingFaceEmbeddings\n",
    "\n",
    "model_name = \"intfloat/e5-base-v2\"\n",
    "model_kwargs = {'device': 'cuda'}\n",
    "encode_kwargs = {'normalize_embeddings': True}\n",
    "embeddings = HuggingFaceEmbeddings(\n",
    "    model_name=model_name,\n",
    "    model_kwargs=model_kwargs,\n",
    "    encode_kwargs=encode_kwargs\n",
    ")"
   ]
  },
  {
   "cell_type": "markdown",
   "id": "9e84baf7-4e0c-4eef-8594-b6fef5e822ea",
   "metadata": {},
   "source": [
    "## Data Ingestion"
   ]
  },
  {
   "cell_type": "code",
   "execution_count": 7,
   "id": "7d90473c-7fb4-4da3-9336-7fa497d877d4",
   "metadata": {
    "tags": []
   },
   "outputs": [],
   "source": [
    "from langchain.text_splitter import CharacterTextSplitter\n",
    "from langchain.vectorstores.faiss import FAISS\n",
    "from langchain.docstore.document import Document\n",
    "import pickle"
   ]
  },
  {
   "cell_type": "code",
   "execution_count": 8,
   "id": "277298de-cb1d-4c01-9163-f6e2ff669119",
   "metadata": {
    "tags": []
   },
   "outputs": [],
   "source": [
    "input_txt = \"\"\"\"NDIANAPOLIS, Aug. 14, 2023 /PRNewswire/ -- Eli Lilly and Company (NYSE: LLY) today announced the successful completion of its acquisition of Sigilon Therapeutics, Inc. (NASDAQ: SGTX). The acquisition allows Lilly to continue researching and developing encapsulated cell therapies, including SIG-002, for the treatment of type 1 diabetes.\n",
    "\n",
    "\"Make life better – that's the phrase that guides everything we do at Lilly,\" said Ruth Gimeno, Ph.D., group vice president, diabetes, obesity and cardiometabolic research at Lilly. \"We are excited to welcome our new colleagues from Sigilon to Lilly; together, we will strive to provide solutions for people living with type 1 diabetes that absolves them of constant disease management, and advance Sigilon's technology for patients.\"\n",
    "\n",
    "The Offer and the Merger\n",
    "\n",
    "As previously announced, Lilly and Sigilon entered into a Merger Agreement dated as of June 28, 2023, and pursuant thereto, on July 13, 2023, Lilly and a wholly owned subsidiary (\"Purchaser\") commenced a tender offer (the \"Offer\") to purchase all of the issued and outstanding shares (\"Shares\") of Sigilon's common stock in exchange for (a) $14.92 per Share, net to the stockholder in cash, without interest (the \"Cash Consideration\") and less any applicable tax withholding, plus (b) one non-tradable contingent value right (\"CVR\" and, together with the Cash Consideration, the \"Offer Price\") per Share, which represents the contractual right to receive contingent payments of up to $111.64 per Share in cash, net to the stockholder in cash, without interest and less any applicable tax withholding, upon the achievement of certain specified milestones. There can be no assurance that any payments will be made with respect to the CVRs. The Offer expired as scheduled on Aug. 9, 2023, with 1,718,493 Shares validly tendered and not validly withdrawn, which together with Shares previously owned by Lilly, represented 76.61% of the issued and outstanding Shares. In accordance with the terms of the Offer, Purchaser accepted for payment all such validly tendered and not validly withdrawn Shares.\n",
    "\n",
    "Following consummation of the Offer, on Aug. 11, 2023, Lilly completed its acquisition of Sigilon through the merger of Purchaser with and into Sigilon in accordance with Section 251(h) of the General Corporation Law of the State of Delaware), with Sigilon surviving such merger as a wholly owned subsidiary of Lilly. In connection with the merger, each Share issued and outstanding immediately prior to the effective time of the merger (other than (i) Shares held in Sigilon's treasury or owned by Sigilon, or owned by Lilly, Purchaser or any direct or indirect wholly-owned subsidiary of Lilly or Purchaser or (ii) Shares held by any stockholder of Sigilon who was entitled to demand and properly demanded appraisal for such Shares in accordance with Section 262 of the DGCL), including each Share that was subject to vesting or forfeiture restrictions granted pursuant to a Sigilon equity incentive plan, program or arrangement, was canceled and converted into the right to receive the Offer Price, without interest, less any applicable tax withholding. Sigilon's common stock has been delisted from the NASDAQ Global Select Market and will be deregistered under the Securities Exchange Act of 1934, as amended.\n",
    "\n",
    "For Lilly, Morgan, Lewis & Bockius LLP is acting as legal counsel. For Sigilon, Lazard is acting as lead financial advisor and Ropes & Gray LLP is acting as legal counsel. Canaccord Genuity also acted as financial advisor to Sigilon.\n",
    "\n",
    "About Lilly \n",
    "\n",
    "Lilly unites caring with discovery to create medicines that make life better for people around the world. We've been pioneering life-changing discoveries for nearly 150 years, and today our medicines help more than 51 million people across the globe. Harnessing the power of biotechnology, chemistry and genetic medicine, our scientists are urgently advancing new discoveries to solve some of the world's most significant health challenges, redefining diabetes care, treating obesity and curtailing its most devastating long-term effects, advancing the fight against Alzheimer's disease, providing solutions to some of the most debilitating immune system disorders, and transforming the most difficult-to-treat cancers into manageable diseases. With each step toward a healthier world, we're motivated by one thing: making life better for millions more people. That includes delivering innovative clinical trials that reflect the diversity of our world and working to ensure our medicines are accessible and affordable. To learn more, visit Lilly.com and Lilly.com/newsroom or follow us on Facebook, Instagram, Twitter and LinkedIn. C-LLY\n",
    "\n",
    "Cautionary Statement Regarding Forward-Looking Statements\n",
    "\n",
    "This press release contains forward-looking statements regarding Lilly's acquisition of Sigilon. All statements other than statements of historical fact are statements that could be deemed forward-looking statements. Forward-looking statements reflect current beliefs and expectations; however, these statements involve inherent risks and uncertainties, including with respect to drug research, development and commercialization, Lilly's evaluation of the accounting treatment of the acquisition and its impact on its financial results and financial guidance, the effects of the acquisition on Sigilon's relationships with key third parties or governmental entities, transaction costs, risks that the acquisition disrupts current plans and operations or adversely affects employee retention, and any legal proceedings that may be instituted related to the acquisition. Actual results could differ materially due to various factors, risks and uncertainties. Among other things, there can be no guarantee that Lilly will realize the expected benefits of the acquisition, that product candidates will be approved on anticipated timelines or at all, that any products, if approved, will be commercially successful, that all or any of the contingent consideration will become payable on the terms described herein or at all, that Lilly's financial results will be consistent with its expected 2023 guidance or that Lilly can reliably predict the impact of the acquisition on its financial results or financial guidance. For further discussion of these and other risks and uncertainties, see Lilly's most recent Form 10-K and Form 10-Q filings with the United States Securities and Exchange Commission. Except as required by law, Lilly does not undertake any duty to update forward-looking statements to reflect events after the date of this press release.\n",
    "\n",
    "\"\"\""
   ]
  },
  {
   "cell_type": "code",
   "execution_count": 9,
   "id": "f532d3aa-bb1d-4614-b072-ed0096faaa27",
   "metadata": {
    "tags": []
   },
   "outputs": [
    {
     "name": "stderr",
     "output_type": "stream",
     "text": [
      "Created a chunk of size 1296, which is longer than the specified 600\n",
      "Created a chunk of size 1214, which is longer than the specified 600\n",
      "Created a chunk of size 1138, which is longer than the specified 600\n"
     ]
    },
    {
     "name": "stdout",
     "output_type": "stream",
     "text": [
      "Splitting text...\n"
     ]
    }
   ],
   "source": [
    "print(\"Splitting text...\")\n",
    "text_splitter = CharacterTextSplitter(\n",
    "    separator=\"\\n\\n\",\n",
    "    chunk_size=600,\n",
    "    chunk_overlap=100,\n",
    "    length_function=len,\n",
    ")\n",
    "\n",
    "\n",
    "texts = text_splitter.split_text(input_txt)\n",
    "docs = [Document(page_content=t) for t in texts]"
   ]
  },
  {
   "cell_type": "markdown",
   "id": "4acc5801-0190-4d9a-ae02-dec7cbf62a40",
   "metadata": {},
   "source": [
    "### Embedding and Storing Documents in Vector Store"
   ]
  },
  {
   "cell_type": "code",
   "execution_count": 11,
   "id": "65598b3f-b671-49e2-8607-737ba7db2462",
   "metadata": {
    "tags": []
   },
   "outputs": [
    {
     "name": "stdout",
     "output_type": "stream",
     "text": [
      "Creating vectorstore...\n"
     ]
    }
   ],
   "source": [
    "print(\"Creating vectorstore...\")\n",
    "vectorstore = FAISS.from_documents(docs, embeddings)\n",
    "with open(\"vectorstore.pkl\", \"wb\") as f:\n",
    "    pickle.dump(vectorstore, f)"
   ]
  },
  {
   "cell_type": "markdown",
   "id": "3e526e0c-1972-48be-9af8-b37de917fab3",
   "metadata": {},
   "source": [
    "## Answer Generation Pipeline"
   ]
  },
  {
   "cell_type": "code",
   "execution_count": 12,
   "id": "294e257a-37a8-448b-8083-df861d8d2e8b",
   "metadata": {
    "tags": []
   },
   "outputs": [],
   "source": [
    "from langchain.chains import RetrievalQA, ConversationalRetrievalChain\n",
    "from langchain.prompts.prompt import PromptTemplate\n",
    "from langchain.vectorstores.base import VectorStoreRetriever\n",
    "\n",
    "from langchain.memory import ConversationBufferMemory\n",
    "import pickle\n",
    "\n",
    "import torch\n",
    "from transformers import pipeline\n",
    "from langchain.llms import HuggingFacePipeline"
   ]
  },
  {
   "cell_type": "code",
   "execution_count": 13,
   "id": "d62c2c91-d676-4a34-9bce-2bcf64e593d4",
   "metadata": {
    "tags": []
   },
   "outputs": [],
   "source": [
    "_template = \"\"\"Given the following conversation and a follow up question, rephrase the follow up question to be a standalone question.\n",
    "\n",
    "Chat History:\n",
    "{chat_history}\n",
    "Follow Up Input: {question}\n",
    "Standalone question:\"\"\"\n",
    "CONDENSE_QUESTION_PROMPT = PromptTemplate.from_template(_template)\n",
    "\n",
    "template = \"\"\"You are an AI assistant for answering questions about the provided text.\n",
    "You are given the following extracted parts of a long document and a question. Provide a conversational answer.\n",
    "If you don't know the answer, just say \"Hmm, I'm not sure.\" Don't try to make up an answer.\n",
    "If the question is not related to the text, politely inform them that you do not have the answer.\n",
    "Question: {question}\n",
    "=========\n",
    "{context}\n",
    "=========\n",
    "Answer in Markdown:\"\"\"\n",
    "QA_PROMPT = PromptTemplate(template=template, input_variables=[\n",
    "                           \"question\", \"context\"])"
   ]
  },
  {
   "cell_type": "code",
   "execution_count": 14,
   "id": "ea3f483b-96eb-4d2c-b1b6-38c51870ac7b",
   "metadata": {
    "tags": []
   },
   "outputs": [],
   "source": [
    "def load_retriever():\n",
    "    with open(\"vectorstore.pkl\", \"rb\") as f:\n",
    "        vectorstore = pickle.load(f)\n",
    "    retriever = VectorStoreRetriever(vectorstore=vectorstore)\n",
    "    return retriever"
   ]
  },
  {
   "cell_type": "code",
   "execution_count": 15,
   "id": "07d0f461-59e1-458b-9d88-8fae5e0a7c24",
   "metadata": {
    "tags": []
   },
   "outputs": [],
   "source": [
    "def get_basic_qa_chain(llm):\n",
    "    retriever = load_retriever()\n",
    "    memory = ConversationBufferMemory(\n",
    "        memory_key=\"chat_history\", return_messages=True)\n",
    "    model = ConversationalRetrievalChain.from_llm(\n",
    "        llm=llm,\n",
    "        retriever=retriever,\n",
    "        memory=memory)\n",
    "    return model\n",
    "\n",
    "\n",
    "def get_custom_prompt_qa_chain(llm):\n",
    "    retriever = load_retriever()\n",
    "    memory = ConversationBufferMemory(\n",
    "        memory_key=\"chat_history\", return_messages=True)\n",
    "    # see: https://github.com/langchain-ai/langchain/issues/6635\n",
    "    # see: https://github.com/langchain-ai/langchain/issues/1497\n",
    "    model = ConversationalRetrievalChain.from_llm(\n",
    "        llm=llm,\n",
    "        retriever=retriever,\n",
    "        memory=memory,\n",
    "        combine_docs_chain_kwargs={\"prompt\": QA_PROMPT})\n",
    "    return model\n",
    "\n",
    "\n",
    "def get_condense_prompt_qa_chain(llm):\n",
    "    retriever = load_retriever()\n",
    "    memory = ConversationBufferMemory(\n",
    "        memory_key=\"chat_history\", return_messages=True)\n",
    "    # see: https://github.com/langchain-ai/langchain/issues/5890\n",
    "    model = ConversationalRetrievalChain.from_llm(\n",
    "        llm=llm,\n",
    "        retriever=retriever,\n",
    "        memory=memory,\n",
    "        condense_question_prompt=CONDENSE_QUESTION_PROMPT,\n",
    "        combine_docs_chain_kwargs={\"prompt\": QA_PROMPT})\n",
    "    return model\n",
    "\n",
    "\n",
    "def get_qa_with_sources_chain(llm):\n",
    "    retriever = load_retriever()\n",
    "    history = []\n",
    "    model = ConversationalRetrievalChain.from_llm(\n",
    "        llm=llm,\n",
    "        retriever=retriever,\n",
    "        return_source_documents=True)\n",
    "\n",
    "    def model_func(question):\n",
    "        # bug: this doesn't work with the built-in memory\n",
    "        # hacking around it for the tutorial\n",
    "        # see: https://github.com/langchain-ai/langchain/issues/5630\n",
    "        new_input = {\"question\": question['question'], \"chat_history\": history}\n",
    "        result = model(new_input)\n",
    "        history.append((question['question'], result['answer']))\n",
    "        return result\n",
    "\n",
    "    return model_func\n",
    "\n",
    "\n",
    "chain_options = {\n",
    "    \"basic\": get_basic_qa_chain,\n",
    "    \"with_sources\": get_qa_with_sources_chain,\n",
    "    \"custom_prompt\": get_custom_prompt_qa_chain,\n",
    "    \"condense_prompt\": get_condense_prompt_qa_chain\n",
    "}"
   ]
  },
  {
   "cell_type": "code",
   "execution_count": 26,
   "id": "4a99cb48-0cb8-444b-8e3b-2b3d05e18180",
   "metadata": {
    "tags": []
   },
   "outputs": [],
   "source": [
    "generate_text = pipeline(model=\"databricks/dolly-v2-3b\", torch_dtype=torch.bfloat16,\n",
    "                         trust_remote_code=True, return_full_text=True, device_map=\"auto\")\n",
    "hf_pipeline = HuggingFacePipeline(pipeline=generate_text)\n",
    "\n",
    "chain = get_basic_qa_chain(llm=hf_pipeline)"
   ]
  },
  {
   "cell_type": "code",
   "execution_count": 27,
   "id": "4ce058e4-c10d-4d1c-96d6-959774f6dae5",
   "metadata": {},
   "outputs": [
    {
     "name": "stdout",
     "output_type": "stream",
     "text": [
      "Question ::  Which Company did Eli Lilly acquired?\n",
      "Answer ::  Eli Lilly acquired Sigilon, a biotechnology company that develops cell therapies for diabetes.\n",
      "History ::  [HumanMessage(content='Which Company did Eli Lilly acquired?', additional_kwargs={}, example=False), AIMessage(content='\\nEli Lilly acquired Sigilon, a biotechnology company that develops cell therapies for diabetes.', additional_kwargs={}, example=False)]\n"
     ]
    }
   ],
   "source": [
    "response = chain({\"question\": \"Which Company did Eli Lilly acquired?\"})\n",
    "print(\"Question ::  {}\".format(response['question']))\n",
    "print(\"Answer ::  {}\".format(response['answer'].strip()))\n",
    "print(\"History ::  {}\".format(response['chat_history']))"
   ]
  },
  {
   "cell_type": "code",
   "execution_count": 28,
   "id": "b295c57d-c667-4b94-b265-6077ab181da3",
   "metadata": {
    "tags": []
   },
   "outputs": [
    {
     "name": "stdout",
     "output_type": "stream",
     "text": [
      "Question ::  How much did they pay?\n",
      "Answer ::  The Offer was $14.92 per Share, net to the stockholder in cash, without interest, less any applicable tax withholding. Lilly paid 1,718,493 Shares for 76.61% of the issued and outstanding Shares.\n",
      "History ::  [HumanMessage(content='Which Company did Eli Lilly acquired?', additional_kwargs={}, example=False), AIMessage(content='\\nEli Lilly acquired Sigilon, a biotechnology company that develops cell therapies for diabetes.', additional_kwargs={}, example=False), HumanMessage(content='How much did they pay?', additional_kwargs={}, example=False), AIMessage(content='\\nThe Offer was $14.92 per Share, net to the stockholder in cash, without interest, less any applicable tax withholding. Lilly paid 1,718,493 Shares for 76.61% of the issued and outstanding Shares.', additional_kwargs={}, example=False)]\n"
     ]
    }
   ],
   "source": [
    "response = chain({\"question\": \"How much did they pay?\"})\n",
    "print(\"Question ::  {}\".format(response['question']))\n",
    "print(\"Answer ::  {}\".format(response['answer'].strip()))\n",
    "print(\"History ::  {}\".format(response['chat_history']))"
   ]
  },
  {
   "cell_type": "code",
   "execution_count": 29,
   "id": "aa585ecc-16e1-4ae3-a9c7-d373da0f0e4c",
   "metadata": {},
   "outputs": [
    {
     "name": "stdout",
     "output_type": "stream",
     "text": [
      "Question ::  Is Sigilon publicly listed in a stock market?\n",
      "Answer ::  Sigilon is an investor friendly company. Investors can log on to its website and conduct an independent securities research.\n",
      "History ::  [HumanMessage(content='Which Company did Eli Lilly acquired?', additional_kwargs={}, example=False), AIMessage(content='\\nEli Lilly acquired Sigilon, a biotechnology company that develops cell therapies for diabetes.', additional_kwargs={}, example=False), HumanMessage(content='How much did they pay?', additional_kwargs={}, example=False), AIMessage(content='\\nThe Offer was $14.92 per Share, net to the stockholder in cash, without interest, less any applicable tax withholding. Lilly paid 1,718,493 Shares for 76.61% of the issued and outstanding Shares.', additional_kwargs={}, example=False), HumanMessage(content='Is Sigilon publicly listed in a stock market?', additional_kwargs={}, example=False), AIMessage(content='\\nSigilon is an investor friendly company. Investors can log on to its website and conduct an independent securities research.', additional_kwargs={}, example=False)]\n"
     ]
    }
   ],
   "source": [
    "response = chain({\"question\": \"Is Sigilon publicly listed in a stock market?\"})\n",
    "print(\"Question ::  {}\".format(response['question']))\n",
    "print(\"Answer ::  {}\".format(response['answer'].strip()))\n",
    "print(\"History ::  {}\".format(response['chat_history']))"
   ]
  },
  {
   "cell_type": "code",
   "execution_count": null,
   "id": "aa7ef49d-7b26-4c21-b100-d3ac92b5170c",
   "metadata": {},
   "outputs": [],
   "source": []
  }
 ],
 "metadata": {
  "kernelspec": {
   "display_name": "conda_pytorch_p310",
   "language": "python",
   "name": "conda_pytorch_p310"
  },
  "language_info": {
   "codemirror_mode": {
    "name": "ipython",
    "version": 3
   },
   "file_extension": ".py",
   "mimetype": "text/x-python",
   "name": "python",
   "nbconvert_exporter": "python",
   "pygments_lexer": "ipython3",
   "version": "3.10.12"
  }
 },
 "nbformat": 4,
 "nbformat_minor": 5
}
