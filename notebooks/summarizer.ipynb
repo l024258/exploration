{
 "cells": [
  {
   "cell_type": "code",
   "execution_count": null,
   "id": "fc66b7a5",
   "metadata": {},
   "outputs": [],
   "source": [
    "import os\n",
    "import sys\n",
    "\n",
    "# Get the current working directory and add the parent directory to the Python path\n",
    "current_working_directory = os.getcwd()\n",
    "print(os.path.join(current_working_directory, \"..\"))\n",
    "sys.path.append(os.path.join(current_working_directory, \"..\"))"
   ]
  },
  {
   "cell_type": "code",
   "execution_count": null,
   "id": "0c4afd78",
   "metadata": {},
   "outputs": [],
   "source": [
    "from decouple import AutoConfig\n",
    "config = AutoConfig(search_path='./../.env')"
   ]
  },
  {
   "cell_type": "code",
   "execution_count": null,
   "id": "46a95c0c",
   "metadata": {},
   "outputs": [],
   "source": [
    "os.environ[\"AZURE_OPENAI_API_KEY\"] = config('OPENAI_API_KEY')\n",
    "os.environ[\"AZURE_OPENAI_ENDPOINT\"] = config('AZURE_ENDPOINT')"
   ]
  },
  {
   "cell_type": "markdown",
   "id": "7f92c356-c2ad-4678-9dfc-6c4546edd775",
   "metadata": {},
   "source": [
    "## Loading Answer Generation Model"
   ]
  },
  {
   "cell_type": "code",
   "execution_count": null,
   "id": "64601b35",
   "metadata": {},
   "outputs": [],
   "source": [
    "from models.llm import LLM\n",
    "\n",
    "model = LLM('gpt-3')\n",
    "llm = model.load_model()"
   ]
  },
  {
   "cell_type": "markdown",
   "id": "832d98f1-b037-4022-b5e0-d09f9ba065d6",
   "metadata": {},
   "source": [
    "## Input Document Ingestion"
   ]
  },
  {
   "cell_type": "code",
   "execution_count": null,
   "id": "b9b1fe3b-c538-474b-87cf-abc81c9dd65e",
   "metadata": {
    "tags": []
   },
   "outputs": [],
   "source": [
    "input_txt = \"\"\"\"Analysts have valued Reliance Industries Ltd’s new energy business at as much as Rs 2.36 lakh crore (Rs 350 per share), exceeding the market value of half of the benchmark Nifty index’s constituents.\n",
    "\n",
    "There are 25 companies in the 50-member Nifty index with a market capitalisation of less than Rs 2.36 lakh crore, according to a Moneycontrol analysis.\n",
    "\n",
    "Investor confidence in India’s largest conglomerate has surged on increased optimism about the prospects of the new energy unit, the expected demerger of the retail business, and increased free cash flow as capital expenditure needs ebb.\n",
    "\n",
    "The RIL stock has touched a new high, surpassing a market capitalisation milestone of Rs 20 lakh crore earlier this week after remaining within a range for the past three years. In January, mutual funds boosted their stake in the company, buying shares worth Rs 3,300 crore. As of January 31, RIL had the second-highest weight on the Nifty index after HDFC Bank.\n",
    "Analysts expect investors to remain bullish on the Reliance stock\n",
    "\n",
    "New energy\n",
    "Deven Choksey, managing director of DRChoksey FinServ, said that RIL already has a 5-10-year head start, while state-run companies are just showing interest in the renewables segment.\n",
    "\n",
    "“Reliance has moved considerably ahead in the renewables business. They have already created a complete ecosystem for producing green hydrogen. They have manufactured solar panels and have solar farms in place. They have a port-based presence in Jamnagar. They are probably upgrading new technology in the electrolyser process,” he said.\n",
    "\n",
    "Among brokerages, Goldman Sachs and Jefferies have assigned a value of more than Rs 300 to the new energy business. Nomura has ascribed the lowest value at Rs 182.\n",
    "\n",
    "The biggest trigger for this segment will be the commencement of the new energy giga complex in Gujarat. Following the announcement of fiscal third-quarter earnings, RIL chairman Mukesh Ambani said, “New Energy Giga Complex is all set to be commissioned in the second half of CY24.”\n",
    "\n",
    "The complex will include five giga factories for photovoltaic panels, fuel cell systems, green hydrogen, energy storage, and power electronics.\n",
    "\n",
    "Retail and Jio demerger\n",
    "“RIL is on a strong wicket for the next 3-5 years. The traditional E&P (exploration and production) and refining business will continue to generate cash flow, but the real value to RIL stock will come from new-age businesses,” according to a fund manager, who declined to be named as he owns the stock in his portfolio.\n",
    "\n",
    "At the current fair value, brokerages are ascribing Rs 1,300-1,400 to the retail business, almost half the entire stock price. With an overall store count of 18,774 stores, the retail business aims to reach every corner of India.\n",
    "\n",
    "Apart from that, the company has aggressively acquired companies across categories, from beverage maker Campa Cola to clothing company Ed-a-Mamma to online pharmacy Netmeds. It is also taking on the likes of Nykaa with the launch of Tira, an omnichannel beauty platform.\n",
    "\n",
    "A clutch of investors such as KKR, Abu Dhabi Investment Authority and Qatar Investment Authority put in fresh investments in Reliance Retail in 2023, boosting expectations of an IPO of the retail business soon.\n",
    "\n",
    "“Investments for Jio and Retail platforms have already been completed, and their B2C models are growing at around 20 percent. These two companies coming up for separate listing will create new market value for shareholders. That is the next trigger that investors will be looking out for. The stock is full of possibilities in every aspect,” Choksey said.\n",
    "\n",
    "For Jio, another big trigger is the bump up in ARPU (average revenue per user), which can be expected from a tariff hike post-election. Nomura expects ARPU to cross Rs 200 in FY25.\n",
    "\n",
    "Free cash flow\n",
    "Over the past few years, RIL was in aggressive capex mode for the retail segment and Jio’s 5G business. This is slowly tapering off. In Q3 FY24, the conglomerate’s capex stood at Rs 30,102 crore versus Rs 38,815 crore in the quarter-ago period.\n",
    "\n",
    "“Reliance has operated at material negative FCF (free cash flow) for the last three years, driven by spending in telecom. As that fades, with an EBITDA run-rate of $20 billion a year, Reliance is expected to deliver positive free cash flow for the next three years,” according to brokerage JPMorgan.\n",
    "\n",
    "Disclosure: Moneycontrol is a part of the Network18 group. Network18 is controlled by Independent Media Trust, of which Reliance Industries is the sole beneficiary.\n",
    "\n",
    "Disclaimer: The views and investment tips expressed by experts on Moneycontrol.com are their own and not those of the website or its management. Moneycontrol.com advises users to check with certified experts before taking any investment decisions.\n",
    "\"\"\""
   ]
  },
  {
   "cell_type": "code",
   "execution_count": null,
   "id": "76f30b79",
   "metadata": {},
   "outputs": [],
   "source": [
    "from langchain.text_splitter import RecursiveCharacterTextSplitter\n",
    "\n",
    "text_splitter = RecursiveCharacterTextSplitter(\n",
    "    separators=[\" \\n\\n \", \" \\n \"],\n",
    "    chunk_size=400,\n",
    "    chunk_overlap=0,\n",
    "    length_function=len,\n",
    ")"
   ]
  },
  {
   "cell_type": "code",
   "execution_count": null,
   "id": "59443f30-2ddd-4925-8eef-6ee56c81bc45",
   "metadata": {
    "tags": []
   },
   "outputs": [],
   "source": [
    "from langchain.docstore.document import Document\n",
    "\n",
    "texts = text_splitter.split_text(input_txt)\n",
    "docs = [Document(page_content=t) for t in texts]"
   ]
  },
  {
   "cell_type": "markdown",
   "id": "906824b5-c104-4e1e-8dea-806895863b09",
   "metadata": {},
   "source": [
    "## Summary Generation"
   ]
  },
  {
   "cell_type": "code",
   "execution_count": null,
   "id": "ef5d780e-0b15-482f-837b-54be6830f92d",
   "metadata": {
    "tags": []
   },
   "outputs": [],
   "source": [
    "from langchain.chains.llm import LLMChain\n",
    "from langchain.prompts import PromptTemplate\n",
    "from langchain.chains.combine_documents.stuff import StuffDocumentsChain\n",
    "\n",
    "# Define prompt\n",
    "prompt_template = \"\"\"Write a concise summary of the following:\n",
    "\"{text}\"\n",
    "CONCISE SUMMARY:\"\"\"\n",
    "prompt = PromptTemplate.from_template(prompt_template)\n",
    "\n",
    "llm_chain = LLMChain(llm=llm, prompt=prompt)"
   ]
  },
  {
   "cell_type": "code",
   "execution_count": null,
   "id": "48342d7b-a3e5-475f-bad6-fd230f8a8d02",
   "metadata": {
    "tags": []
   },
   "outputs": [],
   "source": [
    "# Define StuffDocumentsChain\n",
    "stuff_chain = StuffDocumentsChain(\n",
    "    llm_chain=llm_chain, document_variable_name=\"text\",\n",
    "    # verbose=True,\n",
    ")"
   ]
  },
  {
   "cell_type": "code",
   "execution_count": null,
   "id": "51eebf93-93c7-40f2-9093-c2aea8f642c7",
   "metadata": {
    "tags": []
   },
   "outputs": [],
   "source": [
    "result = stuff_chain.invoke(docs)\n",
    "result['output_text']"
   ]
  },
  {
   "cell_type": "code",
   "execution_count": null,
   "id": "ba868d0a-7413-4b0b-b706-b7dd62eef558",
   "metadata": {},
   "outputs": [],
   "source": []
  }
 ],
 "metadata": {
  "kernelspec": {
   "display_name": ".venv",
   "language": "python",
   "name": "python3"
  },
  "language_info": {
   "codemirror_mode": {
    "name": "ipython",
    "version": 3
   },
   "file_extension": ".py",
   "mimetype": "text/x-python",
   "name": "python",
   "nbconvert_exporter": "python",
   "pygments_lexer": "ipython3",
   "version": "3.8.16"
  }
 },
 "nbformat": 4,
 "nbformat_minor": 5
}
