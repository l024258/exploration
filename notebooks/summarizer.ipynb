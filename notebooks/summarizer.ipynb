{
 "cells": [
  {
   "cell_type": "code",
   "execution_count": 1,
   "id": "eb6685a0-e4d2-44e7-b462-de72376555b3",
   "metadata": {
    "tags": []
   },
   "outputs": [],
   "source": [
    "# %%capture\n",
    "# !pip install -r requirements.txt"
   ]
  },
  {
   "cell_type": "markdown",
   "id": "7f92c356-c2ad-4678-9dfc-6c4546edd775",
   "metadata": {},
   "source": [
    "## Loading Answer Generation Model"
   ]
  },
  {
   "cell_type": "code",
   "execution_count": 2,
   "id": "419da47a-1dd3-4724-9954-57eee6d492f2",
   "metadata": {
    "tags": []
   },
   "outputs": [],
   "source": [
    "import torch\n",
    "from transformers import pipeline\n",
    "from langchain.llms import HuggingFacePipeline"
   ]
  },
  {
   "cell_type": "code",
   "execution_count": 11,
   "id": "c4fc327d-8168-4875-96be-b0db98579868",
   "metadata": {
    "tags": []
   },
   "outputs": [],
   "source": [
    "generate_text = pipeline(model=\"databricks/dolly-v2-3b\", torch_dtype=torch.bfloat16,\n",
    "                         trust_remote_code=True, return_full_text=True, device_map=\"auto\")\n",
    "hf_pipeline = HuggingFacePipeline(pipeline=generate_text)"
   ]
  },
  {
   "cell_type": "markdown",
   "id": "832d98f1-b037-4022-b5e0-d09f9ba065d6",
   "metadata": {},
   "source": [
    "## Input Document Ingestion"
   ]
  },
  {
   "cell_type": "code",
   "execution_count": 4,
   "id": "d8914895-b69d-490c-9564-9623ca85fce4",
   "metadata": {
    "tags": []
   },
   "outputs": [],
   "source": [
    "from langchain.text_splitter import CharacterTextSplitter\n",
    "text_splitter = CharacterTextSplitter(chunk_size=600, separator=\"\\n\")"
   ]
  },
  {
   "cell_type": "code",
   "execution_count": 5,
   "id": "b9b1fe3b-c538-474b-87cf-abc81c9dd65e",
   "metadata": {
    "tags": []
   },
   "outputs": [],
   "source": [
    "input_txt = \"\"\"\"NDIANAPOLIS, Aug. 14, 2023 /PRNewswire/ -- Eli Lilly and Company (NYSE: LLY) today announced the successful completion of its acquisition of Sigilon Therapeutics, Inc. (NASDAQ: SGTX). The acquisition allows Lilly to continue researching and developing encapsulated cell therapies, including SIG-002, for the treatment of type 1 diabetes.\n",
    "\n",
    "\"Make life better – that's the phrase that guides everything we do at Lilly,\" said Ruth Gimeno, Ph.D., group vice president, diabetes, obesity and cardiometabolic research at Lilly. \"We are excited to welcome our new colleagues from Sigilon to Lilly; together, we will strive to provide solutions for people living with type 1 diabetes that absolves them of constant disease management, and advance Sigilon's technology for patients.\"\n",
    "\n",
    "The Offer and the Merger\n",
    "\n",
    "As previously announced, Lilly and Sigilon entered into a Merger Agreement dated as of June 28, 2023, and pursuant thereto, on July 13, 2023, Lilly and a wholly owned subsidiary (\"Purchaser\") commenced a tender offer (the \"Offer\") to purchase all of the issued and outstanding shares (\"Shares\") of Sigilon's common stock in exchange for (a) $14.92 per Share, net to the stockholder in cash, without interest (the \"Cash Consideration\") and less any applicable tax withholding, plus (b) one non-tradable contingent value right (\"CVR\" and, together with the Cash Consideration, the \"Offer Price\") per Share, which represents the contractual right to receive contingent payments of up to $111.64 per Share in cash, net to the stockholder in cash, without interest and less any applicable tax withholding, upon the achievement of certain specified milestones. There can be no assurance that any payments will be made with respect to the CVRs. The Offer expired as scheduled on Aug. 9, 2023, with 1,718,493 Shares validly tendered and not validly withdrawn, which together with Shares previously owned by Lilly, represented 76.61% of the issued and outstanding Shares. In accordance with the terms of the Offer, Purchaser accepted for payment all such validly tendered and not validly withdrawn Shares.\n",
    "\n",
    "Following consummation of the Offer, on Aug. 11, 2023, Lilly completed its acquisition of Sigilon through the merger of Purchaser with and into Sigilon in accordance with Section 251(h) of the General Corporation Law of the State of Delaware), with Sigilon surviving such merger as a wholly owned subsidiary of Lilly. In connection with the merger, each Share issued and outstanding immediately prior to the effective time of the merger (other than (i) Shares held in Sigilon's treasury or owned by Sigilon, or owned by Lilly, Purchaser or any direct or indirect wholly-owned subsidiary of Lilly or Purchaser or (ii) Shares held by any stockholder of Sigilon who was entitled to demand and properly demanded appraisal for such Shares in accordance with Section 262 of the DGCL), including each Share that was subject to vesting or forfeiture restrictions granted pursuant to a Sigilon equity incentive plan, program or arrangement, was canceled and converted into the right to receive the Offer Price, without interest, less any applicable tax withholding. Sigilon's common stock has been delisted from the NASDAQ Global Select Market and will be deregistered under the Securities Exchange Act of 1934, as amended.\n",
    "\n",
    "For Lilly, Morgan, Lewis & Bockius LLP is acting as legal counsel. For Sigilon, Lazard is acting as lead financial advisor and Ropes & Gray LLP is acting as legal counsel. Canaccord Genuity also acted as financial advisor to Sigilon.\n",
    "\n",
    "About Lilly \n",
    "\n",
    "Lilly unites caring with discovery to create medicines that make life better for people around the world. We've been pioneering life-changing discoveries for nearly 150 years, and today our medicines help more than 51 million people across the globe. Harnessing the power of biotechnology, chemistry and genetic medicine, our scientists are urgently advancing new discoveries to solve some of the world's most significant health challenges, redefining diabetes care, treating obesity and curtailing its most devastating long-term effects, advancing the fight against Alzheimer's disease, providing solutions to some of the most debilitating immune system disorders, and transforming the most difficult-to-treat cancers into manageable diseases. With each step toward a healthier world, we're motivated by one thing: making life better for millions more people. That includes delivering innovative clinical trials that reflect the diversity of our world and working to ensure our medicines are accessible and affordable. To learn more, visit Lilly.com and Lilly.com/newsroom or follow us on Facebook, Instagram, Twitter and LinkedIn. C-LLY\n",
    "\n",
    "Cautionary Statement Regarding Forward-Looking Statements\n",
    "\n",
    "This press release contains forward-looking statements regarding Lilly's acquisition of Sigilon. All statements other than statements of historical fact are statements that could be deemed forward-looking statements. Forward-looking statements reflect current beliefs and expectations; however, these statements involve inherent risks and uncertainties, including with respect to drug research, development and commercialization, Lilly's evaluation of the accounting treatment of the acquisition and its impact on its financial results and financial guidance, the effects of the acquisition on Sigilon's relationships with key third parties or governmental entities, transaction costs, risks that the acquisition disrupts current plans and operations or adversely affects employee retention, and any legal proceedings that may be instituted related to the acquisition. Actual results could differ materially due to various factors, risks and uncertainties. Among other things, there can be no guarantee that Lilly will realize the expected benefits of the acquisition, that product candidates will be approved on anticipated timelines or at all, that any products, if approved, will be commercially successful, that all or any of the contingent consideration will become payable on the terms described herein or at all, that Lilly's financial results will be consistent with its expected 2023 guidance or that Lilly can reliably predict the impact of the acquisition on its financial results or financial guidance. For further discussion of these and other risks and uncertainties, see Lilly's most recent Form 10-K and Form 10-Q filings with the United States Securities and Exchange Commission. Except as required by law, Lilly does not undertake any duty to update forward-looking statements to reflect events after the date of this press release.\n",
    "\n",
    "\"\"\""
   ]
  },
  {
   "cell_type": "code",
   "execution_count": 6,
   "id": "59443f30-2ddd-4925-8eef-6ee56c81bc45",
   "metadata": {
    "tags": []
   },
   "outputs": [
    {
     "name": "stderr",
     "output_type": "stream",
     "text": [
      "Created a chunk of size 1296, which is longer than the specified 600\n",
      "Created a chunk of size 1214, which is longer than the specified 600\n",
      "Created a chunk of size 1138, which is longer than the specified 600\n"
     ]
    }
   ],
   "source": [
    "from langchain.docstore.document import Document\n",
    "\n",
    "texts = text_splitter.split_text(input_txt)\n",
    "docs = [Document(page_content=t) for t in texts]"
   ]
  },
  {
   "cell_type": "markdown",
   "id": "906824b5-c104-4e1e-8dea-806895863b09",
   "metadata": {},
   "source": [
    "## Summary Generation"
   ]
  },
  {
   "cell_type": "code",
   "execution_count": 12,
   "id": "ef5d780e-0b15-482f-837b-54be6830f92d",
   "metadata": {
    "tags": []
   },
   "outputs": [],
   "source": [
    "from langchain.chains.llm import LLMChain\n",
    "from langchain.prompts import PromptTemplate\n",
    "from langchain.chains.combine_documents.stuff import StuffDocumentsChain\n",
    "\n",
    "# Define prompt\n",
    "prompt_template = \"\"\"Write a concise summary of the following:\n",
    "\"{text}\"\n",
    "CONCISE SUMMARY:\"\"\"\n",
    "prompt = PromptTemplate.from_template(prompt_template)\n",
    "\n",
    "llm_chain = LLMChain(llm=hf_pipeline, prompt=prompt)"
   ]
  },
  {
   "cell_type": "code",
   "execution_count": 13,
   "id": "48342d7b-a3e5-475f-bad6-fd230f8a8d02",
   "metadata": {
    "tags": []
   },
   "outputs": [],
   "source": [
    "# Define StuffDocumentsChain\n",
    "stuff_chain = StuffDocumentsChain(\n",
    "    llm_chain=llm_chain, document_variable_name=\"text\",\n",
    "    verbose=True,\n",
    ")"
   ]
  },
  {
   "cell_type": "code",
   "execution_count": 14,
   "id": "51eebf93-93c7-40f2-9093-c2aea8f642c7",
   "metadata": {
    "tags": []
   },
   "outputs": [
    {
     "name": "stdout",
     "output_type": "stream",
     "text": [
      "\n",
      "\n",
      "\u001b[1m> Entering new StuffDocumentsChain chain...\u001b[0m\n",
      "\n",
      "\u001b[1m> Finished chain.\u001b[0m\n"
     ]
    },
    {
     "data": {
      "text/plain": [
       "\"\\nLilly acquired Sigilon, a cell therapy company, in a $14.92 per share offer plus $111.64 per share in cash contingent payments upon achievement of specified clinical trial milestones. The transaction was approved by the shareholders of Lilly and the FDA and awaits approval by the EU Commission. The combined entity plans to develop cell therapies for treating type 1 diabetes, with a particular focus on ALPC-208, which Lilly has been developing in a Phase 3 trial for over 3 years. ALPC-208 is in development for the treatment of steroid-induced diabetes. Successfully completing ALPC-208 trial milestones would provide Lilly with the right to request a supplemental New Drug Application for Sigilon's SIG-002 trial, which tests the safety and efficacy of ALPC-208 in adults with type 1 diabetes.\""
      ]
     },
     "execution_count": 14,
     "metadata": {},
     "output_type": "execute_result"
    }
   ],
   "source": [
    "stuff_chain.run(docs)"
   ]
  },
  {
   "cell_type": "code",
   "execution_count": null,
   "id": "ba868d0a-7413-4b0b-b706-b7dd62eef558",
   "metadata": {},
   "outputs": [],
   "source": []
  }
 ],
 "metadata": {
  "kernelspec": {
   "display_name": "conda_pytorch_p310",
   "language": "python",
   "name": "conda_pytorch_p310"
  },
  "language_info": {
   "codemirror_mode": {
    "name": "ipython",
    "version": 3
   },
   "file_extension": ".py",
   "mimetype": "text/x-python",
   "name": "python",
   "nbconvert_exporter": "python",
   "pygments_lexer": "ipython3",
   "version": "3.10.12"
  }
 },
 "nbformat": 4,
 "nbformat_minor": 5
}
