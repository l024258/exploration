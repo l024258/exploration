{
 "cells": [
  {
   "cell_type": "code",
   "execution_count": 1,
   "metadata": {},
   "outputs": [
    {
     "name": "stdout",
     "output_type": "stream",
     "text": [
      "/Users/L024258/lilly_work/github-copilot/exploration/notebooks/..\n"
     ]
    }
   ],
   "source": [
    "import os\n",
    "import sys\n",
    "\n",
    "# Get the current working directory and add the parent directory to the Python path\n",
    "current_working_directory = os.getcwd()\n",
    "print(os.path.join(current_working_directory, \"..\"))\n",
    "sys.path.append(os.path.join(current_working_directory, \"..\"))"
   ]
  },
  {
   "cell_type": "code",
   "execution_count": 2,
   "metadata": {},
   "outputs": [],
   "source": [
    "from decouple import AutoConfig\n",
    "config = AutoConfig(search_path='./../.env')\n",
    "\n",
    "os.environ[\"AZURE_OPENAI_API_KEY\"] = config('OPENAI_API_KEY')\n",
    "os.environ[\"AZURE_OPENAI_ENDPOINT\"] = config('AZURE_ENDPOINT')"
   ]
  },
  {
   "cell_type": "code",
   "execution_count": 3,
   "metadata": {},
   "outputs": [],
   "source": [
    "from langchain_openai import AzureChatOpenAI"
   ]
  },
  {
   "cell_type": "code",
   "execution_count": 4,
   "metadata": {},
   "outputs": [],
   "source": [
    "from typing import Any\n",
    "\n",
    "\n",
    "class Agent():\n",
    "    def __init__(self, sys_msg=\"\"):\n",
    "        self.sys_msg = sys_msg\n",
    "        self.model = AzureChatOpenAI(\n",
    "                openai_api_version=config('AZURE_CHAT_OPENAI_API_VERSION'),\n",
    "                azure_deployment=config('AZURE_GPT4_CHAT_OPENAI_DEPLOYMENT'),\n",
    "                temperature=0,\n",
    "                max_tokens=1024\n",
    "            )\n",
    "        self.messages = []\n",
    "        if sys_msg:\n",
    "            self.messages.append({\"role\": \"system\", \"content\": sys_msg})\n",
    "\n",
    "    def __call__(self, message):\n",
    "        self.messages.append({\"role\": \"user\", \"content\": message})\n",
    "        result = self.execute()\n",
    "        self.messages.append({\"role\": \"assistant\", \"content\": result})\n",
    "        return result\n",
    "    \n",
    "    def execute(self):\n",
    "        completion = self.model.invoke(self.messages)\n",
    "        return completion.content\n",
    "        "
   ]
  },
  {
   "cell_type": "code",
   "execution_count": 5,
   "metadata": {},
   "outputs": [],
   "source": [
    "prompt = \"\"\"\n",
    "You run in a loop of Thought, Action, PAUSE, Observation.\n",
    "At the end of the loop you output an Answer\n",
    "Use Thought to describe your thoughts about the question you have been asked.\n",
    "Use Action to run one of the actions available to you - then return PAUSE.\n",
    "Observation will be the result of running those actions.\n",
    "\n",
    "Your available actions are:\n",
    "\n",
    "calculate Simple Interest:\n",
    "e.g. calculate_si: 1000, 5, 10\n",
    "Runs calculate_si and returns the simple interest\n",
    "\n",
    "calculate Compound Interest:\n",
    "e.g. calculate_ci: 1000, 5, 10\n",
    "Runs calculate_ci and returns the compound interest\n",
    "\n",
    "Example session:\n",
    "\n",
    "Question: What is the simple interest on a loan of 1000 INR at 5% for 10 years?\n",
    "Thought: I should calculate the simple interest using calculate_si function\n",
    "Action: calculate_si: 1000, 5, 10\n",
    "PAUSE\n",
    "\n",
    "You will be called again with this:\n",
    "\n",
    "Observation: 500\n",
    "\n",
    "You then output:\n",
    "\n",
    "Answer: Simple interest is 500 INR.\n",
    "\"\"\".strip()"
   ]
  },
  {
   "cell_type": "code",
   "execution_count": 6,
   "metadata": {},
   "outputs": [],
   "source": [
    "def calculate_si(p, r, t):\n",
    "    return (p * r * t) / 100\n",
    "\n",
    "def calculate_ci(p, r, t):\n",
    "    return p * (1 + r / 100) ** t - p\n",
    "\n",
    "known_actions = {\n",
    "    \"calculate_si\": calculate_si,\n",
    "    \"calculate_ci\": calculate_ci\n",
    "}"
   ]
  },
  {
   "cell_type": "markdown",
   "metadata": {},
   "source": [
    "#### Example 1"
   ]
  },
  {
   "cell_type": "code",
   "execution_count": 7,
   "metadata": {},
   "outputs": [],
   "source": [
    "cbot = Agent(prompt)"
   ]
  },
  {
   "cell_type": "code",
   "execution_count": 8,
   "metadata": {},
   "outputs": [
    {
     "name": "stdout",
     "output_type": "stream",
     "text": [
      "Thought: I should calculate the simple interest using calculate_si function\n",
      "Action: calculate_si: 1000, 5, 10\n",
      "PAUSE\n"
     ]
    }
   ],
   "source": [
    "result = cbot(\"What is the simple interest on a loan of 1000 USD at 5% for 10 years?\")\n",
    "print(result)"
   ]
  },
  {
   "cell_type": "code",
   "execution_count": 9,
   "metadata": {},
   "outputs": [
    {
     "name": "stdout",
     "output_type": "stream",
     "text": [
      "500.0\n"
     ]
    }
   ],
   "source": [
    "result = calculate_si(1000, 5, 10)\n",
    "print(result)"
   ]
  },
  {
   "cell_type": "code",
   "execution_count": 10,
   "metadata": {},
   "outputs": [
    {
     "data": {
      "text/plain": [
       "'Answer: The simple interest is 500.0 USD.'"
      ]
     },
     "execution_count": 10,
     "metadata": {},
     "output_type": "execute_result"
    }
   ],
   "source": [
    "next_prompt = \"Observation: {}\".format(result)\n",
    "cbot(next_prompt)"
   ]
  },
  {
   "cell_type": "code",
   "execution_count": 11,
   "metadata": {},
   "outputs": [
    {
     "data": {
      "text/plain": [
       "[{'role': 'system',\n",
       "  'content': 'You run in a loop of Thought, Action, PAUSE, Observation.\\nAt the end of the loop you output an Answer\\nUse Thought to describe your thoughts about the question you have been asked.\\nUse Action to run one of the actions available to you - then return PAUSE.\\nObservation will be the result of running those actions.\\n\\nYour available actions are:\\n\\ncalculate Simple Interest:\\ne.g. calculate_si: 1000, 5, 10\\nRuns calculate_si and returns the simple interest\\n\\ncalculate Compound Interest:\\ne.g. calculate_ci: 1000, 5, 10\\nRuns calculate_ci and returns the compound interest\\n\\nExample session:\\n\\nQuestion: What is the simple interest on a loan of 1000 INR at 5% for 10 years?\\nThought: I should calculate the simple interest using calculate_si function\\nAction: calculate_si: 1000, 5, 10\\nPAUSE\\n\\nYou will be called again with this:\\n\\nObservation: 500\\n\\nYou then output:\\n\\nAnswer: Simple interest is 500 INR.'},\n",
       " {'role': 'user',\n",
       "  'content': 'What is the simple interest on a loan of 1000 USD at 5% for 10 years?'},\n",
       " {'role': 'assistant',\n",
       "  'content': 'Thought: I should calculate the simple interest using calculate_si function\\nAction: calculate_si: 1000, 5, 10\\nPAUSE'},\n",
       " {'role': 'user', 'content': 'Observation: 500.0'},\n",
       " {'role': 'assistant', 'content': 'Answer: The simple interest is 500.0 USD.'}]"
      ]
     },
     "execution_count": 11,
     "metadata": {},
     "output_type": "execute_result"
    }
   ],
   "source": [
    "cbot.messages"
   ]
  },
  {
   "cell_type": "markdown",
   "metadata": {},
   "source": [
    "#### Example 2"
   ]
  },
  {
   "cell_type": "code",
   "execution_count": 12,
   "metadata": {},
   "outputs": [],
   "source": [
    "cbot = Agent(prompt)"
   ]
  },
  {
   "cell_type": "code",
   "execution_count": 13,
   "metadata": {},
   "outputs": [],
   "source": [
    "question = \"What are the simple and compound interest on a loan of 1000 USD at 5% for 10 years?\""
   ]
  },
  {
   "cell_type": "code",
   "execution_count": 14,
   "metadata": {},
   "outputs": [
    {
     "name": "stdout",
     "output_type": "stream",
     "text": [
      "Thought: I should calculate the simple interest first using calculate_si function and then calculate the compound interest using calculate_ci function.\n",
      "Action: calculate_si: 1000, 5, 10\n",
      "PAUSE\n"
     ]
    }
   ],
   "source": [
    "response = cbot(question)\n",
    "print(response)"
   ]
  },
  {
   "cell_type": "code",
   "execution_count": 15,
   "metadata": {},
   "outputs": [
    {
     "name": "stdout",
     "output_type": "stream",
     "text": [
      "Observation: 500.0\n"
     ]
    }
   ],
   "source": [
    "next_prompt = \"Observation: {}\".format(calculate_si(1000, 5, 10))\n",
    "print(next_prompt)"
   ]
  },
  {
   "cell_type": "code",
   "execution_count": 16,
   "metadata": {},
   "outputs": [
    {
     "name": "stdout",
     "output_type": "stream",
     "text": [
      "Thought: Now that I have calculated the simple interest, I should calculate the compound interest using calculate_ci function.\n",
      "Action: calculate_ci: 1000, 5, 10\n",
      "PAUSE\n"
     ]
    }
   ],
   "source": [
    "response = cbot(next_prompt)\n",
    "print(response)"
   ]
  },
  {
   "cell_type": "code",
   "execution_count": 17,
   "metadata": {},
   "outputs": [
    {
     "name": "stdout",
     "output_type": "stream",
     "text": [
      "Observation: 628.894626777442\n"
     ]
    }
   ],
   "source": [
    "next_prompt = \"Observation: {}\".format(calculate_ci(1000, 5, 10))\n",
    "print(next_prompt)"
   ]
  },
  {
   "cell_type": "code",
   "execution_count": 18,
   "metadata": {},
   "outputs": [
    {
     "name": "stdout",
     "output_type": "stream",
     "text": [
      "Answer: The simple interest is 500.0 USD and the compound interest is approximately 628.89 USD.\n"
     ]
    }
   ],
   "source": [
    "response = cbot(next_prompt)\n",
    "print(response)"
   ]
  },
  {
   "cell_type": "markdown",
   "metadata": {},
   "source": [
    "### Lopping the Agent Exeution"
   ]
  },
  {
   "cell_type": "code",
   "execution_count": 37,
   "metadata": {},
   "outputs": [],
   "source": [
    "import re\n",
    "action_re = re.compile('^Action: (\\w+): (.*)$')\n",
    "answer_re = re.compile('^Answer: (.*)$')"
   ]
  },
  {
   "cell_type": "code",
   "execution_count": 41,
   "metadata": {},
   "outputs": [],
   "source": [
    "def query_cbot(question):\n",
    "    cbot = Agent(prompt)\n",
    "    next_prompt = question\n",
    "    while True:\n",
    "        response = cbot(next_prompt)\n",
    "        print(response)\n",
    "        if answer_re.match(response):\n",
    "            print(\"Execution Complete\")\n",
    "            return\n",
    "        actions = [action_re.match(r) for r in response.split('\\n') if action_re.match(r)]\n",
    "        if actions:\n",
    "            action, args = actions[0].groups()\n",
    "            args = [eval(x) for x in args.split(', ')]\n",
    "            result = known_actions[action](*args)\n",
    "            next_prompt = \"Observation: {}\".format(result)"
   ]
  },
  {
   "cell_type": "code",
   "execution_count": 42,
   "metadata": {},
   "outputs": [],
   "source": [
    "question = \"What are the simple and compound interest on a loan of 1000 USD at 5% for 10 years?\""
   ]
  },
  {
   "cell_type": "code",
   "execution_count": 43,
   "metadata": {},
   "outputs": [
    {
     "name": "stdout",
     "output_type": "stream",
     "text": [
      "Thought: I need to calculate both the simple and compound interest. I'll start with the simple interest using the calculate_si function.\n",
      "Action: calculate_si: 1000, 5, 10\n",
      "PAUSE\n",
      "Thought: Now that I have the simple interest, I need to calculate the compound interest using the calculate_ci function.\n",
      "Action: calculate_ci: 1000, 5, 10\n",
      "PAUSE\n",
      "Answer: The simple interest is 500.0 USD and the compound interest is approximately 628.89 USD.\n",
      "Execution Complete\n"
     ]
    }
   ],
   "source": [
    "query_cbot(question)"
   ]
  },
  {
   "cell_type": "code",
   "execution_count": null,
   "metadata": {},
   "outputs": [],
   "source": []
  }
 ],
 "metadata": {
  "kernelspec": {
   "display_name": ".venv",
   "language": "python",
   "name": "python3"
  },
  "language_info": {
   "codemirror_mode": {
    "name": "ipython",
    "version": 3
   },
   "file_extension": ".py",
   "mimetype": "text/x-python",
   "name": "python",
   "nbconvert_exporter": "python",
   "pygments_lexer": "ipython3",
   "version": "3.10.7"
  }
 },
 "nbformat": 4,
 "nbformat_minor": 2
}
