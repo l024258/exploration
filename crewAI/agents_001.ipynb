{
 "cells": [
  {
   "cell_type": "code",
   "execution_count": 1,
   "metadata": {},
   "outputs": [
    {
     "name": "stdout",
     "output_type": "stream",
     "text": [
      "/Users/L024258/lilly_work/github-copilot/exploration/crewAI/..\n"
     ]
    }
   ],
   "source": [
    "import os\n",
    "import sys\n",
    "import datetime\n",
    "import pprint\n",
    "\n",
    "# Get the current working directory and add the parent directory to the Python path\n",
    "current_working_directory = os.getcwd()\n",
    "print(os.path.join(current_working_directory, \"..\"))\n",
    "sys.path.append(os.path.join(current_working_directory, \"..\"))"
   ]
  },
  {
   "cell_type": "code",
   "execution_count": 2,
   "metadata": {},
   "outputs": [
    {
     "data": {
      "text/plain": [
       "AzureChatOpenAI(client=<openai.resources.chat.completions.Completions object at 0x10cf6f1f0>, async_client=<openai.resources.chat.completions.AsyncCompletions object at 0x10cf98b50>, root_client=<openai.lib.azure.AzureOpenAI object at 0x109ed5990>, root_async_client=<openai.lib.azure.AsyncAzureOpenAI object at 0x10cf6f220>, temperature=0.0, max_tokens=4096, deployment_name='gpt-4o-mini', openai_api_version='2023-05-15')"
      ]
     },
     "execution_count": 2,
     "metadata": {},
     "output_type": "execute_result"
    }
   ],
   "source": [
    "from models.llm import LLM\n",
    "\n",
    "model = LLM('gpt-4o-mini')\n",
    "llm = model.load_model()\n",
    "llm"
   ]
  },
  {
   "cell_type": "code",
   "execution_count": 3,
   "metadata": {},
   "outputs": [],
   "source": [
    "os.environ[\"OTEL_SDK_DISABLED\"] = \"true\"\n",
    "os.environ[\"CREWAI_TELEMETRY_OPT_OUT\"] = \"true\""
   ]
  },
  {
   "cell_type": "markdown",
   "metadata": {},
   "source": [
    "### Search Tools"
   ]
  },
  {
   "cell_type": "markdown",
   "metadata": {},
   "source": [
    "#### Tavily Search\n",
    "\n",
    "1000 search credit / month"
   ]
  },
  {
   "cell_type": "code",
   "execution_count": 4,
   "metadata": {},
   "outputs": [],
   "source": [
    "from langchain_community.tools import TavilySearchResults\n",
    "\n",
    "tavily_search = TavilySearchResults(\n",
    "    max_results=5,\n",
    "    search_depth=\"advanced\",\n",
    "    include_answer=False,\n",
    "    include_raw_content=True,\n",
    "    include_images=True,\n",
    "    # include_domains=[...],\n",
    "    # exclude_domains=[...],\n",
    "    # name=\"...\",            # overwrite default tool name\n",
    "    # description=\"...\",     # overwrite default tool description\n",
    "    # args_schema=...,       # overwrite default args_schema: BaseModel\n",
    ")\n"
   ]
  },
  {
   "cell_type": "code",
   "execution_count": 5,
   "metadata": {},
   "outputs": [
    {
     "name": "stdout",
     "output_type": "stream",
     "text": [
      "[{'url': 'https://www.hindustantimes.com/business/stock-market-crash-today-sensex-nifty-us-federal-rate-cut-101734578317776.html',\n",
      "  'content': 'Market yesterday Stock market crash today: On Wednesday, the '\n",
      "             'Sensex closed at 80,182.20 points, down 502.25 points or 0.62 '\n",
      "             'per cent, while the Nifty ended at 24,198.85 points, declining '\n",
      "             'by 137.15'},\n",
      " {'url': 'https://economictimes.indiatimes.com/markets/stocks/news/rs-6-lakh-crore-wiped-out-as-sensex-nifty-slide-1-each-key-factors-behind-todays-market-crash/articleshow/113893073.cms',\n",
      "  'content': 'Stock Market Crash Today: Sensex fell steeply by over 1,750 '\n",
      "             'points and Nifty50 dropped to 25,250 due to heightened Middle '\n",
      "             'East tensions. Iran launched missiles at Israel, causing '\n",
      "             \"investor worry. Rising oil prices and SEBI's F&O measures also \"\n",
      "             'impacted market sentiment. Concern over resurgent Chinese stocks '\n",
      "             'led to significant fund outflows from India.'},\n",
      " {'url': 'https://economictimes.indiatimes.com/markets/stocks/news/rs-6-8-lakh-crore-wiped-out-sensex-tanks-984-points-nifty-below-23600-as-as-inflation-fears-trigger-sell-off/articleshow/115253653.cms',\n",
      "  'content': 'Indian stock markets experienced a significant drop on '\n",
      "             'Wednesday, with the Sensex plummeting over 980 points and the '\n",
      "             'Nifty falling below 23,600. This decline was primarily fueled by '\n",
      "             'a surge in inflation, which dampened expectations of an interest '\n",
      "             'rate cut in the near future. The slump was further exacerbated '\n",
      "             'by disappointing corporate earnings and a consistent outflow of '\n",
      "             'foreign investments.'},\n",
      " {'url': 'https://www.business-standard.com/markets/news/stock-market-live-updates-today-september-6-sensex-nifty-nse-bse-ril-bonus-bazaar-style-ipo-124090600078_1.html',\n",
      "  'content': 'Market Crash Close Highlights, Friday, September 6, 2024: Indian '\n",
      "             'benchmark indices BSE Sensex and Nifty 50 dropped more than 1 '\n",
      "             'per cent each to close deep in the red on Friday, as the Indian '\n",
      "             'markets were buffeted by regulatory headwinds, while some '\n",
      "             'investors likely booked profits at record levels before the '\n",
      "             'release of US jobs and payrolls data later in the day in the '\n",
      "             'US.'},\n",
      " {'url': 'https://www.indiatoday.in/business/story/stock-market-down-today-sensex-nifty-fall-q3-results-tcs-volatility-on-dalal-street-2662039-2025-01-09',\n",
      "  'content': 'The S&P BSE Sensex fell over 500 points in early trade to hit a '\n",
      "             \"day's low of 77,668.72, while the Nifty50 fell to 23,537.95. \"\n",
      "             'Around 11:05 am, Sensex was trading 448.21 points lower at '\n",
      "             '77,700.28 and Nifty was down 142.85 points to 23,546.10.'}]\n"
     ]
    }
   ],
   "source": [
    "results = tavily_search.invoke({\"query\": \"What happened with the SENSEX yesterday?\"})\n",
    "pprint.pp(results)"
   ]
  },
  {
   "cell_type": "markdown",
   "metadata": {},
   "source": [
    "#### Serper Search\n",
    "\n",
    "Total: 2500 search credit free"
   ]
  },
  {
   "cell_type": "code",
   "execution_count": 6,
   "metadata": {},
   "outputs": [],
   "source": [
    "from langchain_community.utilities import GoogleSerperAPIWrapper\n",
    "\n",
    "# serper_search = GoogleSerperAPIWrapper()"
   ]
  },
  {
   "cell_type": "code",
   "execution_count": 7,
   "metadata": {},
   "outputs": [],
   "source": [
    "# results = serper_search.results(\"Studies on cardiovascular impacts of weight loss drug from Lilly?\")\n"
   ]
  },
  {
   "cell_type": "markdown",
   "metadata": {},
   "source": [
    "### Crew with single agent and single task"
   ]
  },
  {
   "cell_type": "code",
   "execution_count": 8,
   "metadata": {},
   "outputs": [
    {
     "name": "stderr",
     "output_type": "stream",
     "text": [
      "2025-01-10 14:14:18,376 - 8638448192 - __init__.py-__init__:1231 - WARNING: SDK is disabled.\n",
      "2025-01-10 14:14:18,381 - 8638448192 - __init__.py-__init__:1231 - WARNING: SDK is disabled.\n",
      "2025-01-10 14:14:18,384 - 8638448192 - manager.py-manager:293 - WARNING: Error in StdOutCallbackHandler.on_chain_start callback: AttributeError(\"'NoneType' object has no attribute 'get'\")\n"
     ]
    },
    {
     "name": "stdout",
     "output_type": "stream",
     "text": [
      "\u001b[1m\u001b[95m [2025-01-10 14:14:18][DEBUG]: == Working Agent: Researcher\u001b[00m\n",
      "\u001b[1m\u001b[95m [2025-01-10 14:14:18][INFO]: == Starting Task: Find and summarize the latest AI news\u001b[00m\n",
      "\u001b[32;1m\u001b[1;3mI need to gather the latest AI news to provide a comprehensive summary. I'll use the search tool to find the most recent and relevant information.\n",
      "\n",
      "Action: tavily_search_results_json  \n",
      "Action Input: {\"query\":\"latest AI news\"}  \n",
      "\u001b[0m"
     ]
    },
    {
     "name": "stderr",
     "output_type": "stream",
     "text": [
      "2025-01-10 14:14:27,924 - 8638448192 - __init__.py-__init__:1231 - WARNING: SDK is disabled.\n"
     ]
    },
    {
     "name": "stdout",
     "output_type": "stream",
     "text": [
      "\u001b[95m \n",
      "\n",
      "[{'url': 'https://opentools.ai/news', 'content': \"Latest AI News: September 6, 2024 Australia Takes the Lead in AI Regulation with New Human Oversight Rules Australia's government announces plans to introduce specific AI rules focusing on human oversight an... OpenAI Co-Founder Sutskever's New AI Safety Startup SSI Secures $1 Billion in Funding! Amazon Bolsters AI Robotics by Hiring Covariant's Founders Amazon's latest move involves onboarding the founders of Covariant, a startup specializing in AI-dri... Stability AI Expands Horizons with New Models on Amazon Bedrock AI Set to Shake Up Oil Prices Over the Next Decade, Says Goldman Sachs Join 47,000+  learning AI in 3 minutes daily Join our free daily newsletter talking about AI News, AI Products, AI tutorials, and more.\"}, {'url': 'https://www.sciencedaily.com/news/computers_math/artificial_intelligence/', 'content': \"Nov. 12, 2024 — Researchers have developed PanoRadar, a new tool to give robots superhuman vision by transforming simple radio waves into detailed, 3D views of the ... Nov. 6, 2024 — Researchers have developed AI-driven mobile robots that can carry out chemical synthesis research with extraordinary efficiency. Researchers show how mobile robots that use AI logic to make decisions ... Oct. 28, 2024 — Inspired by large language models, researchers developed a training technique that pools diverse data to teach robots new ... Oct. 23, 2024 — Researchers give robots a sense of touch by 'listening' to vibrations, allowing them to identify materials, understand shapes and recognize objects just like human hands.\"}, {'url': 'https://www.pcmag.com/news/categories/ai', 'content': 'The Latest AI News and Analysis | PCMag The Best Gaming Laptops for 2024 #Top100BudgetBuys #ConnectedTraveler Best Products Comparisons Reviews How-To News Deals Ahead of his latest book launch, AI founder, critic, and NYU professor emeritus Gary Marcus shares his thoughts on AGI, industry backlash, and AI regulation in an interview with PCMag. 1 day ago By Kate Irwin Roblox Builds Open-Source 3D AI Model, Adds Tech for Faster Game Loading A tech startup is suing Microsoft and Nvidia over the pricing of hardware that powers AI computing in data centers. This AI Model Can Create a Super Mario Game Using a Text-to-Video Generator The MarioVGG project uses generative AI, rather than traditional game code, to simulate the classic Nintendo title.'}, {'url': 'https://www.wsj.com/tech/ai', 'content': \"4 min read\\nGo Ahead, Scroll Your Smartphone This Thanksgiving\\nGo Ahead, Scroll Your Smartphone This Thanksgiving\\nNovember 23, 2023\\n4 min read\\nRelated Topics\\nRelated Topics\\nWhat's News\\nInside the Secret Israel-Hamas Negotiations to Release 50 Hostages\\nInside the Secret Israel-Hamas Negotiations to Release 50 Hostages\\n6 hours ago\\nLong read\\nInside the Quest for the Next Hit Lego Set\\nInside the Quest for the Next Hit Lego Set\\n17 min ago\\n10 min read\\nCan You Trust a Robot With Your Holiday Shopping?\\n What Happens Next?\\n15 hours ago\\n7 min read\\nHow to Avoid Being Boring at 60\\nHow to Avoid Being Boring at 60\\n17 min ago\\n7 min read\\nWSJ Membership\\nCustomer Service\\nTools & Features\\nAds\\nMore\\nDow Jones Products\\nWSJ Membership\\nCustomer Service\\nTools & Features\\nAds\\nMore\\nCopyright ©2023 Dow Jones & Company, Inc. What Happens Next?\\n15 hours ago\\n7 min read\\nLarry Summers Is OpenAI’s Surprise Pick to Mend Fences\\nLarry Summers Is OpenAI’s Surprise Pick to Mend Fences\\nNovember 22, 2023\\n5 min read\\nOpenAI Says Sam Altman to Return as CEO\\nOpenAI Says Sam Altman to Return as CEO\\nNovember 22, 2023\\n By\\nSusan Pinker\\nNovember 22, 2023\\n3 min read\\nMost Popular in Technology\\nHow a Fervent Belief Split Silicon Valley—and Fueled the Blowup at OpenAI\\nHow a Fervent Belief Split Silicon Valley—and Fueled the Blowup at OpenAI\\nNovember 22, 2023\\n10 min read\\nOpenAI Got Its CEO Back. By\\n,\\nand\\n15 hours ago\\n7 min read\\nOpenAI Rivals Move to Exploit Leadership Turmoil\\nOpenAI Rivals Move to Exploit Leadership Turmoil\\nGoogle launches sales effort to convert OpenAI business customers to its platform in the wake of the AI startup’s power struggle.\\n\"}, {'url': 'https://news.mit.edu/topic/artificial-intelligence2', 'content': 'October 30, 2023\\nRead full story →\\nAccelerating AI tasks while preserving data security\\nThe SecureLoop search tool efficiently identifies secure designs for hardware that can boost the performance of complex AI tasks, while requiring less energy.\\nOctober 30, 2023\\nRead full story →\\nThe brain may learn about the world the same way some computational models do\\nTwo studies find “self-supervised” models, which learn about their environment from unlabeled data, can show activity patterns similar to those of the mammalian brain.\\nOctober 30, 2023\\nRead full story →\\nCelebrating Kendall Square’s past and shaping its future\\nThe 15th Kendall Square Association annual meeting explored new and old aspects of the neighborhood.\\nOctober 23, 2023\\nRead full story →\\nTo excel at engineering design, generative AI must learn to innovate, study finds\\nAI models that prioritize similarity falter when asked to design something completely new.\\n Suggestions or feedback?\\nMIT News | Massachusetts Institute of Technology\\nBrowse By\\nTopics\\nDepartments\\nCenters, Labs, & Programs\\nSchools\\nTopic\\nArtificial intelligence\\nDownload RSS feed: News Articles / In the Media / Audio\\nSearch algorithm reveals nearly 200 new kinds of CRISPR systems\\nBy analyzing bacterial data, researchers have discovered thousands of rare new CRISPR systems that have a range of functions and could enable gene editing, diagnostics, and more.\\n November 15, 2023\\nRead full story →\\nExplained: Generative AI\\nHow do powerful generative AI systems like ChatGPT work, and what makes them different from other types of artificial intelligence?\\nNovember 9, 2023\\nRead full story →\\nUsing AI to optimize for rapid neural imaging\\nMIT CSAIL researchers combine AI and electron microscopy to expedite detailed brain network mapping, aiming to enhance connectomics research and clinical pathology.\\n November 2, 2023\\nRead full story →\\nNew techniques efficiently accelerate sparse tensors for massive AI models\\nComplimentary approaches — “HighLight” and “Tailors and Swiftiles” — could boost the performance of demanding machine-learning tasks.\\n November 21, 2023\\nRead full story →\\nSynthetic imagery sets new bar in AI training efficiency\\nMIT CSAIL researchers innovate with synthetic imagery to train AI, paving the way for more efficient and bias-reduced machine learning.\\n'}]\n",
      "\u001b[00m\n",
      "\u001b[32;1m\u001b[1;3mThought: I have gathered the latest AI news articles and need to summarize the most important points from them.\n",
      "\n",
      "Final Answer:\n",
      "- **Australia's AI Regulation**: Australia is set to introduce new AI regulations focusing on human oversight, marking a significant step in AI governance.\n",
      "- **OpenAI Co-Founder Launches Safety Startup**: Ilya Sutskever, co-founder of OpenAI, has launched a new AI safety startup, SSI, which has secured $1 billion in funding.\n",
      "- **Amazon's AI Robotics Expansion**: Amazon has hired the founders of Covariant, a startup specializing in AI-driven robotics, to enhance its capabilities in this area.\n",
      "- **Roblox Develops Open-Source AI Model**: Roblox has created an open-source 3D AI model and implemented technology for faster game loading, showcasing advancements in gaming AI.\n",
      "- **Leadership Changes at OpenAI**: Following a tumultuous period, Sam Altman is set to return as CEO of OpenAI, with Larry Summers appointed to help mend internal divisions.\u001b[0m\n",
      "\n",
      "\u001b[1m> Finished chain.\u001b[0m\n",
      "\u001b[1m\u001b[92m [2025-01-10 14:14:31][DEBUG]: == [Researcher] Task output: - **Australia's AI Regulation**: Australia is set to introduce new AI regulations focusing on human oversight, marking a significant step in AI governance.\n",
      "- **OpenAI Co-Founder Launches Safety Startup**: Ilya Sutskever, co-founder of OpenAI, has launched a new AI safety startup, SSI, which has secured $1 billion in funding.\n",
      "- **Amazon's AI Robotics Expansion**: Amazon has hired the founders of Covariant, a startup specializing in AI-driven robotics, to enhance its capabilities in this area.\n",
      "- **Roblox Develops Open-Source AI Model**: Roblox has created an open-source 3D AI model and implemented technology for faster game loading, showcasing advancements in gaming AI.\n",
      "- **Leadership Changes at OpenAI**: Following a tumultuous period, Sam Altman is set to return as CEO of OpenAI, with Larry Summers appointed to help mend internal divisions.\n",
      "\n",
      "\u001b[00m\n",
      "- **Australia's AI Regulation**: Australia is set to introduce new AI regulations focusing on human oversight, marking a significant step in AI governance.\n",
      "- **OpenAI Co-Founder Launches Safety Startup**: Ilya Sutskever, co-founder of OpenAI, has launched a new AI safety startup, SSI, which has secured $1 billion in funding.\n",
      "- **Amazon's AI Robotics Expansion**: Amazon has hired the founders of Covariant, a startup specializing in AI-driven robotics, to enhance its capabilities in this area.\n",
      "- **Roblox Develops Open-Source AI Model**: Roblox has created an open-source 3D AI model and implemented technology for faster game loading, showcasing advancements in gaming AI.\n",
      "- **Leadership Changes at OpenAI**: Following a tumultuous period, Sam Altman is set to return as CEO of OpenAI, with Larry Summers appointed to help mend internal divisions.\n"
     ]
    }
   ],
   "source": [
    "from crewai import Agent, Task, Crew\n",
    "\n",
    "# Instantiate tools\n",
    "search_tool = tavily_search\n",
    "\n",
    "# Create agents\n",
    "research_agent = Agent(\n",
    "  role='Researcher',\n",
    "  goal='Find and summarize the latest AI news',\n",
    "  backstory=\"\"\"You're a researcher at a large company.\n",
    "  You're responsible for analyzing data and providing insights\n",
    "  to the business.\"\"\",\n",
    "  llm=llm,\n",
    "  tools=[search_tool],\n",
    "  verbose=True\n",
    ")\n",
    "\n",
    "# Define tasks\n",
    "task = Task(\n",
    "  description='Find and summarize the latest AI news',\n",
    "  expected_output='A bullet list summary of the top 5 most important AI news',\n",
    "  agent=research_agent,\n",
    ")\n",
    "\n",
    "# Assemble a crew\n",
    "crew = Crew(\n",
    "    agents=[research_agent],\n",
    "    tasks=[task],\n",
    "    verbose=True,\n",
    "    iterations=3\n",
    ")\n",
    "\n",
    "# Execute tasks\n",
    "result = crew.kickoff()\n",
    "print(result)"
   ]
  },
  {
   "cell_type": "markdown",
   "metadata": {},
   "source": [
    "#### Crew With Planning"
   ]
  },
  {
   "cell_type": "code",
   "execution_count": 12,
   "metadata": {},
   "outputs": [
    {
     "name": "stderr",
     "output_type": "stream",
     "text": [
      "2025-01-10 14:16:29,214 - 8638448192 - __init__.py-__init__:537 - WARNING: Overriding of current TracerProvider is not allowed\n",
      "2025-01-10 14:16:29,216 - 8638448192 - __init__.py-__init__:1231 - WARNING: SDK is disabled.\n"
     ]
    },
    {
     "name": "stderr",
     "output_type": "stream",
     "text": [
      "2025-01-10 14:16:29,239 - 8638448192 - __init__.py-__init__:1231 - WARNING: SDK is disabled.\n"
     ]
    },
    {
     "name": "stdout",
     "output_type": "stream",
     "text": [
      "\u001b[1m\u001b[92m [2025-01-10 14:16:29][INFO]: Planning the crew execution\u001b[00m\n",
      "\u001b[93m Error parsing JSON: Expecting value: line 1 column 1 (char 0). Attempting to handle partial JSON.\u001b[00m\n"
     ]
    },
    {
     "name": "stderr",
     "output_type": "stream",
     "text": [
      "2025-01-10 14:16:47,997 - 8638448192 - __init__.py-__init__:1231 - WARNING: SDK is disabled.\n",
      "2025-01-10 14:16:48,004 - 8638448192 - manager.py-manager:293 - WARNING: Error in StdOutCallbackHandler.on_chain_start callback: AttributeError(\"'NoneType' object has no attribute 'get'\")\n"
     ]
    },
    {
     "name": "stdout",
     "output_type": "stream",
     "text": [
      "\u001b[1m\u001b[95m [2025-01-10 14:16:47][DEBUG]: == Working Agent: Market Research Analyst\u001b[00m\n",
      "\u001b[1m\u001b[95m [2025-01-10 14:16:47][INFO]: == Starting Task: Research the latest trends in the AI in Healthcare industry and AI in Finance industry and provide a summary.1. Define Key Areas of Focus: Identify specific applications such as diagnostics, patient management systems, predictive analytics, and personalized medicine. 2. Utilize Research Tools: Use TavilySearchResults with settings including raw content and images. 3. Conduct Searches: Input queries like 'latest trends in AI in healthcare 2023', review and bookmark relevant articles and reports. 4. Analyze Collected Data: Skim through articles to identify top developments based on relevance and potential impact. 5. Draft the Summary: Structure the summary with trend title, description, and significance for each of the top 3 trends. 6. Review and Refine: Edit for clarity and coherence, incorporating visuals as needed. 7. Prepare for Presentation: Finalize document format and prepare for feedback. 8. Submit Summary: Deliver the completed summary to stakeholders.\u001b[00m\n",
      "\u001b[32;1m\u001b[1;3mI need to gather the latest information on trends in the AI in Healthcare and AI in Finance industries. I will start by searching for the latest trends in AI in healthcare for 2023.\n",
      "\n",
      "Action: tavily_search_results_json  \n",
      "Action Input: {\"query\":\"latest trends in AI in healthcare 2023\"}  \n",
      "\u001b[0m"
     ]
    },
    {
     "name": "stderr",
     "output_type": "stream",
     "text": [
      "2025-01-10 14:17:00,910 - 8638448192 - __init__.py-__init__:1231 - WARNING: SDK is disabled.\n"
     ]
    },
    {
     "name": "stdout",
     "output_type": "stream",
     "text": [
      "\u001b[95m \n",
      "\n",
      "[{'url': 'https://www.ibef.org/blogs/the-future-of-artificial-intelligence-in-healthcare-transforming-patient-care', 'content': \"These trends collectively illustrate AI's significant contribution to enhancing healthcare delivery, efficiency, and patient outcomes in 2023. This exciting new phase in healthcare sets the stage for a doctor-patient relationship with AI serving as an insightful partner on the journey to improved health. AI plays a role in this evolution, enabling the monitoring of patients from a distance and introducing an era of proactive healthcare. From revolutionising disease detection to empowering remote patient monitoring, AI is transforming healthcare at an unprecedented pace. Personalised healthcare, made possible by AI's capacity to analyse patient information, is paving the way for tailored treatment plans that cater to each patient's requirements. It is crucial to ensure the development and implementation of AI in healthcare to uphold fairness, and transparency and safeguard patient data.\"}, {'url': 'https://knowhow.distrelec.com/medical-healthcare/top-6-ai-trends-in-healthcare-for-2023-and-beyond/', 'content': 'We highlighted these top healthcare technology trends at the back end of 2022 in our article. In 2023, artificial intelligence (AI) has been one of the most talked about technological innovations, with the likes of ChatGPT and Bard taking over the world of chatbot assistants, and AI equipment streamlining processes in multiple industries.'}, {'url': 'https://healthtechmagazine.net/article/2022/12/ai-healthcare-2023-ml-nlp-more-perfcon', 'content': \"“Images are sent from the tablet or smartphone to the cloud where a CNN receives the data and then provides the respective response.”\\nDr. Peter Kotanko\\nHead of Biomedical Evidence Generation, Renal Research Institute\\nAI Healthcare Use Cases in 2023 and Beyond\\nHere are some trends for AI use in healthcare within the next three years:\\nNLP and conversational AI have made advances in healthcare, but Schibell expects to see expanded use of virtual assistants in the next one to three years. HealthTech Magazine\\nData Analytics\\nThe Current State of AI in Healthcare and Where It's Going in 2023\\nBrian T. Horowitz is a\\xa0writer covering enterprise IT, innovation\\xa0and the intersection of\\xa0technology and\\xa0healthcare.\\n A UNC Health Rex Leader Shares a Clinician’s Perspective on AI\\nPatient-Centered Care\\nWhy Healthcare Leaders Hope to Keep Their At-Home Acute Care Programs\\nAdvertisement\\nHealthTech\\nVisit Some Of Our Other Technology Websites:\\nTap into practical IT advice from CDW experts.\\n AI Helps Diagnose and Manage Kidney Disease\\nAI is helping doctors diagnose and manage kidney disease and predict trajectories for kidney patients, says Dr. Peter Kotanko, head of biomedical evidence generation at the Renal Research Institute (RRI)\\xa0and adjunct professor of medicine for nephrology at the Icahn School of Medicine at Mount Sinai in New York.\\n A UNC Health Rex Leader Shares a Clinician’s Perspective on AI\\nWhy Healthcare Leaders Hope to Keep Their At-Home Acute Care Programs\\nCHIME23: Tips for Reducing Tech Stress on Support Clinicians\\nLeadingAge23: Adapting to New Residents and Workforce Needs in Senior Care\\nManagement\\nQ&A:\"}, {'url': 'https://www.forbes.com/sites/bernardmarr/2022/12/06/the-top-5-healthcare-trends-in-2023/', 'content': 'The \"Internet of Medical Things\" has rapidly expanded in recent years from simple devices designed to track vital signs such as heart rate and blood oxygen levels to smart watches capable of sophisticated scans such as ECGs, smart textiles that can detect blood pressure and predict the risk of heart attacks, and smart gloves that can reduce the tremors suffered by patients with Parkinson’s Disease. To stay on top of the latest on new and emerging business and tech trends, make sure to subscribe to my newsletter, follow me on Twitter, LinkedIn, and YouTube, and check out my books ‘Future Skills’ and ‘Business Trends in Practice, which just won the 2022 Business Book of the Year award. With the cost of delivering in-person healthcare continuing to rise, and ongoing shortages of medical practitioners in many countries, it’s a safe bet that all varieties of remote healthcare will be a growing trend in 2023.\\n In 2023, we will increasingly see wearable medical devices acting as “edge” devices, which means they will be equipped with processors and capable of utilizing in-device analytics rather than requiring that data is sent back and forward between the device and the cloud to be processed. Here’s my overview of what I believe will be the most important trends of the next 12 months:\\nArtificial Intelligence in Healthcare\\nThe market for Artificial intelligence (AI) – specifically, machine learning (ML) tools in healthcare is forecast to top $20 million in 2023.'}, {'url': 'https://resources.freeagentcrm.com/ai-in-healthcare-statistics/', 'content': 'The AI in healthcare market is projected to grow to $20.65 billion in 2023 Image Source This is an upward trend that saw the market grow from $11.06 billion in 2021 to $15.1 billion toward the end of 2022.'}]\n",
      "\u001b[00m\n",
      "\u001b[32;1m\u001b[1;3mThought: I have gathered initial insights on the latest trends in AI in healthcare for 2023. Now, I will search for the latest trends in AI in finance for 2023 to complete the analysis.\n",
      "\n",
      "Action: tavily_search_results_json  \n",
      "Action Input: {\"query\":\"latest trends in AI in finance 2023\"}  \n",
      "\u001b[0m"
     ]
    },
    {
     "name": "stderr",
     "output_type": "stream",
     "text": [
      "2025-01-10 14:17:09,425 - 8638448192 - __init__.py-__init__:1231 - WARNING: SDK is disabled.\n"
     ]
    },
    {
     "name": "stdout",
     "output_type": "stream",
     "text": [
      "\u001b[95m \n",
      "\n",
      "[{'url': 'https://stayrelevant.globant.com/en/technology/finance/ai-financial-services-2023-highlights-trends-insights-recap/', 'content': 'In the episode, AI in the world of finance, Lander Gamboa, Director of the Finance Studio at Globant, Rachel Armstrong, Studio Partner at Globant UK, and Carlos Gonzalez, partner of the Finance Studio at Globant, discuss how AI is opening the path for new solutions and bringing up critical challenges for financial institutions.\\n As part of our Applied AI efforts at Globant, we launched the Tech Talks series, including The Next Era of Finance: Harnessing the Power of AI, where we take the conversation of the transformative power of AI in the banking arena further.\\n With AI taking center stage in 2023, we delved into how this technology is already changing the banking and financial services landscape in Globant’s report, Applied AI in Financial Services: A New Banking Era.\\nSpecialists from Globant’s Finance Studio share how the financial sector is increasingly adopting AI, enhancing services like hyper-personalization and fraud detection. In this panel discussion, Globant’s industry experts Isa Goksu, CTO for UKI and DE; Celiana Carreño Hernández, Head of Product & VP of Tech; Juan Jose Lopez Murphy, Head of Artificial Intelligence at Globant, and Tamara Bernath, Head of Fintech at WaaSabi, a Globant Company reach into the transformative power of AI in enhancing customer experiences and risk management in finance.\\n As the year draws to a close, we’re sharing the highlights, such as new trends, groundbreaking insights, and essential changes to be aware of to stay up to date in the ever-changing landscape of the finance industry.'}, {'url': 'https://www2.deloitte.com/content/dam/Deloitte/us/Documents/consulting/us-consulting-generative-ai-in-finance-2023-lookback-and-2024-outlook.pdf', 'content': 'Generative AI in Finance: 2023 Lookback and 2024 Outlook The impact of AI on finance—a year of significant developments in finance modernization 2023 was a game-changing year for business, with inflationary pressure, a better than expected economy and market performance, and an explosion of interest in generative artificial intelligence (AI) for the enterprise. We predict the void will begin to close, as more complete applications of generative AI emerge for finance organizations. The scaled rollout of generative-AI-enabled applications that support workplace productivity, like Microsoft Copilot, Google Duet AI, and Amazon QuickSight will help finance professionals become more familiar with generative AI, incorporating this technology into their daily work. The more familiar your teams are with what generative AI can do, the better equipped they will be to adopt this technology in finance broadly.'}, {'url': 'https://www.statista.com/topics/7083/artificial-intelligence-ai-in-finance/', 'content': 'The global generative AI market in finance is forecast to increase at a compound annual growth rate of 28.1 percent between 2023 and 2032, rising from 1.09 billion U.S. dollars in 2023 to 9.48'}, {'url': 'https://www.statista.com/statistics/1446037/financial-sector-estimated-ai-spending-forecast/', 'content': \"The financial sector's spending on artificial intelligence (AI) is projected to experience substantial growth, with an estimated increase from 35 billion U.S. dollars in 2023 to 97 billion U.S\"}, {'url': 'https://www.mckinsey.com/capabilities/quantumblack/our-insights/the-state-of-ai-in-2023-generative-AIs-breakout-year', 'content': 'The organizations that have already embedded AI capabilities have been the first to explore gen AI’s potential, and those seeing the most value from more traditional AI capabilities—a group we call AI high performers—are already outpacing others in their adoption of gen AI tools.1We define AI high performers as organizations that, according to respondents, attribute at least 20 percent of their EBIT to AI adoption.\\n It’s early days still, but use of gen AI is already widespread\\nThe findings from the survey—which was in the field in mid-April 2023—show that, despite gen AI’s nascent public availability, experimentation with the tools\\xa0is already relatively common, and respondents expect the new capabilities to transform their industries. Respondents from AI high performers are twice as likely as others to say their organizations’ top objective for gen AI is to create entirely new businesses or sources of revenue—and they’re most likely to cite the increase in the value of existing offerings through new AI-based features.\\n Amid recent advances, AI has risen from a topic relegated to tech employees to a focus of company leaders: nearly one-quarter of surveyed C-suite executives say they are personally using\\ngen AI tools for work, and more than one-quarter of respondents from companies using AI say gen AI is already on their boards’ agendas. The state of AI in 2023: Generative AI’s breakout year\\nThe latest annual McKinsey Global Survey\\xa0on the current state of AI confirms the explosive growth of generative AI (gen AI) tools.'}]\n",
      "\u001b[00m\n",
      "\u001b[32;1m\u001b[1;3mThought: I have gathered sufficient information on the latest trends in both the AI in Healthcare and AI in Finance industries for 2023. Now, I will analyze the collected data to identify the top three trends in each industry and summarize their significance.\n",
      "\n",
      "### AI in Healthcare: Top 3 Trends\n",
      "\n",
      "1. **Personalized Medicine and Predictive Analytics**\n",
      "   - **Description**: AI is increasingly being utilized to analyze vast amounts of patient data, enabling healthcare providers to create personalized treatment plans tailored to individual patient needs. Predictive analytics is also being employed to forecast patient outcomes and disease progression.\n",
      "   - **Significance**: This trend enhances patient care by ensuring that treatments are more effective and aligned with the unique characteristics of each patient, ultimately leading to better health outcomes and more efficient use of healthcare resources.\n",
      "\n",
      "2. **Remote Patient Monitoring and Telehealth**\n",
      "   - **Description**: The rise of remote patient monitoring technologies, powered by AI, allows healthcare providers to track patients' health metrics in real-time. This trend has been accelerated by the COVID-19 pandemic, leading to a significant increase in telehealth services.\n",
      "   - **Significance**: Remote monitoring improves access to healthcare, especially for patients in rural or underserved areas, and enables proactive management of chronic conditions, reducing hospital readmissions and healthcare costs.\n",
      "\n",
      "3. **Natural Language Processing (NLP) and Conversational AI**\n",
      "   - **Description**: Advances in NLP and conversational AI are transforming patient interactions with healthcare systems. Virtual assistants and chatbots are being deployed to handle patient inquiries, schedule appointments, and provide health information.\n",
      "   - **Significance**: This trend streamlines administrative processes, reduces the burden on healthcare staff, and enhances patient engagement by providing timely and accurate information, ultimately improving the overall patient experience.\n",
      "\n",
      "### AI in Finance: Top 3 Trends\n",
      "\n",
      "1. **Generative AI for Enhanced Decision-Making**\n",
      "   - **Description**: The financial sector is increasingly adopting generative AI tools to improve decision-making processes. These tools assist in generating insights from data, automating reports, and enhancing workplace productivity.\n",
      "   - **Significance**: By leveraging generative AI, financial institutions can make more informed decisions, reduce operational costs, and improve efficiency, leading to better customer service and competitive advantage.\n",
      "\n",
      "2. **Hyper-Personalization in Financial Services**\n",
      "   - **Description**: AI is enabling hyper-personalization in financial services, allowing institutions to tailor products and services to individual customer preferences and behaviors. This includes personalized investment advice and customized banking experiences.\n",
      "   - **Significance**: Hyper-personalization enhances customer satisfaction and loyalty, as clients receive services that are more aligned with their specific needs, ultimately driving revenue growth for financial institutions.\n",
      "\n",
      "3. **Fraud Detection and Risk Management**\n",
      "   - **Description**: AI technologies are being deployed to enhance fraud detection and risk management capabilities in finance. Machine learning algorithms analyze transaction patterns to identify anomalies and potential fraudulent activities in real-time.\n",
      "   - **Significance**: This trend significantly reduces financial losses due to fraud and enhances the security of financial transactions, fostering trust among customers and regulatory bodies.\n",
      "\n",
      "Thought: I now know the final answer.\n",
      "Final Answer: \n",
      "\n",
      "### Summary of Top Trends in AI in Healthcare and Finance for 2023\n",
      "\n",
      "#### AI in Healthcare\n",
      "\n",
      "1. **Personalized Medicine and Predictive Analytics**\n",
      "   - AI is enabling healthcare providers to create tailored treatment plans and forecast patient outcomes, enhancing patient care and resource efficiency.\n",
      "\n",
      "2. **Remote Patient Monitoring and Telehealth**\n",
      "   - The rise of remote monitoring technologies allows for real-time health tracking, improving access to care and proactive management of chronic conditions.\n",
      "\n",
      "3. **Natural Language Processing (NLP) and Conversational AI**\n",
      "   - Advances in NLP are transforming patient interactions, streamlining administrative processes, and enhancing patient engagement through virtual assistants.\n",
      "\n",
      "#### AI in Finance\n",
      "\n",
      "1. **Generative AI for Enhanced Decision-Making**\n",
      "   - Financial institutions are adopting generative AI tools to improve decision-making, automate reports, and enhance productivity, leading to better customer service.\n",
      "\n",
      "2. **Hyper-Personalization in Financial Services**\n",
      "   - AI enables hyper-personalization, allowing institutions to tailor products and services to individual customer preferences, driving satisfaction and revenue growth.\n",
      "\n",
      "3. **Fraud Detection and Risk Management**\n",
      "   - AI technologies enhance fraud detection and risk management, significantly reducing financial losses and fostering trust in financial transactions.\u001b[0m\n",
      "\n",
      "\u001b[1m> Finished chain.\u001b[0m\n",
      "\u001b[1m\u001b[92m [2025-01-10 14:17:18][DEBUG]: == [Market Research Analyst] Task output: ### Summary of Top Trends in AI in Healthcare and Finance for 2023\n",
      "\n",
      "#### AI in Healthcare\n",
      "\n",
      "1. **Personalized Medicine and Predictive Analytics**\n",
      "   - AI is enabling healthcare providers to create tailored treatment plans and forecast patient outcomes, enhancing patient care and resource efficiency.\n",
      "\n",
      "2. **Remote Patient Monitoring and Telehealth**\n",
      "   - The rise of remote monitoring technologies allows for real-time health tracking, improving access to care and proactive management of chronic conditions.\n",
      "\n",
      "3. **Natural Language Processing (NLP) and Conversational AI**\n",
      "   - Advances in NLP are transforming patient interactions, streamlining administrative processes, and enhancing patient engagement through virtual assistants.\n",
      "\n",
      "#### AI in Finance\n",
      "\n",
      "1. **Generative AI for Enhanced Decision-Making**\n",
      "   - Financial institutions are adopting generative AI tools to improve decision-making, automate reports, and enhance productivity, leading to better customer service.\n",
      "\n",
      "2. **Hyper-Personalization in Financial Services**\n",
      "   - AI enables hyper-personalization, allowing institutions to tailor products and services to individual customer preferences, driving satisfaction and revenue growth.\n",
      "\n",
      "3. **Fraud Detection and Risk Management**\n",
      "   - AI technologies enhance fraud detection and risk management, significantly reducing financial losses and fostering trust in financial transactions.\n",
      "\n",
      "\u001b[00m\n",
      "### Summary of Top Trends in AI in Healthcare and Finance for 2023\n",
      "\n",
      "#### AI in Healthcare\n",
      "\n",
      "1. **Personalized Medicine and Predictive Analytics**\n",
      "   - AI is enabling healthcare providers to create tailored treatment plans and forecast patient outcomes, enhancing patient care and resource efficiency.\n",
      "\n",
      "2. **Remote Patient Monitoring and Telehealth**\n",
      "   - The rise of remote monitoring technologies allows for real-time health tracking, improving access to care and proactive management of chronic conditions.\n",
      "\n",
      "3. **Natural Language Processing (NLP) and Conversational AI**\n",
      "   - Advances in NLP are transforming patient interactions, streamlining administrative processes, and enhancing patient engagement through virtual assistants.\n",
      "\n",
      "#### AI in Finance\n",
      "\n",
      "1. **Generative AI for Enhanced Decision-Making**\n",
      "   - Financial institutions are adopting generative AI tools to improve decision-making, automate reports, and enhance productivity, leading to better customer service.\n",
      "\n",
      "2. **Hyper-Personalization in Financial Services**\n",
      "   - AI enables hyper-personalization, allowing institutions to tailor products and services to individual customer preferences, driving satisfaction and revenue growth.\n",
      "\n",
      "3. **Fraud Detection and Risk Management**\n",
      "   - AI technologies enhance fraud detection and risk management, significantly reducing financial losses and fostering trust in financial transactions.\n"
     ]
    }
   ],
   "source": [
    "import os\n",
    "from crewai import Agent, Task, Crew\n",
    "\n",
    "# Instantiate tools\n",
    "search_tool = tavily_search\n",
    "\n",
    "# Create agents\n",
    "researcher = Agent(\n",
    "    role='Market Research Analyst',\n",
    "    goal='Provide up-to-date market analysis of the AI in Healthcare industry and AI in Finance industry',\n",
    "    backstory='An expert analyst with a keen eye for market trends.',\n",
    "    tools=[search_tool],\n",
    "    llm=llm,\n",
    "    verbose=True\n",
    ")\n",
    "\n",
    "# Define tasks\n",
    "research = Task(\n",
    "    description='Research the latest trends in the AI in Healthcare industry and AI in Finance industry and provide a summary.',\n",
    "    expected_output='A summary of the top 3 trending developments with a unique perspective on their significance.',\n",
    "    agent=researcher\n",
    ")\n",
    "\n",
    "\n",
    "# Assemble a crew with planning enabled\n",
    "crew = Crew(\n",
    "    agents=[researcher],\n",
    "    tasks=[research],\n",
    "    llm=llm,\n",
    "    verbose=True,\n",
    "    planning=True,  # Enable planning feature\n",
    ")\n",
    "\n",
    "# Execute tasks\n",
    "result = crew.kickoff()\n",
    "\n",
    "print(result)"
   ]
  },
  {
   "cell_type": "code",
   "execution_count": 13,
   "metadata": {},
   "outputs": [
    {
     "name": "stdout",
     "output_type": "stream",
     "text": [
      "### Summary of Top Trends in AI in Healthcare and Finance for 2023\n",
      "\n",
      "#### AI in Healthcare\n",
      "\n",
      "1. **Personalized Medicine and Predictive Analytics**\n",
      "   - AI is enabling healthcare providers to create tailored treatment plans and forecast patient outcomes, enhancing patient care and resource efficiency.\n",
      "\n",
      "2. **Remote Patient Monitoring and Telehealth**\n",
      "   - The rise of remote monitoring technologies allows for real-time health tracking, improving access to care and proactive management of chronic conditions.\n",
      "\n",
      "3. **Natural Language Processing (NLP) and Conversational AI**\n",
      "   - Advances in NLP are transforming patient interactions, streamlining administrative processes, and enhancing patient engagement through virtual assistants.\n",
      "\n",
      "#### AI in Finance\n",
      "\n",
      "1. **Generative AI for Enhanced Decision-Making**\n",
      "   - Financial institutions are adopting generative AI tools to improve decision-making, automate reports, and enhance productivity, leading to better customer service.\n",
      "\n",
      "2. **Hyper-Personalization in Financial Services**\n",
      "   - AI enables hyper-personalization, allowing institutions to tailor products and services to individual customer preferences, driving satisfaction and revenue growth.\n",
      "\n",
      "3. **Fraud Detection and Risk Management**\n",
      "   - AI technologies enhance fraud detection and risk management, significantly reducing financial losses and fostering trust in financial transactions.\n"
     ]
    }
   ],
   "source": [
    "print(result)"
   ]
  },
  {
   "cell_type": "code",
   "execution_count": null,
   "metadata": {},
   "outputs": [],
   "source": []
  }
 ],
 "metadata": {
  "kernelspec": {
   "display_name": ".venv",
   "language": "python",
   "name": "python3"
  },
  "language_info": {
   "codemirror_mode": {
    "name": "ipython",
    "version": 3
   },
   "file_extension": ".py",
   "mimetype": "text/x-python",
   "name": "python",
   "nbconvert_exporter": "python",
   "pygments_lexer": "ipython3",
   "version": "3.10.7"
  }
 },
 "nbformat": 4,
 "nbformat_minor": 2
}
